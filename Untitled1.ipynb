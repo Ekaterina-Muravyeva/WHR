{
 "cells": [
  {
   "cell_type": "code",
   "execution_count": 33,
   "metadata": {},
   "outputs": [],
   "source": [
    "import pandas as pd  \n",
    "import numpy as np"
   ]
  },
  {
   "cell_type": "code",
   "execution_count": 34,
   "metadata": {},
   "outputs": [],
   "source": [
    "import seaborn as sns\n",
    "import matplotlib.pyplot as plt\n",
    "%matplotlib inline "
   ]
  },
  {
   "cell_type": "code",
   "execution_count": 35,
   "metadata": {},
   "outputs": [],
   "source": [
    "y_2019 = pd.read_csv ('https://raw.githubusercontent.com/Ekaterina-Muravyeva/WHR/main/2019.csv')\n",
    "y_2018 = pd.read_csv ('https://raw.githubusercontent.com/Ekaterina-Muravyeva/WHR/main/2018.csv')\n",
    "y_2017 = pd.read_csv ('https://raw.githubusercontent.com/Ekaterina-Muravyeva/WHR/main/2017.csv')\n",
    "y_2016 = pd.read_csv ('https://raw.githubusercontent.com/Ekaterina-Muravyeva/WHR/main/2016.csv')\n",
    "y_2015 = pd.read_csv ('https://raw.githubusercontent.com/Ekaterina-Muravyeva/WHR/main/2015.csv')\n"
   ]
  },
  {
   "cell_type": "code",
   "execution_count": 36,
   "metadata": {},
   "outputs": [],
   "source": [
    "y_2015 = y_2015.rename(columns={'Country': 'country_name',\n",
    "                                'Region': 'region',\n",
    "                                'Happiness Score': 'happiness_score_2015',\n",
    "                               'Health (Life Expectancy)': 'lifespan_2015'})"
   ]
  },
  {
   "cell_type": "code",
   "execution_count": 37,
   "metadata": {},
   "outputs": [],
   "source": [
    "y_2015_score = y_2015[['country_name', \n",
    "                       'region', \n",
    "                       'happiness_score_2015']]"
   ]
  },
  {
   "cell_type": "code",
   "execution_count": 38,
   "metadata": {},
   "outputs": [],
   "source": [
    "y_2016 = y_2016.rename(columns={'Country': 'country_name',\n",
    "                                'Happiness Score': 'happiness_score_2016',\n",
    "                               'Health (Life Expectancy)': 'lifespan_2016'})"
   ]
  },
  {
   "cell_type": "code",
   "execution_count": 39,
   "metadata": {},
   "outputs": [],
   "source": [
    "y_2016_score = y_2016[['country_name', \n",
    "                       'happiness_score_2016']]"
   ]
  },
  {
   "cell_type": "code",
   "execution_count": 40,
   "metadata": {},
   "outputs": [],
   "source": [
    "y_2017 = y_2017.rename(columns={'Country': 'country_name', \n",
    "                                'Happiness.Score': 'happiness_score_2017',\n",
    "                               'Health..Life.Expectancy.': 'lifespan_2017'})"
   ]
  },
  {
   "cell_type": "code",
   "execution_count": 41,
   "metadata": {},
   "outputs": [],
   "source": [
    "y_2017_score = y_2017[['country_name', 'happiness_score_2017']]"
   ]
  },
  {
   "cell_type": "code",
   "execution_count": 42,
   "metadata": {},
   "outputs": [],
   "source": [
    "y_2018 = y_2018.rename(columns={'Country or region': 'country_name',\n",
    "                                'Score': 'happiness_score_2018',\n",
    "                               'Healthy life expectancy': 'lifespan_2018'})"
   ]
  },
  {
   "cell_type": "code",
   "execution_count": 43,
   "metadata": {},
   "outputs": [],
   "source": [
    "y_2018_score = y_2018[['country_name', 'happiness_score_2018']]"
   ]
  },
  {
   "cell_type": "code",
   "execution_count": 44,
   "metadata": {},
   "outputs": [],
   "source": [
    "y_2019 = y_2019.rename(columns={'Country or region': 'country_name',\n",
    "                                'Score': 'happiness_score_2019',\n",
    "                               'Healthy life expectancy': 'lifespan_2019'})"
   ]
  },
  {
   "cell_type": "code",
   "execution_count": 45,
   "metadata": {},
   "outputs": [],
   "source": [
    "y_2019_score = y_2019[['country_name', 'happiness_score_2019']]"
   ]
  },
  {
   "cell_type": "code",
   "execution_count": 46,
   "metadata": {},
   "outputs": [],
   "source": [
    "happiness_scores = y_2015_score"
   ]
  },
  {
   "cell_type": "code",
   "execution_count": 47,
   "metadata": {},
   "outputs": [],
   "source": [
    "happiness_scores = happiness_scores.merge(y_2016_score, how= 'inner', on = 'country_name')"
   ]
  },
  {
   "cell_type": "code",
   "execution_count": 48,
   "metadata": {},
   "outputs": [],
   "source": [
    "happiness_scores = happiness_scores.merge(y_2017_score, how= 'inner', on = 'country_name')"
   ]
  },
  {
   "cell_type": "code",
   "execution_count": 49,
   "metadata": {},
   "outputs": [],
   "source": [
    "happiness_scores = happiness_scores.merge(y_2018_score, how= 'inner', on = 'country_name')"
   ]
  },
  {
   "cell_type": "code",
   "execution_count": 50,
   "metadata": {},
   "outputs": [],
   "source": [
    "happiness_scores = happiness_scores.merge(y_2019_score, how= 'inner', on = 'country_name')"
   ]
  },
  {
   "cell_type": "code",
   "execution_count": 51,
   "metadata": {},
   "outputs": [
    {
     "data": {
      "text/html": [
       "<div>\n",
       "<style scoped>\n",
       "    .dataframe tbody tr th:only-of-type {\n",
       "        vertical-align: middle;\n",
       "    }\n",
       "\n",
       "    .dataframe tbody tr th {\n",
       "        vertical-align: top;\n",
       "    }\n",
       "\n",
       "    .dataframe thead th {\n",
       "        text-align: right;\n",
       "    }\n",
       "</style>\n",
       "<table border=\"1\" class=\"dataframe\">\n",
       "  <thead>\n",
       "    <tr style=\"text-align: right;\">\n",
       "      <th></th>\n",
       "      <th>country_name</th>\n",
       "      <th>region</th>\n",
       "      <th>happiness_score_2015</th>\n",
       "      <th>happiness_score_2016</th>\n",
       "      <th>happiness_score_2017</th>\n",
       "      <th>happiness_score_2018</th>\n",
       "      <th>happiness_score_2019</th>\n",
       "    </tr>\n",
       "  </thead>\n",
       "  <tbody>\n",
       "    <tr>\n",
       "      <th>0</th>\n",
       "      <td>Switzerland</td>\n",
       "      <td>Western Europe</td>\n",
       "      <td>7.587</td>\n",
       "      <td>7.509</td>\n",
       "      <td>7.494</td>\n",
       "      <td>7.487</td>\n",
       "      <td>7.480</td>\n",
       "    </tr>\n",
       "    <tr>\n",
       "      <th>1</th>\n",
       "      <td>Iceland</td>\n",
       "      <td>Western Europe</td>\n",
       "      <td>7.561</td>\n",
       "      <td>7.501</td>\n",
       "      <td>7.504</td>\n",
       "      <td>7.495</td>\n",
       "      <td>7.494</td>\n",
       "    </tr>\n",
       "    <tr>\n",
       "      <th>2</th>\n",
       "      <td>Denmark</td>\n",
       "      <td>Western Europe</td>\n",
       "      <td>7.527</td>\n",
       "      <td>7.526</td>\n",
       "      <td>7.522</td>\n",
       "      <td>7.555</td>\n",
       "      <td>7.600</td>\n",
       "    </tr>\n",
       "    <tr>\n",
       "      <th>3</th>\n",
       "      <td>Norway</td>\n",
       "      <td>Western Europe</td>\n",
       "      <td>7.522</td>\n",
       "      <td>7.498</td>\n",
       "      <td>7.537</td>\n",
       "      <td>7.594</td>\n",
       "      <td>7.554</td>\n",
       "    </tr>\n",
       "    <tr>\n",
       "      <th>4</th>\n",
       "      <td>Canada</td>\n",
       "      <td>North America</td>\n",
       "      <td>7.427</td>\n",
       "      <td>7.404</td>\n",
       "      <td>7.316</td>\n",
       "      <td>7.328</td>\n",
       "      <td>7.278</td>\n",
       "    </tr>\n",
       "    <tr>\n",
       "      <th>...</th>\n",
       "      <td>...</td>\n",
       "      <td>...</td>\n",
       "      <td>...</td>\n",
       "      <td>...</td>\n",
       "      <td>...</td>\n",
       "      <td>...</td>\n",
       "      <td>...</td>\n",
       "    </tr>\n",
       "    <tr>\n",
       "      <th>136</th>\n",
       "      <td>Rwanda</td>\n",
       "      <td>Sub-Saharan Africa</td>\n",
       "      <td>3.465</td>\n",
       "      <td>3.515</td>\n",
       "      <td>3.471</td>\n",
       "      <td>3.408</td>\n",
       "      <td>3.334</td>\n",
       "    </tr>\n",
       "    <tr>\n",
       "      <th>137</th>\n",
       "      <td>Benin</td>\n",
       "      <td>Sub-Saharan Africa</td>\n",
       "      <td>3.340</td>\n",
       "      <td>3.484</td>\n",
       "      <td>3.657</td>\n",
       "      <td>4.141</td>\n",
       "      <td>4.883</td>\n",
       "    </tr>\n",
       "    <tr>\n",
       "      <th>138</th>\n",
       "      <td>Syria</td>\n",
       "      <td>Middle East and Northern Africa</td>\n",
       "      <td>3.006</td>\n",
       "      <td>3.069</td>\n",
       "      <td>3.462</td>\n",
       "      <td>3.462</td>\n",
       "      <td>3.462</td>\n",
       "    </tr>\n",
       "    <tr>\n",
       "      <th>139</th>\n",
       "      <td>Burundi</td>\n",
       "      <td>Sub-Saharan Africa</td>\n",
       "      <td>2.905</td>\n",
       "      <td>2.905</td>\n",
       "      <td>2.905</td>\n",
       "      <td>2.905</td>\n",
       "      <td>3.775</td>\n",
       "    </tr>\n",
       "    <tr>\n",
       "      <th>140</th>\n",
       "      <td>Togo</td>\n",
       "      <td>Sub-Saharan Africa</td>\n",
       "      <td>2.839</td>\n",
       "      <td>3.303</td>\n",
       "      <td>3.495</td>\n",
       "      <td>3.999</td>\n",
       "      <td>4.085</td>\n",
       "    </tr>\n",
       "  </tbody>\n",
       "</table>\n",
       "<p>141 rows × 7 columns</p>\n",
       "</div>"
      ],
      "text/plain": [
       "    country_name                           region  happiness_score_2015  \\\n",
       "0    Switzerland                   Western Europe                 7.587   \n",
       "1        Iceland                   Western Europe                 7.561   \n",
       "2        Denmark                   Western Europe                 7.527   \n",
       "3         Norway                   Western Europe                 7.522   \n",
       "4         Canada                    North America                 7.427   \n",
       "..           ...                              ...                   ...   \n",
       "136       Rwanda               Sub-Saharan Africa                 3.465   \n",
       "137        Benin               Sub-Saharan Africa                 3.340   \n",
       "138        Syria  Middle East and Northern Africa                 3.006   \n",
       "139      Burundi               Sub-Saharan Africa                 2.905   \n",
       "140         Togo               Sub-Saharan Africa                 2.839   \n",
       "\n",
       "     happiness_score_2016  happiness_score_2017  happiness_score_2018  \\\n",
       "0                   7.509                 7.494                 7.487   \n",
       "1                   7.501                 7.504                 7.495   \n",
       "2                   7.526                 7.522                 7.555   \n",
       "3                   7.498                 7.537                 7.594   \n",
       "4                   7.404                 7.316                 7.328   \n",
       "..                    ...                   ...                   ...   \n",
       "136                 3.515                 3.471                 3.408   \n",
       "137                 3.484                 3.657                 4.141   \n",
       "138                 3.069                 3.462                 3.462   \n",
       "139                 2.905                 2.905                 2.905   \n",
       "140                 3.303                 3.495                 3.999   \n",
       "\n",
       "     happiness_score_2019  \n",
       "0                   7.480  \n",
       "1                   7.494  \n",
       "2                   7.600  \n",
       "3                   7.554  \n",
       "4                   7.278  \n",
       "..                    ...  \n",
       "136                 3.334  \n",
       "137                 4.883  \n",
       "138                 3.462  \n",
       "139                 3.775  \n",
       "140                 4.085  \n",
       "\n",
       "[141 rows x 7 columns]"
      ]
     },
     "execution_count": 51,
     "metadata": {},
     "output_type": "execute_result"
    }
   ],
   "source": [
    "happiness_scores"
   ]
  },
  {
   "cell_type": "code",
   "execution_count": 52,
   "metadata": {},
   "outputs": [
    {
     "data": {
      "image/png": "[encoded data removed]",
      "text/plain": [
       "<Figure size 360x360 with 1 Axes>"
      ]
     },
     "metadata": {
      "needs_background": "light"
     },
     "output_type": "display_data"
    }
   ],
   "source": [
    "ax = sns.displot(happiness_scores.happiness_score_2015, kde = False)"
   ]
  },
  {
   "cell_type": "code",
   "execution_count": 53,
   "metadata": {},
   "outputs": [],
   "source": [
    "sum_2015 = happiness_scores.happiness_score_2015.sum()"
   ]
  },
  {
   "cell_type": "code",
   "execution_count": 54,
   "metadata": {},
   "outputs": [],
   "source": [
    "sum_2016 = happiness_scores.happiness_score_2016.sum()"
   ]
  },
  {
   "cell_type": "code",
   "execution_count": 55,
   "metadata": {},
   "outputs": [],
   "source": [
    "sum_2017 = happiness_scores.happiness_score_2017.sum()"
   ]
  },
  {
   "cell_type": "code",
   "execution_count": 56,
   "metadata": {},
   "outputs": [],
   "source": [
    "sum_2018 = happiness_scores.happiness_score_2018.sum()"
   ]
  },
  {
   "cell_type": "code",
   "execution_count": 57,
   "metadata": {},
   "outputs": [],
   "source": [
    "sum_2019 = happiness_scores.happiness_score_2019.sum()"
   ]
  },
  {
   "cell_type": "code",
   "execution_count": 58,
   "metadata": {},
   "outputs": [],
   "source": [
    "years = pd.DataFrame({'year': ['2015', '2016', '2017', '2018', '2019'], 'summa': [sum_2015, sum_2016, sum_2017, sum_2018, sum_2019]})"
   ]
  },
  {
   "cell_type": "code",
   "execution_count": 59,
   "metadata": {},
   "outputs": [
    {
     "data": {
      "text/html": [
       "<div>\n",
       "<style scoped>\n",
       "    .dataframe tbody tr th:only-of-type {\n",
       "        vertical-align: middle;\n",
       "    }\n",
       "\n",
       "    .dataframe tbody tr th {\n",
       "        vertical-align: top;\n",
       "    }\n",
       "\n",
       "    .dataframe thead th {\n",
       "        text-align: right;\n",
       "    }\n",
       "</style>\n",
       "<table border=\"1\" class=\"dataframe\">\n",
       "  <thead>\n",
       "    <tr style=\"text-align: right;\">\n",
       "      <th></th>\n",
       "      <th>year</th>\n",
       "      <th>summa</th>\n",
       "    </tr>\n",
       "  </thead>\n",
       "  <tbody>\n",
       "    <tr>\n",
       "      <th>0</th>\n",
       "      <td>2015</td>\n",
       "      <td>762.347</td>\n",
       "    </tr>\n",
       "    <tr>\n",
       "      <th>1</th>\n",
       "      <td>2016</td>\n",
       "      <td>761.102</td>\n",
       "    </tr>\n",
       "    <tr>\n",
       "      <th>2</th>\n",
       "      <td>2017</td>\n",
       "      <td>762.569</td>\n",
       "    </tr>\n",
       "    <tr>\n",
       "      <th>3</th>\n",
       "      <td>2018</td>\n",
       "      <td>767.062</td>\n",
       "    </tr>\n",
       "    <tr>\n",
       "      <th>4</th>\n",
       "      <td>2019</td>\n",
       "      <td>773.439</td>\n",
       "    </tr>\n",
       "  </tbody>\n",
       "</table>\n",
       "</div>"
      ],
      "text/plain": [
       "   year    summa\n",
       "0  2015  762.347\n",
       "1  2016  761.102\n",
       "2  2017  762.569\n",
       "3  2018  767.062\n",
       "4  2019  773.439"
      ]
     },
     "execution_count": 59,
     "metadata": {},
     "output_type": "execute_result"
    }
   ],
   "source": [
    "years"
   ]
  },
  {
   "cell_type": "code",
   "execution_count": 60,
   "metadata": {},
   "outputs": [
    {
     "data": {
      "image/png": "[encoded data removed]",
      "text/plain": [
       "<Figure size 432x288 with 1 Axes>"
      ]
     },
     "metadata": {
      "needs_background": "light"
     },
     "output_type": "display_data"
    }
   ],
   "source": [
    "ax = sns.barplot(x=\"year\", y=\"summa\", data=years)"
   ]
  },
  {
   "cell_type": "code",
   "execution_count": 61,
   "metadata": {},
   "outputs": [],
   "source": [
    "happiness_scores['scores'] = happiness_scores.sum(axis=1) "
   ]
  },
  {
   "cell_type": "code",
   "execution_count": 62,
   "metadata": {},
   "outputs": [
    {
     "data": {
      "text/html": [
       "<div>\n",
       "<style scoped>\n",
       "    .dataframe tbody tr th:only-of-type {\n",
       "        vertical-align: middle;\n",
       "    }\n",
       "\n",
       "    .dataframe tbody tr th {\n",
       "        vertical-align: top;\n",
       "    }\n",
       "\n",
       "    .dataframe thead th {\n",
       "        text-align: right;\n",
       "    }\n",
       "</style>\n",
       "<table border=\"1\" class=\"dataframe\">\n",
       "  <thead>\n",
       "    <tr style=\"text-align: right;\">\n",
       "      <th></th>\n",
       "      <th>country_name</th>\n",
       "      <th>region</th>\n",
       "      <th>happiness_score_2015</th>\n",
       "      <th>happiness_score_2016</th>\n",
       "      <th>happiness_score_2017</th>\n",
       "      <th>happiness_score_2018</th>\n",
       "      <th>happiness_score_2019</th>\n",
       "      <th>scores</th>\n",
       "    </tr>\n",
       "  </thead>\n",
       "  <tbody>\n",
       "    <tr>\n",
       "      <th>0</th>\n",
       "      <td>Switzerland</td>\n",
       "      <td>Western Europe</td>\n",
       "      <td>7.587</td>\n",
       "      <td>7.509</td>\n",
       "      <td>7.494</td>\n",
       "      <td>7.487</td>\n",
       "      <td>7.480</td>\n",
       "      <td>37.557</td>\n",
       "    </tr>\n",
       "    <tr>\n",
       "      <th>1</th>\n",
       "      <td>Iceland</td>\n",
       "      <td>Western Europe</td>\n",
       "      <td>7.561</td>\n",
       "      <td>7.501</td>\n",
       "      <td>7.504</td>\n",
       "      <td>7.495</td>\n",
       "      <td>7.494</td>\n",
       "      <td>37.555</td>\n",
       "    </tr>\n",
       "    <tr>\n",
       "      <th>2</th>\n",
       "      <td>Denmark</td>\n",
       "      <td>Western Europe</td>\n",
       "      <td>7.527</td>\n",
       "      <td>7.526</td>\n",
       "      <td>7.522</td>\n",
       "      <td>7.555</td>\n",
       "      <td>7.600</td>\n",
       "      <td>37.730</td>\n",
       "    </tr>\n",
       "    <tr>\n",
       "      <th>3</th>\n",
       "      <td>Norway</td>\n",
       "      <td>Western Europe</td>\n",
       "      <td>7.522</td>\n",
       "      <td>7.498</td>\n",
       "      <td>7.537</td>\n",
       "      <td>7.594</td>\n",
       "      <td>7.554</td>\n",
       "      <td>37.705</td>\n",
       "    </tr>\n",
       "    <tr>\n",
       "      <th>4</th>\n",
       "      <td>Canada</td>\n",
       "      <td>North America</td>\n",
       "      <td>7.427</td>\n",
       "      <td>7.404</td>\n",
       "      <td>7.316</td>\n",
       "      <td>7.328</td>\n",
       "      <td>7.278</td>\n",
       "      <td>36.753</td>\n",
       "    </tr>\n",
       "    <tr>\n",
       "      <th>...</th>\n",
       "      <td>...</td>\n",
       "      <td>...</td>\n",
       "      <td>...</td>\n",
       "      <td>...</td>\n",
       "      <td>...</td>\n",
       "      <td>...</td>\n",
       "      <td>...</td>\n",
       "      <td>...</td>\n",
       "    </tr>\n",
       "    <tr>\n",
       "      <th>136</th>\n",
       "      <td>Rwanda</td>\n",
       "      <td>Sub-Saharan Africa</td>\n",
       "      <td>3.465</td>\n",
       "      <td>3.515</td>\n",
       "      <td>3.471</td>\n",
       "      <td>3.408</td>\n",
       "      <td>3.334</td>\n",
       "      <td>17.193</td>\n",
       "    </tr>\n",
       "    <tr>\n",
       "      <th>137</th>\n",
       "      <td>Benin</td>\n",
       "      <td>Sub-Saharan Africa</td>\n",
       "      <td>3.340</td>\n",
       "      <td>3.484</td>\n",
       "      <td>3.657</td>\n",
       "      <td>4.141</td>\n",
       "      <td>4.883</td>\n",
       "      <td>19.505</td>\n",
       "    </tr>\n",
       "    <tr>\n",
       "      <th>138</th>\n",
       "      <td>Syria</td>\n",
       "      <td>Middle East and Northern Africa</td>\n",
       "      <td>3.006</td>\n",
       "      <td>3.069</td>\n",
       "      <td>3.462</td>\n",
       "      <td>3.462</td>\n",
       "      <td>3.462</td>\n",
       "      <td>16.461</td>\n",
       "    </tr>\n",
       "    <tr>\n",
       "      <th>139</th>\n",
       "      <td>Burundi</td>\n",
       "      <td>Sub-Saharan Africa</td>\n",
       "      <td>2.905</td>\n",
       "      <td>2.905</td>\n",
       "      <td>2.905</td>\n",
       "      <td>2.905</td>\n",
       "      <td>3.775</td>\n",
       "      <td>15.395</td>\n",
       "    </tr>\n",
       "    <tr>\n",
       "      <th>140</th>\n",
       "      <td>Togo</td>\n",
       "      <td>Sub-Saharan Africa</td>\n",
       "      <td>2.839</td>\n",
       "      <td>3.303</td>\n",
       "      <td>3.495</td>\n",
       "      <td>3.999</td>\n",
       "      <td>4.085</td>\n",
       "      <td>17.721</td>\n",
       "    </tr>\n",
       "  </tbody>\n",
       "</table>\n",
       "<p>141 rows × 8 columns</p>\n",
       "</div>"
      ],
      "text/plain": [
       "    country_name                           region  happiness_score_2015  \\\n",
       "0    Switzerland                   Western Europe                 7.587   \n",
       "1        Iceland                   Western Europe                 7.561   \n",
       "2        Denmark                   Western Europe                 7.527   \n",
       "3         Norway                   Western Europe                 7.522   \n",
       "4         Canada                    North America                 7.427   \n",
       "..           ...                              ...                   ...   \n",
       "136       Rwanda               Sub-Saharan Africa                 3.465   \n",
       "137        Benin               Sub-Saharan Africa                 3.340   \n",
       "138        Syria  Middle East and Northern Africa                 3.006   \n",
       "139      Burundi               Sub-Saharan Africa                 2.905   \n",
       "140         Togo               Sub-Saharan Africa                 2.839   \n",
       "\n",
       "     happiness_score_2016  happiness_score_2017  happiness_score_2018  \\\n",
       "0                   7.509                 7.494                 7.487   \n",
       "1                   7.501                 7.504                 7.495   \n",
       "2                   7.526                 7.522                 7.555   \n",
       "3                   7.498                 7.537                 7.594   \n",
       "4                   7.404                 7.316                 7.328   \n",
       "..                    ...                   ...                   ...   \n",
       "136                 3.515                 3.471                 3.408   \n",
       "137                 3.484                 3.657                 4.141   \n",
       "138                 3.069                 3.462                 3.462   \n",
       "139                 2.905                 2.905                 2.905   \n",
       "140                 3.303                 3.495                 3.999   \n",
       "\n",
       "     happiness_score_2019  scores  \n",
       "0                   7.480  37.557  \n",
       "1                   7.494  37.555  \n",
       "2                   7.600  37.730  \n",
       "3                   7.554  37.705  \n",
       "4                   7.278  36.753  \n",
       "..                    ...     ...  \n",
       "136                 3.334  17.193  \n",
       "137                 4.883  19.505  \n",
       "138                 3.462  16.461  \n",
       "139                 3.775  15.395  \n",
       "140                 4.085  17.721  \n",
       "\n",
       "[141 rows x 8 columns]"
      ]
     },
     "execution_count": 62,
     "metadata": {},
     "output_type": "execute_result"
    }
   ],
   "source": [
    "happiness_scores"
   ]
  },
  {
   "cell_type": "code",
   "execution_count": 63,
   "metadata": {},
   "outputs": [],
   "source": [
    "happiness_scores = happiness_scores.sort_values('scores', ascending=False).reset_index(drop=True)"
   ]
  },
  {
   "cell_type": "code",
   "execution_count": 64,
   "metadata": {},
   "outputs": [
    {
     "data": {
      "image/png": "[encoded data removed]",
      "text/plain": [
       "<Figure size 432x288 with 1 Axes>"
      ]
     },
     "metadata": {
      "needs_background": "light"
     },
     "output_type": "display_data"
    }
   ],
   "source": [
    "ax = sns.barplot(x=\"country_name\", y=\"scores\", data=happiness_scores.head())"
   ]
  },
  {
   "cell_type": "code",
   "execution_count": 65,
   "metadata": {},
   "outputs": [],
   "source": [
    "y_2015_lifespan = y_2015[['country_name', 'region', 'lifespan_2015']]"
   ]
  },
  {
   "cell_type": "code",
   "execution_count": 66,
   "metadata": {},
   "outputs": [],
   "source": [
    "y_2016_lifespan = y_2016[['country_name', 'lifespan_2016']]"
   ]
  },
  {
   "cell_type": "code",
   "execution_count": 67,
   "metadata": {},
   "outputs": [],
   "source": [
    "y_2017_lifespan = y_2017[['country_name', 'lifespan_2017']]"
   ]
  },
  {
   "cell_type": "code",
   "execution_count": 68,
   "metadata": {},
   "outputs": [],
   "source": [
    "y_2018_lifespan = y_2018[['country_name', 'lifespan_2018']]"
   ]
  },
  {
   "cell_type": "code",
   "execution_count": 69,
   "metadata": {},
   "outputs": [],
   "source": [
    "y_2019_lifespan = y_2019[['country_name', 'lifespan_2019']]"
   ]
  },
  {
   "cell_type": "code",
   "execution_count": 70,
   "metadata": {},
   "outputs": [],
   "source": [
    "world_lifespan = y_2015_lifespan"
   ]
  },
  {
   "cell_type": "code",
   "execution_count": 71,
   "metadata": {},
   "outputs": [],
   "source": [
    "world_lifespan = world_lifespan.merge(y_2016_lifespan, how= 'inner', on = 'country_name')"
   ]
  },
  {
   "cell_type": "code",
   "execution_count": 72,
   "metadata": {},
   "outputs": [],
   "source": [
    "world_lifespan = world_lifespan.merge(y_2017_lifespan, how= 'inner', on = 'country_name')"
   ]
  },
  {
   "cell_type": "code",
   "execution_count": 73,
   "metadata": {},
   "outputs": [],
   "source": [
    "world_lifespan = world_lifespan.merge(y_2018_lifespan, how= 'inner', on = 'country_name')"
   ]
  },
  {
   "cell_type": "code",
   "execution_count": 74,
   "metadata": {},
   "outputs": [],
   "source": [
    "world_lifespan = world_lifespan.merge(y_2019_lifespan, how= 'inner', on = 'country_name')"
   ]
  },
  {
   "cell_type": "code",
   "execution_count": 75,
   "metadata": {},
   "outputs": [],
   "source": [
    "world_lifespan = world_lifespan.round(3)"
   ]
  },
  {
   "cell_type": "code",
   "execution_count": 76,
   "metadata": {},
   "outputs": [
    {
     "data": {
      "text/html": [
       "<div>\n",
       "<style scoped>\n",
       "    .dataframe tbody tr th:only-of-type {\n",
       "        vertical-align: middle;\n",
       "    }\n",
       "\n",
       "    .dataframe tbody tr th {\n",
       "        vertical-align: top;\n",
       "    }\n",
       "\n",
       "    .dataframe thead th {\n",
       "        text-align: right;\n",
       "    }\n",
       "</style>\n",
       "<table border=\"1\" class=\"dataframe\">\n",
       "  <thead>\n",
       "    <tr style=\"text-align: right;\">\n",
       "      <th></th>\n",
       "      <th>country_name</th>\n",
       "      <th>region</th>\n",
       "      <th>lifespan_2015</th>\n",
       "      <th>lifespan_2016</th>\n",
       "      <th>lifespan_2017</th>\n",
       "      <th>lifespan_2018</th>\n",
       "      <th>lifespan_2019</th>\n",
       "    </tr>\n",
       "  </thead>\n",
       "  <tbody>\n",
       "    <tr>\n",
       "      <th>0</th>\n",
       "      <td>Switzerland</td>\n",
       "      <td>Western Europe</td>\n",
       "      <td>0.941</td>\n",
       "      <td>0.863</td>\n",
       "      <td>0.858</td>\n",
       "      <td>0.927</td>\n",
       "      <td>1.052</td>\n",
       "    </tr>\n",
       "    <tr>\n",
       "      <th>1</th>\n",
       "      <td>Iceland</td>\n",
       "      <td>Western Europe</td>\n",
       "      <td>0.948</td>\n",
       "      <td>0.867</td>\n",
       "      <td>0.834</td>\n",
       "      <td>0.914</td>\n",
       "      <td>1.026</td>\n",
       "    </tr>\n",
       "    <tr>\n",
       "      <th>2</th>\n",
       "      <td>Denmark</td>\n",
       "      <td>Western Europe</td>\n",
       "      <td>0.875</td>\n",
       "      <td>0.795</td>\n",
       "      <td>0.793</td>\n",
       "      <td>0.868</td>\n",
       "      <td>0.996</td>\n",
       "    </tr>\n",
       "    <tr>\n",
       "      <th>3</th>\n",
       "      <td>Norway</td>\n",
       "      <td>Western Europe</td>\n",
       "      <td>0.885</td>\n",
       "      <td>0.796</td>\n",
       "      <td>0.797</td>\n",
       "      <td>0.861</td>\n",
       "      <td>1.028</td>\n",
       "    </tr>\n",
       "    <tr>\n",
       "      <th>4</th>\n",
       "      <td>Canada</td>\n",
       "      <td>North America</td>\n",
       "      <td>0.906</td>\n",
       "      <td>0.828</td>\n",
       "      <td>0.835</td>\n",
       "      <td>0.896</td>\n",
       "      <td>1.039</td>\n",
       "    </tr>\n",
       "    <tr>\n",
       "      <th>...</th>\n",
       "      <td>...</td>\n",
       "      <td>...</td>\n",
       "      <td>...</td>\n",
       "      <td>...</td>\n",
       "      <td>...</td>\n",
       "      <td>...</td>\n",
       "      <td>...</td>\n",
       "    </tr>\n",
       "    <tr>\n",
       "      <th>136</th>\n",
       "      <td>Rwanda</td>\n",
       "      <td>Sub-Saharan Africa</td>\n",
       "      <td>0.429</td>\n",
       "      <td>0.319</td>\n",
       "      <td>0.326</td>\n",
       "      <td>0.400</td>\n",
       "      <td>0.614</td>\n",
       "    </tr>\n",
       "    <tr>\n",
       "      <th>137</th>\n",
       "      <td>Benin</td>\n",
       "      <td>Sub-Saharan Africa</td>\n",
       "      <td>0.319</td>\n",
       "      <td>0.210</td>\n",
       "      <td>0.210</td>\n",
       "      <td>0.240</td>\n",
       "      <td>0.397</td>\n",
       "    </tr>\n",
       "    <tr>\n",
       "      <th>138</th>\n",
       "      <td>Syria</td>\n",
       "      <td>Middle East and Northern Africa</td>\n",
       "      <td>0.722</td>\n",
       "      <td>0.630</td>\n",
       "      <td>0.501</td>\n",
       "      <td>0.539</td>\n",
       "      <td>0.440</td>\n",
       "    </tr>\n",
       "    <tr>\n",
       "      <th>139</th>\n",
       "      <td>Burundi</td>\n",
       "      <td>Sub-Saharan Africa</td>\n",
       "      <td>0.224</td>\n",
       "      <td>0.157</td>\n",
       "      <td>0.152</td>\n",
       "      <td>0.145</td>\n",
       "      <td>0.380</td>\n",
       "    </tr>\n",
       "    <tr>\n",
       "      <th>140</th>\n",
       "      <td>Togo</td>\n",
       "      <td>Sub-Saharan Africa</td>\n",
       "      <td>0.284</td>\n",
       "      <td>0.248</td>\n",
       "      <td>0.247</td>\n",
       "      <td>0.253</td>\n",
       "      <td>0.410</td>\n",
       "    </tr>\n",
       "  </tbody>\n",
       "</table>\n",
       "<p>141 rows × 7 columns</p>\n",
       "</div>"
      ],
      "text/plain": [
       "    country_name                           region  lifespan_2015  \\\n",
       "0    Switzerland                   Western Europe          0.941   \n",
       "1        Iceland                   Western Europe          0.948   \n",
       "2        Denmark                   Western Europe          0.875   \n",
       "3         Norway                   Western Europe          0.885   \n",
       "4         Canada                    North America          0.906   \n",
       "..           ...                              ...            ...   \n",
       "136       Rwanda               Sub-Saharan Africa          0.429   \n",
       "137        Benin               Sub-Saharan Africa          0.319   \n",
       "138        Syria  Middle East and Northern Africa          0.722   \n",
       "139      Burundi               Sub-Saharan Africa          0.224   \n",
       "140         Togo               Sub-Saharan Africa          0.284   \n",
       "\n",
       "     lifespan_2016  lifespan_2017  lifespan_2018  lifespan_2019  \n",
       "0            0.863          0.858          0.927          1.052  \n",
       "1            0.867          0.834          0.914          1.026  \n",
       "2            0.795          0.793          0.868          0.996  \n",
       "3            0.796          0.797          0.861          1.028  \n",
       "4            0.828          0.835          0.896          1.039  \n",
       "..             ...            ...            ...            ...  \n",
       "136          0.319          0.326          0.400          0.614  \n",
       "137          0.210          0.210          0.240          0.397  \n",
       "138          0.630          0.501          0.539          0.440  \n",
       "139          0.157          0.152          0.145          0.380  \n",
       "140          0.248          0.247          0.253          0.410  \n",
       "\n",
       "[141 rows x 7 columns]"
      ]
     },
     "execution_count": 76,
     "metadata": {},
     "output_type": "execute_result"
    }
   ],
   "source": [
    "world_lifespan"
   ]
  },
  {
   "cell_type": "code",
   "execution_count": 77,
   "metadata": {},
   "outputs": [
    {
     "data": {
      "image/png": "[encoded data removed]",
      "text/plain": [
       "<Figure size 360x360 with 1 Axes>"
      ]
     },
     "metadata": {
      "needs_background": "light"
     },
     "output_type": "display_data"
    }
   ],
   "source": [
    "ax = sns.displot(world_lifespan.lifespan_2015, kde = False)"
   ]
  },
  {
   "cell_type": "code",
   "execution_count": 78,
   "metadata": {},
   "outputs": [],
   "source": [
    "s_lifespan_2015 = world_lifespan.lifespan_2015.sum()"
   ]
  },
  {
   "cell_type": "code",
   "execution_count": 79,
   "metadata": {},
   "outputs": [],
   "source": [
    "s_lifespan_2016 = world_lifespan.lifespan_2016.sum()"
   ]
  },
  {
   "cell_type": "code",
   "execution_count": 80,
   "metadata": {},
   "outputs": [],
   "source": [
    "s_lifespan_2017 = world_lifespan.lifespan_2017.sum()"
   ]
  },
  {
   "cell_type": "code",
   "execution_count": 81,
   "metadata": {},
   "outputs": [],
   "source": [
    "s_lifespan_2018 = world_lifespan.lifespan_2018.sum()"
   ]
  },
  {
   "cell_type": "code",
   "execution_count": 82,
   "metadata": {},
   "outputs": [],
   "source": [
    "s_lifespan_2019 = world_lifespan.lifespan_2019.sum()"
   ]
  },
  {
   "cell_type": "code",
   "execution_count": 83,
   "metadata": {},
   "outputs": [],
   "source": [
    "lifespans = pd.DataFrame({'year': ['2015', '2016', '2017', '2018', '2019'], 'summa': [s_lifespan_2015, s_lifespan_2016, s_lifespan_2017, s_lifespan_2018, s_lifespan_2019]})"
   ]
  },
  {
   "cell_type": "code",
   "execution_count": 84,
   "metadata": {},
   "outputs": [
    {
     "data": {
      "text/html": [
       "<div>\n",
       "<style scoped>\n",
       "    .dataframe tbody tr th:only-of-type {\n",
       "        vertical-align: middle;\n",
       "    }\n",
       "\n",
       "    .dataframe tbody tr th {\n",
       "        vertical-align: top;\n",
       "    }\n",
       "\n",
       "    .dataframe thead th {\n",
       "        text-align: right;\n",
       "    }\n",
       "</style>\n",
       "<table border=\"1\" class=\"dataframe\">\n",
       "  <thead>\n",
       "    <tr style=\"text-align: right;\">\n",
       "      <th></th>\n",
       "      <th>year</th>\n",
       "      <th>summa</th>\n",
       "    </tr>\n",
       "  </thead>\n",
       "  <tbody>\n",
       "    <tr>\n",
       "      <th>0</th>\n",
       "      <td>2015</td>\n",
       "      <td>91.485</td>\n",
       "    </tr>\n",
       "    <tr>\n",
       "      <th>1</th>\n",
       "      <td>2016</td>\n",
       "      <td>80.062</td>\n",
       "    </tr>\n",
       "    <tr>\n",
       "      <th>2</th>\n",
       "      <td>2017</td>\n",
       "      <td>80.188</td>\n",
       "    </tr>\n",
       "    <tr>\n",
       "      <th>3</th>\n",
       "      <td>2018</td>\n",
       "      <td>86.720</td>\n",
       "    </tr>\n",
       "    <tr>\n",
       "      <th>4</th>\n",
       "      <td>2019</td>\n",
       "      <td>105.322</td>\n",
       "    </tr>\n",
       "  </tbody>\n",
       "</table>\n",
       "</div>"
      ],
      "text/plain": [
       "   year    summa\n",
       "0  2015   91.485\n",
       "1  2016   80.062\n",
       "2  2017   80.188\n",
       "3  2018   86.720\n",
       "4  2019  105.322"
      ]
     },
     "execution_count": 84,
     "metadata": {},
     "output_type": "execute_result"
    }
   ],
   "source": [
    "lifespans"
   ]
  },
  {
   "cell_type": "code",
   "execution_count": 85,
   "metadata": {},
   "outputs": [
    {
     "data": {
      "image/png": "[encoded data removed]",
      "text/plain": [
       "<Figure size 432x288 with 1 Axes>"
      ]
     },
     "metadata": {
      "needs_background": "light"
     },
     "output_type": "display_data"
    }
   ],
   "source": [
    "ax = sns.barplot(x=\"year\", y=\"summa\", data=lifespans)"
   ]
  },
  {
   "cell_type": "code",
   "execution_count": 86,
   "metadata": {},
   "outputs": [],
   "source": [
    "world_lifespan['scores'] = world_lifespan.sum(axis=1) "
   ]
  },
  {
   "cell_type": "code",
   "execution_count": 55,
   "metadata": {},
   "outputs": [
    {
     "data": {
      "text/html": [
       "<div>\n",
       "<style scoped>\n",
       "    .dataframe tbody tr th:only-of-type {\n",
       "        vertical-align: middle;\n",
       "    }\n",
       "\n",
       "    .dataframe tbody tr th {\n",
       "        vertical-align: top;\n",
       "    }\n",
       "\n",
       "    .dataframe thead th {\n",
       "        text-align: right;\n",
       "    }\n",
       "</style>\n",
       "<table border=\"1\" class=\"dataframe\">\n",
       "  <thead>\n",
       "    <tr style=\"text-align: right;\">\n",
       "      <th></th>\n",
       "      <th>country_name</th>\n",
       "      <th>region</th>\n",
       "      <th>lifespan_2015</th>\n",
       "      <th>lifespan_2016</th>\n",
       "      <th>lifespan_2017</th>\n",
       "      <th>lifespan_2018</th>\n",
       "      <th>lifespan_2019</th>\n",
       "      <th>scores</th>\n",
       "    </tr>\n",
       "  </thead>\n",
       "  <tbody>\n",
       "    <tr>\n",
       "      <th>0</th>\n",
       "      <td>Switzerland</td>\n",
       "      <td>Western Europe</td>\n",
       "      <td>0.941</td>\n",
       "      <td>0.863</td>\n",
       "      <td>0.858</td>\n",
       "      <td>0.927</td>\n",
       "      <td>1.052</td>\n",
       "      <td>4.641</td>\n",
       "    </tr>\n",
       "    <tr>\n",
       "      <th>1</th>\n",
       "      <td>Iceland</td>\n",
       "      <td>Western Europe</td>\n",
       "      <td>0.948</td>\n",
       "      <td>0.867</td>\n",
       "      <td>0.834</td>\n",
       "      <td>0.914</td>\n",
       "      <td>1.026</td>\n",
       "      <td>4.589</td>\n",
       "    </tr>\n",
       "    <tr>\n",
       "      <th>2</th>\n",
       "      <td>Denmark</td>\n",
       "      <td>Western Europe</td>\n",
       "      <td>0.875</td>\n",
       "      <td>0.795</td>\n",
       "      <td>0.793</td>\n",
       "      <td>0.868</td>\n",
       "      <td>0.996</td>\n",
       "      <td>4.327</td>\n",
       "    </tr>\n",
       "    <tr>\n",
       "      <th>3</th>\n",
       "      <td>Norway</td>\n",
       "      <td>Western Europe</td>\n",
       "      <td>0.885</td>\n",
       "      <td>0.796</td>\n",
       "      <td>0.797</td>\n",
       "      <td>0.861</td>\n",
       "      <td>1.028</td>\n",
       "      <td>4.367</td>\n",
       "    </tr>\n",
       "    <tr>\n",
       "      <th>4</th>\n",
       "      <td>Canada</td>\n",
       "      <td>North America</td>\n",
       "      <td>0.906</td>\n",
       "      <td>0.828</td>\n",
       "      <td>0.835</td>\n",
       "      <td>0.896</td>\n",
       "      <td>1.039</td>\n",
       "      <td>4.504</td>\n",
       "    </tr>\n",
       "    <tr>\n",
       "      <th>...</th>\n",
       "      <td>...</td>\n",
       "      <td>...</td>\n",
       "      <td>...</td>\n",
       "      <td>...</td>\n",
       "      <td>...</td>\n",
       "      <td>...</td>\n",
       "      <td>...</td>\n",
       "      <td>...</td>\n",
       "    </tr>\n",
       "    <tr>\n",
       "      <th>136</th>\n",
       "      <td>Rwanda</td>\n",
       "      <td>Sub-Saharan Africa</td>\n",
       "      <td>0.429</td>\n",
       "      <td>0.319</td>\n",
       "      <td>0.326</td>\n",
       "      <td>0.400</td>\n",
       "      <td>0.614</td>\n",
       "      <td>2.088</td>\n",
       "    </tr>\n",
       "    <tr>\n",
       "      <th>137</th>\n",
       "      <td>Benin</td>\n",
       "      <td>Sub-Saharan Africa</td>\n",
       "      <td>0.319</td>\n",
       "      <td>0.210</td>\n",
       "      <td>0.210</td>\n",
       "      <td>0.240</td>\n",
       "      <td>0.397</td>\n",
       "      <td>1.376</td>\n",
       "    </tr>\n",
       "    <tr>\n",
       "      <th>138</th>\n",
       "      <td>Syria</td>\n",
       "      <td>Middle East and Northern Africa</td>\n",
       "      <td>0.722</td>\n",
       "      <td>0.630</td>\n",
       "      <td>0.501</td>\n",
       "      <td>0.539</td>\n",
       "      <td>0.440</td>\n",
       "      <td>2.832</td>\n",
       "    </tr>\n",
       "    <tr>\n",
       "      <th>139</th>\n",
       "      <td>Burundi</td>\n",
       "      <td>Sub-Saharan Africa</td>\n",
       "      <td>0.224</td>\n",
       "      <td>0.157</td>\n",
       "      <td>0.152</td>\n",
       "      <td>0.145</td>\n",
       "      <td>0.380</td>\n",
       "      <td>1.058</td>\n",
       "    </tr>\n",
       "    <tr>\n",
       "      <th>140</th>\n",
       "      <td>Togo</td>\n",
       "      <td>Sub-Saharan Africa</td>\n",
       "      <td>0.284</td>\n",
       "      <td>0.248</td>\n",
       "      <td>0.247</td>\n",
       "      <td>0.253</td>\n",
       "      <td>0.410</td>\n",
       "      <td>1.442</td>\n",
       "    </tr>\n",
       "  </tbody>\n",
       "</table>\n",
       "<p>141 rows × 8 columns</p>\n",
       "</div>"
      ],
      "text/plain": [
       "    country_name                           region  lifespan_2015  \\\n",
       "0    Switzerland                   Western Europe          0.941   \n",
       "1        Iceland                   Western Europe          0.948   \n",
       "2        Denmark                   Western Europe          0.875   \n",
       "3         Norway                   Western Europe          0.885   \n",
       "4         Canada                    North America          0.906   \n",
       "..           ...                              ...            ...   \n",
       "136       Rwanda               Sub-Saharan Africa          0.429   \n",
       "137        Benin               Sub-Saharan Africa          0.319   \n",
       "138        Syria  Middle East and Northern Africa          0.722   \n",
       "139      Burundi               Sub-Saharan Africa          0.224   \n",
       "140         Togo               Sub-Saharan Africa          0.284   \n",
       "\n",
       "     lifespan_2016  lifespan_2017  lifespan_2018  lifespan_2019  scores  \n",
       "0            0.863          0.858          0.927          1.052   4.641  \n",
       "1            0.867          0.834          0.914          1.026   4.589  \n",
       "2            0.795          0.793          0.868          0.996   4.327  \n",
       "3            0.796          0.797          0.861          1.028   4.367  \n",
       "4            0.828          0.835          0.896          1.039   4.504  \n",
       "..             ...            ...            ...            ...     ...  \n",
       "136          0.319          0.326          0.400          0.614   2.088  \n",
       "137          0.210          0.210          0.240          0.397   1.376  \n",
       "138          0.630          0.501          0.539          0.440   2.832  \n",
       "139          0.157          0.152          0.145          0.380   1.058  \n",
       "140          0.248          0.247          0.253          0.410   1.442  \n",
       "\n",
       "[141 rows x 8 columns]"
      ]
     },
     "execution_count": 55,
     "metadata": {},
     "output_type": "execute_result"
    }
   ],
   "source": [
    "world_lifespan"
   ]
  },
  {
   "cell_type": "code",
   "execution_count": 56,
   "metadata": {},
   "outputs": [],
   "source": [
    "world_lifespan = world_lifespan.sort_values('scores', ascending=False).reset_index(drop=True)"
   ]
  },
  {
   "cell_type": "code",
   "execution_count": 57,
   "metadata": {},
   "outputs": [
    {
     "data": {
      "text/html": [
       "<div>\n",
       "<style scoped>\n",
       "    .dataframe tbody tr th:only-of-type {\n",
       "        vertical-align: middle;\n",
       "    }\n",
       "\n",
       "    .dataframe tbody tr th {\n",
       "        vertical-align: top;\n",
       "    }\n",
       "\n",
       "    .dataframe thead th {\n",
       "        text-align: right;\n",
       "    }\n",
       "</style>\n",
       "<table border=\"1\" class=\"dataframe\">\n",
       "  <thead>\n",
       "    <tr style=\"text-align: right;\">\n",
       "      <th></th>\n",
       "      <th>country_name</th>\n",
       "      <th>region</th>\n",
       "      <th>lifespan_2015</th>\n",
       "      <th>lifespan_2016</th>\n",
       "      <th>lifespan_2017</th>\n",
       "      <th>lifespan_2018</th>\n",
       "      <th>lifespan_2019</th>\n",
       "      <th>scores</th>\n",
       "    </tr>\n",
       "  </thead>\n",
       "  <tbody>\n",
       "    <tr>\n",
       "      <th>0</th>\n",
       "      <td>Singapore</td>\n",
       "      <td>Southeastern Asia</td>\n",
       "      <td>1.025</td>\n",
       "      <td>0.947</td>\n",
       "      <td>0.949</td>\n",
       "      <td>1.008</td>\n",
       "      <td>1.141</td>\n",
       "      <td>5.070</td>\n",
       "    </tr>\n",
       "    <tr>\n",
       "      <th>1</th>\n",
       "      <td>Japan</td>\n",
       "      <td>Eastern Asia</td>\n",
       "      <td>0.991</td>\n",
       "      <td>0.915</td>\n",
       "      <td>0.913</td>\n",
       "      <td>0.988</td>\n",
       "      <td>1.088</td>\n",
       "      <td>4.895</td>\n",
       "    </tr>\n",
       "    <tr>\n",
       "      <th>2</th>\n",
       "      <td>Spain</td>\n",
       "      <td>Western Europe</td>\n",
       "      <td>0.956</td>\n",
       "      <td>0.879</td>\n",
       "      <td>0.889</td>\n",
       "      <td>0.965</td>\n",
       "      <td>1.062</td>\n",
       "      <td>4.751</td>\n",
       "    </tr>\n",
       "    <tr>\n",
       "      <th>3</th>\n",
       "      <td>South Korea</td>\n",
       "      <td>Eastern Asia</td>\n",
       "      <td>0.965</td>\n",
       "      <td>0.886</td>\n",
       "      <td>0.900</td>\n",
       "      <td>0.955</td>\n",
       "      <td>1.036</td>\n",
       "      <td>4.742</td>\n",
       "    </tr>\n",
       "    <tr>\n",
       "      <th>4</th>\n",
       "      <td>Italy</td>\n",
       "      <td>Western Europe</td>\n",
       "      <td>0.954</td>\n",
       "      <td>0.851</td>\n",
       "      <td>0.853</td>\n",
       "      <td>0.946</td>\n",
       "      <td>1.039</td>\n",
       "      <td>4.643</td>\n",
       "    </tr>\n",
       "    <tr>\n",
       "      <th>...</th>\n",
       "      <td>...</td>\n",
       "      <td>...</td>\n",
       "      <td>...</td>\n",
       "      <td>...</td>\n",
       "      <td>...</td>\n",
       "      <td>...</td>\n",
       "      <td>...</td>\n",
       "      <td>...</td>\n",
       "    </tr>\n",
       "    <tr>\n",
       "      <th>136</th>\n",
       "      <td>Mali</td>\n",
       "      <td>Sub-Saharan Africa</td>\n",
       "      <td>0.206</td>\n",
       "      <td>0.163</td>\n",
       "      <td>0.169</td>\n",
       "      <td>0.152</td>\n",
       "      <td>0.308</td>\n",
       "      <td>0.998</td>\n",
       "    </tr>\n",
       "    <tr>\n",
       "      <th>137</th>\n",
       "      <td>Nigeria</td>\n",
       "      <td>Sub-Saharan Africa</td>\n",
       "      <td>0.160</td>\n",
       "      <td>0.051</td>\n",
       "      <td>0.057</td>\n",
       "      <td>0.048</td>\n",
       "      <td>0.245</td>\n",
       "      <td>0.561</td>\n",
       "    </tr>\n",
       "    <tr>\n",
       "      <th>138</th>\n",
       "      <td>Ivory Coast</td>\n",
       "      <td>Sub-Saharan Africa</td>\n",
       "      <td>0.152</td>\n",
       "      <td>0.045</td>\n",
       "      <td>0.049</td>\n",
       "      <td>0.080</td>\n",
       "      <td>0.232</td>\n",
       "      <td>0.558</td>\n",
       "    </tr>\n",
       "    <tr>\n",
       "      <th>139</th>\n",
       "      <td>Chad</td>\n",
       "      <td>Sub-Saharan Africa</td>\n",
       "      <td>0.150</td>\n",
       "      <td>0.038</td>\n",
       "      <td>0.041</td>\n",
       "      <td>0.053</td>\n",
       "      <td>0.192</td>\n",
       "      <td>0.474</td>\n",
       "    </tr>\n",
       "    <tr>\n",
       "      <th>140</th>\n",
       "      <td>Sierra Leone</td>\n",
       "      <td>Sub-Saharan Africa</td>\n",
       "      <td>0.000</td>\n",
       "      <td>0.000</td>\n",
       "      <td>0.006</td>\n",
       "      <td>0.000</td>\n",
       "      <td>0.242</td>\n",
       "      <td>0.248</td>\n",
       "    </tr>\n",
       "  </tbody>\n",
       "</table>\n",
       "<p>141 rows × 8 columns</p>\n",
       "</div>"
      ],
      "text/plain": [
       "     country_name              region  lifespan_2015  lifespan_2016  \\\n",
       "0       Singapore   Southeastern Asia          1.025          0.947   \n",
       "1           Japan        Eastern Asia          0.991          0.915   \n",
       "2           Spain      Western Europe          0.956          0.879   \n",
       "3     South Korea        Eastern Asia          0.965          0.886   \n",
       "4           Italy      Western Europe          0.954          0.851   \n",
       "..            ...                 ...            ...            ...   \n",
       "136          Mali  Sub-Saharan Africa          0.206          0.163   \n",
       "137       Nigeria  Sub-Saharan Africa          0.160          0.051   \n",
       "138   Ivory Coast  Sub-Saharan Africa          0.152          0.045   \n",
       "139          Chad  Sub-Saharan Africa          0.150          0.038   \n",
       "140  Sierra Leone  Sub-Saharan Africa          0.000          0.000   \n",
       "\n",
       "     lifespan_2017  lifespan_2018  lifespan_2019  scores  \n",
       "0            0.949          1.008          1.141   5.070  \n",
       "1            0.913          0.988          1.088   4.895  \n",
       "2            0.889          0.965          1.062   4.751  \n",
       "3            0.900          0.955          1.036   4.742  \n",
       "4            0.853          0.946          1.039   4.643  \n",
       "..             ...            ...            ...     ...  \n",
       "136          0.169          0.152          0.308   0.998  \n",
       "137          0.057          0.048          0.245   0.561  \n",
       "138          0.049          0.080          0.232   0.558  \n",
       "139          0.041          0.053          0.192   0.474  \n",
       "140          0.006          0.000          0.242   0.248  \n",
       "\n",
       "[141 rows x 8 columns]"
      ]
     },
     "execution_count": 57,
     "metadata": {},
     "output_type": "execute_result"
    }
   ],
   "source": [
    "world_lifespan"
   ]
  },
  {
   "cell_type": "code",
   "execution_count": 60,
   "metadata": {},
   "outputs": [
    {
     "data": {
      "image/png": "[encoded data removed]",
      "text/plain": [
       "<Figure size 432x288 with 1 Axes>"
      ]
     },
     "metadata": {
      "needs_background": "light"
     },
     "output_type": "display_data"
    }
   ],
   "source": [
    "ax = sns.barplot(x=\"country_name\", y=\"scores\", data=world_lifespan.head())"
   ]
  },
  {
   "cell_type": "code",
   "execution_count": null,
   "metadata": {},
   "outputs": [],
   "source": []
  }
 ],
 "metadata": {
  "kernelspec": {
   "display_name": "Python 3",
   "language": "python",
   "name": "python3"
  },
  "language_info": {
   "codemirror_mode": {
    "name": "ipython",
    "version": 3
   },
   "file_extension": ".py",
   "mimetype": "text/x-python",
   "name": "python",
   "nbconvert_exporter": "python",
   "pygments_lexer": "ipython3",
   "version": "3.8.5"
  }
 },
 "nbformat": 4,
 "nbformat_minor": 4
}
