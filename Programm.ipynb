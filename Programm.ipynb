{
 "cells": [
  {
   "cell_type": "code",
   "execution_count": 13,
   "metadata": {},
   "outputs": [],
   "source": [
    "import pandas as pd  \n",
    "import numpy as np\n",
    "import seaborn as sns\n",
    "import matplotlib.pyplot as plt\n",
    "import plotly.express as px\n",
    "import plotly.graph_objs as go\n",
    "%matplotlib inline "
   ]
  },
  {
   "cell_type": "code",
   "execution_count": 14,
   "metadata": {},
   "outputs": [],
   "source": [
    "from plotly.offline import download_plotlyjs, init_notebook_mode, plot, iplot\n",
    "from sklearn.preprocessing import LabelEncoder\n",
    "from sklearn.model_selection import train_test_split\n",
    "from sklearn.linear_model import LinearRegression\n",
    "from sklearn.metrics import mean_squared_error,r2_score\n",
    "from sklearn.tree import DecisionTreeRegressor\n",
    "from sklearn.tree import export_graphviz\n",
    "from IPython.display import Image"
   ]
  },
  {
   "cell_type": "code",
   "execution_count": 15,
   "metadata": {},
   "outputs": [],
   "source": [
    "y_2019_df = pd.read_csv ('https://raw.githubusercontent.com/Ekaterina-Muravyeva/WHR/main/2019.csv')\n",
    "y_2018_df = pd.read_csv ('https://raw.githubusercontent.com/Ekaterina-Muravyeva/WHR/main/2018.csv')\n",
    "y_2017_df = pd.read_csv ('https://raw.githubusercontent.com/Ekaterina-Muravyeva/WHR/main/2017.csv')\n",
    "y_2016_df = pd.read_csv ('https://raw.githubusercontent.com/Ekaterina-Muravyeva/WHR/main/2016.csv')\n",
    "y_2015_df = pd.read_csv ('https://raw.githubusercontent.com/Ekaterina-Muravyeva/WHR/main/2015.csv')"
   ]
  },
  {
   "cell_type": "code",
   "execution_count": 16,
   "metadata": {},
   "outputs": [],
   "source": [
    "y_2015 = y_2015_df.rename(columns={'Country': 'country_name',\n",
    "                                'Region': 'region',\n",
    "                                'Happiness Score': 'happiness_score_2015',\n",
    "                               'Health (Life Expectancy)': 'lifespan_2015',\n",
    "                               'Freedom': 'freedom_2015',\n",
    "                               'Economy (GDP per Capita)': 'GDP_2015',\n",
    "                               'Generosity': 'generosity_2015'})"
   ]
  },
  {
   "cell_type": "code",
   "execution_count": 17,
   "metadata": {},
   "outputs": [],
   "source": [
    "y_2016 = y_2016_df.rename(columns={'Country': 'country_name',\n",
    "                                'Happiness Score': 'happiness_score_2016',\n",
    "                               'Health (Life Expectancy)': 'lifespan_2016',\n",
    "                               'Freedom': 'freedom_2016',\n",
    "                               'Economy (GDP per Capita)': 'GDP_2016',\n",
    "                               'Generosity': 'generosity_2016'})"
   ]
  },
  {
   "cell_type": "code",
   "execution_count": 18,
   "metadata": {},
   "outputs": [],
   "source": [
    "y_2017 = y_2017_df.rename(columns={'Country': 'country_name', \n",
    "                                'Happiness.Score': 'happiness_score_2017',\n",
    "                               'Health..Life.Expectancy.': 'lifespan_2017',\n",
    "                               'Freedom': 'freedom_2017',\n",
    "                               'Economy..GDP.per.Capita.': 'GDP_2017',\n",
    "                               'Generosity': 'generosity_2017'})"
   ]
  },
  {
   "cell_type": "code",
   "execution_count": 19,
   "metadata": {},
   "outputs": [],
   "source": [
    "y_2018 = y_2018_df.rename(columns={'Country or region': 'country_name',\n",
    "                                'Score': 'happiness_score_2018',\n",
    "                               'Healthy life expectancy': 'lifespan_2018',\n",
    "                               'Freedom to make life choices': 'freedom_2018',\n",
    "                               'GDP per capita': 'GDP_2018',\n",
    "                               'Generosity': 'generosity_2018'})"
   ]
  },
  {
   "cell_type": "code",
   "execution_count": 20,
   "metadata": {},
   "outputs": [],
   "source": [
    "y_2019 = y_2019_df.rename(columns={'Country or region': 'country_name',\n",
    "                                'Score': 'happiness_score_2019',\n",
    "                               'Healthy life expectancy': 'lifespan_2019',\n",
    "                               'Freedom to make life choices': 'freedom_2019',\n",
    "                               'GDP per capita': 'GDP_2019',\n",
    "                               'Generosity': 'generosity_2019'})"
   ]
  },
  {
   "cell_type": "code",
   "execution_count": 21,
   "metadata": {},
   "outputs": [],
   "source": [
    "y_2015_score = y_2015[['country_name', 'region', 'happiness_score_2015']]\n",
    "y_2016_score = y_2016[['country_name', 'happiness_score_2016']]\n",
    "y_2017_score = y_2017[['country_name', 'happiness_score_2017']]\n",
    "y_2018_score = y_2018[['country_name', 'happiness_score_2018']]\n",
    "y_2019_score = y_2019[['country_name', 'happiness_score_2019']]"
   ]
  },
  {
   "cell_type": "code",
   "execution_count": 22,
   "metadata": {},
   "outputs": [],
   "source": [
    "happiness_scores = y_2015_score\n",
    "happiness_scores = happiness_scores.merge(y_2016_score, how= 'inner', on = 'country_name')\n",
    "happiness_scores = happiness_scores.merge(y_2017_score, how= 'inner', on = 'country_name')\n",
    "happiness_scores = happiness_scores.merge(y_2018_score, how= 'inner', on = 'country_name')\n",
    "happiness_scores = happiness_scores.merge(y_2019_score, how= 'inner', on = 'country_name')"
   ]
  },
  {
   "cell_type": "code",
   "execution_count": 23,
   "metadata": {},
   "outputs": [],
   "source": [
    "s_happiness_2015 = happiness_scores.happiness_score_2015.sum()\n",
    "s_happiness_2016 = happiness_scores.happiness_score_2016.sum()\n",
    "s_happiness_2017 = happiness_scores.happiness_score_2017.sum()\n",
    "s_happiness_2018 = happiness_scores.happiness_score_2018.sum()\n",
    "s_happiness_2019 = happiness_scores.happiness_score_2019.sum()"
   ]
  },
  {
   "cell_type": "code",
   "execution_count": 24,
   "metadata": {},
   "outputs": [],
   "source": [
    "years = pd.DataFrame({'year': ['2015', '2016', '2017', '2018', '2019'], 'summa': [s_happiness_2015, s_happiness_2016, s_happiness_2017,\n",
    "          s_happiness_2018, s_happiness_2019]})"
   ]
  },
  {
   "cell_type": "code",
   "execution_count": 25,
   "metadata": {},
   "outputs": [
    {
     "data": {
      "image/png": "[encoded data removed]",
      "text/plain": [
       "<Figure size 432x288 with 1 Axes>"
      ]
     },
     "metadata": {
      "needs_background": "light"
     },
     "output_type": "display_data"
    }
   ],
   "source": [
    "ax = sns.barplot(x=\"year\", y=\"summa\",\n",
    "data=years).set_title('Сумма оценок счастья всех стран за каждый год')"
   ]
  },
  {
   "cell_type": "code",
   "execution_count": 26,
   "metadata": {},
   "outputs": [],
   "source": [
    "happiness_scores['scores'] = happiness_scores.sum(axis=1)\n",
    "happiness_scores = happiness_scores.sort_values('scores',\n",
    "ascending=False).reset_index(drop=True)\n",
    "happiness_scores.index = np.arange(1, len(happiness_scores)+1)"
   ]
  },
  {
   "cell_type": "code",
   "execution_count": 27,
   "metadata": {},
   "outputs": [
    {
     "data": {
      "image/png": "[encoded data removed]",
      "text/plain": [
       "<Figure size 432x288 with 1 Axes>"
      ]
     },
     "metadata": {
      "needs_background": "light"
     },
     "output_type": "display_data"
    }
   ],
   "source": [
    "ax = sns.barplot(x=\"country_name\", y=\"scores\",\n",
    "data=happiness_scores.head()).set_title('5 лучших стран по оценке счастья')"
   ]
  },
  {
   "cell_type": "code",
   "execution_count": 28,
   "metadata": {},
   "outputs": [],
   "source": [
    "y_2015_lifespan = y_2015[['country_name', 'region', 'lifespan_2015']]\n",
    "y_2016_lifespan = y_2016[['country_name', 'lifespan_2016']]\n",
    "y_2017_lifespan = y_2017[['country_name', 'lifespan_2017']]\n",
    "y_2018_lifespan = y_2018[['country_name', 'lifespan_2018']]\n",
    "y_2019_lifespan = y_2019[['country_name', 'lifespan_2019']]"
   ]
  },
  {
   "cell_type": "code",
   "execution_count": 29,
   "metadata": {},
   "outputs": [],
   "source": [
    "world_lifespan = y_2015_lifespan\n",
    "world_lifespan = world_lifespan.merge(y_2016_lifespan, how= 'inner', on = 'country_name')\n",
    "world_lifespan = world_lifespan.merge(y_2017_lifespan, how= 'inner', on = 'country_name')\n",
    "world_lifespan = world_lifespan.merge(y_2018_lifespan, how= 'inner', on = 'country_name')\n",
    "world_lifespan = world_lifespan.merge(y_2019_lifespan, how= 'inner', on = 'country_name')"
   ]
  },
  {
   "cell_type": "code",
   "execution_count": 30,
   "metadata": {},
   "outputs": [],
   "source": [
    "s_lifespan_2015 = world_lifespan.lifespan_2015.sum()\n",
    "s_lifespan_2016 = world_lifespan.lifespan_2016.sum()\n",
    "s_lifespan_2017 = world_lifespan.lifespan_2017.sum()\n",
    "s_lifespan_2018 = world_lifespan.lifespan_2018.sum()\n",
    "s_lifespan_2019 = world_lifespan.lifespan_2019.sum()"
   ]
  },
  {
   "cell_type": "code",
   "execution_count": 31,
   "metadata": {},
   "outputs": [],
   "source": [
    "lifespans = pd.DataFrame({'year': ['2015', '2016', '2017', '2018', '2019'], 'summa': [s_lifespan_2015, s_lifespan_2016, s_lifespan_2017, s_lifespan_2018, s_lifespan_2019]})"
   ]
  },
  {
   "cell_type": "code",
   "execution_count": 32,
   "metadata": {},
   "outputs": [
    {
     "data": {
      "image/png": "[encoded data removed]",
      "text/plain": [
       "<Figure size 432x288 with 1 Axes>"
      ]
     },
     "metadata": {
      "needs_background": "light"
     },
     "output_type": "display_data"
    }
   ],
   "source": [
    "ax = sns.barplot(x=\"year\", y=\"summa\", data=lifespans).set_title('Сумма показателя \"продолжительность жизни\" за каждый год')"
   ]
  },
  {
   "cell_type": "code",
   "execution_count": 33,
   "metadata": {},
   "outputs": [],
   "source": [
    "world_lifespan['scores'] = world_lifespan.sum(axis=1) \n",
    "world_lifespan = world_lifespan.sort_values('scores', ascending=False).reset_index(drop=True)\n",
    "world_lifespan.index = np.arange(1, len(world_lifespan)+1)"
   ]
  },
  {
   "cell_type": "code",
   "execution_count": 34,
   "metadata": {},
   "outputs": [
    {
     "data": {
      "image/png": "[encoded data removed]",
      "text/plain": [
       "<Figure size 432x288 with 1 Axes>"
      ]
     },
     "metadata": {
      "needs_background": "light"
     },
     "output_type": "display_data"
    }
   ],
   "source": [
    "ax = sns.barplot(x=\"country_name\", y=\"scores\", data=world_lifespan.head()).set_title('5 лучших стран по продолжительности жизни')"
   ]
  },
  {
   "cell_type": "code",
   "execution_count": 35,
   "metadata": {},
   "outputs": [],
   "source": [
    "y_2015_freedom = y_2015[['country_name', 'region', 'freedom_2015']]\n",
    "y_2016_freedom = y_2016[['country_name', 'freedom_2016']]\n",
    "y_2017_freedom = y_2017[['country_name', 'freedom_2017']]\n",
    "y_2018_freedom = y_2018[['country_name', 'freedom_2018']]\n",
    "y_2019_freedom = y_2019[['country_name', 'freedom_2019']]"
   ]
  },
  {
   "cell_type": "code",
   "execution_count": 36,
   "metadata": {},
   "outputs": [],
   "source": [
    "freedom_of_choices = y_2015_freedom\n",
    "freedom_of_choices = freedom_of_choices.merge(y_2016_freedom, how= 'inner', on = 'country_name')\n",
    "freedom_of_choices = freedom_of_choices.merge(y_2017_freedom, how= 'inner', on = 'country_name')\n",
    "freedom_of_choices = freedom_of_choices.merge(y_2018_freedom, how= 'inner', on = 'country_name')\n",
    "freedom_of_choices = freedom_of_choices.merge(y_2019_freedom, how= 'inner', on = 'country_name')"
   ]
  },
  {
   "cell_type": "code",
   "execution_count": 37,
   "metadata": {},
   "outputs": [],
   "source": [
    "s_freedom_2015 = freedom_of_choices.freedom_2015.sum()\n",
    "s_freedom_2016 = freedom_of_choices.freedom_2016.sum()\n",
    "s_freedom_2017 = freedom_of_choices.freedom_2017.sum()\n",
    "s_freedom_2018 = freedom_of_choices.freedom_2018.sum()\n",
    "s_freedom_2019 = freedom_of_choices.freedom_2019.sum()"
   ]
  },
  {
   "cell_type": "code",
   "execution_count": 38,
   "metadata": {},
   "outputs": [],
   "source": [
    "freedoms = pd.DataFrame({'year': ['2015', '2016', '2017', '2018', '2019'], 'summa': [s_freedom_2015, s_freedom_2016, s_freedom_2017, s_freedom_2018, s_freedom_2019]})"
   ]
  },
  {
   "cell_type": "code",
   "execution_count": 39,
   "metadata": {},
   "outputs": [
    {
     "data": {
      "image/png": "[encoded data removed]",
      "text/plain": [
       "<Figure size 432x288 with 1 Axes>"
      ]
     },
     "metadata": {
      "needs_background": "light"
     },
     "output_type": "display_data"
    }
   ],
   "source": [
    "ax = sns.barplot(x=\"year\", y=\"summa\", data=freedoms).set_title('Сумма показателя \"свобода выбора\" за каждый год')"
   ]
  },
  {
   "cell_type": "code",
   "execution_count": 40,
   "metadata": {},
   "outputs": [],
   "source": [
    "freedom_of_choices['scores'] = freedom_of_choices.sum(axis=1) \n",
    "freedom_of_choices = freedom_of_choices.sort_values('scores', ascending=False).reset_index(drop=True)\n",
    "freedom_of_choices.index = np.arange(1, len(freedom_of_choices)+1)"
   ]
  },
  {
   "cell_type": "code",
   "execution_count": 41,
   "metadata": {},
   "outputs": [
    {
     "data": {
      "image/png": "[encoded data removed]",
      "text/plain": [
       "<Figure size 432x288 with 1 Axes>"
      ]
     },
     "metadata": {
      "needs_background": "light"
     },
     "output_type": "display_data"
    }
   ],
   "source": [
    "ax = sns.barplot(x=\"country_name\", y=\"scores\", data=freedom_of_choices.head()).set_title('5 лучших стран по свободе выбора')"
   ]
  },
  {
   "cell_type": "code",
   "execution_count": 42,
   "metadata": {},
   "outputs": [],
   "source": [
    "y_2015_gdp = y_2015[['country_name', 'region', 'GDP_2015']]\n",
    "y_2016_gdp = y_2016[['country_name', 'GDP_2016']]\n",
    "y_2017_gdp = y_2017[['country_name', 'GDP_2017']]\n",
    "y_2018_gdp = y_2018[['country_name', 'GDP_2018']]\n",
    "y_2019_gdp = y_2019[['country_name', 'GDP_2019']]"
   ]
  },
  {
   "cell_type": "code",
   "execution_count": 43,
   "metadata": {},
   "outputs": [],
   "source": [
    "GDP = y_2015_gdp\n",
    "GDP = GDP.merge(y_2016_gdp, how= 'inner', on = 'country_name')\n",
    "GDP = GDP.merge(y_2017_gdp, how= 'inner', on = 'country_name')\n",
    "GDP = GDP.merge(y_2018_gdp, how= 'inner', on = 'country_name')\n",
    "GDP = GDP.merge(y_2019_gdp, how= 'inner', on = 'country_name')"
   ]
  },
  {
   "cell_type": "code",
   "execution_count": 44,
   "metadata": {},
   "outputs": [],
   "source": [
    "s_GDP_2015 = GDP.GDP_2015.sum()\n",
    "s_GDP_2016 = GDP.GDP_2016.sum()\n",
    "s_GDP_2017 = GDP.GDP_2017.sum()\n",
    "s_GDP_2018 = GDP.GDP_2018.sum()\n",
    "s_GDP_2019 = GDP.GDP_2019.sum()"
   ]
  },
  {
   "cell_type": "code",
   "execution_count": 45,
   "metadata": {},
   "outputs": [],
   "source": [
    "sum_GDP = pd.DataFrame({'year': ['2015', '2016', '2017', '2018', '2019'], 'summa': [s_GDP_2015, s_GDP_2016, s_GDP_2017, s_GDP_2018, s_GDP_2019]})"
   ]
  },
  {
   "cell_type": "code",
   "execution_count": 46,
   "metadata": {},
   "outputs": [
    {
     "data": {
      "image/png": "[encoded data removed]",
      "text/plain": [
       "<Figure size 432x288 with 1 Axes>"
      ]
     },
     "metadata": {
      "needs_background": "light"
     },
     "output_type": "display_data"
    }
   ],
   "source": [
    "ax = sns.barplot(x=\"year\", y=\"summa\", data=sum_GDP).set_title('Сумма показателя \"ВВП\" за каждый год')"
   ]
  },
  {
   "cell_type": "code",
   "execution_count": 47,
   "metadata": {},
   "outputs": [],
   "source": [
    "GDP['scores'] = GDP.sum(axis=1) \n",
    "GDP = GDP.sort_values('scores', ascending=False).reset_index(drop=True)\n",
    "GDP.index = np.arange(1, len(GDP)+1)"
   ]
  },
  {
   "cell_type": "code",
   "execution_count": 48,
   "metadata": {},
   "outputs": [
    {
     "data": {
      "text/plain": [
       "(array([0, 1, 2, 3, 4]),\n",
       " [Text(0, 0, 'Qatar'),\n",
       "  Text(1, 0, 'United Arab Emirates'),\n",
       "  Text(2, 0, 'Luxembourg'),\n",
       "  Text(3, 0, 'Singapore'),\n",
       "  Text(4, 0, 'Kuwait')])"
      ]
     },
     "execution_count": 48,
     "metadata": {},
     "output_type": "execute_result"
    },
    {
     "data": {
      "image/png": "[encoded data removed]",
      "text/plain": [
       "<Figure size 432x288 with 1 Axes>"
      ]
     },
     "metadata": {
      "needs_background": "light"
     },
     "output_type": "display_data"
    }
   ],
   "source": [
    "ax = sns.barplot(x=\"country_name\", y=\"scores\", data=GDP.head()).set_title('5 лучших стран по ВВП')\n",
    "plt.xticks(rotation = \"90\",size = 9)"
   ]
  },
  {
   "cell_type": "code",
   "execution_count": 49,
   "metadata": {},
   "outputs": [],
   "source": [
    "y_2015_generosity = y_2015[['country_name', 'region', 'generosity_2015']]\n",
    "y_2016_generosity = y_2016[['country_name', 'generosity_2016']]\n",
    "y_2017_generosity = y_2017[['country_name', 'generosity_2017']]\n",
    "y_2018_generosity = y_2018[['country_name', 'generosity_2018']]\n",
    "y_2019_generosity = y_2019[['country_name', 'generosity_2019']]"
   ]
  },
  {
   "cell_type": "code",
   "execution_count": 50,
   "metadata": {},
   "outputs": [],
   "source": [
    "generosity = y_2015_generosity\n",
    "generosity = generosity.merge(y_2016_generosity, how= 'inner', on = 'country_name')\n",
    "generosity = generosity.merge(y_2017_generosity, how= 'inner', on = 'country_name')\n",
    "generosity = generosity.merge(y_2018_generosity, how= 'inner', on = 'country_name')\n",
    "generosity = generosity.merge(y_2019_generosity, how= 'inner', on = 'country_name')"
   ]
  },
  {
   "cell_type": "code",
   "execution_count": 51,
   "metadata": {},
   "outputs": [],
   "source": [
    "s_generosity_2015 = generosity.generosity_2015.sum()\n",
    "s_generosity_2016 = generosity.generosity_2016.sum()\n",
    "s_generosity_2017 = generosity.generosity_2017.sum()\n",
    "s_generosity_2018 = generosity.generosity_2018.sum()\n",
    "s_generosity_2019 = generosity.generosity_2019.sum()"
   ]
  },
  {
   "cell_type": "code",
   "execution_count": 52,
   "metadata": {},
   "outputs": [],
   "source": [
    "sum_generosity = pd.DataFrame({'year': ['2015', '2016', '2017', '2018', '2019'], 'summa': [s_generosity_2015, s_generosity_2016, s_generosity_2017, s_generosity_2018, s_generosity_2019]})"
   ]
  },
  {
   "cell_type": "code",
   "execution_count": 53,
   "metadata": {},
   "outputs": [
    {
     "data": {
      "image/png": "[encoded data removed]",
      "text/plain": [
       "<Figure size 432x288 with 1 Axes>"
      ]
     },
     "metadata": {
      "needs_background": "light"
     },
     "output_type": "display_data"
    }
   ],
   "source": [
    "ax = sns.barplot(x=\"year\", y=\"summa\", data=sum_generosity).set_title('Сумма показателя \"Щедрость\" за каждый год')"
   ]
  },
  {
   "cell_type": "code",
   "execution_count": 54,
   "metadata": {},
   "outputs": [],
   "source": [
    "generosity['scores'] = generosity.sum(axis=1) \n",
    "generosity = generosity.sort_values('scores', ascending=False).reset_index(drop=True)\n",
    "generosity.index = np.arange(1, len(generosity)+1)"
   ]
  },
  {
   "cell_type": "code",
   "execution_count": 55,
   "metadata": {},
   "outputs": [
    {
     "data": {
      "image/png": "[encoded data removed]",
      "text/plain": [
       "<Figure size 432x288 with 1 Axes>"
      ]
     },
     "metadata": {
      "needs_background": "light"
     },
     "output_type": "display_data"
    }
   ],
   "source": [
    "ax = sns.barplot(x=\"country_name\", y=\"scores\", data=generosity.head()).set_title('5 лучших стран по щедрости')"
   ]
  },
  {
   "cell_type": "code",
   "execution_count": 56,
   "metadata": {},
   "outputs": [
    {
     "data": {
      "text/html": [
       "        <script type=\"text/javascript\">\n",
       "        window.PlotlyConfig = {MathJaxConfig: 'local'};\n",
       "        if (window.MathJax) {MathJax.Hub.Config({SVG: {font: \"STIX-Web\"}});}\n",
       "        if (typeof require !== 'undefined') {\n",
       "        require.undef(\"plotly\");\n",
       "        requirejs.config({\n",
       "            paths: {\n",
       "                'plotly': ['https://cdn.plot.ly/plotly-latest.min']\n",
       "            }\n",
       "        });\n",
       "        require(['plotly'], function(Plotly) {\n",
       "            window._Plotly = Plotly;\n",
       "        });\n",
       "        }\n",
       "        </script>\n",
       "        "
      ]
     },
     "metadata": {},
     "output_type": "display_data"
    },
    {
     "data": {
      "application/vnd.plotly.v1+json": {
       "config": {
        "linkText": "Export to plot.ly",
        "plotlyServerURL": "https://plot.ly",
        "showLink": false
       },
       "data": [
        {
         "colorbar": {
          "title": {
           "text": "Happiness"
          }
         },
         "locationmode": "country names",
         "locations": [
          "Switzerland",
          "Iceland",
          "Denmark",
          "Norway",
          "Canada",
          "Finland",
          "Netherlands",
          "Sweden",
          "New Zealand",
          "Australia",
          "Israel",
          "Costa Rica",
          "Austria",
          "Mexico",
          "United States",
          "Brazil",
          "Luxembourg",
          "Ireland",
          "Belgium",
          "United Arab Emirates",
          "United Kingdom",
          "Oman",
          "Venezuela",
          "Singapore",
          "Panama",
          "Germany",
          "Chile",
          "Qatar",
          "France",
          "Argentina",
          "Czech Republic",
          "Uruguay",
          "Colombia",
          "Thailand",
          "Saudi Arabia",
          "Spain",
          "Malta",
          "Taiwan",
          "Kuwait",
          "Suriname",
          "Trinidad and Tobago",
          "El Salvador",
          "Guatemala",
          "Uzbekistan",
          "Slovakia",
          "Japan",
          "South Korea",
          "Ecuador",
          "Bahrain",
          "Italy",
          "Bolivia",
          "Moldova",
          "Paraguay",
          "Kazakhstan",
          "Slovenia",
          "Lithuania",
          "Nicaragua",
          "Peru",
          "Belarus",
          "Poland",
          "Malaysia",
          "Croatia",
          "Libya",
          "Russia",
          "Jamaica",
          "North Cyprus",
          "Cyprus",
          "Algeria",
          "Kosovo",
          "Turkmenistan",
          "Mauritius",
          "Hong Kong",
          "Estonia",
          "Indonesia",
          "Vietnam",
          "Turkey",
          "Kyrgyzstan",
          "Nigeria",
          "Bhutan",
          "Azerbaijan",
          "Pakistan",
          "Jordan",
          "Montenegro",
          "China",
          "Zambia",
          "Romania",
          "Serbia",
          "Portugal",
          "Latvia",
          "Philippines",
          "Somaliland region",
          "Morocco",
          "Macedonia",
          "Mozambique",
          "Albania",
          "Bosnia and Herzegovina",
          "Lesotho",
          "Dominican Republic",
          "Laos",
          "Mongolia",
          "Swaziland",
          "Greece",
          "Lebanon",
          "Hungary",
          "Honduras",
          "Tajikistan",
          "Tunisia",
          "Palestinian Territories",
          "Bangladesh",
          "Iran",
          "Ukraine",
          "Iraq",
          "South Africa",
          "Ghana",
          "Zimbabwe",
          "Liberia",
          "India",
          "Sudan",
          "Haiti",
          "Congo (Kinshasa)",
          "Nepal",
          "Ethiopia",
          "Sierra Leone",
          "Mauritania",
          "Kenya",
          "Djibouti",
          "Armenia",
          "Botswana",
          "Myanmar",
          "Georgia",
          "Malawi",
          "Sri Lanka",
          "Cameroon",
          "Bulgaria",
          "Egypt",
          "Yemen",
          "Angola",
          "Mali",
          "Congo (Brazzaville)",
          "Comoros",
          "Uganda",
          "Senegal",
          "Gabon",
          "Niger",
          "Cambodia",
          "Tanzania",
          "Madagascar",
          "Central African Republic",
          "Chad",
          "Guinea",
          "Ivory Coast",
          "Burkina Faso",
          "Afghanistan",
          "Rwanda",
          "Benin",
          "Syria",
          "Burundi",
          "Togo"
         ],
         "text": [
          "Switzerland",
          "Iceland",
          "Denmark",
          "Norway",
          "Canada",
          "Finland",
          "Netherlands",
          "Sweden",
          "New Zealand",
          "Australia",
          "Israel",
          "Costa Rica",
          "Austria",
          "Mexico",
          "United States",
          "Brazil",
          "Luxembourg",
          "Ireland",
          "Belgium",
          "United Arab Emirates",
          "United Kingdom",
          "Oman",
          "Venezuela",
          "Singapore",
          "Panama",
          "Germany",
          "Chile",
          "Qatar",
          "France",
          "Argentina",
          "Czech Republic",
          "Uruguay",
          "Colombia",
          "Thailand",
          "Saudi Arabia",
          "Spain",
          "Malta",
          "Taiwan",
          "Kuwait",
          "Suriname",
          "Trinidad and Tobago",
          "El Salvador",
          "Guatemala",
          "Uzbekistan",
          "Slovakia",
          "Japan",
          "South Korea",
          "Ecuador",
          "Bahrain",
          "Italy",
          "Bolivia",
          "Moldova",
          "Paraguay",
          "Kazakhstan",
          "Slovenia",
          "Lithuania",
          "Nicaragua",
          "Peru",
          "Belarus",
          "Poland",
          "Malaysia",
          "Croatia",
          "Libya",
          "Russia",
          "Jamaica",
          "North Cyprus",
          "Cyprus",
          "Algeria",
          "Kosovo",
          "Turkmenistan",
          "Mauritius",
          "Hong Kong",
          "Estonia",
          "Indonesia",
          "Vietnam",
          "Turkey",
          "Kyrgyzstan",
          "Nigeria",
          "Bhutan",
          "Azerbaijan",
          "Pakistan",
          "Jordan",
          "Montenegro",
          "China",
          "Zambia",
          "Romania",
          "Serbia",
          "Portugal",
          "Latvia",
          "Philippines",
          "Somaliland region",
          "Morocco",
          "Macedonia",
          "Mozambique",
          "Albania",
          "Bosnia and Herzegovina",
          "Lesotho",
          "Dominican Republic",
          "Laos",
          "Mongolia",
          "Swaziland",
          "Greece",
          "Lebanon",
          "Hungary",
          "Honduras",
          "Tajikistan",
          "Tunisia",
          "Palestinian Territories",
          "Bangladesh",
          "Iran",
          "Ukraine",
          "Iraq",
          "South Africa",
          "Ghana",
          "Zimbabwe",
          "Liberia",
          "India",
          "Sudan",
          "Haiti",
          "Congo (Kinshasa)",
          "Nepal",
          "Ethiopia",
          "Sierra Leone",
          "Mauritania",
          "Kenya",
          "Djibouti",
          "Armenia",
          "Botswana",
          "Myanmar",
          "Georgia",
          "Malawi",
          "Sri Lanka",
          "Cameroon",
          "Bulgaria",
          "Egypt",
          "Yemen",
          "Angola",
          "Mali",
          "Congo (Brazzaville)",
          "Comoros",
          "Uganda",
          "Senegal",
          "Gabon",
          "Niger",
          "Cambodia",
          "Tanzania",
          "Madagascar",
          "Central African Republic",
          "Chad",
          "Guinea",
          "Ivory Coast",
          "Burkina Faso",
          "Afghanistan",
          "Rwanda",
          "Benin",
          "Syria",
          "Burundi",
          "Togo"
         ],
         "type": "choropleth",
         "z": [
          7.5870000000000015,
          7.561,
          7.527,
          7.522,
          7.427,
          7.4060000000000015,
          7.377999999999999,
          7.364,
          7.286,
          7.284,
          7.278,
          7.226,
          7.2,
          7.187,
          7.119,
          6.983,
          6.9460000000000015,
          6.94,
          6.937,
          6.901,
          6.867000000000001,
          6.853,
          6.81,
          6.797999999999999,
          6.7860000000000005,
          6.75,
          6.67,
          6.6110000000000015,
          6.575,
          6.574,
          6.505,
          6.485,
          6.477,
          6.455,
          6.4110000000000005,
          6.329,
          6.3020000000000005,
          6.297999999999999,
          6.295,
          6.269,
          6.167999999999998,
          6.13,
          6.122999999999998,
          6.002999999999999,
          5.995,
          5.987,
          5.984,
          5.975,
          5.96,
          5.948,
          5.89,
          5.8889999999999985,
          5.877999999999999,
          5.855,
          5.848,
          5.832999999999998,
          5.8279999999999985,
          5.824,
          5.813,
          5.791,
          5.77,
          5.759,
          5.754,
          5.716,
          5.709,
          5.695,
          5.689,
          5.605,
          5.589,
          5.547999999999999,
          5.477,
          5.474,
          5.4289999999999985,
          5.399,
          5.36,
          5.332000000000002,
          5.2860000000000005,
          5.268,
          5.252999999999999,
          5.2120000000000015,
          5.194,
          5.192,
          5.192,
          5.14,
          5.129,
          5.124,
          5.122999999999998,
          5.102,
          5.098,
          5.073,
          5.057,
          5.013,
          5.007,
          4.971,
          4.959,
          4.949,
          4.898,
          4.885,
          4.876,
          4.874,
          4.867,
          4.857,
          4.839,
          4.8,
          4.788,
          4.7860000000000005,
          4.739,
          4.715,
          4.694,
          4.686,
          4.681,
          4.677,
          4.642,
          4.633,
          4.61,
          4.5710000000000015,
          4.565,
          4.55,
          4.518,
          4.517,
          4.5139999999999985,
          4.512,
          4.507,
          4.436,
          4.419,
          4.369,
          4.35,
          4.332,
          4.307,
          4.297,
          4.292,
          4.271,
          4.252,
          4.218,
          4.194,
          4.077,
          4.033,
          3.995,
          3.989,
          3.956,
          3.931,
          3.904,
          3.896,
          3.845,
          3.819,
          3.781,
          3.681,
          3.678,
          3.667,
          3.656,
          3.655,
          3.587,
          3.575,
          3.465,
          3.34,
          3.006,
          2.905,
          2.839
         ]
        }
       ],
       "layout": {
        "template": {
         "data": {
          "bar": [
           {
            "error_x": {
             "color": "#2a3f5f"
            },
            "error_y": {
             "color": "#2a3f5f"
            },
            "marker": {
             "line": {
              "color": "#E5ECF6",
              "width": 0.5
             }
            },
            "type": "bar"
           }
          ],
          "barpolar": [
           {
            "marker": {
             "line": {
              "color": "#E5ECF6",
              "width": 0.5
             }
            },
            "type": "barpolar"
           }
          ],
          "carpet": [
           {
            "aaxis": {
             "endlinecolor": "#2a3f5f",
             "gridcolor": "white",
             "linecolor": "white",
             "minorgridcolor": "white",
             "startlinecolor": "#2a3f5f"
            },
            "baxis": {
             "endlinecolor": "#2a3f5f",
             "gridcolor": "white",
             "linecolor": "white",
             "minorgridcolor": "white",
             "startlinecolor": "#2a3f5f"
            },
            "type": "carpet"
           }
          ],
          "choropleth": [
           {
            "colorbar": {
             "outlinewidth": 0,
             "ticks": ""
            },
            "type": "choropleth"
           }
          ],
          "contour": [
           {
            "colorbar": {
             "outlinewidth": 0,
             "ticks": ""
            },
            "colorscale": [
             [
              0,
              "#0d0887"
             ],
             [
              0.1111111111111111,
              "#46039f"
             ],
             [
              0.2222222222222222,
              "#7201a8"
             ],
             [
              0.3333333333333333,
              "#9c179e"
             ],
             [
              0.4444444444444444,
              "#bd3786"
             ],
             [
              0.5555555555555556,
              "#d8576b"
             ],
             [
              0.6666666666666666,
              "#ed7953"
             ],
             [
              0.7777777777777778,
              "#fb9f3a"
             ],
             [
              0.8888888888888888,
              "#fdca26"
             ],
             [
              1,
              "#f0f921"
             ]
            ],
            "type": "contour"
           }
          ],
          "contourcarpet": [
           {
            "colorbar": {
             "outlinewidth": 0,
             "ticks": ""
            },
            "type": "contourcarpet"
           }
          ],
          "heatmap": [
           {
            "colorbar": {
             "outlinewidth": 0,
             "ticks": ""
            },
            "colorscale": [
             [
              0,
              "#0d0887"
             ],
             [
              0.1111111111111111,
              "#46039f"
             ],
             [
              0.2222222222222222,
              "#7201a8"
             ],
             [
              0.3333333333333333,
              "#9c179e"
             ],
             [
              0.4444444444444444,
              "#bd3786"
             ],
             [
              0.5555555555555556,
              "#d8576b"
             ],
             [
              0.6666666666666666,
              "#ed7953"
             ],
             [
              0.7777777777777778,
              "#fb9f3a"
             ],
             [
              0.8888888888888888,
              "#fdca26"
             ],
             [
              1,
              "#f0f921"
             ]
            ],
            "type": "heatmap"
           }
          ],
          "heatmapgl": [
           {
            "colorbar": {
             "outlinewidth": 0,
             "ticks": ""
            },
            "colorscale": [
             [
              0,
              "#0d0887"
             ],
             [
              0.1111111111111111,
              "#46039f"
             ],
             [
              0.2222222222222222,
              "#7201a8"
             ],
             [
              0.3333333333333333,
              "#9c179e"
             ],
             [
              0.4444444444444444,
              "#bd3786"
             ],
             [
              0.5555555555555556,
              "#d8576b"
             ],
             [
              0.6666666666666666,
              "#ed7953"
             ],
             [
              0.7777777777777778,
              "#fb9f3a"
             ],
             [
              0.8888888888888888,
              "#fdca26"
             ],
             [
              1,
              "#f0f921"
             ]
            ],
            "type": "heatmapgl"
           }
          ],
          "histogram": [
           {
            "marker": {
             "colorbar": {
              "outlinewidth": 0,
              "ticks": ""
             }
            },
            "type": "histogram"
           }
          ],
          "histogram2d": [
           {
            "colorbar": {
             "outlinewidth": 0,
             "ticks": ""
            },
            "colorscale": [
             [
              0,
              "#0d0887"
             ],
             [
              0.1111111111111111,
              "#46039f"
             ],
             [
              0.2222222222222222,
              "#7201a8"
             ],
             [
              0.3333333333333333,
              "#9c179e"
             ],
             [
              0.4444444444444444,
              "#bd3786"
             ],
             [
              0.5555555555555556,
              "#d8576b"
             ],
             [
              0.6666666666666666,
              "#ed7953"
             ],
             [
              0.7777777777777778,
              "#fb9f3a"
             ],
             [
              0.8888888888888888,
              "#fdca26"
             ],
             [
              1,
              "#f0f921"
             ]
            ],
            "type": "histogram2d"
           }
          ],
          "histogram2dcontour": [
           {
            "colorbar": {
             "outlinewidth": 0,
             "ticks": ""
            },
            "colorscale": [
             [
              0,
              "#0d0887"
             ],
             [
              0.1111111111111111,
              "#46039f"
             ],
             [
              0.2222222222222222,
              "#7201a8"
             ],
             [
              0.3333333333333333,
              "#9c179e"
             ],
             [
              0.4444444444444444,
              "#bd3786"
             ],
             [
              0.5555555555555556,
              "#d8576b"
             ],
             [
              0.6666666666666666,
              "#ed7953"
             ],
             [
              0.7777777777777778,
              "#fb9f3a"
             ],
             [
              0.8888888888888888,
              "#fdca26"
             ],
             [
              1,
              "#f0f921"
             ]
            ],
            "type": "histogram2dcontour"
           }
          ],
          "mesh3d": [
           {
            "colorbar": {
             "outlinewidth": 0,
             "ticks": ""
            },
            "type": "mesh3d"
           }
          ],
          "parcoords": [
           {
            "line": {
             "colorbar": {
              "outlinewidth": 0,
              "ticks": ""
             }
            },
            "type": "parcoords"
           }
          ],
          "pie": [
           {
            "automargin": true,
            "type": "pie"
           }
          ],
          "scatter": [
           {
            "marker": {
             "colorbar": {
              "outlinewidth": 0,
              "ticks": ""
             }
            },
            "type": "scatter"
           }
          ],
          "scatter3d": [
           {
            "line": {
             "colorbar": {
              "outlinewidth": 0,
              "ticks": ""
             }
            },
            "marker": {
             "colorbar": {
              "outlinewidth": 0,
              "ticks": ""
             }
            },
            "type": "scatter3d"
           }
          ],
          "scattercarpet": [
           {
            "marker": {
             "colorbar": {
              "outlinewidth": 0,
              "ticks": ""
             }
            },
            "type": "scattercarpet"
           }
          ],
          "scattergeo": [
           {
            "marker": {
             "colorbar": {
              "outlinewidth": 0,
              "ticks": ""
             }
            },
            "type": "scattergeo"
           }
          ],
          "scattergl": [
           {
            "marker": {
             "colorbar": {
              "outlinewidth": 0,
              "ticks": ""
             }
            },
            "type": "scattergl"
           }
          ],
          "scattermapbox": [
           {
            "marker": {
             "colorbar": {
              "outlinewidth": 0,
              "ticks": ""
             }
            },
            "type": "scattermapbox"
           }
          ],
          "scatterpolar": [
           {
            "marker": {
             "colorbar": {
              "outlinewidth": 0,
              "ticks": ""
             }
            },
            "type": "scatterpolar"
           }
          ],
          "scatterpolargl": [
           {
            "marker": {
             "colorbar": {
              "outlinewidth": 0,
              "ticks": ""
             }
            },
            "type": "scatterpolargl"
           }
          ],
          "scatterternary": [
           {
            "marker": {
             "colorbar": {
              "outlinewidth": 0,
              "ticks": ""
             }
            },
            "type": "scatterternary"
           }
          ],
          "surface": [
           {
            "colorbar": {
             "outlinewidth": 0,
             "ticks": ""
            },
            "colorscale": [
             [
              0,
              "#0d0887"
             ],
             [
              0.1111111111111111,
              "#46039f"
             ],
             [
              0.2222222222222222,
              "#7201a8"
             ],
             [
              0.3333333333333333,
              "#9c179e"
             ],
             [
              0.4444444444444444,
              "#bd3786"
             ],
             [
              0.5555555555555556,
              "#d8576b"
             ],
             [
              0.6666666666666666,
              "#ed7953"
             ],
             [
              0.7777777777777778,
              "#fb9f3a"
             ],
             [
              0.8888888888888888,
              "#fdca26"
             ],
             [
              1,
              "#f0f921"
             ]
            ],
            "type": "surface"
           }
          ],
          "table": [
           {
            "cells": {
             "fill": {
              "color": "#EBF0F8"
             },
             "line": {
              "color": "white"
             }
            },
            "header": {
             "fill": {
              "color": "#C8D4E3"
             },
             "line": {
              "color": "white"
             }
            },
            "type": "table"
           }
          ]
         },
         "layout": {
          "annotationdefaults": {
           "arrowcolor": "#2a3f5f",
           "arrowhead": 0,
           "arrowwidth": 1
          },
          "autotypenumbers": "strict",
          "coloraxis": {
           "colorbar": {
            "outlinewidth": 0,
            "ticks": ""
           }
          },
          "colorscale": {
           "diverging": [
            [
             0,
             "#8e0152"
            ],
            [
             0.1,
             "#c51b7d"
            ],
            [
             0.2,
             "#de77ae"
            ],
            [
             0.3,
             "#f1b6da"
            ],
            [
             0.4,
             "#fde0ef"
            ],
            [
             0.5,
             "#f7f7f7"
            ],
            [
             0.6,
             "#e6f5d0"
            ],
            [
             0.7,
             "#b8e186"
            ],
            [
             0.8,
             "#7fbc41"
            ],
            [
             0.9,
             "#4d9221"
            ],
            [
             1,
             "#276419"
            ]
           ],
           "sequential": [
            [
             0,
             "#0d0887"
            ],
            [
             0.1111111111111111,
             "#46039f"
            ],
            [
             0.2222222222222222,
             "#7201a8"
            ],
            [
             0.3333333333333333,
             "#9c179e"
            ],
            [
             0.4444444444444444,
             "#bd3786"
            ],
            [
             0.5555555555555556,
             "#d8576b"
            ],
            [
             0.6666666666666666,
             "#ed7953"
            ],
            [
             0.7777777777777778,
             "#fb9f3a"
            ],
            [
             0.8888888888888888,
             "#fdca26"
            ],
            [
             1,
             "#f0f921"
            ]
           ],
           "sequentialminus": [
            [
             0,
             "#0d0887"
            ],
            [
             0.1111111111111111,
             "#46039f"
            ],
            [
             0.2222222222222222,
             "#7201a8"
            ],
            [
             0.3333333333333333,
             "#9c179e"
            ],
            [
             0.4444444444444444,
             "#bd3786"
            ],
            [
             0.5555555555555556,
             "#d8576b"
            ],
            [
             0.6666666666666666,
             "#ed7953"
            ],
            [
             0.7777777777777778,
             "#fb9f3a"
            ],
            [
             0.8888888888888888,
             "#fdca26"
            ],
            [
             1,
             "#f0f921"
            ]
           ]
          },
          "colorway": [
           "#636efa",
           "#EF553B",
           "#00cc96",
           "#ab63fa",
           "#FFA15A",
           "#19d3f3",
           "#FF6692",
           "#B6E880",
           "#FF97FF",
           "#FECB52"
          ],
          "font": {
           "color": "#2a3f5f"
          },
          "geo": {
           "bgcolor": "white",
           "lakecolor": "white",
           "landcolor": "#E5ECF6",
           "showlakes": true,
           "showland": true,
           "subunitcolor": "white"
          },
          "hoverlabel": {
           "align": "left"
          },
          "hovermode": "closest",
          "mapbox": {
           "style": "light"
          },
          "paper_bgcolor": "white",
          "plot_bgcolor": "#E5ECF6",
          "polar": {
           "angularaxis": {
            "gridcolor": "white",
            "linecolor": "white",
            "ticks": ""
           },
           "bgcolor": "#E5ECF6",
           "radialaxis": {
            "gridcolor": "white",
            "linecolor": "white",
            "ticks": ""
           }
          },
          "scene": {
           "xaxis": {
            "backgroundcolor": "#E5ECF6",
            "gridcolor": "white",
            "gridwidth": 2,
            "linecolor": "white",
            "showbackground": true,
            "ticks": "",
            "zerolinecolor": "white"
           },
           "yaxis": {
            "backgroundcolor": "#E5ECF6",
            "gridcolor": "white",
            "gridwidth": 2,
            "linecolor": "white",
            "showbackground": true,
            "ticks": "",
            "zerolinecolor": "white"
           },
           "zaxis": {
            "backgroundcolor": "#E5ECF6",
            "gridcolor": "white",
            "gridwidth": 2,
            "linecolor": "white",
            "showbackground": true,
            "ticks": "",
            "zerolinecolor": "white"
           }
          },
          "shapedefaults": {
           "line": {
            "color": "#2a3f5f"
           }
          },
          "ternary": {
           "aaxis": {
            "gridcolor": "white",
            "linecolor": "white",
            "ticks": ""
           },
           "baxis": {
            "gridcolor": "white",
            "linecolor": "white",
            "ticks": ""
           },
           "bgcolor": "#E5ECF6",
           "caxis": {
            "gridcolor": "white",
            "linecolor": "white",
            "ticks": ""
           }
          },
          "title": {
           "x": 0.05
          },
          "xaxis": {
           "automargin": true,
           "gridcolor": "white",
           "linecolor": "white",
           "ticks": "",
           "title": {
            "standoff": 15
           },
           "zerolinecolor": "white",
           "zerolinewidth": 2
          },
          "yaxis": {
           "automargin": true,
           "gridcolor": "white",
           "linecolor": "white",
           "ticks": "",
           "title": {
            "standoff": 15
           },
           "zerolinecolor": "white",
           "zerolinewidth": 2
          }
         }
        },
        "title": {
         "text": "Оценка счастья за 2015 год"
        }
       }
      },
      "text/html": [
       "<div>                            <div id=\"fad4c08e-a77f-4df3-af63-a1fdf32ab511\" class=\"plotly-graph-div\" style=\"height:525px; width:100%;\"></div>            <script type=\"text/javascript\">                require([\"plotly\"], function(Plotly) {                    window.PLOTLYENV=window.PLOTLYENV || {};                                    if (document.getElementById(\"fad4c08e-a77f-4df3-af63-a1fdf32ab511\")) {                    Plotly.newPlot(                        \"fad4c08e-a77f-4df3-af63-a1fdf32ab511\",                        [{\"colorbar\": {\"title\": {\"text\": \"Happiness\"}}, \"locationmode\": \"country names\", \"locations\": [\"Switzerland\", \"Iceland\", \"Denmark\", \"Norway\", \"Canada\", \"Finland\", \"Netherlands\", \"Sweden\", \"New Zealand\", \"Australia\", \"Israel\", \"Costa Rica\", \"Austria\", \"Mexico\", \"United States\", \"Brazil\", \"Luxembourg\", \"Ireland\", \"Belgium\", \"United Arab Emirates\", \"United Kingdom\", \"Oman\", \"Venezuela\", \"Singapore\", \"Panama\", \"Germany\", \"Chile\", \"Qatar\", \"France\", \"Argentina\", \"Czech Republic\", \"Uruguay\", \"Colombia\", \"Thailand\", \"Saudi Arabia\", \"Spain\", \"Malta\", \"Taiwan\", \"Kuwait\", \"Suriname\", \"Trinidad and Tobago\", \"El Salvador\", \"Guatemala\", \"Uzbekistan\", \"Slovakia\", \"Japan\", \"South Korea\", \"Ecuador\", \"Bahrain\", \"Italy\", \"Bolivia\", \"Moldova\", \"Paraguay\", \"Kazakhstan\", \"Slovenia\", \"Lithuania\", \"Nicaragua\", \"Peru\", \"Belarus\", \"Poland\", \"Malaysia\", \"Croatia\", \"Libya\", \"Russia\", \"Jamaica\", \"North Cyprus\", \"Cyprus\", \"Algeria\", \"Kosovo\", \"Turkmenistan\", \"Mauritius\", \"Hong Kong\", \"Estonia\", \"Indonesia\", \"Vietnam\", \"Turkey\", \"Kyrgyzstan\", \"Nigeria\", \"Bhutan\", \"Azerbaijan\", \"Pakistan\", \"Jordan\", \"Montenegro\", \"China\", \"Zambia\", \"Romania\", \"Serbia\", \"Portugal\", \"Latvia\", \"Philippines\", \"Somaliland region\", \"Morocco\", \"Macedonia\", \"Mozambique\", \"Albania\", \"Bosnia and Herzegovina\", \"Lesotho\", \"Dominican Republic\", \"Laos\", \"Mongolia\", \"Swaziland\", \"Greece\", \"Lebanon\", \"Hungary\", \"Honduras\", \"Tajikistan\", \"Tunisia\", \"Palestinian Territories\", \"Bangladesh\", \"Iran\", \"Ukraine\", \"Iraq\", \"South Africa\", \"Ghana\", \"Zimbabwe\", \"Liberia\", \"India\", \"Sudan\", \"Haiti\", \"Congo (Kinshasa)\", \"Nepal\", \"Ethiopia\", \"Sierra Leone\", \"Mauritania\", \"Kenya\", \"Djibouti\", \"Armenia\", \"Botswana\", \"Myanmar\", \"Georgia\", \"Malawi\", \"Sri Lanka\", \"Cameroon\", \"Bulgaria\", \"Egypt\", \"Yemen\", \"Angola\", \"Mali\", \"Congo (Brazzaville)\", \"Comoros\", \"Uganda\", \"Senegal\", \"Gabon\", \"Niger\", \"Cambodia\", \"Tanzania\", \"Madagascar\", \"Central African Republic\", \"Chad\", \"Guinea\", \"Ivory Coast\", \"Burkina Faso\", \"Afghanistan\", \"Rwanda\", \"Benin\", \"Syria\", \"Burundi\", \"Togo\"], \"text\": [\"Switzerland\", \"Iceland\", \"Denmark\", \"Norway\", \"Canada\", \"Finland\", \"Netherlands\", \"Sweden\", \"New Zealand\", \"Australia\", \"Israel\", \"Costa Rica\", \"Austria\", \"Mexico\", \"United States\", \"Brazil\", \"Luxembourg\", \"Ireland\", \"Belgium\", \"United Arab Emirates\", \"United Kingdom\", \"Oman\", \"Venezuela\", \"Singapore\", \"Panama\", \"Germany\", \"Chile\", \"Qatar\", \"France\", \"Argentina\", \"Czech Republic\", \"Uruguay\", \"Colombia\", \"Thailand\", \"Saudi Arabia\", \"Spain\", \"Malta\", \"Taiwan\", \"Kuwait\", \"Suriname\", \"Trinidad and Tobago\", \"El Salvador\", \"Guatemala\", \"Uzbekistan\", \"Slovakia\", \"Japan\", \"South Korea\", \"Ecuador\", \"Bahrain\", \"Italy\", \"Bolivia\", \"Moldova\", \"Paraguay\", \"Kazakhstan\", \"Slovenia\", \"Lithuania\", \"Nicaragua\", \"Peru\", \"Belarus\", \"Poland\", \"Malaysia\", \"Croatia\", \"Libya\", \"Russia\", \"Jamaica\", \"North Cyprus\", \"Cyprus\", \"Algeria\", \"Kosovo\", \"Turkmenistan\", \"Mauritius\", \"Hong Kong\", \"Estonia\", \"Indonesia\", \"Vietnam\", \"Turkey\", \"Kyrgyzstan\", \"Nigeria\", \"Bhutan\", \"Azerbaijan\", \"Pakistan\", \"Jordan\", \"Montenegro\", \"China\", \"Zambia\", \"Romania\", \"Serbia\", \"Portugal\", \"Latvia\", \"Philippines\", \"Somaliland region\", \"Morocco\", \"Macedonia\", \"Mozambique\", \"Albania\", \"Bosnia and Herzegovina\", \"Lesotho\", \"Dominican Republic\", \"Laos\", \"Mongolia\", \"Swaziland\", \"Greece\", \"Lebanon\", \"Hungary\", \"Honduras\", \"Tajikistan\", \"Tunisia\", \"Palestinian Territories\", \"Bangladesh\", \"Iran\", \"Ukraine\", \"Iraq\", \"South Africa\", \"Ghana\", \"Zimbabwe\", \"Liberia\", \"India\", \"Sudan\", \"Haiti\", \"Congo (Kinshasa)\", \"Nepal\", \"Ethiopia\", \"Sierra Leone\", \"Mauritania\", \"Kenya\", \"Djibouti\", \"Armenia\", \"Botswana\", \"Myanmar\", \"Georgia\", \"Malawi\", \"Sri Lanka\", \"Cameroon\", \"Bulgaria\", \"Egypt\", \"Yemen\", \"Angola\", \"Mali\", \"Congo (Brazzaville)\", \"Comoros\", \"Uganda\", \"Senegal\", \"Gabon\", \"Niger\", \"Cambodia\", \"Tanzania\", \"Madagascar\", \"Central African Republic\", \"Chad\", \"Guinea\", \"Ivory Coast\", \"Burkina Faso\", \"Afghanistan\", \"Rwanda\", \"Benin\", \"Syria\", \"Burundi\", \"Togo\"], \"type\": \"choropleth\", \"z\": [7.5870000000000015, 7.561, 7.527, 7.522, 7.427, 7.4060000000000015, 7.377999999999999, 7.364, 7.286, 7.284, 7.278, 7.226, 7.2, 7.187, 7.119, 6.983, 6.9460000000000015, 6.94, 6.937, 6.901, 6.867000000000001, 6.853, 6.81, 6.797999999999999, 6.7860000000000005, 6.75, 6.67, 6.6110000000000015, 6.575, 6.574, 6.505, 6.485, 6.477, 6.455, 6.4110000000000005, 6.329, 6.3020000000000005, 6.297999999999999, 6.295, 6.269, 6.167999999999998, 6.13, 6.122999999999998, 6.002999999999999, 5.995, 5.987, 5.984, 5.975, 5.96, 5.948, 5.89, 5.8889999999999985, 5.877999999999999, 5.855, 5.848, 5.832999999999998, 5.8279999999999985, 5.824, 5.813, 5.791, 5.77, 5.759, 5.754, 5.716, 5.709, 5.695, 5.689, 5.605, 5.589, 5.547999999999999, 5.477, 5.474, 5.4289999999999985, 5.399, 5.36, 5.332000000000002, 5.2860000000000005, 5.268, 5.252999999999999, 5.2120000000000015, 5.194, 5.192, 5.192, 5.14, 5.129, 5.124, 5.122999999999998, 5.102, 5.098, 5.073, 5.057, 5.013, 5.007, 4.971, 4.959, 4.949, 4.898, 4.885, 4.876, 4.874, 4.867, 4.857, 4.839, 4.8, 4.788, 4.7860000000000005, 4.739, 4.715, 4.694, 4.686, 4.681, 4.677, 4.642, 4.633, 4.61, 4.5710000000000015, 4.565, 4.55, 4.518, 4.517, 4.5139999999999985, 4.512, 4.507, 4.436, 4.419, 4.369, 4.35, 4.332, 4.307, 4.297, 4.292, 4.271, 4.252, 4.218, 4.194, 4.077, 4.033, 3.995, 3.989, 3.956, 3.931, 3.904, 3.896, 3.845, 3.819, 3.781, 3.681, 3.678, 3.667, 3.656, 3.655, 3.587, 3.575, 3.465, 3.34, 3.006, 2.905, 2.839]}],                        {\"template\": {\"data\": {\"bar\": [{\"error_x\": {\"color\": \"#2a3f5f\"}, \"error_y\": {\"color\": \"#2a3f5f\"}, \"marker\": {\"line\": {\"color\": \"#E5ECF6\", \"width\": 0.5}}, \"type\": \"bar\"}], \"barpolar\": [{\"marker\": {\"line\": {\"color\": \"#E5ECF6\", \"width\": 0.5}}, \"type\": \"barpolar\"}], \"carpet\": [{\"aaxis\": {\"endlinecolor\": \"#2a3f5f\", \"gridcolor\": \"white\", \"linecolor\": \"white\", \"minorgridcolor\": \"white\", \"startlinecolor\": \"#2a3f5f\"}, \"baxis\": {\"endlinecolor\": \"#2a3f5f\", \"gridcolor\": \"white\", \"linecolor\": \"white\", \"minorgridcolor\": \"white\", \"startlinecolor\": \"#2a3f5f\"}, \"type\": \"carpet\"}], \"choropleth\": [{\"colorbar\": {\"outlinewidth\": 0, \"ticks\": \"\"}, \"type\": \"choropleth\"}], \"contour\": [{\"colorbar\": {\"outlinewidth\": 0, \"ticks\": \"\"}, \"colorscale\": [[0.0, \"#0d0887\"], [0.1111111111111111, \"#46039f\"], [0.2222222222222222, \"#7201a8\"], [0.3333333333333333, \"#9c179e\"], [0.4444444444444444, \"#bd3786\"], [0.5555555555555556, \"#d8576b\"], [0.6666666666666666, \"#ed7953\"], [0.7777777777777778, \"#fb9f3a\"], [0.8888888888888888, \"#fdca26\"], [1.0, \"#f0f921\"]], \"type\": \"contour\"}], \"contourcarpet\": [{\"colorbar\": {\"outlinewidth\": 0, \"ticks\": \"\"}, \"type\": \"contourcarpet\"}], \"heatmap\": [{\"colorbar\": {\"outlinewidth\": 0, \"ticks\": \"\"}, \"colorscale\": [[0.0, \"#0d0887\"], [0.1111111111111111, \"#46039f\"], [0.2222222222222222, \"#7201a8\"], [0.3333333333333333, \"#9c179e\"], [0.4444444444444444, \"#bd3786\"], [0.5555555555555556, \"#d8576b\"], [0.6666666666666666, \"#ed7953\"], [0.7777777777777778, \"#fb9f3a\"], [0.8888888888888888, \"#fdca26\"], [1.0, \"#f0f921\"]], \"type\": \"heatmap\"}], \"heatmapgl\": [{\"colorbar\": {\"outlinewidth\": 0, \"ticks\": \"\"}, \"colorscale\": [[0.0, \"#0d0887\"], [0.1111111111111111, \"#46039f\"], [0.2222222222222222, \"#7201a8\"], [0.3333333333333333, \"#9c179e\"], [0.4444444444444444, \"#bd3786\"], [0.5555555555555556, \"#d8576b\"], [0.6666666666666666, \"#ed7953\"], [0.7777777777777778, \"#fb9f3a\"], [0.8888888888888888, \"#fdca26\"], [1.0, \"#f0f921\"]], \"type\": \"heatmapgl\"}], \"histogram\": [{\"marker\": {\"colorbar\": {\"outlinewidth\": 0, \"ticks\": \"\"}}, \"type\": \"histogram\"}], \"histogram2d\": [{\"colorbar\": {\"outlinewidth\": 0, \"ticks\": \"\"}, \"colorscale\": [[0.0, \"#0d0887\"], [0.1111111111111111, \"#46039f\"], [0.2222222222222222, \"#7201a8\"], [0.3333333333333333, \"#9c179e\"], [0.4444444444444444, \"#bd3786\"], [0.5555555555555556, \"#d8576b\"], [0.6666666666666666, \"#ed7953\"], [0.7777777777777778, \"#fb9f3a\"], [0.8888888888888888, \"#fdca26\"], [1.0, \"#f0f921\"]], \"type\": \"histogram2d\"}], \"histogram2dcontour\": [{\"colorbar\": {\"outlinewidth\": 0, \"ticks\": \"\"}, \"colorscale\": [[0.0, \"#0d0887\"], [0.1111111111111111, \"#46039f\"], [0.2222222222222222, \"#7201a8\"], [0.3333333333333333, \"#9c179e\"], [0.4444444444444444, \"#bd3786\"], [0.5555555555555556, \"#d8576b\"], [0.6666666666666666, \"#ed7953\"], [0.7777777777777778, \"#fb9f3a\"], [0.8888888888888888, \"#fdca26\"], [1.0, \"#f0f921\"]], \"type\": \"histogram2dcontour\"}], \"mesh3d\": [{\"colorbar\": {\"outlinewidth\": 0, \"ticks\": \"\"}, \"type\": \"mesh3d\"}], \"parcoords\": [{\"line\": {\"colorbar\": {\"outlinewidth\": 0, \"ticks\": \"\"}}, \"type\": \"parcoords\"}], \"pie\": [{\"automargin\": true, \"type\": \"pie\"}], \"scatter\": [{\"marker\": {\"colorbar\": {\"outlinewidth\": 0, \"ticks\": \"\"}}, \"type\": \"scatter\"}], \"scatter3d\": [{\"line\": {\"colorbar\": {\"outlinewidth\": 0, \"ticks\": \"\"}}, \"marker\": {\"colorbar\": {\"outlinewidth\": 0, \"ticks\": \"\"}}, \"type\": \"scatter3d\"}], \"scattercarpet\": [{\"marker\": {\"colorbar\": {\"outlinewidth\": 0, \"ticks\": \"\"}}, \"type\": \"scattercarpet\"}], \"scattergeo\": [{\"marker\": {\"colorbar\": {\"outlinewidth\": 0, \"ticks\": \"\"}}, \"type\": \"scattergeo\"}], \"scattergl\": [{\"marker\": {\"colorbar\": {\"outlinewidth\": 0, \"ticks\": \"\"}}, \"type\": \"scattergl\"}], \"scattermapbox\": [{\"marker\": {\"colorbar\": {\"outlinewidth\": 0, \"ticks\": \"\"}}, \"type\": \"scattermapbox\"}], \"scatterpolar\": [{\"marker\": {\"colorbar\": {\"outlinewidth\": 0, \"ticks\": \"\"}}, \"type\": \"scatterpolar\"}], \"scatterpolargl\": [{\"marker\": {\"colorbar\": {\"outlinewidth\": 0, \"ticks\": \"\"}}, \"type\": \"scatterpolargl\"}], \"scatterternary\": [{\"marker\": {\"colorbar\": {\"outlinewidth\": 0, \"ticks\": \"\"}}, \"type\": \"scatterternary\"}], \"surface\": [{\"colorbar\": {\"outlinewidth\": 0, \"ticks\": \"\"}, \"colorscale\": [[0.0, \"#0d0887\"], [0.1111111111111111, \"#46039f\"], [0.2222222222222222, \"#7201a8\"], [0.3333333333333333, \"#9c179e\"], [0.4444444444444444, \"#bd3786\"], [0.5555555555555556, \"#d8576b\"], [0.6666666666666666, \"#ed7953\"], [0.7777777777777778, \"#fb9f3a\"], [0.8888888888888888, \"#fdca26\"], [1.0, \"#f0f921\"]], \"type\": \"surface\"}], \"table\": [{\"cells\": {\"fill\": {\"color\": \"#EBF0F8\"}, \"line\": {\"color\": \"white\"}}, \"header\": {\"fill\": {\"color\": \"#C8D4E3\"}, \"line\": {\"color\": \"white\"}}, \"type\": \"table\"}]}, \"layout\": {\"annotationdefaults\": {\"arrowcolor\": \"#2a3f5f\", \"arrowhead\": 0, \"arrowwidth\": 1}, \"autotypenumbers\": \"strict\", \"coloraxis\": {\"colorbar\": {\"outlinewidth\": 0, \"ticks\": \"\"}}, \"colorscale\": {\"diverging\": [[0, \"#8e0152\"], [0.1, \"#c51b7d\"], [0.2, \"#de77ae\"], [0.3, \"#f1b6da\"], [0.4, \"#fde0ef\"], [0.5, \"#f7f7f7\"], [0.6, \"#e6f5d0\"], [0.7, \"#b8e186\"], [0.8, \"#7fbc41\"], [0.9, \"#4d9221\"], [1, \"#276419\"]], \"sequential\": [[0.0, \"#0d0887\"], [0.1111111111111111, \"#46039f\"], [0.2222222222222222, \"#7201a8\"], [0.3333333333333333, \"#9c179e\"], [0.4444444444444444, \"#bd3786\"], [0.5555555555555556, \"#d8576b\"], [0.6666666666666666, \"#ed7953\"], [0.7777777777777778, \"#fb9f3a\"], [0.8888888888888888, \"#fdca26\"], [1.0, \"#f0f921\"]], \"sequentialminus\": [[0.0, \"#0d0887\"], [0.1111111111111111, \"#46039f\"], [0.2222222222222222, \"#7201a8\"], [0.3333333333333333, \"#9c179e\"], [0.4444444444444444, \"#bd3786\"], [0.5555555555555556, \"#d8576b\"], [0.6666666666666666, \"#ed7953\"], [0.7777777777777778, \"#fb9f3a\"], [0.8888888888888888, \"#fdca26\"], [1.0, \"#f0f921\"]]}, \"colorway\": [\"#636efa\", \"#EF553B\", \"#00cc96\", \"#ab63fa\", \"#FFA15A\", \"#19d3f3\", \"#FF6692\", \"#B6E880\", \"#FF97FF\", \"#FECB52\"], \"font\": {\"color\": \"#2a3f5f\"}, \"geo\": {\"bgcolor\": \"white\", \"lakecolor\": \"white\", \"landcolor\": \"#E5ECF6\", \"showlakes\": true, \"showland\": true, \"subunitcolor\": \"white\"}, \"hoverlabel\": {\"align\": \"left\"}, \"hovermode\": \"closest\", \"mapbox\": {\"style\": \"light\"}, \"paper_bgcolor\": \"white\", \"plot_bgcolor\": \"#E5ECF6\", \"polar\": {\"angularaxis\": {\"gridcolor\": \"white\", \"linecolor\": \"white\", \"ticks\": \"\"}, \"bgcolor\": \"#E5ECF6\", \"radialaxis\": {\"gridcolor\": \"white\", \"linecolor\": \"white\", \"ticks\": \"\"}}, \"scene\": {\"xaxis\": {\"backgroundcolor\": \"#E5ECF6\", \"gridcolor\": \"white\", \"gridwidth\": 2, \"linecolor\": \"white\", \"showbackground\": true, \"ticks\": \"\", \"zerolinecolor\": \"white\"}, \"yaxis\": {\"backgroundcolor\": \"#E5ECF6\", \"gridcolor\": \"white\", \"gridwidth\": 2, \"linecolor\": \"white\", \"showbackground\": true, \"ticks\": \"\", \"zerolinecolor\": \"white\"}, \"zaxis\": {\"backgroundcolor\": \"#E5ECF6\", \"gridcolor\": \"white\", \"gridwidth\": 2, \"linecolor\": \"white\", \"showbackground\": true, \"ticks\": \"\", \"zerolinecolor\": \"white\"}}, \"shapedefaults\": {\"line\": {\"color\": \"#2a3f5f\"}}, \"ternary\": {\"aaxis\": {\"gridcolor\": \"white\", \"linecolor\": \"white\", \"ticks\": \"\"}, \"baxis\": {\"gridcolor\": \"white\", \"linecolor\": \"white\", \"ticks\": \"\"}, \"bgcolor\": \"#E5ECF6\", \"caxis\": {\"gridcolor\": \"white\", \"linecolor\": \"white\", \"ticks\": \"\"}}, \"title\": {\"x\": 0.05}, \"xaxis\": {\"automargin\": true, \"gridcolor\": \"white\", \"linecolor\": \"white\", \"ticks\": \"\", \"title\": {\"standoff\": 15}, \"zerolinecolor\": \"white\", \"zerolinewidth\": 2}, \"yaxis\": {\"automargin\": true, \"gridcolor\": \"white\", \"linecolor\": \"white\", \"ticks\": \"\", \"title\": {\"standoff\": 15}, \"zerolinecolor\": \"white\", \"zerolinewidth\": 2}}}, \"title\": {\"text\": \"\\u041e\\u0446\\u0435\\u043d\\u043a\\u0430 \\u0441\\u0447\\u0430\\u0441\\u0442\\u044c\\u044f \\u0437\\u0430 2015 \\u0433\\u043e\\u0434\"}},                        {\"responsive\": true}                    ).then(function(){\n",
       "                            \n",
       "var gd = document.getElementById('fad4c08e-a77f-4df3-af63-a1fdf32ab511');\n",
       "var x = new MutationObserver(function (mutations, observer) {{\n",
       "        var display = window.getComputedStyle(gd).display;\n",
       "        if (!display || display === 'none') {{\n",
       "            console.log([gd, 'removed!']);\n",
       "            Plotly.purge(gd);\n",
       "            observer.disconnect();\n",
       "        }}\n",
       "}});\n",
       "\n",
       "// Listen for the removal of the full notebook cells\n",
       "var notebookContainer = gd.closest('#notebook-container');\n",
       "if (notebookContainer) {{\n",
       "    x.observe(notebookContainer, {childList: true});\n",
       "}}\n",
       "\n",
       "// Listen for the clearing of the current output cell\n",
       "var outputEl = gd.closest('.output');\n",
       "if (outputEl) {{\n",
       "    x.observe(outputEl, {childList: true});\n",
       "}}\n",
       "\n",
       "                        })                };                });            </script>        </div>"
      ]
     },
     "metadata": {},
     "output_type": "display_data"
    }
   ],
   "source": [
    "init_notebook_mode(connected=True)\n",
    "data = dict(type = 'choropleth', \n",
    "           locations = y_2015.country_name,\n",
    "           locationmode = 'country names',\n",
    "           z = y_2015.happiness_score_2015, \n",
    "           text = y_2015.country_name,\n",
    "           colorbar = {'title':'Happiness'})\n",
    "layout = dict(title = 'Оценка счастья за 2015 год')\n",
    "choromap3 = go.Figure(data = [data], layout=layout)\n",
    "iplot(choromap3)"
   ]
  },
  {
   "cell_type": "code",
   "execution_count": 57,
   "metadata": {
    "scrolled": true
   },
   "outputs": [
    {
     "data": {
      "image/png": "[encoded data removed]",
      "text/plain": [
       "<Figure size 432x288 with 1 Axes>"
      ]
     },
     "metadata": {
      "needs_background": "light"
     },
     "output_type": "display_data"
    }
   ],
   "source": [
    "ax = sns.countplot(y=\"region\", data=y_2015)"
   ]
  },
  {
   "cell_type": "code",
   "execution_count": 58,
   "metadata": {},
   "outputs": [
    {
     "data": {
      "application/vnd.plotly.v1+json": {
       "config": {
        "plotlyServerURL": "https://plot.ly"
       },
       "data": [
        {
         "labels": [
          "Sub-Saharan Africa",
          "Central and Eastern Europe",
          "Latin America and Caribbean",
          "Western Europe",
          "Middle East and Northern Africa",
          "Southeastern Asia",
          "Southern Asia",
          "Eastern Asia",
          "Australia and New Zealand",
          "North America"
         ],
         "type": "pie",
         "values": [
          40,
          29,
          22,
          21,
          20,
          9,
          7,
          6,
          2,
          2
         ]
        }
       ],
       "layout": {
        "template": {
         "data": {
          "bar": [
           {
            "error_x": {
             "color": "#2a3f5f"
            },
            "error_y": {
             "color": "#2a3f5f"
            },
            "marker": {
             "line": {
              "color": "#E5ECF6",
              "width": 0.5
             }
            },
            "type": "bar"
           }
          ],
          "barpolar": [
           {
            "marker": {
             "line": {
              "color": "#E5ECF6",
              "width": 0.5
             }
            },
            "type": "barpolar"
           }
          ],
          "carpet": [
           {
            "aaxis": {
             "endlinecolor": "#2a3f5f",
             "gridcolor": "white",
             "linecolor": "white",
             "minorgridcolor": "white",
             "startlinecolor": "#2a3f5f"
            },
            "baxis": {
             "endlinecolor": "#2a3f5f",
             "gridcolor": "white",
             "linecolor": "white",
             "minorgridcolor": "white",
             "startlinecolor": "#2a3f5f"
            },
            "type": "carpet"
           }
          ],
          "choropleth": [
           {
            "colorbar": {
             "outlinewidth": 0,
             "ticks": ""
            },
            "type": "choropleth"
           }
          ],
          "contour": [
           {
            "colorbar": {
             "outlinewidth": 0,
             "ticks": ""
            },
            "colorscale": [
             [
              0,
              "#0d0887"
             ],
             [
              0.1111111111111111,
              "#46039f"
             ],
             [
              0.2222222222222222,
              "#7201a8"
             ],
             [
              0.3333333333333333,
              "#9c179e"
             ],
             [
              0.4444444444444444,
              "#bd3786"
             ],
             [
              0.5555555555555556,
              "#d8576b"
             ],
             [
              0.6666666666666666,
              "#ed7953"
             ],
             [
              0.7777777777777778,
              "#fb9f3a"
             ],
             [
              0.8888888888888888,
              "#fdca26"
             ],
             [
              1,
              "#f0f921"
             ]
            ],
            "type": "contour"
           }
          ],
          "contourcarpet": [
           {
            "colorbar": {
             "outlinewidth": 0,
             "ticks": ""
            },
            "type": "contourcarpet"
           }
          ],
          "heatmap": [
           {
            "colorbar": {
             "outlinewidth": 0,
             "ticks": ""
            },
            "colorscale": [
             [
              0,
              "#0d0887"
             ],
             [
              0.1111111111111111,
              "#46039f"
             ],
             [
              0.2222222222222222,
              "#7201a8"
             ],
             [
              0.3333333333333333,
              "#9c179e"
             ],
             [
              0.4444444444444444,
              "#bd3786"
             ],
             [
              0.5555555555555556,
              "#d8576b"
             ],
             [
              0.6666666666666666,
              "#ed7953"
             ],
             [
              0.7777777777777778,
              "#fb9f3a"
             ],
             [
              0.8888888888888888,
              "#fdca26"
             ],
             [
              1,
              "#f0f921"
             ]
            ],
            "type": "heatmap"
           }
          ],
          "heatmapgl": [
           {
            "colorbar": {
             "outlinewidth": 0,
             "ticks": ""
            },
            "colorscale": [
             [
              0,
              "#0d0887"
             ],
             [
              0.1111111111111111,
              "#46039f"
             ],
             [
              0.2222222222222222,
              "#7201a8"
             ],
             [
              0.3333333333333333,
              "#9c179e"
             ],
             [
              0.4444444444444444,
              "#bd3786"
             ],
             [
              0.5555555555555556,
              "#d8576b"
             ],
             [
              0.6666666666666666,
              "#ed7953"
             ],
             [
              0.7777777777777778,
              "#fb9f3a"
             ],
             [
              0.8888888888888888,
              "#fdca26"
             ],
             [
              1,
              "#f0f921"
             ]
            ],
            "type": "heatmapgl"
           }
          ],
          "histogram": [
           {
            "marker": {
             "colorbar": {
              "outlinewidth": 0,
              "ticks": ""
             }
            },
            "type": "histogram"
           }
          ],
          "histogram2d": [
           {
            "colorbar": {
             "outlinewidth": 0,
             "ticks": ""
            },
            "colorscale": [
             [
              0,
              "#0d0887"
             ],
             [
              0.1111111111111111,
              "#46039f"
             ],
             [
              0.2222222222222222,
              "#7201a8"
             ],
             [
              0.3333333333333333,
              "#9c179e"
             ],
             [
              0.4444444444444444,
              "#bd3786"
             ],
             [
              0.5555555555555556,
              "#d8576b"
             ],
             [
              0.6666666666666666,
              "#ed7953"
             ],
             [
              0.7777777777777778,
              "#fb9f3a"
             ],
             [
              0.8888888888888888,
              "#fdca26"
             ],
             [
              1,
              "#f0f921"
             ]
            ],
            "type": "histogram2d"
           }
          ],
          "histogram2dcontour": [
           {
            "colorbar": {
             "outlinewidth": 0,
             "ticks": ""
            },
            "colorscale": [
             [
              0,
              "#0d0887"
             ],
             [
              0.1111111111111111,
              "#46039f"
             ],
             [
              0.2222222222222222,
              "#7201a8"
             ],
             [
              0.3333333333333333,
              "#9c179e"
             ],
             [
              0.4444444444444444,
              "#bd3786"
             ],
             [
              0.5555555555555556,
              "#d8576b"
             ],
             [
              0.6666666666666666,
              "#ed7953"
             ],
             [
              0.7777777777777778,
              "#fb9f3a"
             ],
             [
              0.8888888888888888,
              "#fdca26"
             ],
             [
              1,
              "#f0f921"
             ]
            ],
            "type": "histogram2dcontour"
           }
          ],
          "mesh3d": [
           {
            "colorbar": {
             "outlinewidth": 0,
             "ticks": ""
            },
            "type": "mesh3d"
           }
          ],
          "parcoords": [
           {
            "line": {
             "colorbar": {
              "outlinewidth": 0,
              "ticks": ""
             }
            },
            "type": "parcoords"
           }
          ],
          "pie": [
           {
            "automargin": true,
            "type": "pie"
           }
          ],
          "scatter": [
           {
            "marker": {
             "colorbar": {
              "outlinewidth": 0,
              "ticks": ""
             }
            },
            "type": "scatter"
           }
          ],
          "scatter3d": [
           {
            "line": {
             "colorbar": {
              "outlinewidth": 0,
              "ticks": ""
             }
            },
            "marker": {
             "colorbar": {
              "outlinewidth": 0,
              "ticks": ""
             }
            },
            "type": "scatter3d"
           }
          ],
          "scattercarpet": [
           {
            "marker": {
             "colorbar": {
              "outlinewidth": 0,
              "ticks": ""
             }
            },
            "type": "scattercarpet"
           }
          ],
          "scattergeo": [
           {
            "marker": {
             "colorbar": {
              "outlinewidth": 0,
              "ticks": ""
             }
            },
            "type": "scattergeo"
           }
          ],
          "scattergl": [
           {
            "marker": {
             "colorbar": {
              "outlinewidth": 0,
              "ticks": ""
             }
            },
            "type": "scattergl"
           }
          ],
          "scattermapbox": [
           {
            "marker": {
             "colorbar": {
              "outlinewidth": 0,
              "ticks": ""
             }
            },
            "type": "scattermapbox"
           }
          ],
          "scatterpolar": [
           {
            "marker": {
             "colorbar": {
              "outlinewidth": 0,
              "ticks": ""
             }
            },
            "type": "scatterpolar"
           }
          ],
          "scatterpolargl": [
           {
            "marker": {
             "colorbar": {
              "outlinewidth": 0,
              "ticks": ""
             }
            },
            "type": "scatterpolargl"
           }
          ],
          "scatterternary": [
           {
            "marker": {
             "colorbar": {
              "outlinewidth": 0,
              "ticks": ""
             }
            },
            "type": "scatterternary"
           }
          ],
          "surface": [
           {
            "colorbar": {
             "outlinewidth": 0,
             "ticks": ""
            },
            "colorscale": [
             [
              0,
              "#0d0887"
             ],
             [
              0.1111111111111111,
              "#46039f"
             ],
             [
              0.2222222222222222,
              "#7201a8"
             ],
             [
              0.3333333333333333,
              "#9c179e"
             ],
             [
              0.4444444444444444,
              "#bd3786"
             ],
             [
              0.5555555555555556,
              "#d8576b"
             ],
             [
              0.6666666666666666,
              "#ed7953"
             ],
             [
              0.7777777777777778,
              "#fb9f3a"
             ],
             [
              0.8888888888888888,
              "#fdca26"
             ],
             [
              1,
              "#f0f921"
             ]
            ],
            "type": "surface"
           }
          ],
          "table": [
           {
            "cells": {
             "fill": {
              "color": "#EBF0F8"
             },
             "line": {
              "color": "white"
             }
            },
            "header": {
             "fill": {
              "color": "#C8D4E3"
             },
             "line": {
              "color": "white"
             }
            },
            "type": "table"
           }
          ]
         },
         "layout": {
          "annotationdefaults": {
           "arrowcolor": "#2a3f5f",
           "arrowhead": 0,
           "arrowwidth": 1
          },
          "autotypenumbers": "strict",
          "coloraxis": {
           "colorbar": {
            "outlinewidth": 0,
            "ticks": ""
           }
          },
          "colorscale": {
           "diverging": [
            [
             0,
             "#8e0152"
            ],
            [
             0.1,
             "#c51b7d"
            ],
            [
             0.2,
             "#de77ae"
            ],
            [
             0.3,
             "#f1b6da"
            ],
            [
             0.4,
             "#fde0ef"
            ],
            [
             0.5,
             "#f7f7f7"
            ],
            [
             0.6,
             "#e6f5d0"
            ],
            [
             0.7,
             "#b8e186"
            ],
            [
             0.8,
             "#7fbc41"
            ],
            [
             0.9,
             "#4d9221"
            ],
            [
             1,
             "#276419"
            ]
           ],
           "sequential": [
            [
             0,
             "#0d0887"
            ],
            [
             0.1111111111111111,
             "#46039f"
            ],
            [
             0.2222222222222222,
             "#7201a8"
            ],
            [
             0.3333333333333333,
             "#9c179e"
            ],
            [
             0.4444444444444444,
             "#bd3786"
            ],
            [
             0.5555555555555556,
             "#d8576b"
            ],
            [
             0.6666666666666666,
             "#ed7953"
            ],
            [
             0.7777777777777778,
             "#fb9f3a"
            ],
            [
             0.8888888888888888,
             "#fdca26"
            ],
            [
             1,
             "#f0f921"
            ]
           ],
           "sequentialminus": [
            [
             0,
             "#0d0887"
            ],
            [
             0.1111111111111111,
             "#46039f"
            ],
            [
             0.2222222222222222,
             "#7201a8"
            ],
            [
             0.3333333333333333,
             "#9c179e"
            ],
            [
             0.4444444444444444,
             "#bd3786"
            ],
            [
             0.5555555555555556,
             "#d8576b"
            ],
            [
             0.6666666666666666,
             "#ed7953"
            ],
            [
             0.7777777777777778,
             "#fb9f3a"
            ],
            [
             0.8888888888888888,
             "#fdca26"
            ],
            [
             1,
             "#f0f921"
            ]
           ]
          },
          "colorway": [
           "#636efa",
           "#EF553B",
           "#00cc96",
           "#ab63fa",
           "#FFA15A",
           "#19d3f3",
           "#FF6692",
           "#B6E880",
           "#FF97FF",
           "#FECB52"
          ],
          "font": {
           "color": "#2a3f5f"
          },
          "geo": {
           "bgcolor": "white",
           "lakecolor": "white",
           "landcolor": "#E5ECF6",
           "showlakes": true,
           "showland": true,
           "subunitcolor": "white"
          },
          "hoverlabel": {
           "align": "left"
          },
          "hovermode": "closest",
          "mapbox": {
           "style": "light"
          },
          "paper_bgcolor": "white",
          "plot_bgcolor": "#E5ECF6",
          "polar": {
           "angularaxis": {
            "gridcolor": "white",
            "linecolor": "white",
            "ticks": ""
           },
           "bgcolor": "#E5ECF6",
           "radialaxis": {
            "gridcolor": "white",
            "linecolor": "white",
            "ticks": ""
           }
          },
          "scene": {
           "xaxis": {
            "backgroundcolor": "#E5ECF6",
            "gridcolor": "white",
            "gridwidth": 2,
            "linecolor": "white",
            "showbackground": true,
            "ticks": "",
            "zerolinecolor": "white"
           },
           "yaxis": {
            "backgroundcolor": "#E5ECF6",
            "gridcolor": "white",
            "gridwidth": 2,
            "linecolor": "white",
            "showbackground": true,
            "ticks": "",
            "zerolinecolor": "white"
           },
           "zaxis": {
            "backgroundcolor": "#E5ECF6",
            "gridcolor": "white",
            "gridwidth": 2,
            "linecolor": "white",
            "showbackground": true,
            "ticks": "",
            "zerolinecolor": "white"
           }
          },
          "shapedefaults": {
           "line": {
            "color": "#2a3f5f"
           }
          },
          "ternary": {
           "aaxis": {
            "gridcolor": "white",
            "linecolor": "white",
            "ticks": ""
           },
           "baxis": {
            "gridcolor": "white",
            "linecolor": "white",
            "ticks": ""
           },
           "bgcolor": "#E5ECF6",
           "caxis": {
            "gridcolor": "white",
            "linecolor": "white",
            "ticks": ""
           }
          },
          "title": {
           "x": 0.05
          },
          "xaxis": {
           "automargin": true,
           "gridcolor": "white",
           "linecolor": "white",
           "ticks": "",
           "title": {
            "standoff": 15
           },
           "zerolinecolor": "white",
           "zerolinewidth": 2
          },
          "yaxis": {
           "automargin": true,
           "gridcolor": "white",
           "linecolor": "white",
           "ticks": "",
           "title": {
            "standoff": 15
           },
           "zerolinecolor": "white",
           "zerolinewidth": 2
          }
         }
        }
       }
      },
      "text/html": [
       "<div>                            <div id=\"46fb5f2d-fbd8-4a2e-b8c9-3f8cae6c23ff\" class=\"plotly-graph-div\" style=\"height:525px; width:100%;\"></div>            <script type=\"text/javascript\">                require([\"plotly\"], function(Plotly) {                    window.PLOTLYENV=window.PLOTLYENV || {};                                    if (document.getElementById(\"46fb5f2d-fbd8-4a2e-b8c9-3f8cae6c23ff\")) {                    Plotly.newPlot(                        \"46fb5f2d-fbd8-4a2e-b8c9-3f8cae6c23ff\",                        [{\"labels\": [\"Sub-Saharan Africa\", \"Central and Eastern Europe\", \"Latin America and Caribbean\", \"Western Europe\", \"Middle East and Northern Africa\", \"Southeastern Asia\", \"Southern Asia\", \"Eastern Asia\", \"Australia and New Zealand\", \"North America\"], \"type\": \"pie\", \"values\": [40, 29, 22, 21, 20, 9, 7, 6, 2, 2]}],                        {\"template\": {\"data\": {\"bar\": [{\"error_x\": {\"color\": \"#2a3f5f\"}, \"error_y\": {\"color\": \"#2a3f5f\"}, \"marker\": {\"line\": {\"color\": \"#E5ECF6\", \"width\": 0.5}}, \"type\": \"bar\"}], \"barpolar\": [{\"marker\": {\"line\": {\"color\": \"#E5ECF6\", \"width\": 0.5}}, \"type\": \"barpolar\"}], \"carpet\": [{\"aaxis\": {\"endlinecolor\": \"#2a3f5f\", \"gridcolor\": \"white\", \"linecolor\": \"white\", \"minorgridcolor\": \"white\", \"startlinecolor\": \"#2a3f5f\"}, \"baxis\": {\"endlinecolor\": \"#2a3f5f\", \"gridcolor\": \"white\", \"linecolor\": \"white\", \"minorgridcolor\": \"white\", \"startlinecolor\": \"#2a3f5f\"}, \"type\": \"carpet\"}], \"choropleth\": [{\"colorbar\": {\"outlinewidth\": 0, \"ticks\": \"\"}, \"type\": \"choropleth\"}], \"contour\": [{\"colorbar\": {\"outlinewidth\": 0, \"ticks\": \"\"}, \"colorscale\": [[0.0, \"#0d0887\"], [0.1111111111111111, \"#46039f\"], [0.2222222222222222, \"#7201a8\"], [0.3333333333333333, \"#9c179e\"], [0.4444444444444444, \"#bd3786\"], [0.5555555555555556, \"#d8576b\"], [0.6666666666666666, \"#ed7953\"], [0.7777777777777778, \"#fb9f3a\"], [0.8888888888888888, \"#fdca26\"], [1.0, \"#f0f921\"]], \"type\": \"contour\"}], \"contourcarpet\": [{\"colorbar\": {\"outlinewidth\": 0, \"ticks\": \"\"}, \"type\": \"contourcarpet\"}], \"heatmap\": [{\"colorbar\": {\"outlinewidth\": 0, \"ticks\": \"\"}, \"colorscale\": [[0.0, \"#0d0887\"], [0.1111111111111111, \"#46039f\"], [0.2222222222222222, \"#7201a8\"], [0.3333333333333333, \"#9c179e\"], [0.4444444444444444, \"#bd3786\"], [0.5555555555555556, \"#d8576b\"], [0.6666666666666666, \"#ed7953\"], [0.7777777777777778, \"#fb9f3a\"], [0.8888888888888888, \"#fdca26\"], [1.0, \"#f0f921\"]], \"type\": \"heatmap\"}], \"heatmapgl\": [{\"colorbar\": {\"outlinewidth\": 0, \"ticks\": \"\"}, \"colorscale\": [[0.0, \"#0d0887\"], [0.1111111111111111, \"#46039f\"], [0.2222222222222222, \"#7201a8\"], [0.3333333333333333, \"#9c179e\"], [0.4444444444444444, \"#bd3786\"], [0.5555555555555556, \"#d8576b\"], [0.6666666666666666, \"#ed7953\"], [0.7777777777777778, \"#fb9f3a\"], [0.8888888888888888, \"#fdca26\"], [1.0, \"#f0f921\"]], \"type\": \"heatmapgl\"}], \"histogram\": [{\"marker\": {\"colorbar\": {\"outlinewidth\": 0, \"ticks\": \"\"}}, \"type\": \"histogram\"}], \"histogram2d\": [{\"colorbar\": {\"outlinewidth\": 0, \"ticks\": \"\"}, \"colorscale\": [[0.0, \"#0d0887\"], [0.1111111111111111, \"#46039f\"], [0.2222222222222222, \"#7201a8\"], [0.3333333333333333, \"#9c179e\"], [0.4444444444444444, \"#bd3786\"], [0.5555555555555556, \"#d8576b\"], [0.6666666666666666, \"#ed7953\"], [0.7777777777777778, \"#fb9f3a\"], [0.8888888888888888, \"#fdca26\"], [1.0, \"#f0f921\"]], \"type\": \"histogram2d\"}], \"histogram2dcontour\": [{\"colorbar\": {\"outlinewidth\": 0, \"ticks\": \"\"}, \"colorscale\": [[0.0, \"#0d0887\"], [0.1111111111111111, \"#46039f\"], [0.2222222222222222, \"#7201a8\"], [0.3333333333333333, \"#9c179e\"], [0.4444444444444444, \"#bd3786\"], [0.5555555555555556, \"#d8576b\"], [0.6666666666666666, \"#ed7953\"], [0.7777777777777778, \"#fb9f3a\"], [0.8888888888888888, \"#fdca26\"], [1.0, \"#f0f921\"]], \"type\": \"histogram2dcontour\"}], \"mesh3d\": [{\"colorbar\": {\"outlinewidth\": 0, \"ticks\": \"\"}, \"type\": \"mesh3d\"}], \"parcoords\": [{\"line\": {\"colorbar\": {\"outlinewidth\": 0, \"ticks\": \"\"}}, \"type\": \"parcoords\"}], \"pie\": [{\"automargin\": true, \"type\": \"pie\"}], \"scatter\": [{\"marker\": {\"colorbar\": {\"outlinewidth\": 0, \"ticks\": \"\"}}, \"type\": \"scatter\"}], \"scatter3d\": [{\"line\": {\"colorbar\": {\"outlinewidth\": 0, \"ticks\": \"\"}}, \"marker\": {\"colorbar\": {\"outlinewidth\": 0, \"ticks\": \"\"}}, \"type\": \"scatter3d\"}], \"scattercarpet\": [{\"marker\": {\"colorbar\": {\"outlinewidth\": 0, \"ticks\": \"\"}}, \"type\": \"scattercarpet\"}], \"scattergeo\": [{\"marker\": {\"colorbar\": {\"outlinewidth\": 0, \"ticks\": \"\"}}, \"type\": \"scattergeo\"}], \"scattergl\": [{\"marker\": {\"colorbar\": {\"outlinewidth\": 0, \"ticks\": \"\"}}, \"type\": \"scattergl\"}], \"scattermapbox\": [{\"marker\": {\"colorbar\": {\"outlinewidth\": 0, \"ticks\": \"\"}}, \"type\": \"scattermapbox\"}], \"scatterpolar\": [{\"marker\": {\"colorbar\": {\"outlinewidth\": 0, \"ticks\": \"\"}}, \"type\": \"scatterpolar\"}], \"scatterpolargl\": [{\"marker\": {\"colorbar\": {\"outlinewidth\": 0, \"ticks\": \"\"}}, \"type\": \"scatterpolargl\"}], \"scatterternary\": [{\"marker\": {\"colorbar\": {\"outlinewidth\": 0, \"ticks\": \"\"}}, \"type\": \"scatterternary\"}], \"surface\": [{\"colorbar\": {\"outlinewidth\": 0, \"ticks\": \"\"}, \"colorscale\": [[0.0, \"#0d0887\"], [0.1111111111111111, \"#46039f\"], [0.2222222222222222, \"#7201a8\"], [0.3333333333333333, \"#9c179e\"], [0.4444444444444444, \"#bd3786\"], [0.5555555555555556, \"#d8576b\"], [0.6666666666666666, \"#ed7953\"], [0.7777777777777778, \"#fb9f3a\"], [0.8888888888888888, \"#fdca26\"], [1.0, \"#f0f921\"]], \"type\": \"surface\"}], \"table\": [{\"cells\": {\"fill\": {\"color\": \"#EBF0F8\"}, \"line\": {\"color\": \"white\"}}, \"header\": {\"fill\": {\"color\": \"#C8D4E3\"}, \"line\": {\"color\": \"white\"}}, \"type\": \"table\"}]}, \"layout\": {\"annotationdefaults\": {\"arrowcolor\": \"#2a3f5f\", \"arrowhead\": 0, \"arrowwidth\": 1}, \"autotypenumbers\": \"strict\", \"coloraxis\": {\"colorbar\": {\"outlinewidth\": 0, \"ticks\": \"\"}}, \"colorscale\": {\"diverging\": [[0, \"#8e0152\"], [0.1, \"#c51b7d\"], [0.2, \"#de77ae\"], [0.3, \"#f1b6da\"], [0.4, \"#fde0ef\"], [0.5, \"#f7f7f7\"], [0.6, \"#e6f5d0\"], [0.7, \"#b8e186\"], [0.8, \"#7fbc41\"], [0.9, \"#4d9221\"], [1, \"#276419\"]], \"sequential\": [[0.0, \"#0d0887\"], [0.1111111111111111, \"#46039f\"], [0.2222222222222222, \"#7201a8\"], [0.3333333333333333, \"#9c179e\"], [0.4444444444444444, \"#bd3786\"], [0.5555555555555556, \"#d8576b\"], [0.6666666666666666, \"#ed7953\"], [0.7777777777777778, \"#fb9f3a\"], [0.8888888888888888, \"#fdca26\"], [1.0, \"#f0f921\"]], \"sequentialminus\": [[0.0, \"#0d0887\"], [0.1111111111111111, \"#46039f\"], [0.2222222222222222, \"#7201a8\"], [0.3333333333333333, \"#9c179e\"], [0.4444444444444444, \"#bd3786\"], [0.5555555555555556, \"#d8576b\"], [0.6666666666666666, \"#ed7953\"], [0.7777777777777778, \"#fb9f3a\"], [0.8888888888888888, \"#fdca26\"], [1.0, \"#f0f921\"]]}, \"colorway\": [\"#636efa\", \"#EF553B\", \"#00cc96\", \"#ab63fa\", \"#FFA15A\", \"#19d3f3\", \"#FF6692\", \"#B6E880\", \"#FF97FF\", \"#FECB52\"], \"font\": {\"color\": \"#2a3f5f\"}, \"geo\": {\"bgcolor\": \"white\", \"lakecolor\": \"white\", \"landcolor\": \"#E5ECF6\", \"showlakes\": true, \"showland\": true, \"subunitcolor\": \"white\"}, \"hoverlabel\": {\"align\": \"left\"}, \"hovermode\": \"closest\", \"mapbox\": {\"style\": \"light\"}, \"paper_bgcolor\": \"white\", \"plot_bgcolor\": \"#E5ECF6\", \"polar\": {\"angularaxis\": {\"gridcolor\": \"white\", \"linecolor\": \"white\", \"ticks\": \"\"}, \"bgcolor\": \"#E5ECF6\", \"radialaxis\": {\"gridcolor\": \"white\", \"linecolor\": \"white\", \"ticks\": \"\"}}, \"scene\": {\"xaxis\": {\"backgroundcolor\": \"#E5ECF6\", \"gridcolor\": \"white\", \"gridwidth\": 2, \"linecolor\": \"white\", \"showbackground\": true, \"ticks\": \"\", \"zerolinecolor\": \"white\"}, \"yaxis\": {\"backgroundcolor\": \"#E5ECF6\", \"gridcolor\": \"white\", \"gridwidth\": 2, \"linecolor\": \"white\", \"showbackground\": true, \"ticks\": \"\", \"zerolinecolor\": \"white\"}, \"zaxis\": {\"backgroundcolor\": \"#E5ECF6\", \"gridcolor\": \"white\", \"gridwidth\": 2, \"linecolor\": \"white\", \"showbackground\": true, \"ticks\": \"\", \"zerolinecolor\": \"white\"}}, \"shapedefaults\": {\"line\": {\"color\": \"#2a3f5f\"}}, \"ternary\": {\"aaxis\": {\"gridcolor\": \"white\", \"linecolor\": \"white\", \"ticks\": \"\"}, \"baxis\": {\"gridcolor\": \"white\", \"linecolor\": \"white\", \"ticks\": \"\"}, \"bgcolor\": \"#E5ECF6\", \"caxis\": {\"gridcolor\": \"white\", \"linecolor\": \"white\", \"ticks\": \"\"}}, \"title\": {\"x\": 0.05}, \"xaxis\": {\"automargin\": true, \"gridcolor\": \"white\", \"linecolor\": \"white\", \"ticks\": \"\", \"title\": {\"standoff\": 15}, \"zerolinecolor\": \"white\", \"zerolinewidth\": 2}, \"yaxis\": {\"automargin\": true, \"gridcolor\": \"white\", \"linecolor\": \"white\", \"ticks\": \"\", \"title\": {\"standoff\": 15}, \"zerolinecolor\": \"white\", \"zerolinewidth\": 2}}}},                        {\"responsive\": true}                    ).then(function(){\n",
       "                            \n",
       "var gd = document.getElementById('46fb5f2d-fbd8-4a2e-b8c9-3f8cae6c23ff');\n",
       "var x = new MutationObserver(function (mutations, observer) {{\n",
       "        var display = window.getComputedStyle(gd).display;\n",
       "        if (!display || display === 'none') {{\n",
       "            console.log([gd, 'removed!']);\n",
       "            Plotly.purge(gd);\n",
       "            observer.disconnect();\n",
       "        }}\n",
       "}});\n",
       "\n",
       "// Listen for the removal of the full notebook cells\n",
       "var notebookContainer = gd.closest('#notebook-container');\n",
       "if (notebookContainer) {{\n",
       "    x.observe(notebookContainer, {childList: true});\n",
       "}}\n",
       "\n",
       "// Listen for the clearing of the current output cell\n",
       "var outputEl = gd.closest('.output');\n",
       "if (outputEl) {{\n",
       "    x.observe(outputEl, {childList: true});\n",
       "}}\n",
       "\n",
       "                        })                };                });            </script>        </div>"
      ]
     },
     "metadata": {},
     "output_type": "display_data"
    }
   ],
   "source": [
    "go.Figure(data=[go.Pie(labels=y_2015.region.value_counts().index,\n",
    "values=y_2015.region.value_counts().values)])"
   ]
  },
  {
   "cell_type": "code",
   "execution_count": 59,
   "metadata": {},
   "outputs": [],
   "source": [
    "y_2015_f = y_2015_df.rename(columns={'Country': 'country_name',\n",
    "                                'Region': 'region',\n",
    "                                'Happiness Rank': 'happiness_rank',\n",
    "                                'Happiness Score': 'happiness_score',\n",
    "                               'Health (Life Expectancy)': 'lifespan',\n",
    "                               'Freedom': 'freedom',\n",
    "                               'Economy (GDP per Capita)': 'GDP',\n",
    "                               'Generosity': 'generosity'})"
   ]
  },
  {
   "cell_type": "code",
   "execution_count": 60,
   "metadata": {},
   "outputs": [],
   "source": [
    "y_2016_f = y_2016_df.rename(columns={'Country': 'country_name',\n",
    "                                'Region': 'region',\n",
    "                                'Happiness Rank': 'happiness_rank',\n",
    "                                'Happiness Score': 'happiness_score',\n",
    "                               'Health (Life Expectancy)': 'lifespan',\n",
    "                               'Freedom': 'freedom',\n",
    "                               'Economy (GDP per Capita)': 'GDP',\n",
    "                               'Generosity': 'generosity'})"
   ]
  },
  {
   "cell_type": "code",
   "execution_count": 61,
   "metadata": {},
   "outputs": [],
   "source": [
    "y_2017_f = y_2017_df.rename(columns={'Country': 'country_name', \n",
    "                                'Happiness.Score': 'happiness_score',\n",
    "                                'Happiness.Rank': 'happiness_rank',\n",
    "                               'Health..Life.Expectancy.': 'lifespan',\n",
    "                               'Freedom': 'freedom',\n",
    "                               'Economy..GDP.per.Capita.': 'GDP',\n",
    "                               'Generosity': 'generosity'})"
   ]
  },
  {
   "cell_type": "code",
   "execution_count": 62,
   "metadata": {},
   "outputs": [],
   "source": [
    "y_2018_f = y_2018_df.rename(columns={'Country or region': 'country_name',\n",
    "                                'Overall rank': 'happiness_rank',\n",
    "                                'Score': 'happiness_score',\n",
    "                               'Healthy life expectancy': 'lifespan',\n",
    "                               'Freedom to make life choices': 'freedom',\n",
    "                               'GDP per capita': 'GDP',\n",
    "                               'Generosity': 'generosity'})"
   ]
  },
  {
   "cell_type": "code",
   "execution_count": 63,
   "metadata": {},
   "outputs": [],
   "source": [
    "y_2019_f = y_2019_df.rename(columns={'Country or region': 'country_name',\n",
    "                                'Overall rank': 'happiness_rank',\n",
    "                                'Score': 'happiness_score',\n",
    "                               'Healthy life expectancy': 'lifespan',\n",
    "                               'Freedom to make life choices': 'freedom',\n",
    "                               'GDP per capita': 'GDP',\n",
    "                               'Generosity': 'generosity'})"
   ]
  },
  {
   "cell_type": "code",
   "execution_count": 64,
   "metadata": {},
   "outputs": [],
   "source": [
    "y_2015_f.insert(0, 'year', 2015)\n",
    "y_2016_f.insert(0, 'year', 2016)\n",
    "y_2017_f.insert(0, 'year', 2017)\n",
    "y_2018_f.insert(0, 'year', 2018)\n",
    "y_2019_f.insert(0, 'year', 2019)"
   ]
  },
  {
   "cell_type": "code",
   "execution_count": 65,
   "metadata": {},
   "outputs": [],
   "source": [
    "y_2017_f = y_2017_f.merge(y_2016_f,left_on = 'country_name', right_on = 'country_name', how = 'inner')\n",
    "y_2018_f = y_2018_f.merge(y_2016_f,left_on = 'country_name', right_on = 'country_name', how = 'inner')\n",
    "y_2019_f = y_2019_f.merge(y_2015_f,left_on = 'country_name', right_on = 'country_name', how = 'inner')"
   ]
  },
  {
   "cell_type": "code",
   "execution_count": 66,
   "metadata": {},
   "outputs": [],
   "source": [
    "y_2017_f.drop(columns = ['year_y', 'happiness_rank_y','GDP_y', 'lifespan_y', 'freedom_y', 'generosity_y', 'happiness_score_y'], inplace = True)\n",
    "y_2018_f.drop(columns = ['year_y', 'happiness_rank_y','GDP_y', 'lifespan_y', 'freedom_y', 'generosity_y', 'happiness_score_y'], inplace = True)\n",
    "y_2019_f.drop(columns = ['year_y', 'happiness_rank_y','GDP_y', 'lifespan_y', 'freedom_y', 'generosity_y', 'happiness_score_y'], inplace = True)"
   ]
  },
  {
   "cell_type": "code",
   "execution_count": 67,
   "metadata": {},
   "outputs": [],
   "source": [
    "y_2017_f = y_2017_f.rename(columns={'year_x': 'year', \n",
    "                                'happiness_score_x': 'happiness_score',\n",
    "                                'happiness_rank_x': 'happiness_rank',\n",
    "                               'lifespan_x': 'lifespan',\n",
    "                               'freedom_x': 'freedom',\n",
    "                               'GDP_x': 'GDP',\n",
    "                               'generosity_x': 'generosity'})"
   ]
  },
  {
   "cell_type": "code",
   "execution_count": 68,
   "metadata": {},
   "outputs": [],
   "source": [
    "y_2018_f = y_2018_f.rename(columns={'year_x': 'year', \n",
    "                                'happiness_score_x': 'happiness_score',\n",
    "                                'happiness_rank_x': 'happiness_rank',\n",
    "                               'lifespan_x': 'lifespan',\n",
    "                               'freedom_x': 'freedom',\n",
    "                               'GDP_x': 'GDP',\n",
    "                               'generosity_x': 'generosity'})"
   ]
  },
  {
   "cell_type": "code",
   "execution_count": 69,
   "metadata": {},
   "outputs": [],
   "source": [
    "y_2019_f = y_2019_f.rename(columns={'year_x': 'year', \n",
    "                                'happiness_score_x': 'happiness_score',\n",
    "                                'happiness_rank_x': 'happiness_rank',\n",
    "                               'lifespan_x': 'lifespan',\n",
    "                               'freedom_x': 'freedom',\n",
    "                               'GDP_x': 'GDP',\n",
    "                               'generosity_x': 'generosity'})"
   ]
  },
  {
   "cell_type": "code",
   "execution_count": 70,
   "metadata": {},
   "outputs": [],
   "source": [
    "final = pd.concat([y_2015_f, y_2016_f, y_2017_f, y_2018_f, y_2019_f], \n",
    "                     ignore_index=True)"
   ]
  },
  {
   "cell_type": "code",
   "execution_count": 73,
   "metadata": {},
   "outputs": [
    {
     "data": {
      "text/html": [
       "<div>\n",
       "<style scoped>\n",
       "    .dataframe tbody tr th:only-of-type {\n",
       "        vertical-align: middle;\n",
       "    }\n",
       "\n",
       "    .dataframe tbody tr th {\n",
       "        vertical-align: top;\n",
       "    }\n",
       "\n",
       "    .dataframe thead th {\n",
       "        text-align: right;\n",
       "    }\n",
       "</style>\n",
       "<table border=\"1\" class=\"dataframe\">\n",
       "  <thead>\n",
       "    <tr style=\"text-align: right;\">\n",
       "      <th></th>\n",
       "      <th>year</th>\n",
       "      <th>country_name</th>\n",
       "      <th>region</th>\n",
       "      <th>happiness_rank</th>\n",
       "      <th>happiness_score</th>\n",
       "      <th>GDP</th>\n",
       "      <th>lifespan</th>\n",
       "      <th>freedom</th>\n",
       "      <th>generosity</th>\n",
       "    </tr>\n",
       "  </thead>\n",
       "  <tbody>\n",
       "    <tr>\n",
       "      <th>0</th>\n",
       "      <td>2015</td>\n",
       "      <td>Switzerland</td>\n",
       "      <td>Western Europe</td>\n",
       "      <td>1</td>\n",
       "      <td>7.587</td>\n",
       "      <td>1.39651</td>\n",
       "      <td>0.94143</td>\n",
       "      <td>0.66557</td>\n",
       "      <td>0.29678</td>\n",
       "    </tr>\n",
       "    <tr>\n",
       "      <th>1</th>\n",
       "      <td>2015</td>\n",
       "      <td>Iceland</td>\n",
       "      <td>Western Europe</td>\n",
       "      <td>2</td>\n",
       "      <td>7.561</td>\n",
       "      <td>1.30232</td>\n",
       "      <td>0.94784</td>\n",
       "      <td>0.62877</td>\n",
       "      <td>0.43630</td>\n",
       "    </tr>\n",
       "    <tr>\n",
       "      <th>2</th>\n",
       "      <td>2015</td>\n",
       "      <td>Denmark</td>\n",
       "      <td>Western Europe</td>\n",
       "      <td>3</td>\n",
       "      <td>7.527</td>\n",
       "      <td>1.32548</td>\n",
       "      <td>0.87464</td>\n",
       "      <td>0.64938</td>\n",
       "      <td>0.34139</td>\n",
       "    </tr>\n",
       "    <tr>\n",
       "      <th>3</th>\n",
       "      <td>2015</td>\n",
       "      <td>Norway</td>\n",
       "      <td>Western Europe</td>\n",
       "      <td>4</td>\n",
       "      <td>7.522</td>\n",
       "      <td>1.45900</td>\n",
       "      <td>0.88521</td>\n",
       "      <td>0.66973</td>\n",
       "      <td>0.34699</td>\n",
       "    </tr>\n",
       "    <tr>\n",
       "      <th>4</th>\n",
       "      <td>2015</td>\n",
       "      <td>Canada</td>\n",
       "      <td>North America</td>\n",
       "      <td>5</td>\n",
       "      <td>7.427</td>\n",
       "      <td>1.32629</td>\n",
       "      <td>0.90563</td>\n",
       "      <td>0.63297</td>\n",
       "      <td>0.45811</td>\n",
       "    </tr>\n",
       "    <tr>\n",
       "      <th>...</th>\n",
       "      <td>...</td>\n",
       "      <td>...</td>\n",
       "      <td>...</td>\n",
       "      <td>...</td>\n",
       "      <td>...</td>\n",
       "      <td>...</td>\n",
       "      <td>...</td>\n",
       "      <td>...</td>\n",
       "      <td>...</td>\n",
       "    </tr>\n",
       "    <tr>\n",
       "      <th>760</th>\n",
       "      <td>2019</td>\n",
       "      <td>Yemen</td>\n",
       "      <td>Middle East and Northern Africa</td>\n",
       "      <td>151</td>\n",
       "      <td>3.380</td>\n",
       "      <td>0.28700</td>\n",
       "      <td>0.46300</td>\n",
       "      <td>0.14300</td>\n",
       "      <td>0.10800</td>\n",
       "    </tr>\n",
       "    <tr>\n",
       "      <th>761</th>\n",
       "      <td>2019</td>\n",
       "      <td>Rwanda</td>\n",
       "      <td>Sub-Saharan Africa</td>\n",
       "      <td>152</td>\n",
       "      <td>3.334</td>\n",
       "      <td>0.35900</td>\n",
       "      <td>0.61400</td>\n",
       "      <td>0.55500</td>\n",
       "      <td>0.21700</td>\n",
       "    </tr>\n",
       "    <tr>\n",
       "      <th>762</th>\n",
       "      <td>2019</td>\n",
       "      <td>Tanzania</td>\n",
       "      <td>Sub-Saharan Africa</td>\n",
       "      <td>153</td>\n",
       "      <td>3.231</td>\n",
       "      <td>0.47600</td>\n",
       "      <td>0.49900</td>\n",
       "      <td>0.41700</td>\n",
       "      <td>0.27600</td>\n",
       "    </tr>\n",
       "    <tr>\n",
       "      <th>763</th>\n",
       "      <td>2019</td>\n",
       "      <td>Afghanistan</td>\n",
       "      <td>Southern Asia</td>\n",
       "      <td>154</td>\n",
       "      <td>3.203</td>\n",
       "      <td>0.35000</td>\n",
       "      <td>0.36100</td>\n",
       "      <td>0.00000</td>\n",
       "      <td>0.15800</td>\n",
       "    </tr>\n",
       "    <tr>\n",
       "      <th>764</th>\n",
       "      <td>2019</td>\n",
       "      <td>Central African Republic</td>\n",
       "      <td>Sub-Saharan Africa</td>\n",
       "      <td>155</td>\n",
       "      <td>3.083</td>\n",
       "      <td>0.02600</td>\n",
       "      <td>0.10500</td>\n",
       "      <td>0.22500</td>\n",
       "      <td>0.23500</td>\n",
       "    </tr>\n",
       "  </tbody>\n",
       "</table>\n",
       "<p>765 rows × 9 columns</p>\n",
       "</div>"
      ],
      "text/plain": [
       "     year              country_name                           region  \\\n",
       "0    2015               Switzerland                   Western Europe   \n",
       "1    2015                   Iceland                   Western Europe   \n",
       "2    2015                   Denmark                   Western Europe   \n",
       "3    2015                    Norway                   Western Europe   \n",
       "4    2015                    Canada                    North America   \n",
       "..    ...                       ...                              ...   \n",
       "760  2019                     Yemen  Middle East and Northern Africa   \n",
       "761  2019                    Rwanda               Sub-Saharan Africa   \n",
       "762  2019                  Tanzania               Sub-Saharan Africa   \n",
       "763  2019               Afghanistan                    Southern Asia   \n",
       "764  2019  Central African Republic               Sub-Saharan Africa   \n",
       "\n",
       "     happiness_rank  happiness_score      GDP  lifespan  freedom  generosity  \n",
       "0                 1            7.587  1.39651   0.94143  0.66557     0.29678  \n",
       "1                 2            7.561  1.30232   0.94784  0.62877     0.43630  \n",
       "2                 3            7.527  1.32548   0.87464  0.64938     0.34139  \n",
       "3                 4            7.522  1.45900   0.88521  0.66973     0.34699  \n",
       "4                 5            7.427  1.32629   0.90563  0.63297     0.45811  \n",
       "..              ...              ...      ...       ...      ...         ...  \n",
       "760             151            3.380  0.28700   0.46300  0.14300     0.10800  \n",
       "761             152            3.334  0.35900   0.61400  0.55500     0.21700  \n",
       "762             153            3.231  0.47600   0.49900  0.41700     0.27600  \n",
       "763             154            3.203  0.35000   0.36100  0.00000     0.15800  \n",
       "764             155            3.083  0.02600   0.10500  0.22500     0.23500  \n",
       "\n",
       "[765 rows x 9 columns]"
      ]
     },
     "execution_count": 73,
     "metadata": {},
     "output_type": "execute_result"
    }
   ],
   "source": [
    "final"
   ]
  },
  {
   "cell_type": "code",
   "execution_count": 71,
   "metadata": {},
   "outputs": [
    {
     "data": {
      "text/html": [
       "<div>\n",
       "<style scoped>\n",
       "    .dataframe tbody tr th:only-of-type {\n",
       "        vertical-align: middle;\n",
       "    }\n",
       "\n",
       "    .dataframe tbody tr th {\n",
       "        vertical-align: top;\n",
       "    }\n",
       "\n",
       "    .dataframe thead th {\n",
       "        text-align: right;\n",
       "    }\n",
       "</style>\n",
       "<table border=\"1\" class=\"dataframe\">\n",
       "  <thead>\n",
       "    <tr style=\"text-align: right;\">\n",
       "      <th></th>\n",
       "      <th>year</th>\n",
       "      <th>country_name</th>\n",
       "      <th>region</th>\n",
       "      <th>happiness_rank</th>\n",
       "      <th>happiness_score</th>\n",
       "      <th>GDP</th>\n",
       "      <th>lifespan</th>\n",
       "      <th>freedom</th>\n",
       "      <th>generosity</th>\n",
       "    </tr>\n",
       "  </thead>\n",
       "  <tbody>\n",
       "    <tr>\n",
       "      <th>0</th>\n",
       "      <td>2015</td>\n",
       "      <td>Russia</td>\n",
       "      <td>Central and Eastern Europe</td>\n",
       "      <td>64</td>\n",
       "      <td>5.716</td>\n",
       "      <td>1.137640</td>\n",
       "      <td>0.669260</td>\n",
       "      <td>0.366790</td>\n",
       "      <td>0.001990</td>\n",
       "    </tr>\n",
       "    <tr>\n",
       "      <th>1</th>\n",
       "      <td>2016</td>\n",
       "      <td>Russia</td>\n",
       "      <td>Central and Eastern Europe</td>\n",
       "      <td>56</td>\n",
       "      <td>5.856</td>\n",
       "      <td>1.232280</td>\n",
       "      <td>0.589910</td>\n",
       "      <td>0.326820</td>\n",
       "      <td>0.027360</td>\n",
       "    </tr>\n",
       "    <tr>\n",
       "      <th>2</th>\n",
       "      <td>2017</td>\n",
       "      <td>Russia</td>\n",
       "      <td>Central and Eastern Europe</td>\n",
       "      <td>49</td>\n",
       "      <td>5.963</td>\n",
       "      <td>1.281778</td>\n",
       "      <td>0.547349</td>\n",
       "      <td>0.373783</td>\n",
       "      <td>0.052264</td>\n",
       "    </tr>\n",
       "    <tr>\n",
       "      <th>3</th>\n",
       "      <td>2018</td>\n",
       "      <td>Russia</td>\n",
       "      <td>Central and Eastern Europe</td>\n",
       "      <td>59</td>\n",
       "      <td>5.810</td>\n",
       "      <td>1.151000</td>\n",
       "      <td>0.599000</td>\n",
       "      <td>0.399000</td>\n",
       "      <td>0.065000</td>\n",
       "    </tr>\n",
       "    <tr>\n",
       "      <th>4</th>\n",
       "      <td>2019</td>\n",
       "      <td>Russia</td>\n",
       "      <td>Central and Eastern Europe</td>\n",
       "      <td>68</td>\n",
       "      <td>5.648</td>\n",
       "      <td>1.183000</td>\n",
       "      <td>0.726000</td>\n",
       "      <td>0.334000</td>\n",
       "      <td>0.082000</td>\n",
       "    </tr>\n",
       "  </tbody>\n",
       "</table>\n",
       "</div>"
      ],
      "text/plain": [
       "   year country_name                      region  happiness_rank  \\\n",
       "0  2015       Russia  Central and Eastern Europe              64   \n",
       "1  2016       Russia  Central and Eastern Europe              56   \n",
       "2  2017       Russia  Central and Eastern Europe              49   \n",
       "3  2018       Russia  Central and Eastern Europe              59   \n",
       "4  2019       Russia  Central and Eastern Europe              68   \n",
       "\n",
       "   happiness_score       GDP  lifespan   freedom  generosity  \n",
       "0            5.716  1.137640  0.669260  0.366790    0.001990  \n",
       "1            5.856  1.232280  0.589910  0.326820    0.027360  \n",
       "2            5.963  1.281778  0.547349  0.373783    0.052264  \n",
       "3            5.810  1.151000  0.599000  0.399000    0.065000  \n",
       "4            5.648  1.183000  0.726000  0.334000    0.082000  "
      ]
     },
     "execution_count": 71,
     "metadata": {},
     "output_type": "execute_result"
    }
   ],
   "source": [
    "russia = final.loc[final['country_name'] == 'Russia'].reset_index(drop=True)\n",
    "russia"
   ]
  },
  {
   "cell_type": "code",
   "execution_count": 72,
   "metadata": {},
   "outputs": [
    {
     "data": {
      "text/plain": [
       "([<matplotlib.axis.XTick at 0xde95e349d0>,\n",
       "  <matplotlib.axis.XTick at 0xde95e349a0>,\n",
       "  <matplotlib.axis.XTick at 0xde95e46160>,\n",
       "  <matplotlib.axis.XTick at 0xde95e52d00>,\n",
       "  <matplotlib.axis.XTick at 0xde95e65250>],\n",
       " [Text(0, 0, ''),\n",
       "  Text(0, 0, ''),\n",
       "  Text(0, 0, ''),\n",
       "  Text(0, 0, ''),\n",
       "  Text(0, 0, '')])"
      ]
     },
     "execution_count": 72,
     "metadata": {},
     "output_type": "execute_result"
    },
    {
     "data": {
      "image/png": "[encoded data removed]",
      "text/plain": [
       "<Figure size 432x288 with 1 Axes>"
      ]
     },
     "metadata": {},
     "output_type": "display_data"
    }
   ],
   "source": [
    "sns.set_style(\"whitegrid\")\n",
    "sns.lineplot(x=\"year\", y=\"happiness_rank\",data=russia, marker='.', markersize=15)\n",
    "plt.xticks([2015, 2016, 2017, 2018, 2019])"
   ]
  },
  {
   "cell_type": "code",
   "execution_count": 73,
   "metadata": {},
   "outputs": [],
   "source": [
    "df_region = final.loc[final['region'] == 'Central and Eastern Europe'].reset_index(drop=True)"
   ]
  },
  {
   "cell_type": "code",
   "execution_count": 74,
   "metadata": {},
   "outputs": [
    {
     "data": {
      "application/vnd.plotly.v1+json": {
       "config": {
        "plotlyServerURL": "https://plot.ly"
       },
       "data": [
        {
         "hovertemplate": "country_name=Czech Republic<br>year=2015<br>lifespan=%{x}<br>happiness_score=%{y}<extra></extra>",
         "legendgroup": "Czech Republic",
         "marker": {
          "color": "#636efa",
          "symbol": "circle"
         },
         "mode": "markers",
         "name": "Czech Republic",
         "orientation": "v",
         "showlegend": true,
         "type": "scatter",
         "x": [
          0.84483
         ],
         "xaxis": "x",
         "y": [
          6.505
         ],
         "yaxis": "y"
        },
        {
         "hovertemplate": "country_name=Czech Republic<br>year=2016<br>lifespan=%{x}<br>happiness_score=%{y}<extra></extra>",
         "legendgroup": "Czech Republic",
         "marker": {
          "color": "#636efa",
          "symbol": "circle"
         },
         "mode": "markers",
         "name": "Czech Republic",
         "orientation": "v",
         "showlegend": false,
         "type": "scatter",
         "x": [
          0.76376
         ],
         "xaxis": "x2",
         "y": [
          6.596
         ],
         "yaxis": "y2"
        },
        {
         "hovertemplate": "country_name=Czech Republic<br>year=2017<br>lifespan=%{x}<br>happiness_score=%{y}<extra></extra>",
         "legendgroup": "Czech Republic",
         "marker": {
          "color": "#636efa",
          "symbol": "circle"
         },
         "mode": "markers",
         "name": "Czech Republic",
         "orientation": "v",
         "showlegend": false,
         "type": "scatter",
         "x": [
          0.754444003105164
         ],
         "xaxis": "x3",
         "y": [
          6.60900020599365
         ],
         "yaxis": "y3"
        },
        {
         "hovertemplate": "country_name=Czech Republic<br>year=2018<br>lifespan=%{x}<br>happiness_score=%{y}<extra></extra>",
         "legendgroup": "Czech Republic",
         "marker": {
          "color": "#636efa",
          "symbol": "circle"
         },
         "mode": "markers",
         "name": "Czech Republic",
         "orientation": "v",
         "showlegend": false,
         "type": "scatter",
         "x": [
          0.8540000000000001
         ],
         "xaxis": "x4",
         "y": [
          6.711
         ],
         "yaxis": "y4"
        },
        {
         "hovertemplate": "country_name=Czech Republic<br>year=2019<br>lifespan=%{x}<br>happiness_score=%{y}<extra></extra>",
         "legendgroup": "Czech Republic",
         "marker": {
          "color": "#636efa",
          "symbol": "circle"
         },
         "mode": "markers",
         "name": "Czech Republic",
         "orientation": "v",
         "showlegend": false,
         "type": "scatter",
         "x": [
          0.92
         ],
         "xaxis": "x5",
         "y": [
          6.852
         ],
         "yaxis": "y5"
        },
        {
         "hovertemplate": "country_name=Uzbekistan<br>year=2015<br>lifespan=%{x}<br>happiness_score=%{y}<extra></extra>",
         "legendgroup": "Uzbekistan",
         "marker": {
          "color": "#EF553B",
          "symbol": "circle"
         },
         "mode": "markers",
         "name": "Uzbekistan",
         "orientation": "v",
         "showlegend": true,
         "type": "scatter",
         "x": [
          0.59772
         ],
         "xaxis": "x",
         "y": [
          6.002999999999999
         ],
         "yaxis": "y"
        },
        {
         "hovertemplate": "country_name=Uzbekistan<br>year=2016<br>lifespan=%{x}<br>happiness_score=%{y}<extra></extra>",
         "legendgroup": "Uzbekistan",
         "marker": {
          "color": "#EF553B",
          "symbol": "circle"
         },
         "mode": "markers",
         "name": "Uzbekistan",
         "orientation": "v",
         "showlegend": false,
         "type": "scatter",
         "x": [
          0.50163
         ],
         "xaxis": "x2",
         "y": [
          5.987
         ],
         "yaxis": "y2"
        },
        {
         "hovertemplate": "country_name=Uzbekistan<br>year=2017<br>lifespan=%{x}<br>happiness_score=%{y}<extra></extra>",
         "legendgroup": "Uzbekistan",
         "marker": {
          "color": "#EF553B",
          "symbol": "circle"
         },
         "mode": "markers",
         "name": "Uzbekistan",
         "orientation": "v",
         "showlegend": false,
         "type": "scatter",
         "x": [
          0.498272627592087
         ],
         "xaxis": "x3",
         "y": [
          5.97100019454956
         ],
         "yaxis": "y3"
        },
        {
         "hovertemplate": "country_name=Uzbekistan<br>year=2018<br>lifespan=%{x}<br>happiness_score=%{y}<extra></extra>",
         "legendgroup": "Uzbekistan",
         "marker": {
          "color": "#EF553B",
          "symbol": "circle"
         },
         "mode": "markers",
         "name": "Uzbekistan",
         "orientation": "v",
         "showlegend": false,
         "type": "scatter",
         "x": [
          0.605
         ],
         "xaxis": "x4",
         "y": [
          6.096
         ],
         "yaxis": "y4"
        },
        {
         "hovertemplate": "country_name=Uzbekistan<br>year=2019<br>lifespan=%{x}<br>happiness_score=%{y}<extra></extra>",
         "legendgroup": "Uzbekistan",
         "marker": {
          "color": "#EF553B",
          "symbol": "circle"
         },
         "mode": "markers",
         "name": "Uzbekistan",
         "orientation": "v",
         "showlegend": false,
         "type": "scatter",
         "x": [
          0.7559999999999999
         ],
         "xaxis": "x5",
         "y": [
          6.174
         ],
         "yaxis": "y5"
        },
        {
         "hovertemplate": "country_name=Slovakia<br>year=2015<br>lifespan=%{x}<br>happiness_score=%{y}<extra></extra>",
         "legendgroup": "Slovakia",
         "marker": {
          "color": "#00cc96",
          "symbol": "circle"
         },
         "mode": "markers",
         "name": "Slovakia",
         "orientation": "v",
         "showlegend": true,
         "type": "scatter",
         "x": [
          0.7890199999999999
         ],
         "xaxis": "x",
         "y": [
          5.995
         ],
         "yaxis": "y"
        },
        {
         "hovertemplate": "country_name=Slovakia<br>year=2016<br>lifespan=%{x}<br>happiness_score=%{y}<extra></extra>",
         "legendgroup": "Slovakia",
         "marker": {
          "color": "#00cc96",
          "symbol": "circle"
         },
         "mode": "markers",
         "name": "Slovakia",
         "orientation": "v",
         "showlegend": false,
         "type": "scatter",
         "x": [
          0.70367
         ],
         "xaxis": "x2",
         "y": [
          6.0779999999999985
         ],
         "yaxis": "y2"
        },
        {
         "hovertemplate": "country_name=Slovakia<br>year=2017<br>lifespan=%{x}<br>happiness_score=%{y}<extra></extra>",
         "legendgroup": "Slovakia",
         "marker": {
          "color": "#00cc96",
          "symbol": "circle"
         },
         "mode": "markers",
         "name": "Slovakia",
         "orientation": "v",
         "showlegend": false,
         "type": "scatter",
         "x": [
          0.712732911109924
         ],
         "xaxis": "x3",
         "y": [
          6.09800004959106
         ],
         "yaxis": "y3"
        },
        {
         "hovertemplate": "country_name=Slovakia<br>year=2018<br>lifespan=%{x}<br>happiness_score=%{y}<extra></extra>",
         "legendgroup": "Slovakia",
         "marker": {
          "color": "#00cc96",
          "symbol": "circle"
         },
         "mode": "markers",
         "name": "Slovakia",
         "orientation": "v",
         "showlegend": false,
         "type": "scatter",
         "x": [
          0.7759999999999999
         ],
         "xaxis": "x4",
         "y": [
          6.172999999999999
         ],
         "yaxis": "y4"
        },
        {
         "hovertemplate": "country_name=Slovakia<br>year=2019<br>lifespan=%{x}<br>happiness_score=%{y}<extra></extra>",
         "legendgroup": "Slovakia",
         "marker": {
          "color": "#00cc96",
          "symbol": "circle"
         },
         "mode": "markers",
         "name": "Slovakia",
         "orientation": "v",
         "showlegend": false,
         "type": "scatter",
         "x": [
          0.8809999999999999
         ],
         "xaxis": "x5",
         "y": [
          6.198
         ],
         "yaxis": "y5"
        },
        {
         "hovertemplate": "country_name=Moldova<br>year=2015<br>lifespan=%{x}<br>happiness_score=%{y}<extra></extra>",
         "legendgroup": "Moldova",
         "marker": {
          "color": "#ab63fa",
          "symbol": "circle"
         },
         "mode": "markers",
         "name": "Moldova",
         "orientation": "v",
         "showlegend": true,
         "type": "scatter",
         "x": [
          0.61826
         ],
         "xaxis": "x",
         "y": [
          5.8889999999999985
         ],
         "yaxis": "y"
        },
        {
         "hovertemplate": "country_name=Moldova<br>year=2016<br>lifespan=%{x}<br>happiness_score=%{y}<extra></extra>",
         "legendgroup": "Moldova",
         "marker": {
          "color": "#ab63fa",
          "symbol": "circle"
         },
         "mode": "markers",
         "name": "Moldova",
         "orientation": "v",
         "showlegend": false,
         "type": "scatter",
         "x": [
          0.5230899999999999
         ],
         "xaxis": "x2",
         "y": [
          5.897
         ],
         "yaxis": "y2"
        },
        {
         "hovertemplate": "country_name=Moldova<br>year=2017<br>lifespan=%{x}<br>happiness_score=%{y}<extra></extra>",
         "legendgroup": "Moldova",
         "marker": {
          "color": "#ab63fa",
          "symbol": "circle"
         },
         "mode": "markers",
         "name": "Moldova",
         "orientation": "v",
         "showlegend": false,
         "type": "scatter",
         "x": [
          0.5894652009010309
         ],
         "xaxis": "x3",
         "y": [
          5.837999820709231
         ],
         "yaxis": "y3"
        },
        {
         "hovertemplate": "country_name=Moldova<br>year=2018<br>lifespan=%{x}<br>happiness_score=%{y}<extra></extra>",
         "legendgroup": "Moldova",
         "marker": {
          "color": "#ab63fa",
          "symbol": "circle"
         },
         "mode": "markers",
         "name": "Moldova",
         "orientation": "v",
         "showlegend": false,
         "type": "scatter",
         "x": [
          0.62
         ],
         "xaxis": "x4",
         "y": [
          5.64
         ],
         "yaxis": "y4"
        },
        {
         "hovertemplate": "country_name=Moldova<br>year=2019<br>lifespan=%{x}<br>happiness_score=%{y}<extra></extra>",
         "legendgroup": "Moldova",
         "marker": {
          "color": "#ab63fa",
          "symbol": "circle"
         },
         "mode": "markers",
         "name": "Moldova",
         "orientation": "v",
         "showlegend": false,
         "type": "scatter",
         "x": [
          0.7390000000000001
         ],
         "xaxis": "x5",
         "y": [
          5.529
         ],
         "yaxis": "y5"
        },
        {
         "hovertemplate": "country_name=Kazakhstan<br>year=2015<br>lifespan=%{x}<br>happiness_score=%{y}<extra></extra>",
         "legendgroup": "Kazakhstan",
         "marker": {
          "color": "#FFA15A",
          "symbol": "circle"
         },
         "mode": "markers",
         "name": "Kazakhstan",
         "orientation": "v",
         "showlegend": true,
         "type": "scatter",
         "x": [
          0.64368
         ],
         "xaxis": "x",
         "y": [
          5.855
         ],
         "yaxis": "y"
        },
        {
         "hovertemplate": "country_name=Kazakhstan<br>year=2016<br>lifespan=%{x}<br>happiness_score=%{y}<extra></extra>",
         "legendgroup": "Kazakhstan",
         "marker": {
          "color": "#FFA15A",
          "symbol": "circle"
         },
         "mode": "markers",
         "name": "Kazakhstan",
         "orientation": "v",
         "showlegend": false,
         "type": "scatter",
         "x": [
          0.57386
         ],
         "xaxis": "x2",
         "y": [
          5.919
         ],
         "yaxis": "y2"
        },
        {
         "hovertemplate": "country_name=Kazakhstan<br>year=2017<br>lifespan=%{x}<br>happiness_score=%{y}<extra></extra>",
         "legendgroup": "Kazakhstan",
         "marker": {
          "color": "#FFA15A",
          "symbol": "circle"
         },
         "mode": "markers",
         "name": "Kazakhstan",
         "orientation": "v",
         "showlegend": false,
         "type": "scatter",
         "x": [
          0.6060415506362921
         ],
         "xaxis": "x3",
         "y": [
          5.8189997673034695
         ],
         "yaxis": "y3"
        },
        {
         "hovertemplate": "country_name=Kazakhstan<br>year=2018<br>lifespan=%{x}<br>happiness_score=%{y}<extra></extra>",
         "legendgroup": "Kazakhstan",
         "marker": {
          "color": "#FFA15A",
          "symbol": "circle"
         },
         "mode": "markers",
         "name": "Kazakhstan",
         "orientation": "v",
         "showlegend": false,
         "type": "scatter",
         "x": [
          0.631
         ],
         "xaxis": "x4",
         "y": [
          5.79
         ],
         "yaxis": "y4"
        },
        {
         "hovertemplate": "country_name=Kazakhstan<br>year=2019<br>lifespan=%{x}<br>happiness_score=%{y}<extra></extra>",
         "legendgroup": "Kazakhstan",
         "marker": {
          "color": "#FFA15A",
          "symbol": "circle"
         },
         "mode": "markers",
         "name": "Kazakhstan",
         "orientation": "v",
         "showlegend": false,
         "type": "scatter",
         "x": [
          0.7290000000000001
         ],
         "xaxis": "x5",
         "y": [
          5.809
         ],
         "yaxis": "y5"
        },
        {
         "hovertemplate": "country_name=Slovenia<br>year=2015<br>lifespan=%{x}<br>happiness_score=%{y}<extra></extra>",
         "legendgroup": "Slovenia",
         "marker": {
          "color": "#19d3f3",
          "symbol": "circle"
         },
         "mode": "markers",
         "name": "Slovenia",
         "orientation": "v",
         "showlegend": true,
         "type": "scatter",
         "x": [
          0.8733700000000001
         ],
         "xaxis": "x",
         "y": [
          5.848
         ],
         "yaxis": "y"
        },
        {
         "hovertemplate": "country_name=Slovenia<br>year=2016<br>lifespan=%{x}<br>happiness_score=%{y}<extra></extra>",
         "legendgroup": "Slovenia",
         "marker": {
          "color": "#19d3f3",
          "symbol": "circle"
         },
         "mode": "markers",
         "name": "Slovenia",
         "orientation": "v",
         "showlegend": false,
         "type": "scatter",
         "x": [
          0.79151
         ],
         "xaxis": "x2",
         "y": [
          5.768
         ],
         "yaxis": "y2"
        },
        {
         "hovertemplate": "country_name=Slovenia<br>year=2017<br>lifespan=%{x}<br>happiness_score=%{y}<extra></extra>",
         "legendgroup": "Slovenia",
         "marker": {
          "color": "#19d3f3",
          "symbol": "circle"
         },
         "mode": "markers",
         "name": "Slovenia",
         "orientation": "v",
         "showlegend": false,
         "type": "scatter",
         "x": [
          0.7908282279968258
         ],
         "xaxis": "x3",
         "y": [
          5.75799989700317
         ],
         "yaxis": "y3"
        },
        {
         "hovertemplate": "country_name=Slovenia<br>year=2018<br>lifespan=%{x}<br>happiness_score=%{y}<extra></extra>",
         "legendgroup": "Slovenia",
         "marker": {
          "color": "#19d3f3",
          "symbol": "circle"
         },
         "mode": "markers",
         "name": "Slovenia",
         "orientation": "v",
         "showlegend": false,
         "type": "scatter",
         "x": [
          0.856
         ],
         "xaxis": "x4",
         "y": [
          5.948
         ],
         "yaxis": "y4"
        },
        {
         "hovertemplate": "country_name=Slovenia<br>year=2019<br>lifespan=%{x}<br>happiness_score=%{y}<extra></extra>",
         "legendgroup": "Slovenia",
         "marker": {
          "color": "#19d3f3",
          "symbol": "circle"
         },
         "mode": "markers",
         "name": "Slovenia",
         "orientation": "v",
         "showlegend": false,
         "type": "scatter",
         "x": [
          0.953
         ],
         "xaxis": "x5",
         "y": [
          6.1179999999999986
         ],
         "yaxis": "y5"
        },
        {
         "hovertemplate": "country_name=Lithuania<br>year=2015<br>lifespan=%{x}<br>happiness_score=%{y}<extra></extra>",
         "legendgroup": "Lithuania",
         "marker": {
          "color": "#FF6692",
          "symbol": "circle"
         },
         "mode": "markers",
         "name": "Lithuania",
         "orientation": "v",
         "showlegend": true,
         "type": "scatter",
         "x": [
          0.73128
         ],
         "xaxis": "x",
         "y": [
          5.832999999999998
         ],
         "yaxis": "y"
        },
        {
         "hovertemplate": "country_name=Lithuania<br>year=2016<br>lifespan=%{x}<br>happiness_score=%{y}<extra></extra>",
         "legendgroup": "Lithuania",
         "marker": {
          "color": "#FF6692",
          "symbol": "circle"
         },
         "mode": "markers",
         "name": "Lithuania",
         "orientation": "v",
         "showlegend": false,
         "type": "scatter",
         "x": [
          0.64674
         ],
         "xaxis": "x2",
         "y": [
          5.813
         ],
         "yaxis": "y2"
        },
        {
         "hovertemplate": "country_name=Lithuania<br>year=2017<br>lifespan=%{x}<br>happiness_score=%{y}<extra></extra>",
         "legendgroup": "Lithuania",
         "marker": {
          "color": "#FF6692",
          "symbol": "circle"
         },
         "mode": "markers",
         "name": "Lithuania",
         "orientation": "v",
         "showlegend": false,
         "type": "scatter",
         "x": [
          0.62894994020462
         ],
         "xaxis": "x3",
         "y": [
          5.90199995040894
         ],
         "yaxis": "y3"
        },
        {
         "hovertemplate": "country_name=Lithuania<br>year=2018<br>lifespan=%{x}<br>happiness_score=%{y}<extra></extra>",
         "legendgroup": "Lithuania",
         "marker": {
          "color": "#FF6692",
          "symbol": "circle"
         },
         "mode": "markers",
         "name": "Lithuania",
         "orientation": "v",
         "showlegend": false,
         "type": "scatter",
         "x": [
          0.716
         ],
         "xaxis": "x4",
         "y": [
          5.952000000000001
         ],
         "yaxis": "y4"
        },
        {
         "hovertemplate": "country_name=Lithuania<br>year=2019<br>lifespan=%{x}<br>happiness_score=%{y}<extra></extra>",
         "legendgroup": "Lithuania",
         "marker": {
          "color": "#FF6692",
          "symbol": "circle"
         },
         "mode": "markers",
         "name": "Lithuania",
         "orientation": "v",
         "showlegend": false,
         "type": "scatter",
         "x": [
          0.818
         ],
         "xaxis": "x5",
         "y": [
          6.149
         ],
         "yaxis": "y5"
        },
        {
         "hovertemplate": "country_name=Belarus<br>year=2015<br>lifespan=%{x}<br>happiness_score=%{y}<extra></extra>",
         "legendgroup": "Belarus",
         "marker": {
          "color": "#B6E880",
          "symbol": "circle"
         },
         "mode": "markers",
         "name": "Belarus",
         "orientation": "v",
         "showlegend": true,
         "type": "scatter",
         "x": [
          0.7360800000000001
         ],
         "xaxis": "x",
         "y": [
          5.813
         ],
         "yaxis": "y"
        },
        {
         "hovertemplate": "country_name=Belarus<br>year=2016<br>lifespan=%{x}<br>happiness_score=%{y}<extra></extra>",
         "legendgroup": "Belarus",
         "marker": {
          "color": "#B6E880",
          "symbol": "circle"
         },
         "mode": "markers",
         "name": "Belarus",
         "orientation": "v",
         "showlegend": false,
         "type": "scatter",
         "x": [
          0.6310399999999999
         ],
         "xaxis": "x2",
         "y": [
          5.8020000000000005
         ],
         "yaxis": "y2"
        },
        {
         "hovertemplate": "country_name=Belarus<br>year=2017<br>lifespan=%{x}<br>happiness_score=%{y}<extra></extra>",
         "legendgroup": "Belarus",
         "marker": {
          "color": "#B6E880",
          "symbol": "circle"
         },
         "mode": "markers",
         "name": "Belarus",
         "orientation": "v",
         "showlegend": false,
         "type": "scatter",
         "x": [
          0.6377142667770389
         ],
         "xaxis": "x3",
         "y": [
          5.5689997673034695
         ],
         "yaxis": "y3"
        },
        {
         "hovertemplate": "country_name=Belarus<br>year=2018<br>lifespan=%{x}<br>happiness_score=%{y}<extra></extra>",
         "legendgroup": "Belarus",
         "marker": {
          "color": "#B6E880",
          "symbol": "circle"
         },
         "mode": "markers",
         "name": "Belarus",
         "orientation": "v",
         "showlegend": false,
         "type": "scatter",
         "x": [
          0.7
         ],
         "xaxis": "x4",
         "y": [
          5.483
         ],
         "yaxis": "y4"
        },
        {
         "hovertemplate": "country_name=Belarus<br>year=2019<br>lifespan=%{x}<br>happiness_score=%{y}<extra></extra>",
         "legendgroup": "Belarus",
         "marker": {
          "color": "#B6E880",
          "symbol": "circle"
         },
         "mode": "markers",
         "name": "Belarus",
         "orientation": "v",
         "showlegend": false,
         "type": "scatter",
         "x": [
          0.789
         ],
         "xaxis": "x5",
         "y": [
          5.323
         ],
         "yaxis": "y5"
        },
        {
         "hovertemplate": "country_name=Poland<br>year=2015<br>lifespan=%{x}<br>happiness_score=%{y}<extra></extra>",
         "legendgroup": "Poland",
         "marker": {
          "color": "#FF97FF",
          "symbol": "circle"
         },
         "mode": "markers",
         "name": "Poland",
         "orientation": "v",
         "showlegend": true,
         "type": "scatter",
         "x": [
          0.77903
         ],
         "xaxis": "x",
         "y": [
          5.791
         ],
         "yaxis": "y"
        },
        {
         "hovertemplate": "country_name=Poland<br>year=2016<br>lifespan=%{x}<br>happiness_score=%{y}<extra></extra>",
         "legendgroup": "Poland",
         "marker": {
          "color": "#FF97FF",
          "symbol": "circle"
         },
         "mode": "markers",
         "name": "Poland",
         "orientation": "v",
         "showlegend": false,
         "type": "scatter",
         "x": [
          0.69058
         ],
         "xaxis": "x2",
         "y": [
          5.835
         ],
         "yaxis": "y2"
        },
        {
         "hovertemplate": "country_name=Poland<br>year=2017<br>lifespan=%{x}<br>happiness_score=%{y}<extra></extra>",
         "legendgroup": "Poland",
         "marker": {
          "color": "#FF97FF",
          "symbol": "circle"
         },
         "mode": "markers",
         "name": "Poland",
         "orientation": "v",
         "showlegend": false,
         "type": "scatter",
         "x": [
          0.699475347995758
         ],
         "xaxis": "x3",
         "y": [
          5.97300004959106
         ],
         "yaxis": "y3"
        },
        {
         "hovertemplate": "country_name=Poland<br>year=2018<br>lifespan=%{x}<br>happiness_score=%{y}<extra></extra>",
         "legendgroup": "Poland",
         "marker": {
          "color": "#FF97FF",
          "symbol": "circle"
         },
         "mode": "markers",
         "name": "Poland",
         "orientation": "v",
         "showlegend": false,
         "type": "scatter",
         "x": [
          0.7809999999999999
         ],
         "xaxis": "x4",
         "y": [
          6.122999999999998
         ],
         "yaxis": "y4"
        },
        {
         "hovertemplate": "country_name=Poland<br>year=2019<br>lifespan=%{x}<br>happiness_score=%{y}<extra></extra>",
         "legendgroup": "Poland",
         "marker": {
          "color": "#FF97FF",
          "symbol": "circle"
         },
         "mode": "markers",
         "name": "Poland",
         "orientation": "v",
         "showlegend": false,
         "type": "scatter",
         "x": [
          0.884
         ],
         "xaxis": "x5",
         "y": [
          6.182
         ],
         "yaxis": "y5"
        },
        {
         "hovertemplate": "country_name=Croatia<br>year=2015<br>lifespan=%{x}<br>happiness_score=%{y}<extra></extra>",
         "legendgroup": "Croatia",
         "marker": {
          "color": "#FECB52",
          "symbol": "circle"
         },
         "mode": "markers",
         "name": "Croatia",
         "orientation": "v",
         "showlegend": true,
         "type": "scatter",
         "x": [
          0.78805
         ],
         "xaxis": "x",
         "y": [
          5.759
         ],
         "yaxis": "y"
        },
        {
         "hovertemplate": "country_name=Croatia<br>year=2016<br>lifespan=%{x}<br>happiness_score=%{y}<extra></extra>",
         "legendgroup": "Croatia",
         "marker": {
          "color": "#FECB52",
          "symbol": "circle"
         },
         "mode": "markers",
         "name": "Croatia",
         "orientation": "v",
         "showlegend": false,
         "type": "scatter",
         "x": [
          0.70524
         ],
         "xaxis": "x2",
         "y": [
          5.488
         ],
         "yaxis": "y2"
        },
        {
         "hovertemplate": "country_name=Croatia<br>year=2017<br>lifespan=%{x}<br>happiness_score=%{y}<extra></extra>",
         "legendgroup": "Croatia",
         "marker": {
          "color": "#FECB52",
          "symbol": "circle"
         },
         "mode": "markers",
         "name": "Croatia",
         "orientation": "v",
         "showlegend": false,
         "type": "scatter",
         "x": [
          0.701288521289825
         ],
         "xaxis": "x3",
         "y": [
          5.2930002212524405
         ],
         "yaxis": "y3"
        },
        {
         "hovertemplate": "country_name=Croatia<br>year=2018<br>lifespan=%{x}<br>happiness_score=%{y}<extra></extra>",
         "legendgroup": "Croatia",
         "marker": {
          "color": "#FECB52",
          "symbol": "circle"
         },
         "mode": "markers",
         "name": "Croatia",
         "orientation": "v",
         "showlegend": false,
         "type": "scatter",
         "x": [
          0.737
         ],
         "xaxis": "x4",
         "y": [
          5.3210000000000015
         ],
         "yaxis": "y4"
        },
        {
         "hovertemplate": "country_name=Croatia<br>year=2019<br>lifespan=%{x}<br>happiness_score=%{y}<extra></extra>",
         "legendgroup": "Croatia",
         "marker": {
          "color": "#FECB52",
          "symbol": "circle"
         },
         "mode": "markers",
         "name": "Croatia",
         "orientation": "v",
         "showlegend": false,
         "type": "scatter",
         "x": [
          0.914
         ],
         "xaxis": "x5",
         "y": [
          5.432
         ],
         "yaxis": "y5"
        },
        {
         "hovertemplate": "country_name=Russia<br>year=2015<br>lifespan=%{x}<br>happiness_score=%{y}<extra></extra>",
         "legendgroup": "Russia",
         "marker": {
          "color": "#636efa",
          "symbol": "circle"
         },
         "mode": "markers",
         "name": "Russia",
         "orientation": "v",
         "showlegend": true,
         "type": "scatter",
         "x": [
          0.6692600000000001
         ],
         "xaxis": "x",
         "y": [
          5.716
         ],
         "yaxis": "y"
        },
        {
         "hovertemplate": "country_name=Russia<br>year=2016<br>lifespan=%{x}<br>happiness_score=%{y}<extra></extra>",
         "legendgroup": "Russia",
         "marker": {
          "color": "#636efa",
          "symbol": "circle"
         },
         "mode": "markers",
         "name": "Russia",
         "orientation": "v",
         "showlegend": false,
         "type": "scatter",
         "x": [
          0.58991
         ],
         "xaxis": "x2",
         "y": [
          5.856
         ],
         "yaxis": "y2"
        },
        {
         "hovertemplate": "country_name=Russia<br>year=2017<br>lifespan=%{x}<br>happiness_score=%{y}<extra></extra>",
         "legendgroup": "Russia",
         "marker": {
          "color": "#636efa",
          "symbol": "circle"
         },
         "mode": "markers",
         "name": "Russia",
         "orientation": "v",
         "showlegend": false,
         "type": "scatter",
         "x": [
          0.547349333763123
         ],
         "xaxis": "x3",
         "y": [
          5.962999820709231
         ],
         "yaxis": "y3"
        },
        {
         "hovertemplate": "country_name=Russia<br>year=2018<br>lifespan=%{x}<br>happiness_score=%{y}<extra></extra>",
         "legendgroup": "Russia",
         "marker": {
          "color": "#636efa",
          "symbol": "circle"
         },
         "mode": "markers",
         "name": "Russia",
         "orientation": "v",
         "showlegend": false,
         "type": "scatter",
         "x": [
          0.599
         ],
         "xaxis": "x4",
         "y": [
          5.81
         ],
         "yaxis": "y4"
        },
        {
         "hovertemplate": "country_name=Russia<br>year=2019<br>lifespan=%{x}<br>happiness_score=%{y}<extra></extra>",
         "legendgroup": "Russia",
         "marker": {
          "color": "#636efa",
          "symbol": "circle"
         },
         "mode": "markers",
         "name": "Russia",
         "orientation": "v",
         "showlegend": false,
         "type": "scatter",
         "x": [
          0.726
         ],
         "xaxis": "x5",
         "y": [
          5.648
         ],
         "yaxis": "y5"
        },
        {
         "hovertemplate": "country_name=Kosovo<br>year=2015<br>lifespan=%{x}<br>happiness_score=%{y}<extra></extra>",
         "legendgroup": "Kosovo",
         "marker": {
          "color": "#EF553B",
          "symbol": "circle"
         },
         "mode": "markers",
         "name": "Kosovo",
         "orientation": "v",
         "showlegend": true,
         "type": "scatter",
         "x": [
          0.63132
         ],
         "xaxis": "x",
         "y": [
          5.589
         ],
         "yaxis": "y"
        },
        {
         "hovertemplate": "country_name=Kosovo<br>year=2016<br>lifespan=%{x}<br>happiness_score=%{y}<extra></extra>",
         "legendgroup": "Kosovo",
         "marker": {
          "color": "#EF553B",
          "symbol": "circle"
         },
         "mode": "markers",
         "name": "Kosovo",
         "orientation": "v",
         "showlegend": false,
         "type": "scatter",
         "x": [
          0.54
         ],
         "xaxis": "x2",
         "y": [
          5.401
         ],
         "yaxis": "y2"
        },
        {
         "hovertemplate": "country_name=Kosovo<br>year=2017<br>lifespan=%{x}<br>happiness_score=%{y}<extra></extra>",
         "legendgroup": "Kosovo",
         "marker": {
          "color": "#EF553B",
          "symbol": "circle"
         },
         "mode": "markers",
         "name": "Kosovo",
         "orientation": "v",
         "showlegend": false,
         "type": "scatter",
         "x": [
          0.541452050209045
         ],
         "xaxis": "x3",
         "y": [
          5.27899980545044
         ],
         "yaxis": "y3"
        },
        {
         "hovertemplate": "country_name=Kosovo<br>year=2018<br>lifespan=%{x}<br>happiness_score=%{y}<extra></extra>",
         "legendgroup": "Kosovo",
         "marker": {
          "color": "#EF553B",
          "symbol": "circle"
         },
         "mode": "markers",
         "name": "Kosovo",
         "orientation": "v",
         "showlegend": false,
         "type": "scatter",
         "x": [
          0.578
         ],
         "xaxis": "x4",
         "y": [
          5.662000000000001
         ],
         "yaxis": "y4"
        },
        {
         "hovertemplate": "country_name=Kosovo<br>year=2019<br>lifespan=%{x}<br>happiness_score=%{y}<extra></extra>",
         "legendgroup": "Kosovo",
         "marker": {
          "color": "#EF553B",
          "symbol": "circle"
         },
         "mode": "markers",
         "name": "Kosovo",
         "orientation": "v",
         "showlegend": false,
         "type": "scatter",
         "x": [
          0.758
         ],
         "xaxis": "x5",
         "y": [
          6.1
         ],
         "yaxis": "y5"
        },
        {
         "hovertemplate": "country_name=Turkmenistan<br>year=2015<br>lifespan=%{x}<br>happiness_score=%{y}<extra></extra>",
         "legendgroup": "Turkmenistan",
         "marker": {
          "color": "#00cc96",
          "symbol": "circle"
         },
         "mode": "markers",
         "name": "Turkmenistan",
         "orientation": "v",
         "showlegend": true,
         "type": "scatter",
         "x": [
          0.53886
         ],
         "xaxis": "x",
         "y": [
          5.547999999999999
         ],
         "yaxis": "y"
        },
        {
         "hovertemplate": "country_name=Turkmenistan<br>year=2016<br>lifespan=%{x}<br>happiness_score=%{y}<extra></extra>",
         "legendgroup": "Turkmenistan",
         "marker": {
          "color": "#00cc96",
          "symbol": "circle"
         },
         "mode": "markers",
         "name": "Turkmenistan",
         "orientation": "v",
         "showlegend": false,
         "type": "scatter",
         "x": [
          0.4400600000000001
         ],
         "xaxis": "x2",
         "y": [
          5.658
         ],
         "yaxis": "y2"
        },
        {
         "hovertemplate": "country_name=Turkmenistan<br>year=2017<br>lifespan=%{x}<br>happiness_score=%{y}<extra></extra>",
         "legendgroup": "Turkmenistan",
         "marker": {
          "color": "#00cc96",
          "symbol": "circle"
         },
         "mode": "markers",
         "name": "Turkmenistan",
         "orientation": "v",
         "showlegend": false,
         "type": "scatter",
         "x": [
          0.437726080417633
         ],
         "xaxis": "x3",
         "y": [
          5.82200002670288
         ],
         "yaxis": "y3"
        },
        {
         "hovertemplate": "country_name=Turkmenistan<br>year=2018<br>lifespan=%{x}<br>happiness_score=%{y}<extra></extra>",
         "legendgroup": "Turkmenistan",
         "marker": {
          "color": "#00cc96",
          "symbol": "circle"
         },
         "mode": "markers",
         "name": "Turkmenistan",
         "orientation": "v",
         "showlegend": false,
         "type": "scatter",
         "x": [
          0.517
         ],
         "xaxis": "x4",
         "y": [
          5.636
         ],
         "yaxis": "y4"
        },
        {
         "hovertemplate": "country_name=Turkmenistan<br>year=2019<br>lifespan=%{x}<br>happiness_score=%{y}<extra></extra>",
         "legendgroup": "Turkmenistan",
         "marker": {
          "color": "#00cc96",
          "symbol": "circle"
         },
         "mode": "markers",
         "name": "Turkmenistan",
         "orientation": "v",
         "showlegend": false,
         "type": "scatter",
         "x": [
          0.657
         ],
         "xaxis": "x5",
         "y": [
          5.247000000000001
         ],
         "yaxis": "y5"
        },
        {
         "hovertemplate": "country_name=Estonia<br>year=2015<br>lifespan=%{x}<br>happiness_score=%{y}<extra></extra>",
         "legendgroup": "Estonia",
         "marker": {
          "color": "#ab63fa",
          "symbol": "circle"
         },
         "mode": "markers",
         "name": "Estonia",
         "orientation": "v",
         "showlegend": true,
         "type": "scatter",
         "x": [
          0.77361
         ],
         "xaxis": "x",
         "y": [
          5.4289999999999985
         ],
         "yaxis": "y"
        },
        {
         "hovertemplate": "country_name=Estonia<br>year=2016<br>lifespan=%{x}<br>happiness_score=%{y}<extra></extra>",
         "legendgroup": "Estonia",
         "marker": {
          "color": "#ab63fa",
          "symbol": "circle"
         },
         "mode": "markers",
         "name": "Estonia",
         "orientation": "v",
         "showlegend": false,
         "type": "scatter",
         "x": [
          0.68098
         ],
         "xaxis": "x2",
         "y": [
          5.517
         ],
         "yaxis": "y2"
        },
        {
         "hovertemplate": "country_name=Estonia<br>year=2017<br>lifespan=%{x}<br>happiness_score=%{y}<extra></extra>",
         "legendgroup": "Estonia",
         "marker": {
          "color": "#ab63fa",
          "symbol": "circle"
         },
         "mode": "markers",
         "name": "Estonia",
         "orientation": "v",
         "showlegend": false,
         "type": "scatter",
         "x": [
          0.695168316364288
         ],
         "xaxis": "x3",
         "y": [
          5.61100006103516
         ],
         "yaxis": "y3"
        },
        {
         "hovertemplate": "country_name=Estonia<br>year=2018<br>lifespan=%{x}<br>happiness_score=%{y}<extra></extra>",
         "legendgroup": "Estonia",
         "marker": {
          "color": "#ab63fa",
          "symbol": "circle"
         },
         "mode": "markers",
         "name": "Estonia",
         "orientation": "v",
         "showlegend": false,
         "type": "scatter",
         "x": [
          0.737
         ],
         "xaxis": "x4",
         "y": [
          5.739
         ],
         "yaxis": "y4"
        },
        {
         "hovertemplate": "country_name=Estonia<br>year=2019<br>lifespan=%{x}<br>happiness_score=%{y}<extra></extra>",
         "legendgroup": "Estonia",
         "marker": {
          "color": "#ab63fa",
          "symbol": "circle"
         },
         "mode": "markers",
         "name": "Estonia",
         "orientation": "v",
         "showlegend": false,
         "type": "scatter",
         "x": [
          0.8740000000000001
         ],
         "xaxis": "x5",
         "y": [
          5.893
         ],
         "yaxis": "y5"
        },
        {
         "hovertemplate": "country_name=Kyrgyzstan<br>year=2015<br>lifespan=%{x}<br>happiness_score=%{y}<extra></extra>",
         "legendgroup": "Kyrgyzstan",
         "marker": {
          "color": "#FFA15A",
          "symbol": "circle"
         },
         "mode": "markers",
         "name": "Kyrgyzstan",
         "orientation": "v",
         "showlegend": true,
         "type": "scatter",
         "x": [
          0.65088
         ],
         "xaxis": "x",
         "y": [
          5.2860000000000005
         ],
         "yaxis": "y"
        },
        {
         "hovertemplate": "country_name=Kyrgyzstan<br>year=2016<br>lifespan=%{x}<br>happiness_score=%{y}<extra></extra>",
         "legendgroup": "Kyrgyzstan",
         "marker": {
          "color": "#FFA15A",
          "symbol": "circle"
         },
         "mode": "markers",
         "name": "Kyrgyzstan",
         "orientation": "v",
         "showlegend": false,
         "type": "scatter",
         "x": [
          0.5544899999999999
         ],
         "xaxis": "x2",
         "y": [
          5.185
         ],
         "yaxis": "y2"
        },
        {
         "hovertemplate": "country_name=Kyrgyzstan<br>year=2017<br>lifespan=%{x}<br>happiness_score=%{y}<extra></extra>",
         "legendgroup": "Kyrgyzstan",
         "marker": {
          "color": "#FFA15A",
          "symbol": "circle"
         },
         "mode": "markers",
         "name": "Kyrgyzstan",
         "orientation": "v",
         "showlegend": false,
         "type": "scatter",
         "x": [
          0.553457796573639
         ],
         "xaxis": "x3",
         "y": [
          5.0040001869201705
         ],
         "yaxis": "y3"
        },
        {
         "hovertemplate": "country_name=Kyrgyzstan<br>year=2018<br>lifespan=%{x}<br>happiness_score=%{y}<extra></extra>",
         "legendgroup": "Kyrgyzstan",
         "marker": {
          "color": "#FFA15A",
          "symbol": "circle"
         },
         "mode": "markers",
         "name": "Kyrgyzstan",
         "orientation": "v",
         "showlegend": false,
         "type": "scatter",
         "x": [
          0.594
         ],
         "xaxis": "x4",
         "y": [
          5.131
         ],
         "yaxis": "y4"
        },
        {
         "hovertemplate": "country_name=Kyrgyzstan<br>year=2019<br>lifespan=%{x}<br>happiness_score=%{y}<extra></extra>",
         "legendgroup": "Kyrgyzstan",
         "marker": {
          "color": "#FFA15A",
          "symbol": "circle"
         },
         "mode": "markers",
         "name": "Kyrgyzstan",
         "orientation": "v",
         "showlegend": false,
         "type": "scatter",
         "x": [
          0.723
         ],
         "xaxis": "x5",
         "y": [
          5.261
         ],
         "yaxis": "y5"
        },
        {
         "hovertemplate": "country_name=Azerbaijan<br>year=2015<br>lifespan=%{x}<br>happiness_score=%{y}<extra></extra>",
         "legendgroup": "Azerbaijan",
         "marker": {
          "color": "#19d3f3",
          "symbol": "circle"
         },
         "mode": "markers",
         "name": "Azerbaijan",
         "orientation": "v",
         "showlegend": true,
         "type": "scatter",
         "x": [
          0.64045
         ],
         "xaxis": "x",
         "y": [
          5.2120000000000015
         ],
         "yaxis": "y"
        },
        {
         "hovertemplate": "country_name=Azerbaijan<br>year=2016<br>lifespan=%{x}<br>happiness_score=%{y}<extra></extra>",
         "legendgroup": "Azerbaijan",
         "marker": {
          "color": "#19d3f3",
          "symbol": "circle"
         },
         "mode": "markers",
         "name": "Azerbaijan",
         "orientation": "v",
         "showlegend": false,
         "type": "scatter",
         "x": [
          0.54504
         ],
         "xaxis": "x2",
         "y": [
          5.291
         ],
         "yaxis": "y2"
        },
        {
         "hovertemplate": "country_name=Azerbaijan<br>year=2017<br>lifespan=%{x}<br>happiness_score=%{y}<extra></extra>",
         "legendgroup": "Azerbaijan",
         "marker": {
          "color": "#19d3f3",
          "symbol": "circle"
         },
         "mode": "markers",
         "name": "Azerbaijan",
         "orientation": "v",
         "showlegend": false,
         "type": "scatter",
         "x": [
          0.5407757759094239
         ],
         "xaxis": "x3",
         "y": [
          5.2340002059936515
         ],
         "yaxis": "y3"
        },
        {
         "hovertemplate": "country_name=Azerbaijan<br>year=2018<br>lifespan=%{x}<br>happiness_score=%{y}<extra></extra>",
         "legendgroup": "Azerbaijan",
         "marker": {
          "color": "#19d3f3",
          "symbol": "circle"
         },
         "mode": "markers",
         "name": "Azerbaijan",
         "orientation": "v",
         "showlegend": false,
         "type": "scatter",
         "x": [
          0.603
         ],
         "xaxis": "x4",
         "y": [
          5.2010000000000005
         ],
         "yaxis": "y4"
        },
        {
         "hovertemplate": "country_name=Azerbaijan<br>year=2019<br>lifespan=%{x}<br>happiness_score=%{y}<extra></extra>",
         "legendgroup": "Azerbaijan",
         "marker": {
          "color": "#19d3f3",
          "symbol": "circle"
         },
         "mode": "markers",
         "name": "Azerbaijan",
         "orientation": "v",
         "showlegend": false,
         "type": "scatter",
         "x": [
          0.769
         ],
         "xaxis": "x5",
         "y": [
          5.207999999999998
         ],
         "yaxis": "y5"
        },
        {
         "hovertemplate": "country_name=Montenegro<br>year=2015<br>lifespan=%{x}<br>happiness_score=%{y}<extra></extra>",
         "legendgroup": "Montenegro",
         "marker": {
          "color": "#FF6692",
          "symbol": "circle"
         },
         "mode": "markers",
         "name": "Montenegro",
         "orientation": "v",
         "showlegend": true,
         "type": "scatter",
         "x": [
          0.72521
         ],
         "xaxis": "x",
         "y": [
          5.192
         ],
         "yaxis": "y"
        },
        {
         "hovertemplate": "country_name=Montenegro<br>year=2016<br>lifespan=%{x}<br>happiness_score=%{y}<extra></extra>",
         "legendgroup": "Montenegro",
         "marker": {
          "color": "#FF6692",
          "symbol": "circle"
         },
         "mode": "markers",
         "name": "Montenegro",
         "orientation": "v",
         "showlegend": false,
         "type": "scatter",
         "x": [
          0.6353300000000001
         ],
         "xaxis": "x2",
         "y": [
          5.1610000000000005
         ],
         "yaxis": "y2"
        },
        {
         "hovertemplate": "country_name=Montenegro<br>year=2017<br>lifespan=%{x}<br>happiness_score=%{y}<extra></extra>",
         "legendgroup": "Montenegro",
         "marker": {
          "color": "#FF6692",
          "symbol": "circle"
         },
         "mode": "markers",
         "name": "Montenegro",
         "orientation": "v",
         "showlegend": false,
         "type": "scatter",
         "x": [
          0.6674646735191351
         ],
         "xaxis": "x3",
         "y": [
          5.23699998855591
         ],
         "yaxis": "y3"
        },
        {
         "hovertemplate": "country_name=Montenegro<br>year=2018<br>lifespan=%{x}<br>happiness_score=%{y}<extra></extra>",
         "legendgroup": "Montenegro",
         "marker": {
          "color": "#FF6692",
          "symbol": "circle"
         },
         "mode": "markers",
         "name": "Montenegro",
         "orientation": "v",
         "showlegend": false,
         "type": "scatter",
         "x": [
          0.7290000000000001
         ],
         "xaxis": "x4",
         "y": [
          5.347
         ],
         "yaxis": "y4"
        },
        {
         "hovertemplate": "country_name=Montenegro<br>year=2019<br>lifespan=%{x}<br>happiness_score=%{y}<extra></extra>",
         "legendgroup": "Montenegro",
         "marker": {
          "color": "#FF6692",
          "symbol": "circle"
         },
         "mode": "markers",
         "name": "Montenegro",
         "orientation": "v",
         "showlegend": false,
         "type": "scatter",
         "x": [
          0.871
         ],
         "xaxis": "x5",
         "y": [
          5.523
         ],
         "yaxis": "y5"
        },
        {
         "hovertemplate": "country_name=Romania<br>year=2015<br>lifespan=%{x}<br>happiness_score=%{y}<extra></extra>",
         "legendgroup": "Romania",
         "marker": {
          "color": "#B6E880",
          "symbol": "circle"
         },
         "mode": "markers",
         "name": "Romania",
         "orientation": "v",
         "showlegend": true,
         "type": "scatter",
         "x": [
          0.7689
         ],
         "xaxis": "x",
         "y": [
          5.124
         ],
         "yaxis": "y"
        },
        {
         "hovertemplate": "country_name=Romania<br>year=2016<br>lifespan=%{x}<br>happiness_score=%{y}<extra></extra>",
         "legendgroup": "Romania",
         "marker": {
          "color": "#B6E880",
          "symbol": "circle"
         },
         "mode": "markers",
         "name": "Romania",
         "orientation": "v",
         "showlegend": false,
         "type": "scatter",
         "x": [
          0.67602
         ],
         "xaxis": "x2",
         "y": [
          5.528
         ],
         "yaxis": "y2"
        },
        {
         "hovertemplate": "country_name=Romania<br>year=2017<br>lifespan=%{x}<br>happiness_score=%{y}<extra></extra>",
         "legendgroup": "Romania",
         "marker": {
          "color": "#B6E880",
          "symbol": "circle"
         },
         "mode": "markers",
         "name": "Romania",
         "orientation": "v",
         "showlegend": false,
         "type": "scatter",
         "x": [
          0.6851583123207089
         ],
         "xaxis": "x3",
         "y": [
          5.824999809265139
         ],
         "yaxis": "y3"
        },
        {
         "hovertemplate": "country_name=Romania<br>year=2018<br>lifespan=%{x}<br>happiness_score=%{y}<extra></extra>",
         "legendgroup": "Romania",
         "marker": {
          "color": "#B6E880",
          "symbol": "circle"
         },
         "mode": "markers",
         "name": "Romania",
         "orientation": "v",
         "showlegend": false,
         "type": "scatter",
         "x": [
          0.726
         ],
         "xaxis": "x4",
         "y": [
          5.945
         ],
         "yaxis": "y4"
        },
        {
         "hovertemplate": "country_name=Romania<br>year=2019<br>lifespan=%{x}<br>happiness_score=%{y}<extra></extra>",
         "legendgroup": "Romania",
         "marker": {
          "color": "#B6E880",
          "symbol": "circle"
         },
         "mode": "markers",
         "name": "Romania",
         "orientation": "v",
         "showlegend": false,
         "type": "scatter",
         "x": [
          0.825
         ],
         "xaxis": "x5",
         "y": [
          6.07
         ],
         "yaxis": "y5"
        },
        {
         "hovertemplate": "country_name=Serbia<br>year=2015<br>lifespan=%{x}<br>happiness_score=%{y}<extra></extra>",
         "legendgroup": "Serbia",
         "marker": {
          "color": "#FF97FF",
          "symbol": "circle"
         },
         "mode": "markers",
         "name": "Serbia",
         "orientation": "v",
         "showlegend": true,
         "type": "scatter",
         "x": [
          0.74836
         ],
         "xaxis": "x",
         "y": [
          5.122999999999998
         ],
         "yaxis": "y"
        },
        {
         "hovertemplate": "country_name=Serbia<br>year=2016<br>lifespan=%{x}<br>happiness_score=%{y}<extra></extra>",
         "legendgroup": "Serbia",
         "marker": {
          "color": "#FF97FF",
          "symbol": "circle"
         },
         "mode": "markers",
         "name": "Serbia",
         "orientation": "v",
         "showlegend": false,
         "type": "scatter",
         "x": [
          0.6458
         ],
         "xaxis": "x2",
         "y": [
          5.1770000000000005
         ],
         "yaxis": "y2"
        },
        {
         "hovertemplate": "country_name=Serbia<br>year=2017<br>lifespan=%{x}<br>happiness_score=%{y}<extra></extra>",
         "legendgroup": "Serbia",
         "marker": {
          "color": "#FF97FF",
          "symbol": "circle"
         },
         "mode": "markers",
         "name": "Serbia",
         "orientation": "v",
         "showlegend": false,
         "type": "scatter",
         "x": [
          0.65078467130661
         ],
         "xaxis": "x3",
         "y": [
          5.39499998092651
         ],
         "yaxis": "y3"
        },
        {
         "hovertemplate": "country_name=Serbia<br>year=2018<br>lifespan=%{x}<br>happiness_score=%{y}<extra></extra>",
         "legendgroup": "Serbia",
         "marker": {
          "color": "#FF97FF",
          "symbol": "circle"
         },
         "mode": "markers",
         "name": "Serbia",
         "orientation": "v",
         "showlegend": false,
         "type": "scatter",
         "x": [
          0.685
         ],
         "xaxis": "x4",
         "y": [
          5.398
         ],
         "yaxis": "y4"
        },
        {
         "hovertemplate": "country_name=Serbia<br>year=2019<br>lifespan=%{x}<br>happiness_score=%{y}<extra></extra>",
         "legendgroup": "Serbia",
         "marker": {
          "color": "#FF97FF",
          "symbol": "circle"
         },
         "mode": "markers",
         "name": "Serbia",
         "orientation": "v",
         "showlegend": false,
         "type": "scatter",
         "x": [
          0.8540000000000001
         ],
         "xaxis": "x5",
         "y": [
          5.603
         ],
         "yaxis": "y5"
        },
        {
         "hovertemplate": "country_name=Latvia<br>year=2015<br>lifespan=%{x}<br>happiness_score=%{y}<extra></extra>",
         "legendgroup": "Latvia",
         "marker": {
          "color": "#FECB52",
          "symbol": "circle"
         },
         "mode": "markers",
         "name": "Latvia",
         "orientation": "v",
         "showlegend": true,
         "type": "scatter",
         "x": [
          0.72437
         ],
         "xaxis": "x",
         "y": [
          5.098
         ],
         "yaxis": "y"
        },
        {
         "hovertemplate": "country_name=Latvia<br>year=2016<br>lifespan=%{x}<br>happiness_score=%{y}<extra></extra>",
         "legendgroup": "Latvia",
         "marker": {
          "color": "#FECB52",
          "symbol": "circle"
         },
         "mode": "markers",
         "name": "Latvia",
         "orientation": "v",
         "showlegend": false,
         "type": "scatter",
         "x": [
          0.63952
         ],
         "xaxis": "x2",
         "y": [
          5.56
         ],
         "yaxis": "y2"
        },
        {
         "hovertemplate": "country_name=Latvia<br>year=2017<br>lifespan=%{x}<br>happiness_score=%{y}<extra></extra>",
         "legendgroup": "Latvia",
         "marker": {
          "color": "#FECB52",
          "symbol": "circle"
         },
         "mode": "markers",
         "name": "Latvia",
         "orientation": "v",
         "showlegend": false,
         "type": "scatter",
         "x": [
          0.638566970825195
         ],
         "xaxis": "x3",
         "y": [
          5.849999904632571
         ],
         "yaxis": "y3"
        },
        {
         "hovertemplate": "country_name=Latvia<br>year=2018<br>lifespan=%{x}<br>happiness_score=%{y}<extra></extra>",
         "legendgroup": "Latvia",
         "marker": {
          "color": "#FECB52",
          "symbol": "circle"
         },
         "mode": "markers",
         "name": "Latvia",
         "orientation": "v",
         "showlegend": false,
         "type": "scatter",
         "x": [
          0.6709999999999999
         ],
         "xaxis": "x4",
         "y": [
          5.933
         ],
         "yaxis": "y4"
        },
        {
         "hovertemplate": "country_name=Latvia<br>year=2019<br>lifespan=%{x}<br>happiness_score=%{y}<extra></extra>",
         "legendgroup": "Latvia",
         "marker": {
          "color": "#FECB52",
          "symbol": "circle"
         },
         "mode": "markers",
         "name": "Latvia",
         "orientation": "v",
         "showlegend": false,
         "type": "scatter",
         "x": [
          0.812
         ],
         "xaxis": "x5",
         "y": [
          5.94
         ],
         "yaxis": "y5"
        },
        {
         "hovertemplate": "country_name=Macedonia<br>year=2015<br>lifespan=%{x}<br>happiness_score=%{y}<extra></extra>",
         "legendgroup": "Macedonia",
         "marker": {
          "color": "#636efa",
          "symbol": "circle"
         },
         "mode": "markers",
         "name": "Macedonia",
         "orientation": "v",
         "showlegend": true,
         "type": "scatter",
         "x": [
          0.73545
         ],
         "xaxis": "x",
         "y": [
          5.007
         ],
         "yaxis": "y"
        },
        {
         "hovertemplate": "country_name=Macedonia<br>year=2016<br>lifespan=%{x}<br>happiness_score=%{y}<extra></extra>",
         "legendgroup": "Macedonia",
         "marker": {
          "color": "#636efa",
          "symbol": "circle"
         },
         "mode": "markers",
         "name": "Macedonia",
         "orientation": "v",
         "showlegend": false,
         "type": "scatter",
         "x": [
          0.6473800000000001
         ],
         "xaxis": "x2",
         "y": [
          5.121
         ],
         "yaxis": "y2"
        },
        {
         "hovertemplate": "country_name=Macedonia<br>year=2017<br>lifespan=%{x}<br>happiness_score=%{y}<extra></extra>",
         "legendgroup": "Macedonia",
         "marker": {
          "color": "#636efa",
          "symbol": "circle"
         },
         "mode": "markers",
         "name": "Macedonia",
         "orientation": "v",
         "showlegend": false,
         "type": "scatter",
         "x": [
          0.644948184490204
         ],
         "xaxis": "x3",
         "y": [
          5.1750001907348615
         ],
         "yaxis": "y3"
        },
        {
         "hovertemplate": "country_name=Macedonia<br>year=2018<br>lifespan=%{x}<br>happiness_score=%{y}<extra></extra>",
         "legendgroup": "Macedonia",
         "marker": {
          "color": "#636efa",
          "symbol": "circle"
         },
         "mode": "markers",
         "name": "Macedonia",
         "orientation": "v",
         "showlegend": false,
         "type": "scatter",
         "x": [
          0.691
         ],
         "xaxis": "x4",
         "y": [
          5.185
         ],
         "yaxis": "y4"
        },
        {
         "hovertemplate": "country_name=Albania<br>year=2015<br>lifespan=%{x}<br>happiness_score=%{y}<extra></extra>",
         "legendgroup": "Albania",
         "marker": {
          "color": "#EF553B",
          "symbol": "circle"
         },
         "mode": "markers",
         "name": "Albania",
         "orientation": "v",
         "showlegend": true,
         "type": "scatter",
         "x": [
          0.81325
         ],
         "xaxis": "x",
         "y": [
          4.959
         ],
         "yaxis": "y"
        },
        {
         "hovertemplate": "country_name=Albania<br>year=2016<br>lifespan=%{x}<br>happiness_score=%{y}<extra></extra>",
         "legendgroup": "Albania",
         "marker": {
          "color": "#EF553B",
          "symbol": "circle"
         },
         "mode": "markers",
         "name": "Albania",
         "orientation": "v",
         "showlegend": false,
         "type": "scatter",
         "x": [
          0.73007
         ],
         "xaxis": "x2",
         "y": [
          4.655
         ],
         "yaxis": "y2"
        },
        {
         "hovertemplate": "country_name=Albania<br>year=2017<br>lifespan=%{x}<br>happiness_score=%{y}<extra></extra>",
         "legendgroup": "Albania",
         "marker": {
          "color": "#EF553B",
          "symbol": "circle"
         },
         "mode": "markers",
         "name": "Albania",
         "orientation": "v",
         "showlegend": false,
         "type": "scatter",
         "x": [
          0.731159746646881
         ],
         "xaxis": "x3",
         "y": [
          4.64400005340576
         ],
         "yaxis": "y3"
        },
        {
         "hovertemplate": "country_name=Albania<br>year=2018<br>lifespan=%{x}<br>happiness_score=%{y}<extra></extra>",
         "legendgroup": "Albania",
         "marker": {
          "color": "#EF553B",
          "symbol": "circle"
         },
         "mode": "markers",
         "name": "Albania",
         "orientation": "v",
         "showlegend": false,
         "type": "scatter",
         "x": [
          0.79
         ],
         "xaxis": "x4",
         "y": [
          4.586
         ],
         "yaxis": "y4"
        },
        {
         "hovertemplate": "country_name=Albania<br>year=2019<br>lifespan=%{x}<br>happiness_score=%{y}<extra></extra>",
         "legendgroup": "Albania",
         "marker": {
          "color": "#EF553B",
          "symbol": "circle"
         },
         "mode": "markers",
         "name": "Albania",
         "orientation": "v",
         "showlegend": false,
         "type": "scatter",
         "x": [
          0.8740000000000001
         ],
         "xaxis": "x5",
         "y": [
          4.7189999999999985
         ],
         "yaxis": "y5"
        },
        {
         "hovertemplate": "country_name=Bosnia and Herzegovina<br>year=2015<br>lifespan=%{x}<br>happiness_score=%{y}<extra></extra>",
         "legendgroup": "Bosnia and Herzegovina",
         "marker": {
          "color": "#00cc96",
          "symbol": "circle"
         },
         "mode": "markers",
         "name": "Bosnia and Herzegovina",
         "orientation": "v",
         "showlegend": true,
         "type": "scatter",
         "x": [
          0.79081
         ],
         "xaxis": "x",
         "y": [
          4.949
         ],
         "yaxis": "y"
        },
        {
         "hovertemplate": "country_name=Bosnia and Herzegovina<br>year=2016<br>lifespan=%{x}<br>happiness_score=%{y}<extra></extra>",
         "legendgroup": "Bosnia and Herzegovina",
         "marker": {
          "color": "#00cc96",
          "symbol": "circle"
         },
         "mode": "markers",
         "name": "Bosnia and Herzegovina",
         "orientation": "v",
         "showlegend": false,
         "type": "scatter",
         "x": [
          0.7076600000000001
         ],
         "xaxis": "x2",
         "y": [
          5.1629999999999985
         ],
         "yaxis": "y2"
        },
        {
         "hovertemplate": "country_name=Bosnia and Herzegovina<br>year=2017<br>lifespan=%{x}<br>happiness_score=%{y}<extra></extra>",
         "legendgroup": "Bosnia and Herzegovina",
         "marker": {
          "color": "#00cc96",
          "symbol": "circle"
         },
         "mode": "markers",
         "name": "Bosnia and Herzegovina",
         "orientation": "v",
         "showlegend": false,
         "type": "scatter",
         "x": [
          0.705186307430267
         ],
         "xaxis": "x3",
         "y": [
          5.18200016021729
         ],
         "yaxis": "y3"
        },
        {
         "hovertemplate": "country_name=Bosnia and Herzegovina<br>year=2018<br>lifespan=%{x}<br>happiness_score=%{y}<extra></extra>",
         "legendgroup": "Bosnia and Herzegovina",
         "marker": {
          "color": "#00cc96",
          "symbol": "circle"
         },
         "mode": "markers",
         "name": "Bosnia and Herzegovina",
         "orientation": "v",
         "showlegend": false,
         "type": "scatter",
         "x": [
          0.758
         ],
         "xaxis": "x4",
         "y": [
          5.129
         ],
         "yaxis": "y4"
        },
        {
         "hovertemplate": "country_name=Bosnia and Herzegovina<br>year=2019<br>lifespan=%{x}<br>happiness_score=%{y}<extra></extra>",
         "legendgroup": "Bosnia and Herzegovina",
         "marker": {
          "color": "#00cc96",
          "symbol": "circle"
         },
         "mode": "markers",
         "name": "Bosnia and Herzegovina",
         "orientation": "v",
         "showlegend": false,
         "type": "scatter",
         "x": [
          0.845
         ],
         "xaxis": "x5",
         "y": [
          5.386
         ],
         "yaxis": "y5"
        },
        {
         "hovertemplate": "country_name=Hungary<br>year=2015<br>lifespan=%{x}<br>happiness_score=%{y}<extra></extra>",
         "legendgroup": "Hungary",
         "marker": {
          "color": "#ab63fa",
          "symbol": "circle"
         },
         "mode": "markers",
         "name": "Hungary",
         "orientation": "v",
         "showlegend": true,
         "type": "scatter",
         "x": [
          0.75905
         ],
         "xaxis": "x",
         "y": [
          4.8
         ],
         "yaxis": "y"
        },
        {
         "hovertemplate": "country_name=Hungary<br>year=2016<br>lifespan=%{x}<br>happiness_score=%{y}<extra></extra>",
         "legendgroup": "Hungary",
         "marker": {
          "color": "#ab63fa",
          "symbol": "circle"
         },
         "mode": "markers",
         "name": "Hungary",
         "orientation": "v",
         "showlegend": false,
         "type": "scatter",
         "x": [
          0.67608
         ],
         "xaxis": "x2",
         "y": [
          5.145
         ],
         "yaxis": "y2"
        },
        {
         "hovertemplate": "country_name=Hungary<br>year=2017<br>lifespan=%{x}<br>happiness_score=%{y}<extra></extra>",
         "legendgroup": "Hungary",
         "marker": {
          "color": "#ab63fa",
          "symbol": "circle"
         },
         "mode": "markers",
         "name": "Hungary",
         "orientation": "v",
         "showlegend": false,
         "type": "scatter",
         "x": [
          0.6877634525299069
         ],
         "xaxis": "x3",
         "y": [
          5.32399988174438
         ],
         "yaxis": "y3"
        },
        {
         "hovertemplate": "country_name=Hungary<br>year=2018<br>lifespan=%{x}<br>happiness_score=%{y}<extra></extra>",
         "legendgroup": "Hungary",
         "marker": {
          "color": "#ab63fa",
          "symbol": "circle"
         },
         "mode": "markers",
         "name": "Hungary",
         "orientation": "v",
         "showlegend": false,
         "type": "scatter",
         "x": [
          0.732
         ],
         "xaxis": "x4",
         "y": [
          5.62
         ],
         "yaxis": "y4"
        },
        {
         "hovertemplate": "country_name=Hungary<br>year=2019<br>lifespan=%{x}<br>happiness_score=%{y}<extra></extra>",
         "legendgroup": "Hungary",
         "marker": {
          "color": "#ab63fa",
          "symbol": "circle"
         },
         "mode": "markers",
         "name": "Hungary",
         "orientation": "v",
         "showlegend": false,
         "type": "scatter",
         "x": [
          0.828
         ],
         "xaxis": "x5",
         "y": [
          5.757999999999999
         ],
         "yaxis": "y5"
        },
        {
         "hovertemplate": "country_name=Tajikistan<br>year=2015<br>lifespan=%{x}<br>happiness_score=%{y}<extra></extra>",
         "legendgroup": "Tajikistan",
         "marker": {
          "color": "#FFA15A",
          "symbol": "circle"
         },
         "mode": "markers",
         "name": "Tajikistan",
         "orientation": "v",
         "showlegend": true,
         "type": "scatter",
         "x": [
          0.5737899999999999
         ],
         "xaxis": "x",
         "y": [
          4.7860000000000005
         ],
         "yaxis": "y"
        },
        {
         "hovertemplate": "country_name=Tajikistan<br>year=2016<br>lifespan=%{x}<br>happiness_score=%{y}<extra></extra>",
         "legendgroup": "Tajikistan",
         "marker": {
          "color": "#FFA15A",
          "symbol": "circle"
         },
         "mode": "markers",
         "name": "Tajikistan",
         "orientation": "v",
         "showlegend": false,
         "type": "scatter",
         "x": [
          0.5311899999999999
         ],
         "xaxis": "x2",
         "y": [
          4.996
         ],
         "yaxis": "y2"
        },
        {
         "hovertemplate": "country_name=Tajikistan<br>year=2017<br>lifespan=%{x}<br>happiness_score=%{y}<extra></extra>",
         "legendgroup": "Tajikistan",
         "marker": {
          "color": "#FFA15A",
          "symbol": "circle"
         },
         "mode": "markers",
         "name": "Tajikistan",
         "orientation": "v",
         "showlegend": false,
         "type": "scatter",
         "x": [
          0.5292351245880129
         ],
         "xaxis": "x3",
         "y": [
          5.04099988937378
         ],
         "yaxis": "y3"
        },
        {
         "hovertemplate": "country_name=Tajikistan<br>year=2018<br>lifespan=%{x}<br>happiness_score=%{y}<extra></extra>",
         "legendgroup": "Tajikistan",
         "marker": {
          "color": "#FFA15A",
          "symbol": "circle"
         },
         "mode": "markers",
         "name": "Tajikistan",
         "orientation": "v",
         "showlegend": false,
         "type": "scatter",
         "x": [
          0.598
         ],
         "xaxis": "x4",
         "y": [
          5.199
         ],
         "yaxis": "y4"
        },
        {
         "hovertemplate": "country_name=Tajikistan<br>year=2019<br>lifespan=%{x}<br>happiness_score=%{y}<extra></extra>",
         "legendgroup": "Tajikistan",
         "marker": {
          "color": "#FFA15A",
          "symbol": "circle"
         },
         "mode": "markers",
         "name": "Tajikistan",
         "orientation": "v",
         "showlegend": false,
         "type": "scatter",
         "x": [
          0.718
         ],
         "xaxis": "x5",
         "y": [
          5.4670000000000005
         ],
         "yaxis": "y5"
        },
        {
         "hovertemplate": "country_name=Ukraine<br>year=2015<br>lifespan=%{x}<br>happiness_score=%{y}<extra></extra>",
         "legendgroup": "Ukraine",
         "marker": {
          "color": "#19d3f3",
          "symbol": "circle"
         },
         "mode": "markers",
         "name": "Ukraine",
         "orientation": "v",
         "showlegend": true,
         "type": "scatter",
         "x": [
          0.6739
         ],
         "xaxis": "x",
         "y": [
          4.681
         ],
         "yaxis": "y"
        },
        {
         "hovertemplate": "country_name=Ukraine<br>year=2016<br>lifespan=%{x}<br>happiness_score=%{y}<extra></extra>",
         "legendgroup": "Ukraine",
         "marker": {
          "color": "#19d3f3",
          "symbol": "circle"
         },
         "mode": "markers",
         "name": "Ukraine",
         "orientation": "v",
         "showlegend": false,
         "type": "scatter",
         "x": [
          0.58628
         ],
         "xaxis": "x2",
         "y": [
          4.324
         ],
         "yaxis": "y2"
        },
        {
         "hovertemplate": "country_name=Ukraine<br>year=2017<br>lifespan=%{x}<br>happiness_score=%{y}<extra></extra>",
         "legendgroup": "Ukraine",
         "marker": {
          "color": "#19d3f3",
          "symbol": "circle"
         },
         "mode": "markers",
         "name": "Ukraine",
         "orientation": "v",
         "showlegend": false,
         "type": "scatter",
         "x": [
          0.575903952121735
         ],
         "xaxis": "x3",
         "y": [
          4.09600019454956
         ],
         "yaxis": "y3"
        },
        {
         "hovertemplate": "country_name=Ukraine<br>year=2018<br>lifespan=%{x}<br>happiness_score=%{y}<extra></extra>",
         "legendgroup": "Ukraine",
         "marker": {
          "color": "#19d3f3",
          "symbol": "circle"
         },
         "mode": "markers",
         "name": "Ukraine",
         "orientation": "v",
         "showlegend": false,
         "type": "scatter",
         "x": [
          0.609
         ],
         "xaxis": "x4",
         "y": [
          4.103
         ],
         "yaxis": "y4"
        },
        {
         "hovertemplate": "country_name=Ukraine<br>year=2019<br>lifespan=%{x}<br>happiness_score=%{y}<extra></extra>",
         "legendgroup": "Ukraine",
         "marker": {
          "color": "#19d3f3",
          "symbol": "circle"
         },
         "mode": "markers",
         "name": "Ukraine",
         "orientation": "v",
         "showlegend": false,
         "type": "scatter",
         "x": [
          0.7390000000000001
         ],
         "xaxis": "x5",
         "y": [
          4.332
         ],
         "yaxis": "y5"
        },
        {
         "hovertemplate": "country_name=Armenia<br>year=2015<br>lifespan=%{x}<br>happiness_score=%{y}<extra></extra>",
         "legendgroup": "Armenia",
         "marker": {
          "color": "#FF6692",
          "symbol": "circle"
         },
         "mode": "markers",
         "name": "Armenia",
         "orientation": "v",
         "showlegend": true,
         "type": "scatter",
         "x": [
          0.7299
         ],
         "xaxis": "x",
         "y": [
          4.35
         ],
         "yaxis": "y"
        },
        {
         "hovertemplate": "country_name=Armenia<br>year=2016<br>lifespan=%{x}<br>happiness_score=%{y}<extra></extra>",
         "legendgroup": "Armenia",
         "marker": {
          "color": "#FF6692",
          "symbol": "circle"
         },
         "mode": "markers",
         "name": "Armenia",
         "orientation": "v",
         "showlegend": false,
         "type": "scatter",
         "x": [
          0.64083
         ],
         "xaxis": "x2",
         "y": [
          4.36
         ],
         "yaxis": "y2"
        },
        {
         "hovertemplate": "country_name=Armenia<br>year=2017<br>lifespan=%{x}<br>happiness_score=%{y}<extra></extra>",
         "legendgroup": "Armenia",
         "marker": {
          "color": "#FF6692",
          "symbol": "circle"
         },
         "mode": "markers",
         "name": "Armenia",
         "orientation": "v",
         "showlegend": false,
         "type": "scatter",
         "x": [
          0.637524425983429
         ],
         "xaxis": "x3",
         "y": [
          4.37599992752075
         ],
         "yaxis": "y3"
        },
        {
         "hovertemplate": "country_name=Armenia<br>year=2018<br>lifespan=%{x}<br>happiness_score=%{y}<extra></extra>",
         "legendgroup": "Armenia",
         "marker": {
          "color": "#FF6692",
          "symbol": "circle"
         },
         "mode": "markers",
         "name": "Armenia",
         "orientation": "v",
         "showlegend": false,
         "type": "scatter",
         "x": [
          0.6659999999999999
         ],
         "xaxis": "x4",
         "y": [
          4.3210000000000015
         ],
         "yaxis": "y4"
        },
        {
         "hovertemplate": "country_name=Armenia<br>year=2019<br>lifespan=%{x}<br>happiness_score=%{y}<extra></extra>",
         "legendgroup": "Armenia",
         "marker": {
          "color": "#FF6692",
          "symbol": "circle"
         },
         "mode": "markers",
         "name": "Armenia",
         "orientation": "v",
         "showlegend": false,
         "type": "scatter",
         "x": [
          0.815
         ],
         "xaxis": "x5",
         "y": [
          4.559
         ],
         "yaxis": "y5"
        },
        {
         "hovertemplate": "country_name=Georgia<br>year=2015<br>lifespan=%{x}<br>happiness_score=%{y}<extra></extra>",
         "legendgroup": "Georgia",
         "marker": {
          "color": "#B6E880",
          "symbol": "circle"
         },
         "mode": "markers",
         "name": "Georgia",
         "orientation": "v",
         "showlegend": true,
         "type": "scatter",
         "x": [
          0.72926
         ],
         "xaxis": "x",
         "y": [
          4.297
         ],
         "yaxis": "y"
        },
        {
         "hovertemplate": "country_name=Georgia<br>year=2016<br>lifespan=%{x}<br>happiness_score=%{y}<extra></extra>",
         "legendgroup": "Georgia",
         "marker": {
          "color": "#B6E880",
          "symbol": "circle"
         },
         "mode": "markers",
         "name": "Georgia",
         "orientation": "v",
         "showlegend": false,
         "type": "scatter",
         "x": [
          0.64035
         ],
         "xaxis": "x2",
         "y": [
          4.252
         ],
         "yaxis": "y2"
        },
        {
         "hovertemplate": "country_name=Georgia<br>year=2017<br>lifespan=%{x}<br>happiness_score=%{y}<extra></extra>",
         "legendgroup": "Georgia",
         "marker": {
          "color": "#B6E880",
          "symbol": "circle"
         },
         "mode": "markers",
         "name": "Georgia",
         "orientation": "v",
         "showlegend": false,
         "type": "scatter",
         "x": [
          0.649546980857849
         ],
         "xaxis": "x3",
         "y": [
          4.28599977493286
         ],
         "yaxis": "y3"
        },
        {
         "hovertemplate": "country_name=Georgia<br>year=2018<br>lifespan=%{x}<br>happiness_score=%{y}<extra></extra>",
         "legendgroup": "Georgia",
         "marker": {
          "color": "#B6E880",
          "symbol": "circle"
         },
         "mode": "markers",
         "name": "Georgia",
         "orientation": "v",
         "showlegend": false,
         "type": "scatter",
         "x": [
          0.643
         ],
         "xaxis": "x4",
         "y": [
          4.34
         ],
         "yaxis": "y4"
        },
        {
         "hovertemplate": "country_name=Georgia<br>year=2019<br>lifespan=%{x}<br>happiness_score=%{y}<extra></extra>",
         "legendgroup": "Georgia",
         "marker": {
          "color": "#B6E880",
          "symbol": "circle"
         },
         "mode": "markers",
         "name": "Georgia",
         "orientation": "v",
         "showlegend": false,
         "type": "scatter",
         "x": [
          0.752
         ],
         "xaxis": "x5",
         "y": [
          4.519
         ],
         "yaxis": "y5"
        },
        {
         "hovertemplate": "country_name=Bulgaria<br>year=2015<br>lifespan=%{x}<br>happiness_score=%{y}<extra></extra>",
         "legendgroup": "Bulgaria",
         "marker": {
          "color": "#FF97FF",
          "symbol": "circle"
         },
         "mode": "markers",
         "name": "Bulgaria",
         "orientation": "v",
         "showlegend": true,
         "type": "scatter",
         "x": [
          0.76649
         ],
         "xaxis": "x",
         "y": [
          4.218
         ],
         "yaxis": "y"
        },
        {
         "hovertemplate": "country_name=Bulgaria<br>year=2016<br>lifespan=%{x}<br>happiness_score=%{y}<extra></extra>",
         "legendgroup": "Bulgaria",
         "marker": {
          "color": "#FF97FF",
          "symbol": "circle"
         },
         "mode": "markers",
         "name": "Bulgaria",
         "orientation": "v",
         "showlegend": false,
         "type": "scatter",
         "x": [
          0.67806
         ],
         "xaxis": "x2",
         "y": [
          4.217
         ],
         "yaxis": "y2"
        },
        {
         "hovertemplate": "country_name=Bulgaria<br>year=2017<br>lifespan=%{x}<br>happiness_score=%{y}<extra></extra>",
         "legendgroup": "Bulgaria",
         "marker": {
          "color": "#FF97FF",
          "symbol": "circle"
         },
         "mode": "markers",
         "name": "Bulgaria",
         "orientation": "v",
         "showlegend": false,
         "type": "scatter",
         "x": [
          0.708217680454254
         ],
         "xaxis": "x3",
         "y": [
          4.71400022506714
         ],
         "yaxis": "y3"
        },
        {
         "hovertemplate": "country_name=Bulgaria<br>year=2018<br>lifespan=%{x}<br>happiness_score=%{y}<extra></extra>",
         "legendgroup": "Bulgaria",
         "marker": {
          "color": "#FF97FF",
          "symbol": "circle"
         },
         "mode": "markers",
         "name": "Bulgaria",
         "orientation": "v",
         "showlegend": false,
         "type": "scatter",
         "x": [
          0.7120000000000001
         ],
         "xaxis": "x4",
         "y": [
          4.933
         ],
         "yaxis": "y4"
        },
        {
         "hovertemplate": "country_name=Bulgaria<br>year=2019<br>lifespan=%{x}<br>happiness_score=%{y}<extra></extra>",
         "legendgroup": "Bulgaria",
         "marker": {
          "color": "#FF97FF",
          "symbol": "circle"
         },
         "mode": "markers",
         "name": "Bulgaria",
         "orientation": "v",
         "showlegend": false,
         "type": "scatter",
         "x": [
          0.815
         ],
         "xaxis": "x5",
         "y": [
          5.011
         ],
         "yaxis": "y5"
        }
       ],
       "layout": {
        "annotations": [
         {
          "font": {},
          "showarrow": false,
          "text": "year=2015",
          "x": 0.09200000000000001,
          "xanchor": "center",
          "xref": "paper",
          "y": 1,
          "yanchor": "bottom",
          "yref": "paper"
         },
         {
          "font": {},
          "showarrow": false,
          "text": "year=2016",
          "x": 0.29600000000000004,
          "xanchor": "center",
          "xref": "paper",
          "y": 1,
          "yanchor": "bottom",
          "yref": "paper"
         },
         {
          "font": {},
          "showarrow": false,
          "text": "year=2017",
          "x": 0.5,
          "xanchor": "center",
          "xref": "paper",
          "y": 1,
          "yanchor": "bottom",
          "yref": "paper"
         },
         {
          "font": {},
          "showarrow": false,
          "text": "year=2018",
          "x": 0.7040000000000002,
          "xanchor": "center",
          "xref": "paper",
          "y": 1,
          "yanchor": "bottom",
          "yref": "paper"
         },
         {
          "font": {},
          "showarrow": false,
          "text": "year=2019",
          "x": 0.908,
          "xanchor": "center",
          "xref": "paper",
          "y": 1,
          "yanchor": "bottom",
          "yref": "paper"
         }
        ],
        "legend": {
         "title": {
          "text": "country_name"
         },
         "tracegroupgap": 0
        },
        "template": {
         "data": {
          "bar": [
           {
            "error_x": {
             "color": "#f2f5fa"
            },
            "error_y": {
             "color": "#f2f5fa"
            },
            "marker": {
             "line": {
              "color": "rgb(17,17,17)",
              "width": 0.5
             }
            },
            "type": "bar"
           }
          ],
          "barpolar": [
           {
            "marker": {
             "line": {
              "color": "rgb(17,17,17)",
              "width": 0.5
             }
            },
            "type": "barpolar"
           }
          ],
          "carpet": [
           {
            "aaxis": {
             "endlinecolor": "#A2B1C6",
             "gridcolor": "#506784",
             "linecolor": "#506784",
             "minorgridcolor": "#506784",
             "startlinecolor": "#A2B1C6"
            },
            "baxis": {
             "endlinecolor": "#A2B1C6",
             "gridcolor": "#506784",
             "linecolor": "#506784",
             "minorgridcolor": "#506784",
             "startlinecolor": "#A2B1C6"
            },
            "type": "carpet"
           }
          ],
          "choropleth": [
           {
            "colorbar": {
             "outlinewidth": 0,
             "ticks": ""
            },
            "type": "choropleth"
           }
          ],
          "contour": [
           {
            "colorbar": {
             "outlinewidth": 0,
             "ticks": ""
            },
            "colorscale": [
             [
              0,
              "#0d0887"
             ],
             [
              0.1111111111111111,
              "#46039f"
             ],
             [
              0.2222222222222222,
              "#7201a8"
             ],
             [
              0.3333333333333333,
              "#9c179e"
             ],
             [
              0.4444444444444444,
              "#bd3786"
             ],
             [
              0.5555555555555556,
              "#d8576b"
             ],
             [
              0.6666666666666666,
              "#ed7953"
             ],
             [
              0.7777777777777778,
              "#fb9f3a"
             ],
             [
              0.8888888888888888,
              "#fdca26"
             ],
             [
              1,
              "#f0f921"
             ]
            ],
            "type": "contour"
           }
          ],
          "contourcarpet": [
           {
            "colorbar": {
             "outlinewidth": 0,
             "ticks": ""
            },
            "type": "contourcarpet"
           }
          ],
          "heatmap": [
           {
            "colorbar": {
             "outlinewidth": 0,
             "ticks": ""
            },
            "colorscale": [
             [
              0,
              "#0d0887"
             ],
             [
              0.1111111111111111,
              "#46039f"
             ],
             [
              0.2222222222222222,
              "#7201a8"
             ],
             [
              0.3333333333333333,
              "#9c179e"
             ],
             [
              0.4444444444444444,
              "#bd3786"
             ],
             [
              0.5555555555555556,
              "#d8576b"
             ],
             [
              0.6666666666666666,
              "#ed7953"
             ],
             [
              0.7777777777777778,
              "#fb9f3a"
             ],
             [
              0.8888888888888888,
              "#fdca26"
             ],
             [
              1,
              "#f0f921"
             ]
            ],
            "type": "heatmap"
           }
          ],
          "heatmapgl": [
           {
            "colorbar": {
             "outlinewidth": 0,
             "ticks": ""
            },
            "colorscale": [
             [
              0,
              "#0d0887"
             ],
             [
              0.1111111111111111,
              "#46039f"
             ],
             [
              0.2222222222222222,
              "#7201a8"
             ],
             [
              0.3333333333333333,
              "#9c179e"
             ],
             [
              0.4444444444444444,
              "#bd3786"
             ],
             [
              0.5555555555555556,
              "#d8576b"
             ],
             [
              0.6666666666666666,
              "#ed7953"
             ],
             [
              0.7777777777777778,
              "#fb9f3a"
             ],
             [
              0.8888888888888888,
              "#fdca26"
             ],
             [
              1,
              "#f0f921"
             ]
            ],
            "type": "heatmapgl"
           }
          ],
          "histogram": [
           {
            "marker": {
             "colorbar": {
              "outlinewidth": 0,
              "ticks": ""
             }
            },
            "type": "histogram"
           }
          ],
          "histogram2d": [
           {
            "colorbar": {
             "outlinewidth": 0,
             "ticks": ""
            },
            "colorscale": [
             [
              0,
              "#0d0887"
             ],
             [
              0.1111111111111111,
              "#46039f"
             ],
             [
              0.2222222222222222,
              "#7201a8"
             ],
             [
              0.3333333333333333,
              "#9c179e"
             ],
             [
              0.4444444444444444,
              "#bd3786"
             ],
             [
              0.5555555555555556,
              "#d8576b"
             ],
             [
              0.6666666666666666,
              "#ed7953"
             ],
             [
              0.7777777777777778,
              "#fb9f3a"
             ],
             [
              0.8888888888888888,
              "#fdca26"
             ],
             [
              1,
              "#f0f921"
             ]
            ],
            "type": "histogram2d"
           }
          ],
          "histogram2dcontour": [
           {
            "colorbar": {
             "outlinewidth": 0,
             "ticks": ""
            },
            "colorscale": [
             [
              0,
              "#0d0887"
             ],
             [
              0.1111111111111111,
              "#46039f"
             ],
             [
              0.2222222222222222,
              "#7201a8"
             ],
             [
              0.3333333333333333,
              "#9c179e"
             ],
             [
              0.4444444444444444,
              "#bd3786"
             ],
             [
              0.5555555555555556,
              "#d8576b"
             ],
             [
              0.6666666666666666,
              "#ed7953"
             ],
             [
              0.7777777777777778,
              "#fb9f3a"
             ],
             [
              0.8888888888888888,
              "#fdca26"
             ],
             [
              1,
              "#f0f921"
             ]
            ],
            "type": "histogram2dcontour"
           }
          ],
          "mesh3d": [
           {
            "colorbar": {
             "outlinewidth": 0,
             "ticks": ""
            },
            "type": "mesh3d"
           }
          ],
          "parcoords": [
           {
            "line": {
             "colorbar": {
              "outlinewidth": 0,
              "ticks": ""
             }
            },
            "type": "parcoords"
           }
          ],
          "pie": [
           {
            "automargin": true,
            "type": "pie"
           }
          ],
          "scatter": [
           {
            "marker": {
             "line": {
              "color": "#283442"
             }
            },
            "type": "scatter"
           }
          ],
          "scatter3d": [
           {
            "line": {
             "colorbar": {
              "outlinewidth": 0,
              "ticks": ""
             }
            },
            "marker": {
             "colorbar": {
              "outlinewidth": 0,
              "ticks": ""
             }
            },
            "type": "scatter3d"
           }
          ],
          "scattercarpet": [
           {
            "marker": {
             "colorbar": {
              "outlinewidth": 0,
              "ticks": ""
             }
            },
            "type": "scattercarpet"
           }
          ],
          "scattergeo": [
           {
            "marker": {
             "colorbar": {
              "outlinewidth": 0,
              "ticks": ""
             }
            },
            "type": "scattergeo"
           }
          ],
          "scattergl": [
           {
            "marker": {
             "line": {
              "color": "#283442"
             }
            },
            "type": "scattergl"
           }
          ],
          "scattermapbox": [
           {
            "marker": {
             "colorbar": {
              "outlinewidth": 0,
              "ticks": ""
             }
            },
            "type": "scattermapbox"
           }
          ],
          "scatterpolar": [
           {
            "marker": {
             "colorbar": {
              "outlinewidth": 0,
              "ticks": ""
             }
            },
            "type": "scatterpolar"
           }
          ],
          "scatterpolargl": [
           {
            "marker": {
             "colorbar": {
              "outlinewidth": 0,
              "ticks": ""
             }
            },
            "type": "scatterpolargl"
           }
          ],
          "scatterternary": [
           {
            "marker": {
             "colorbar": {
              "outlinewidth": 0,
              "ticks": ""
             }
            },
            "type": "scatterternary"
           }
          ],
          "surface": [
           {
            "colorbar": {
             "outlinewidth": 0,
             "ticks": ""
            },
            "colorscale": [
             [
              0,
              "#0d0887"
             ],
             [
              0.1111111111111111,
              "#46039f"
             ],
             [
              0.2222222222222222,
              "#7201a8"
             ],
             [
              0.3333333333333333,
              "#9c179e"
             ],
             [
              0.4444444444444444,
              "#bd3786"
             ],
             [
              0.5555555555555556,
              "#d8576b"
             ],
             [
              0.6666666666666666,
              "#ed7953"
             ],
             [
              0.7777777777777778,
              "#fb9f3a"
             ],
             [
              0.8888888888888888,
              "#fdca26"
             ],
             [
              1,
              "#f0f921"
             ]
            ],
            "type": "surface"
           }
          ],
          "table": [
           {
            "cells": {
             "fill": {
              "color": "#506784"
             },
             "line": {
              "color": "rgb(17,17,17)"
             }
            },
            "header": {
             "fill": {
              "color": "#2a3f5f"
             },
             "line": {
              "color": "rgb(17,17,17)"
             }
            },
            "type": "table"
           }
          ]
         },
         "layout": {
          "annotationdefaults": {
           "arrowcolor": "#f2f5fa",
           "arrowhead": 0,
           "arrowwidth": 1
          },
          "autotypenumbers": "strict",
          "coloraxis": {
           "colorbar": {
            "outlinewidth": 0,
            "ticks": ""
           }
          },
          "colorscale": {
           "diverging": [
            [
             0,
             "#8e0152"
            ],
            [
             0.1,
             "#c51b7d"
            ],
            [
             0.2,
             "#de77ae"
            ],
            [
             0.3,
             "#f1b6da"
            ],
            [
             0.4,
             "#fde0ef"
            ],
            [
             0.5,
             "#f7f7f7"
            ],
            [
             0.6,
             "#e6f5d0"
            ],
            [
             0.7,
             "#b8e186"
            ],
            [
             0.8,
             "#7fbc41"
            ],
            [
             0.9,
             "#4d9221"
            ],
            [
             1,
             "#276419"
            ]
           ],
           "sequential": [
            [
             0,
             "#0d0887"
            ],
            [
             0.1111111111111111,
             "#46039f"
            ],
            [
             0.2222222222222222,
             "#7201a8"
            ],
            [
             0.3333333333333333,
             "#9c179e"
            ],
            [
             0.4444444444444444,
             "#bd3786"
            ],
            [
             0.5555555555555556,
             "#d8576b"
            ],
            [
             0.6666666666666666,
             "#ed7953"
            ],
            [
             0.7777777777777778,
             "#fb9f3a"
            ],
            [
             0.8888888888888888,
             "#fdca26"
            ],
            [
             1,
             "#f0f921"
            ]
           ],
           "sequentialminus": [
            [
             0,
             "#0d0887"
            ],
            [
             0.1111111111111111,
             "#46039f"
            ],
            [
             0.2222222222222222,
             "#7201a8"
            ],
            [
             0.3333333333333333,
             "#9c179e"
            ],
            [
             0.4444444444444444,
             "#bd3786"
            ],
            [
             0.5555555555555556,
             "#d8576b"
            ],
            [
             0.6666666666666666,
             "#ed7953"
            ],
            [
             0.7777777777777778,
             "#fb9f3a"
            ],
            [
             0.8888888888888888,
             "#fdca26"
            ],
            [
             1,
             "#f0f921"
            ]
           ]
          },
          "colorway": [
           "#636efa",
           "#EF553B",
           "#00cc96",
           "#ab63fa",
           "#FFA15A",
           "#19d3f3",
           "#FF6692",
           "#B6E880",
           "#FF97FF",
           "#FECB52"
          ],
          "font": {
           "color": "#f2f5fa"
          },
          "geo": {
           "bgcolor": "rgb(17,17,17)",
           "lakecolor": "rgb(17,17,17)",
           "landcolor": "rgb(17,17,17)",
           "showlakes": true,
           "showland": true,
           "subunitcolor": "#506784"
          },
          "hoverlabel": {
           "align": "left"
          },
          "hovermode": "closest",
          "mapbox": {
           "style": "dark"
          },
          "paper_bgcolor": "rgb(17,17,17)",
          "plot_bgcolor": "rgb(17,17,17)",
          "polar": {
           "angularaxis": {
            "gridcolor": "#506784",
            "linecolor": "#506784",
            "ticks": ""
           },
           "bgcolor": "rgb(17,17,17)",
           "radialaxis": {
            "gridcolor": "#506784",
            "linecolor": "#506784",
            "ticks": ""
           }
          },
          "scene": {
           "xaxis": {
            "backgroundcolor": "rgb(17,17,17)",
            "gridcolor": "#506784",
            "gridwidth": 2,
            "linecolor": "#506784",
            "showbackground": true,
            "ticks": "",
            "zerolinecolor": "#C8D4E3"
           },
           "yaxis": {
            "backgroundcolor": "rgb(17,17,17)",
            "gridcolor": "#506784",
            "gridwidth": 2,
            "linecolor": "#506784",
            "showbackground": true,
            "ticks": "",
            "zerolinecolor": "#C8D4E3"
           },
           "zaxis": {
            "backgroundcolor": "rgb(17,17,17)",
            "gridcolor": "#506784",
            "gridwidth": 2,
            "linecolor": "#506784",
            "showbackground": true,
            "ticks": "",
            "zerolinecolor": "#C8D4E3"
           }
          },
          "shapedefaults": {
           "line": {
            "color": "#f2f5fa"
           }
          },
          "sliderdefaults": {
           "bgcolor": "#C8D4E3",
           "bordercolor": "rgb(17,17,17)",
           "borderwidth": 1,
           "tickwidth": 0
          },
          "ternary": {
           "aaxis": {
            "gridcolor": "#506784",
            "linecolor": "#506784",
            "ticks": ""
           },
           "baxis": {
            "gridcolor": "#506784",
            "linecolor": "#506784",
            "ticks": ""
           },
           "bgcolor": "rgb(17,17,17)",
           "caxis": {
            "gridcolor": "#506784",
            "linecolor": "#506784",
            "ticks": ""
           }
          },
          "title": {
           "x": 0.05
          },
          "updatemenudefaults": {
           "bgcolor": "#506784",
           "borderwidth": 0
          },
          "xaxis": {
           "automargin": true,
           "gridcolor": "#283442",
           "linecolor": "#506784",
           "ticks": "",
           "title": {
            "standoff": 15
           },
           "zerolinecolor": "#283442",
           "zerolinewidth": 2
          },
          "yaxis": {
           "automargin": true,
           "gridcolor": "#283442",
           "linecolor": "#506784",
           "ticks": "",
           "title": {
            "standoff": 15
           },
           "zerolinecolor": "#283442",
           "zerolinewidth": 2
          }
         }
        },
        "title": {
         "text": "Lifespan vs Happiness Score for Central and Eastern Europe"
        },
        "xaxis": {
         "anchor": "y",
         "domain": [
          0,
          0.18400000000000002
         ],
         "title": {
          "text": "lifespan"
         }
        },
        "xaxis2": {
         "anchor": "y2",
         "domain": [
          0.20400000000000001,
          0.388
         ],
         "matches": "x",
         "title": {
          "text": "lifespan"
         }
        },
        "xaxis3": {
         "anchor": "y3",
         "domain": [
          0.40800000000000003,
          0.5920000000000001
         ],
         "matches": "x",
         "title": {
          "text": "lifespan"
         }
        },
        "xaxis4": {
         "anchor": "y4",
         "domain": [
          0.6120000000000001,
          0.7960000000000002
         ],
         "matches": "x",
         "title": {
          "text": "lifespan"
         }
        },
        "xaxis5": {
         "anchor": "y5",
         "domain": [
          0.8160000000000001,
          1
         ],
         "matches": "x",
         "title": {
          "text": "lifespan"
         }
        },
        "yaxis": {
         "anchor": "x",
         "domain": [
          0,
          1
         ],
         "title": {
          "text": "happiness_score"
         }
        },
        "yaxis2": {
         "anchor": "x2",
         "domain": [
          0,
          1
         ],
         "matches": "y",
         "showticklabels": false
        },
        "yaxis3": {
         "anchor": "x3",
         "domain": [
          0,
          1
         ],
         "matches": "y",
         "showticklabels": false
        },
        "yaxis4": {
         "anchor": "x4",
         "domain": [
          0,
          1
         ],
         "matches": "y",
         "showticklabels": false
        },
        "yaxis5": {
         "anchor": "x5",
         "domain": [
          0,
          1
         ],
         "matches": "y",
         "showticklabels": false
        }
       }
      },
      "text/html": [
       "<div>                            <div id=\"c4c9e84d-3394-4b70-bbcf-20be46c0e8c8\" class=\"plotly-graph-div\" style=\"height:525px; width:100%;\"></div>            <script type=\"text/javascript\">                require([\"plotly\"], function(Plotly) {                    window.PLOTLYENV=window.PLOTLYENV || {};                                    if (document.getElementById(\"c4c9e84d-3394-4b70-bbcf-20be46c0e8c8\")) {                    Plotly.newPlot(                        \"c4c9e84d-3394-4b70-bbcf-20be46c0e8c8\",                        [{\"hovertemplate\": \"country_name=Czech Republic<br>year=2015<br>lifespan=%{x}<br>happiness_score=%{y}<extra></extra>\", \"legendgroup\": \"Czech Republic\", \"marker\": {\"color\": \"#636efa\", \"symbol\": \"circle\"}, \"mode\": \"markers\", \"name\": \"Czech Republic\", \"orientation\": \"v\", \"showlegend\": true, \"type\": \"scatter\", \"x\": [0.84483], \"xaxis\": \"x\", \"y\": [6.505], \"yaxis\": \"y\"}, {\"hovertemplate\": \"country_name=Czech Republic<br>year=2016<br>lifespan=%{x}<br>happiness_score=%{y}<extra></extra>\", \"legendgroup\": \"Czech Republic\", \"marker\": {\"color\": \"#636efa\", \"symbol\": \"circle\"}, \"mode\": \"markers\", \"name\": \"Czech Republic\", \"orientation\": \"v\", \"showlegend\": false, \"type\": \"scatter\", \"x\": [0.76376], \"xaxis\": \"x2\", \"y\": [6.596], \"yaxis\": \"y2\"}, {\"hovertemplate\": \"country_name=Czech Republic<br>year=2017<br>lifespan=%{x}<br>happiness_score=%{y}<extra></extra>\", \"legendgroup\": \"Czech Republic\", \"marker\": {\"color\": \"#636efa\", \"symbol\": \"circle\"}, \"mode\": \"markers\", \"name\": \"Czech Republic\", \"orientation\": \"v\", \"showlegend\": false, \"type\": \"scatter\", \"x\": [0.754444003105164], \"xaxis\": \"x3\", \"y\": [6.60900020599365], \"yaxis\": \"y3\"}, {\"hovertemplate\": \"country_name=Czech Republic<br>year=2018<br>lifespan=%{x}<br>happiness_score=%{y}<extra></extra>\", \"legendgroup\": \"Czech Republic\", \"marker\": {\"color\": \"#636efa\", \"symbol\": \"circle\"}, \"mode\": \"markers\", \"name\": \"Czech Republic\", \"orientation\": \"v\", \"showlegend\": false, \"type\": \"scatter\", \"x\": [0.8540000000000001], \"xaxis\": \"x4\", \"y\": [6.711], \"yaxis\": \"y4\"}, {\"hovertemplate\": \"country_name=Czech Republic<br>year=2019<br>lifespan=%{x}<br>happiness_score=%{y}<extra></extra>\", \"legendgroup\": \"Czech Republic\", \"marker\": {\"color\": \"#636efa\", \"symbol\": \"circle\"}, \"mode\": \"markers\", \"name\": \"Czech Republic\", \"orientation\": \"v\", \"showlegend\": false, \"type\": \"scatter\", \"x\": [0.92], \"xaxis\": \"x5\", \"y\": [6.852], \"yaxis\": \"y5\"}, {\"hovertemplate\": \"country_name=Uzbekistan<br>year=2015<br>lifespan=%{x}<br>happiness_score=%{y}<extra></extra>\", \"legendgroup\": \"Uzbekistan\", \"marker\": {\"color\": \"#EF553B\", \"symbol\": \"circle\"}, \"mode\": \"markers\", \"name\": \"Uzbekistan\", \"orientation\": \"v\", \"showlegend\": true, \"type\": \"scatter\", \"x\": [0.59772], \"xaxis\": \"x\", \"y\": [6.002999999999999], \"yaxis\": \"y\"}, {\"hovertemplate\": \"country_name=Uzbekistan<br>year=2016<br>lifespan=%{x}<br>happiness_score=%{y}<extra></extra>\", \"legendgroup\": \"Uzbekistan\", \"marker\": {\"color\": \"#EF553B\", \"symbol\": \"circle\"}, \"mode\": \"markers\", \"name\": \"Uzbekistan\", \"orientation\": \"v\", \"showlegend\": false, \"type\": \"scatter\", \"x\": [0.50163], \"xaxis\": \"x2\", \"y\": [5.987], \"yaxis\": \"y2\"}, {\"hovertemplate\": \"country_name=Uzbekistan<br>year=2017<br>lifespan=%{x}<br>happiness_score=%{y}<extra></extra>\", \"legendgroup\": \"Uzbekistan\", \"marker\": {\"color\": \"#EF553B\", \"symbol\": \"circle\"}, \"mode\": \"markers\", \"name\": \"Uzbekistan\", \"orientation\": \"v\", \"showlegend\": false, \"type\": \"scatter\", \"x\": [0.498272627592087], \"xaxis\": \"x3\", \"y\": [5.97100019454956], \"yaxis\": \"y3\"}, {\"hovertemplate\": \"country_name=Uzbekistan<br>year=2018<br>lifespan=%{x}<br>happiness_score=%{y}<extra></extra>\", \"legendgroup\": \"Uzbekistan\", \"marker\": {\"color\": \"#EF553B\", \"symbol\": \"circle\"}, \"mode\": \"markers\", \"name\": \"Uzbekistan\", \"orientation\": \"v\", \"showlegend\": false, \"type\": \"scatter\", \"x\": [0.605], \"xaxis\": \"x4\", \"y\": [6.096], \"yaxis\": \"y4\"}, {\"hovertemplate\": \"country_name=Uzbekistan<br>year=2019<br>lifespan=%{x}<br>happiness_score=%{y}<extra></extra>\", \"legendgroup\": \"Uzbekistan\", \"marker\": {\"color\": \"#EF553B\", \"symbol\": \"circle\"}, \"mode\": \"markers\", \"name\": \"Uzbekistan\", \"orientation\": \"v\", \"showlegend\": false, \"type\": \"scatter\", \"x\": [0.7559999999999999], \"xaxis\": \"x5\", \"y\": [6.174], \"yaxis\": \"y5\"}, {\"hovertemplate\": \"country_name=Slovakia<br>year=2015<br>lifespan=%{x}<br>happiness_score=%{y}<extra></extra>\", \"legendgroup\": \"Slovakia\", \"marker\": {\"color\": \"#00cc96\", \"symbol\": \"circle\"}, \"mode\": \"markers\", \"name\": \"Slovakia\", \"orientation\": \"v\", \"showlegend\": true, \"type\": \"scatter\", \"x\": [0.7890199999999999], \"xaxis\": \"x\", \"y\": [5.995], \"yaxis\": \"y\"}, {\"hovertemplate\": \"country_name=Slovakia<br>year=2016<br>lifespan=%{x}<br>happiness_score=%{y}<extra></extra>\", \"legendgroup\": \"Slovakia\", \"marker\": {\"color\": \"#00cc96\", \"symbol\": \"circle\"}, \"mode\": \"markers\", \"name\": \"Slovakia\", \"orientation\": \"v\", \"showlegend\": false, \"type\": \"scatter\", \"x\": [0.70367], \"xaxis\": \"x2\", \"y\": [6.0779999999999985], \"yaxis\": \"y2\"}, {\"hovertemplate\": \"country_name=Slovakia<br>year=2017<br>lifespan=%{x}<br>happiness_score=%{y}<extra></extra>\", \"legendgroup\": \"Slovakia\", \"marker\": {\"color\": \"#00cc96\", \"symbol\": \"circle\"}, \"mode\": \"markers\", \"name\": \"Slovakia\", \"orientation\": \"v\", \"showlegend\": false, \"type\": \"scatter\", \"x\": [0.712732911109924], \"xaxis\": \"x3\", \"y\": [6.09800004959106], \"yaxis\": \"y3\"}, {\"hovertemplate\": \"country_name=Slovakia<br>year=2018<br>lifespan=%{x}<br>happiness_score=%{y}<extra></extra>\", \"legendgroup\": \"Slovakia\", \"marker\": {\"color\": \"#00cc96\", \"symbol\": \"circle\"}, \"mode\": \"markers\", \"name\": \"Slovakia\", \"orientation\": \"v\", \"showlegend\": false, \"type\": \"scatter\", \"x\": [0.7759999999999999], \"xaxis\": \"x4\", \"y\": [6.172999999999999], \"yaxis\": \"y4\"}, {\"hovertemplate\": \"country_name=Slovakia<br>year=2019<br>lifespan=%{x}<br>happiness_score=%{y}<extra></extra>\", \"legendgroup\": \"Slovakia\", \"marker\": {\"color\": \"#00cc96\", \"symbol\": \"circle\"}, \"mode\": \"markers\", \"name\": \"Slovakia\", \"orientation\": \"v\", \"showlegend\": false, \"type\": \"scatter\", \"x\": [0.8809999999999999], \"xaxis\": \"x5\", \"y\": [6.198], \"yaxis\": \"y5\"}, {\"hovertemplate\": \"country_name=Moldova<br>year=2015<br>lifespan=%{x}<br>happiness_score=%{y}<extra></extra>\", \"legendgroup\": \"Moldova\", \"marker\": {\"color\": \"#ab63fa\", \"symbol\": \"circle\"}, \"mode\": \"markers\", \"name\": \"Moldova\", \"orientation\": \"v\", \"showlegend\": true, \"type\": \"scatter\", \"x\": [0.61826], \"xaxis\": \"x\", \"y\": [5.8889999999999985], \"yaxis\": \"y\"}, {\"hovertemplate\": \"country_name=Moldova<br>year=2016<br>lifespan=%{x}<br>happiness_score=%{y}<extra></extra>\", \"legendgroup\": \"Moldova\", \"marker\": {\"color\": \"#ab63fa\", \"symbol\": \"circle\"}, \"mode\": \"markers\", \"name\": \"Moldova\", \"orientation\": \"v\", \"showlegend\": false, \"type\": \"scatter\", \"x\": [0.5230899999999999], \"xaxis\": \"x2\", \"y\": [5.897], \"yaxis\": \"y2\"}, {\"hovertemplate\": \"country_name=Moldova<br>year=2017<br>lifespan=%{x}<br>happiness_score=%{y}<extra></extra>\", \"legendgroup\": \"Moldova\", \"marker\": {\"color\": \"#ab63fa\", \"symbol\": \"circle\"}, \"mode\": \"markers\", \"name\": \"Moldova\", \"orientation\": \"v\", \"showlegend\": false, \"type\": \"scatter\", \"x\": [0.5894652009010309], \"xaxis\": \"x3\", \"y\": [5.837999820709231], \"yaxis\": \"y3\"}, {\"hovertemplate\": \"country_name=Moldova<br>year=2018<br>lifespan=%{x}<br>happiness_score=%{y}<extra></extra>\", \"legendgroup\": \"Moldova\", \"marker\": {\"color\": \"#ab63fa\", \"symbol\": \"circle\"}, \"mode\": \"markers\", \"name\": \"Moldova\", \"orientation\": \"v\", \"showlegend\": false, \"type\": \"scatter\", \"x\": [0.62], \"xaxis\": \"x4\", \"y\": [5.64], \"yaxis\": \"y4\"}, {\"hovertemplate\": \"country_name=Moldova<br>year=2019<br>lifespan=%{x}<br>happiness_score=%{y}<extra></extra>\", \"legendgroup\": \"Moldova\", \"marker\": {\"color\": \"#ab63fa\", \"symbol\": \"circle\"}, \"mode\": \"markers\", \"name\": \"Moldova\", \"orientation\": \"v\", \"showlegend\": false, \"type\": \"scatter\", \"x\": [0.7390000000000001], \"xaxis\": \"x5\", \"y\": [5.529], \"yaxis\": \"y5\"}, {\"hovertemplate\": \"country_name=Kazakhstan<br>year=2015<br>lifespan=%{x}<br>happiness_score=%{y}<extra></extra>\", \"legendgroup\": \"Kazakhstan\", \"marker\": {\"color\": \"#FFA15A\", \"symbol\": \"circle\"}, \"mode\": \"markers\", \"name\": \"Kazakhstan\", \"orientation\": \"v\", \"showlegend\": true, \"type\": \"scatter\", \"x\": [0.64368], \"xaxis\": \"x\", \"y\": [5.855], \"yaxis\": \"y\"}, {\"hovertemplate\": \"country_name=Kazakhstan<br>year=2016<br>lifespan=%{x}<br>happiness_score=%{y}<extra></extra>\", \"legendgroup\": \"Kazakhstan\", \"marker\": {\"color\": \"#FFA15A\", \"symbol\": \"circle\"}, \"mode\": \"markers\", \"name\": \"Kazakhstan\", \"orientation\": \"v\", \"showlegend\": false, \"type\": \"scatter\", \"x\": [0.57386], \"xaxis\": \"x2\", \"y\": [5.919], \"yaxis\": \"y2\"}, {\"hovertemplate\": \"country_name=Kazakhstan<br>year=2017<br>lifespan=%{x}<br>happiness_score=%{y}<extra></extra>\", \"legendgroup\": \"Kazakhstan\", \"marker\": {\"color\": \"#FFA15A\", \"symbol\": \"circle\"}, \"mode\": \"markers\", \"name\": \"Kazakhstan\", \"orientation\": \"v\", \"showlegend\": false, \"type\": \"scatter\", \"x\": [0.6060415506362921], \"xaxis\": \"x3\", \"y\": [5.8189997673034695], \"yaxis\": \"y3\"}, {\"hovertemplate\": \"country_name=Kazakhstan<br>year=2018<br>lifespan=%{x}<br>happiness_score=%{y}<extra></extra>\", \"legendgroup\": \"Kazakhstan\", \"marker\": {\"color\": \"#FFA15A\", \"symbol\": \"circle\"}, \"mode\": \"markers\", \"name\": \"Kazakhstan\", \"orientation\": \"v\", \"showlegend\": false, \"type\": \"scatter\", \"x\": [0.631], \"xaxis\": \"x4\", \"y\": [5.79], \"yaxis\": \"y4\"}, {\"hovertemplate\": \"country_name=Kazakhstan<br>year=2019<br>lifespan=%{x}<br>happiness_score=%{y}<extra></extra>\", \"legendgroup\": \"Kazakhstan\", \"marker\": {\"color\": \"#FFA15A\", \"symbol\": \"circle\"}, \"mode\": \"markers\", \"name\": \"Kazakhstan\", \"orientation\": \"v\", \"showlegend\": false, \"type\": \"scatter\", \"x\": [0.7290000000000001], \"xaxis\": \"x5\", \"y\": [5.809], \"yaxis\": \"y5\"}, {\"hovertemplate\": \"country_name=Slovenia<br>year=2015<br>lifespan=%{x}<br>happiness_score=%{y}<extra></extra>\", \"legendgroup\": \"Slovenia\", \"marker\": {\"color\": \"#19d3f3\", \"symbol\": \"circle\"}, \"mode\": \"markers\", \"name\": \"Slovenia\", \"orientation\": \"v\", \"showlegend\": true, \"type\": \"scatter\", \"x\": [0.8733700000000001], \"xaxis\": \"x\", \"y\": [5.848], \"yaxis\": \"y\"}, {\"hovertemplate\": \"country_name=Slovenia<br>year=2016<br>lifespan=%{x}<br>happiness_score=%{y}<extra></extra>\", \"legendgroup\": \"Slovenia\", \"marker\": {\"color\": \"#19d3f3\", \"symbol\": \"circle\"}, \"mode\": \"markers\", \"name\": \"Slovenia\", \"orientation\": \"v\", \"showlegend\": false, \"type\": \"scatter\", \"x\": [0.79151], \"xaxis\": \"x2\", \"y\": [5.768], \"yaxis\": \"y2\"}, {\"hovertemplate\": \"country_name=Slovenia<br>year=2017<br>lifespan=%{x}<br>happiness_score=%{y}<extra></extra>\", \"legendgroup\": \"Slovenia\", \"marker\": {\"color\": \"#19d3f3\", \"symbol\": \"circle\"}, \"mode\": \"markers\", \"name\": \"Slovenia\", \"orientation\": \"v\", \"showlegend\": false, \"type\": \"scatter\", \"x\": [0.7908282279968258], \"xaxis\": \"x3\", \"y\": [5.75799989700317], \"yaxis\": \"y3\"}, {\"hovertemplate\": \"country_name=Slovenia<br>year=2018<br>lifespan=%{x}<br>happiness_score=%{y}<extra></extra>\", \"legendgroup\": \"Slovenia\", \"marker\": {\"color\": \"#19d3f3\", \"symbol\": \"circle\"}, \"mode\": \"markers\", \"name\": \"Slovenia\", \"orientation\": \"v\", \"showlegend\": false, \"type\": \"scatter\", \"x\": [0.856], \"xaxis\": \"x4\", \"y\": [5.948], \"yaxis\": \"y4\"}, {\"hovertemplate\": \"country_name=Slovenia<br>year=2019<br>lifespan=%{x}<br>happiness_score=%{y}<extra></extra>\", \"legendgroup\": \"Slovenia\", \"marker\": {\"color\": \"#19d3f3\", \"symbol\": \"circle\"}, \"mode\": \"markers\", \"name\": \"Slovenia\", \"orientation\": \"v\", \"showlegend\": false, \"type\": \"scatter\", \"x\": [0.953], \"xaxis\": \"x5\", \"y\": [6.1179999999999986], \"yaxis\": \"y5\"}, {\"hovertemplate\": \"country_name=Lithuania<br>year=2015<br>lifespan=%{x}<br>happiness_score=%{y}<extra></extra>\", \"legendgroup\": \"Lithuania\", \"marker\": {\"color\": \"#FF6692\", \"symbol\": \"circle\"}, \"mode\": \"markers\", \"name\": \"Lithuania\", \"orientation\": \"v\", \"showlegend\": true, \"type\": \"scatter\", \"x\": [0.73128], \"xaxis\": \"x\", \"y\": [5.832999999999998], \"yaxis\": \"y\"}, {\"hovertemplate\": \"country_name=Lithuania<br>year=2016<br>lifespan=%{x}<br>happiness_score=%{y}<extra></extra>\", \"legendgroup\": \"Lithuania\", \"marker\": {\"color\": \"#FF6692\", \"symbol\": \"circle\"}, \"mode\": \"markers\", \"name\": \"Lithuania\", \"orientation\": \"v\", \"showlegend\": false, \"type\": \"scatter\", \"x\": [0.64674], \"xaxis\": \"x2\", \"y\": [5.813], \"yaxis\": \"y2\"}, {\"hovertemplate\": \"country_name=Lithuania<br>year=2017<br>lifespan=%{x}<br>happiness_score=%{y}<extra></extra>\", \"legendgroup\": \"Lithuania\", \"marker\": {\"color\": \"#FF6692\", \"symbol\": \"circle\"}, \"mode\": \"markers\", \"name\": \"Lithuania\", \"orientation\": \"v\", \"showlegend\": false, \"type\": \"scatter\", \"x\": [0.62894994020462], \"xaxis\": \"x3\", \"y\": [5.90199995040894], \"yaxis\": \"y3\"}, {\"hovertemplate\": \"country_name=Lithuania<br>year=2018<br>lifespan=%{x}<br>happiness_score=%{y}<extra></extra>\", \"legendgroup\": \"Lithuania\", \"marker\": {\"color\": \"#FF6692\", \"symbol\": \"circle\"}, \"mode\": \"markers\", \"name\": \"Lithuania\", \"orientation\": \"v\", \"showlegend\": false, \"type\": \"scatter\", \"x\": [0.716], \"xaxis\": \"x4\", \"y\": [5.952000000000001], \"yaxis\": \"y4\"}, {\"hovertemplate\": \"country_name=Lithuania<br>year=2019<br>lifespan=%{x}<br>happiness_score=%{y}<extra></extra>\", \"legendgroup\": \"Lithuania\", \"marker\": {\"color\": \"#FF6692\", \"symbol\": \"circle\"}, \"mode\": \"markers\", \"name\": \"Lithuania\", \"orientation\": \"v\", \"showlegend\": false, \"type\": \"scatter\", \"x\": [0.818], \"xaxis\": \"x5\", \"y\": [6.149], \"yaxis\": \"y5\"}, {\"hovertemplate\": \"country_name=Belarus<br>year=2015<br>lifespan=%{x}<br>happiness_score=%{y}<extra></extra>\", \"legendgroup\": \"Belarus\", \"marker\": {\"color\": \"#B6E880\", \"symbol\": \"circle\"}, \"mode\": \"markers\", \"name\": \"Belarus\", \"orientation\": \"v\", \"showlegend\": true, \"type\": \"scatter\", \"x\": [0.7360800000000001], \"xaxis\": \"x\", \"y\": [5.813], \"yaxis\": \"y\"}, {\"hovertemplate\": \"country_name=Belarus<br>year=2016<br>lifespan=%{x}<br>happiness_score=%{y}<extra></extra>\", \"legendgroup\": \"Belarus\", \"marker\": {\"color\": \"#B6E880\", \"symbol\": \"circle\"}, \"mode\": \"markers\", \"name\": \"Belarus\", \"orientation\": \"v\", \"showlegend\": false, \"type\": \"scatter\", \"x\": [0.6310399999999999], \"xaxis\": \"x2\", \"y\": [5.8020000000000005], \"yaxis\": \"y2\"}, {\"hovertemplate\": \"country_name=Belarus<br>year=2017<br>lifespan=%{x}<br>happiness_score=%{y}<extra></extra>\", \"legendgroup\": \"Belarus\", \"marker\": {\"color\": \"#B6E880\", \"symbol\": \"circle\"}, \"mode\": \"markers\", \"name\": \"Belarus\", \"orientation\": \"v\", \"showlegend\": false, \"type\": \"scatter\", \"x\": [0.6377142667770389], \"xaxis\": \"x3\", \"y\": [5.5689997673034695], \"yaxis\": \"y3\"}, {\"hovertemplate\": \"country_name=Belarus<br>year=2018<br>lifespan=%{x}<br>happiness_score=%{y}<extra></extra>\", \"legendgroup\": \"Belarus\", \"marker\": {\"color\": \"#B6E880\", \"symbol\": \"circle\"}, \"mode\": \"markers\", \"name\": \"Belarus\", \"orientation\": \"v\", \"showlegend\": false, \"type\": \"scatter\", \"x\": [0.7], \"xaxis\": \"x4\", \"y\": [5.483], \"yaxis\": \"y4\"}, {\"hovertemplate\": \"country_name=Belarus<br>year=2019<br>lifespan=%{x}<br>happiness_score=%{y}<extra></extra>\", \"legendgroup\": \"Belarus\", \"marker\": {\"color\": \"#B6E880\", \"symbol\": \"circle\"}, \"mode\": \"markers\", \"name\": \"Belarus\", \"orientation\": \"v\", \"showlegend\": false, \"type\": \"scatter\", \"x\": [0.789], \"xaxis\": \"x5\", \"y\": [5.323], \"yaxis\": \"y5\"}, {\"hovertemplate\": \"country_name=Poland<br>year=2015<br>lifespan=%{x}<br>happiness_score=%{y}<extra></extra>\", \"legendgroup\": \"Poland\", \"marker\": {\"color\": \"#FF97FF\", \"symbol\": \"circle\"}, \"mode\": \"markers\", \"name\": \"Poland\", \"orientation\": \"v\", \"showlegend\": true, \"type\": \"scatter\", \"x\": [0.77903], \"xaxis\": \"x\", \"y\": [5.791], \"yaxis\": \"y\"}, {\"hovertemplate\": \"country_name=Poland<br>year=2016<br>lifespan=%{x}<br>happiness_score=%{y}<extra></extra>\", \"legendgroup\": \"Poland\", \"marker\": {\"color\": \"#FF97FF\", \"symbol\": \"circle\"}, \"mode\": \"markers\", \"name\": \"Poland\", \"orientation\": \"v\", \"showlegend\": false, \"type\": \"scatter\", \"x\": [0.69058], \"xaxis\": \"x2\", \"y\": [5.835], \"yaxis\": \"y2\"}, {\"hovertemplate\": \"country_name=Poland<br>year=2017<br>lifespan=%{x}<br>happiness_score=%{y}<extra></extra>\", \"legendgroup\": \"Poland\", \"marker\": {\"color\": \"#FF97FF\", \"symbol\": \"circle\"}, \"mode\": \"markers\", \"name\": \"Poland\", \"orientation\": \"v\", \"showlegend\": false, \"type\": \"scatter\", \"x\": [0.699475347995758], \"xaxis\": \"x3\", \"y\": [5.97300004959106], \"yaxis\": \"y3\"}, {\"hovertemplate\": \"country_name=Poland<br>year=2018<br>lifespan=%{x}<br>happiness_score=%{y}<extra></extra>\", \"legendgroup\": \"Poland\", \"marker\": {\"color\": \"#FF97FF\", \"symbol\": \"circle\"}, \"mode\": \"markers\", \"name\": \"Poland\", \"orientation\": \"v\", \"showlegend\": false, \"type\": \"scatter\", \"x\": [0.7809999999999999], \"xaxis\": \"x4\", \"y\": [6.122999999999998], \"yaxis\": \"y4\"}, {\"hovertemplate\": \"country_name=Poland<br>year=2019<br>lifespan=%{x}<br>happiness_score=%{y}<extra></extra>\", \"legendgroup\": \"Poland\", \"marker\": {\"color\": \"#FF97FF\", \"symbol\": \"circle\"}, \"mode\": \"markers\", \"name\": \"Poland\", \"orientation\": \"v\", \"showlegend\": false, \"type\": \"scatter\", \"x\": [0.884], \"xaxis\": \"x5\", \"y\": [6.182], \"yaxis\": \"y5\"}, {\"hovertemplate\": \"country_name=Croatia<br>year=2015<br>lifespan=%{x}<br>happiness_score=%{y}<extra></extra>\", \"legendgroup\": \"Croatia\", \"marker\": {\"color\": \"#FECB52\", \"symbol\": \"circle\"}, \"mode\": \"markers\", \"name\": \"Croatia\", \"orientation\": \"v\", \"showlegend\": true, \"type\": \"scatter\", \"x\": [0.78805], \"xaxis\": \"x\", \"y\": [5.759], \"yaxis\": \"y\"}, {\"hovertemplate\": \"country_name=Croatia<br>year=2016<br>lifespan=%{x}<br>happiness_score=%{y}<extra></extra>\", \"legendgroup\": \"Croatia\", \"marker\": {\"color\": \"#FECB52\", \"symbol\": \"circle\"}, \"mode\": \"markers\", \"name\": \"Croatia\", \"orientation\": \"v\", \"showlegend\": false, \"type\": \"scatter\", \"x\": [0.70524], \"xaxis\": \"x2\", \"y\": [5.488], \"yaxis\": \"y2\"}, {\"hovertemplate\": \"country_name=Croatia<br>year=2017<br>lifespan=%{x}<br>happiness_score=%{y}<extra></extra>\", \"legendgroup\": \"Croatia\", \"marker\": {\"color\": \"#FECB52\", \"symbol\": \"circle\"}, \"mode\": \"markers\", \"name\": \"Croatia\", \"orientation\": \"v\", \"showlegend\": false, \"type\": \"scatter\", \"x\": [0.701288521289825], \"xaxis\": \"x3\", \"y\": [5.2930002212524405], \"yaxis\": \"y3\"}, {\"hovertemplate\": \"country_name=Croatia<br>year=2018<br>lifespan=%{x}<br>happiness_score=%{y}<extra></extra>\", \"legendgroup\": \"Croatia\", \"marker\": {\"color\": \"#FECB52\", \"symbol\": \"circle\"}, \"mode\": \"markers\", \"name\": \"Croatia\", \"orientation\": \"v\", \"showlegend\": false, \"type\": \"scatter\", \"x\": [0.737], \"xaxis\": \"x4\", \"y\": [5.3210000000000015], \"yaxis\": \"y4\"}, {\"hovertemplate\": \"country_name=Croatia<br>year=2019<br>lifespan=%{x}<br>happiness_score=%{y}<extra></extra>\", \"legendgroup\": \"Croatia\", \"marker\": {\"color\": \"#FECB52\", \"symbol\": \"circle\"}, \"mode\": \"markers\", \"name\": \"Croatia\", \"orientation\": \"v\", \"showlegend\": false, \"type\": \"scatter\", \"x\": [0.914], \"xaxis\": \"x5\", \"y\": [5.432], \"yaxis\": \"y5\"}, {\"hovertemplate\": \"country_name=Russia<br>year=2015<br>lifespan=%{x}<br>happiness_score=%{y}<extra></extra>\", \"legendgroup\": \"Russia\", \"marker\": {\"color\": \"#636efa\", \"symbol\": \"circle\"}, \"mode\": \"markers\", \"name\": \"Russia\", \"orientation\": \"v\", \"showlegend\": true, \"type\": \"scatter\", \"x\": [0.6692600000000001], \"xaxis\": \"x\", \"y\": [5.716], \"yaxis\": \"y\"}, {\"hovertemplate\": \"country_name=Russia<br>year=2016<br>lifespan=%{x}<br>happiness_score=%{y}<extra></extra>\", \"legendgroup\": \"Russia\", \"marker\": {\"color\": \"#636efa\", \"symbol\": \"circle\"}, \"mode\": \"markers\", \"name\": \"Russia\", \"orientation\": \"v\", \"showlegend\": false, \"type\": \"scatter\", \"x\": [0.58991], \"xaxis\": \"x2\", \"y\": [5.856], \"yaxis\": \"y2\"}, {\"hovertemplate\": \"country_name=Russia<br>year=2017<br>lifespan=%{x}<br>happiness_score=%{y}<extra></extra>\", \"legendgroup\": \"Russia\", \"marker\": {\"color\": \"#636efa\", \"symbol\": \"circle\"}, \"mode\": \"markers\", \"name\": \"Russia\", \"orientation\": \"v\", \"showlegend\": false, \"type\": \"scatter\", \"x\": [0.547349333763123], \"xaxis\": \"x3\", \"y\": [5.962999820709231], \"yaxis\": \"y3\"}, {\"hovertemplate\": \"country_name=Russia<br>year=2018<br>lifespan=%{x}<br>happiness_score=%{y}<extra></extra>\", \"legendgroup\": \"Russia\", \"marker\": {\"color\": \"#636efa\", \"symbol\": \"circle\"}, \"mode\": \"markers\", \"name\": \"Russia\", \"orientation\": \"v\", \"showlegend\": false, \"type\": \"scatter\", \"x\": [0.599], \"xaxis\": \"x4\", \"y\": [5.81], \"yaxis\": \"y4\"}, {\"hovertemplate\": \"country_name=Russia<br>year=2019<br>lifespan=%{x}<br>happiness_score=%{y}<extra></extra>\", \"legendgroup\": \"Russia\", \"marker\": {\"color\": \"#636efa\", \"symbol\": \"circle\"}, \"mode\": \"markers\", \"name\": \"Russia\", \"orientation\": \"v\", \"showlegend\": false, \"type\": \"scatter\", \"x\": [0.726], \"xaxis\": \"x5\", \"y\": [5.648], \"yaxis\": \"y5\"}, {\"hovertemplate\": \"country_name=Kosovo<br>year=2015<br>lifespan=%{x}<br>happiness_score=%{y}<extra></extra>\", \"legendgroup\": \"Kosovo\", \"marker\": {\"color\": \"#EF553B\", \"symbol\": \"circle\"}, \"mode\": \"markers\", \"name\": \"Kosovo\", \"orientation\": \"v\", \"showlegend\": true, \"type\": \"scatter\", \"x\": [0.63132], \"xaxis\": \"x\", \"y\": [5.589], \"yaxis\": \"y\"}, {\"hovertemplate\": \"country_name=Kosovo<br>year=2016<br>lifespan=%{x}<br>happiness_score=%{y}<extra></extra>\", \"legendgroup\": \"Kosovo\", \"marker\": {\"color\": \"#EF553B\", \"symbol\": \"circle\"}, \"mode\": \"markers\", \"name\": \"Kosovo\", \"orientation\": \"v\", \"showlegend\": false, \"type\": \"scatter\", \"x\": [0.54], \"xaxis\": \"x2\", \"y\": [5.401], \"yaxis\": \"y2\"}, {\"hovertemplate\": \"country_name=Kosovo<br>year=2017<br>lifespan=%{x}<br>happiness_score=%{y}<extra></extra>\", \"legendgroup\": \"Kosovo\", \"marker\": {\"color\": \"#EF553B\", \"symbol\": \"circle\"}, \"mode\": \"markers\", \"name\": \"Kosovo\", \"orientation\": \"v\", \"showlegend\": false, \"type\": \"scatter\", \"x\": [0.541452050209045], \"xaxis\": \"x3\", \"y\": [5.27899980545044], \"yaxis\": \"y3\"}, {\"hovertemplate\": \"country_name=Kosovo<br>year=2018<br>lifespan=%{x}<br>happiness_score=%{y}<extra></extra>\", \"legendgroup\": \"Kosovo\", \"marker\": {\"color\": \"#EF553B\", \"symbol\": \"circle\"}, \"mode\": \"markers\", \"name\": \"Kosovo\", \"orientation\": \"v\", \"showlegend\": false, \"type\": \"scatter\", \"x\": [0.578], \"xaxis\": \"x4\", \"y\": [5.662000000000001], \"yaxis\": \"y4\"}, {\"hovertemplate\": \"country_name=Kosovo<br>year=2019<br>lifespan=%{x}<br>happiness_score=%{y}<extra></extra>\", \"legendgroup\": \"Kosovo\", \"marker\": {\"color\": \"#EF553B\", \"symbol\": \"circle\"}, \"mode\": \"markers\", \"name\": \"Kosovo\", \"orientation\": \"v\", \"showlegend\": false, \"type\": \"scatter\", \"x\": [0.758], \"xaxis\": \"x5\", \"y\": [6.1], \"yaxis\": \"y5\"}, {\"hovertemplate\": \"country_name=Turkmenistan<br>year=2015<br>lifespan=%{x}<br>happiness_score=%{y}<extra></extra>\", \"legendgroup\": \"Turkmenistan\", \"marker\": {\"color\": \"#00cc96\", \"symbol\": \"circle\"}, \"mode\": \"markers\", \"name\": \"Turkmenistan\", \"orientation\": \"v\", \"showlegend\": true, \"type\": \"scatter\", \"x\": [0.53886], \"xaxis\": \"x\", \"y\": [5.547999999999999], \"yaxis\": \"y\"}, {\"hovertemplate\": \"country_name=Turkmenistan<br>year=2016<br>lifespan=%{x}<br>happiness_score=%{y}<extra></extra>\", \"legendgroup\": \"Turkmenistan\", \"marker\": {\"color\": \"#00cc96\", \"symbol\": \"circle\"}, \"mode\": \"markers\", \"name\": \"Turkmenistan\", \"orientation\": \"v\", \"showlegend\": false, \"type\": \"scatter\", \"x\": [0.4400600000000001], \"xaxis\": \"x2\", \"y\": [5.658], \"yaxis\": \"y2\"}, {\"hovertemplate\": \"country_name=Turkmenistan<br>year=2017<br>lifespan=%{x}<br>happiness_score=%{y}<extra></extra>\", \"legendgroup\": \"Turkmenistan\", \"marker\": {\"color\": \"#00cc96\", \"symbol\": \"circle\"}, \"mode\": \"markers\", \"name\": \"Turkmenistan\", \"orientation\": \"v\", \"showlegend\": false, \"type\": \"scatter\", \"x\": [0.437726080417633], \"xaxis\": \"x3\", \"y\": [5.82200002670288], \"yaxis\": \"y3\"}, {\"hovertemplate\": \"country_name=Turkmenistan<br>year=2018<br>lifespan=%{x}<br>happiness_score=%{y}<extra></extra>\", \"legendgroup\": \"Turkmenistan\", \"marker\": {\"color\": \"#00cc96\", \"symbol\": \"circle\"}, \"mode\": \"markers\", \"name\": \"Turkmenistan\", \"orientation\": \"v\", \"showlegend\": false, \"type\": \"scatter\", \"x\": [0.517], \"xaxis\": \"x4\", \"y\": [5.636], \"yaxis\": \"y4\"}, {\"hovertemplate\": \"country_name=Turkmenistan<br>year=2019<br>lifespan=%{x}<br>happiness_score=%{y}<extra></extra>\", \"legendgroup\": \"Turkmenistan\", \"marker\": {\"color\": \"#00cc96\", \"symbol\": \"circle\"}, \"mode\": \"markers\", \"name\": \"Turkmenistan\", \"orientation\": \"v\", \"showlegend\": false, \"type\": \"scatter\", \"x\": [0.657], \"xaxis\": \"x5\", \"y\": [5.247000000000001], \"yaxis\": \"y5\"}, {\"hovertemplate\": \"country_name=Estonia<br>year=2015<br>lifespan=%{x}<br>happiness_score=%{y}<extra></extra>\", \"legendgroup\": \"Estonia\", \"marker\": {\"color\": \"#ab63fa\", \"symbol\": \"circle\"}, \"mode\": \"markers\", \"name\": \"Estonia\", \"orientation\": \"v\", \"showlegend\": true, \"type\": \"scatter\", \"x\": [0.77361], \"xaxis\": \"x\", \"y\": [5.4289999999999985], \"yaxis\": \"y\"}, {\"hovertemplate\": \"country_name=Estonia<br>year=2016<br>lifespan=%{x}<br>happiness_score=%{y}<extra></extra>\", \"legendgroup\": \"Estonia\", \"marker\": {\"color\": \"#ab63fa\", \"symbol\": \"circle\"}, \"mode\": \"markers\", \"name\": \"Estonia\", \"orientation\": \"v\", \"showlegend\": false, \"type\": \"scatter\", \"x\": [0.68098], \"xaxis\": \"x2\", \"y\": [5.517], \"yaxis\": \"y2\"}, {\"hovertemplate\": \"country_name=Estonia<br>year=2017<br>lifespan=%{x}<br>happiness_score=%{y}<extra></extra>\", \"legendgroup\": \"Estonia\", \"marker\": {\"color\": \"#ab63fa\", \"symbol\": \"circle\"}, \"mode\": \"markers\", \"name\": \"Estonia\", \"orientation\": \"v\", \"showlegend\": false, \"type\": \"scatter\", \"x\": [0.695168316364288], \"xaxis\": \"x3\", \"y\": [5.61100006103516], \"yaxis\": \"y3\"}, {\"hovertemplate\": \"country_name=Estonia<br>year=2018<br>lifespan=%{x}<br>happiness_score=%{y}<extra></extra>\", \"legendgroup\": \"Estonia\", \"marker\": {\"color\": \"#ab63fa\", \"symbol\": \"circle\"}, \"mode\": \"markers\", \"name\": \"Estonia\", \"orientation\": \"v\", \"showlegend\": false, \"type\": \"scatter\", \"x\": [0.737], \"xaxis\": \"x4\", \"y\": [5.739], \"yaxis\": \"y4\"}, {\"hovertemplate\": \"country_name=Estonia<br>year=2019<br>lifespan=%{x}<br>happiness_score=%{y}<extra></extra>\", \"legendgroup\": \"Estonia\", \"marker\": {\"color\": \"#ab63fa\", \"symbol\": \"circle\"}, \"mode\": \"markers\", \"name\": \"Estonia\", \"orientation\": \"v\", \"showlegend\": false, \"type\": \"scatter\", \"x\": [0.8740000000000001], \"xaxis\": \"x5\", \"y\": [5.893], \"yaxis\": \"y5\"}, {\"hovertemplate\": \"country_name=Kyrgyzstan<br>year=2015<br>lifespan=%{x}<br>happiness_score=%{y}<extra></extra>\", \"legendgroup\": \"Kyrgyzstan\", \"marker\": {\"color\": \"#FFA15A\", \"symbol\": \"circle\"}, \"mode\": \"markers\", \"name\": \"Kyrgyzstan\", \"orientation\": \"v\", \"showlegend\": true, \"type\": \"scatter\", \"x\": [0.65088], \"xaxis\": \"x\", \"y\": [5.2860000000000005], \"yaxis\": \"y\"}, {\"hovertemplate\": \"country_name=Kyrgyzstan<br>year=2016<br>lifespan=%{x}<br>happiness_score=%{y}<extra></extra>\", \"legendgroup\": \"Kyrgyzstan\", \"marker\": {\"color\": \"#FFA15A\", \"symbol\": \"circle\"}, \"mode\": \"markers\", \"name\": \"Kyrgyzstan\", \"orientation\": \"v\", \"showlegend\": false, \"type\": \"scatter\", \"x\": [0.5544899999999999], \"xaxis\": \"x2\", \"y\": [5.185], \"yaxis\": \"y2\"}, {\"hovertemplate\": \"country_name=Kyrgyzstan<br>year=2017<br>lifespan=%{x}<br>happiness_score=%{y}<extra></extra>\", \"legendgroup\": \"Kyrgyzstan\", \"marker\": {\"color\": \"#FFA15A\", \"symbol\": \"circle\"}, \"mode\": \"markers\", \"name\": \"Kyrgyzstan\", \"orientation\": \"v\", \"showlegend\": false, \"type\": \"scatter\", \"x\": [0.553457796573639], \"xaxis\": \"x3\", \"y\": [5.0040001869201705], \"yaxis\": \"y3\"}, {\"hovertemplate\": \"country_name=Kyrgyzstan<br>year=2018<br>lifespan=%{x}<br>happiness_score=%{y}<extra></extra>\", \"legendgroup\": \"Kyrgyzstan\", \"marker\": {\"color\": \"#FFA15A\", \"symbol\": \"circle\"}, \"mode\": \"markers\", \"name\": \"Kyrgyzstan\", \"orientation\": \"v\", \"showlegend\": false, \"type\": \"scatter\", \"x\": [0.594], \"xaxis\": \"x4\", \"y\": [5.131], \"yaxis\": \"y4\"}, {\"hovertemplate\": \"country_name=Kyrgyzstan<br>year=2019<br>lifespan=%{x}<br>happiness_score=%{y}<extra></extra>\", \"legendgroup\": \"Kyrgyzstan\", \"marker\": {\"color\": \"#FFA15A\", \"symbol\": \"circle\"}, \"mode\": \"markers\", \"name\": \"Kyrgyzstan\", \"orientation\": \"v\", \"showlegend\": false, \"type\": \"scatter\", \"x\": [0.723], \"xaxis\": \"x5\", \"y\": [5.261], \"yaxis\": \"y5\"}, {\"hovertemplate\": \"country_name=Azerbaijan<br>year=2015<br>lifespan=%{x}<br>happiness_score=%{y}<extra></extra>\", \"legendgroup\": \"Azerbaijan\", \"marker\": {\"color\": \"#19d3f3\", \"symbol\": \"circle\"}, \"mode\": \"markers\", \"name\": \"Azerbaijan\", \"orientation\": \"v\", \"showlegend\": true, \"type\": \"scatter\", \"x\": [0.64045], \"xaxis\": \"x\", \"y\": [5.2120000000000015], \"yaxis\": \"y\"}, {\"hovertemplate\": \"country_name=Azerbaijan<br>year=2016<br>lifespan=%{x}<br>happiness_score=%{y}<extra></extra>\", \"legendgroup\": \"Azerbaijan\", \"marker\": {\"color\": \"#19d3f3\", \"symbol\": \"circle\"}, \"mode\": \"markers\", \"name\": \"Azerbaijan\", \"orientation\": \"v\", \"showlegend\": false, \"type\": \"scatter\", \"x\": [0.54504], \"xaxis\": \"x2\", \"y\": [5.291], \"yaxis\": \"y2\"}, {\"hovertemplate\": \"country_name=Azerbaijan<br>year=2017<br>lifespan=%{x}<br>happiness_score=%{y}<extra></extra>\", \"legendgroup\": \"Azerbaijan\", \"marker\": {\"color\": \"#19d3f3\", \"symbol\": \"circle\"}, \"mode\": \"markers\", \"name\": \"Azerbaijan\", \"orientation\": \"v\", \"showlegend\": false, \"type\": \"scatter\", \"x\": [0.5407757759094239], \"xaxis\": \"x3\", \"y\": [5.2340002059936515], \"yaxis\": \"y3\"}, {\"hovertemplate\": \"country_name=Azerbaijan<br>year=2018<br>lifespan=%{x}<br>happiness_score=%{y}<extra></extra>\", \"legendgroup\": \"Azerbaijan\", \"marker\": {\"color\": \"#19d3f3\", \"symbol\": \"circle\"}, \"mode\": \"markers\", \"name\": \"Azerbaijan\", \"orientation\": \"v\", \"showlegend\": false, \"type\": \"scatter\", \"x\": [0.603], \"xaxis\": \"x4\", \"y\": [5.2010000000000005], \"yaxis\": \"y4\"}, {\"hovertemplate\": \"country_name=Azerbaijan<br>year=2019<br>lifespan=%{x}<br>happiness_score=%{y}<extra></extra>\", \"legendgroup\": \"Azerbaijan\", \"marker\": {\"color\": \"#19d3f3\", \"symbol\": \"circle\"}, \"mode\": \"markers\", \"name\": \"Azerbaijan\", \"orientation\": \"v\", \"showlegend\": false, \"type\": \"scatter\", \"x\": [0.769], \"xaxis\": \"x5\", \"y\": [5.207999999999998], \"yaxis\": \"y5\"}, {\"hovertemplate\": \"country_name=Montenegro<br>year=2015<br>lifespan=%{x}<br>happiness_score=%{y}<extra></extra>\", \"legendgroup\": \"Montenegro\", \"marker\": {\"color\": \"#FF6692\", \"symbol\": \"circle\"}, \"mode\": \"markers\", \"name\": \"Montenegro\", \"orientation\": \"v\", \"showlegend\": true, \"type\": \"scatter\", \"x\": [0.72521], \"xaxis\": \"x\", \"y\": [5.192], \"yaxis\": \"y\"}, {\"hovertemplate\": \"country_name=Montenegro<br>year=2016<br>lifespan=%{x}<br>happiness_score=%{y}<extra></extra>\", \"legendgroup\": \"Montenegro\", \"marker\": {\"color\": \"#FF6692\", \"symbol\": \"circle\"}, \"mode\": \"markers\", \"name\": \"Montenegro\", \"orientation\": \"v\", \"showlegend\": false, \"type\": \"scatter\", \"x\": [0.6353300000000001], \"xaxis\": \"x2\", \"y\": [5.1610000000000005], \"yaxis\": \"y2\"}, {\"hovertemplate\": \"country_name=Montenegro<br>year=2017<br>lifespan=%{x}<br>happiness_score=%{y}<extra></extra>\", \"legendgroup\": \"Montenegro\", \"marker\": {\"color\": \"#FF6692\", \"symbol\": \"circle\"}, \"mode\": \"markers\", \"name\": \"Montenegro\", \"orientation\": \"v\", \"showlegend\": false, \"type\": \"scatter\", \"x\": [0.6674646735191351], \"xaxis\": \"x3\", \"y\": [5.23699998855591], \"yaxis\": \"y3\"}, {\"hovertemplate\": \"country_name=Montenegro<br>year=2018<br>lifespan=%{x}<br>happiness_score=%{y}<extra></extra>\", \"legendgroup\": \"Montenegro\", \"marker\": {\"color\": \"#FF6692\", \"symbol\": \"circle\"}, \"mode\": \"markers\", \"name\": \"Montenegro\", \"orientation\": \"v\", \"showlegend\": false, \"type\": \"scatter\", \"x\": [0.7290000000000001], \"xaxis\": \"x4\", \"y\": [5.347], \"yaxis\": \"y4\"}, {\"hovertemplate\": \"country_name=Montenegro<br>year=2019<br>lifespan=%{x}<br>happiness_score=%{y}<extra></extra>\", \"legendgroup\": \"Montenegro\", \"marker\": {\"color\": \"#FF6692\", \"symbol\": \"circle\"}, \"mode\": \"markers\", \"name\": \"Montenegro\", \"orientation\": \"v\", \"showlegend\": false, \"type\": \"scatter\", \"x\": [0.871], \"xaxis\": \"x5\", \"y\": [5.523], \"yaxis\": \"y5\"}, {\"hovertemplate\": \"country_name=Romania<br>year=2015<br>lifespan=%{x}<br>happiness_score=%{y}<extra></extra>\", \"legendgroup\": \"Romania\", \"marker\": {\"color\": \"#B6E880\", \"symbol\": \"circle\"}, \"mode\": \"markers\", \"name\": \"Romania\", \"orientation\": \"v\", \"showlegend\": true, \"type\": \"scatter\", \"x\": [0.7689], \"xaxis\": \"x\", \"y\": [5.124], \"yaxis\": \"y\"}, {\"hovertemplate\": \"country_name=Romania<br>year=2016<br>lifespan=%{x}<br>happiness_score=%{y}<extra></extra>\", \"legendgroup\": \"Romania\", \"marker\": {\"color\": \"#B6E880\", \"symbol\": \"circle\"}, \"mode\": \"markers\", \"name\": \"Romania\", \"orientation\": \"v\", \"showlegend\": false, \"type\": \"scatter\", \"x\": [0.67602], \"xaxis\": \"x2\", \"y\": [5.528], \"yaxis\": \"y2\"}, {\"hovertemplate\": \"country_name=Romania<br>year=2017<br>lifespan=%{x}<br>happiness_score=%{y}<extra></extra>\", \"legendgroup\": \"Romania\", \"marker\": {\"color\": \"#B6E880\", \"symbol\": \"circle\"}, \"mode\": \"markers\", \"name\": \"Romania\", \"orientation\": \"v\", \"showlegend\": false, \"type\": \"scatter\", \"x\": [0.6851583123207089], \"xaxis\": \"x3\", \"y\": [5.824999809265139], \"yaxis\": \"y3\"}, {\"hovertemplate\": \"country_name=Romania<br>year=2018<br>lifespan=%{x}<br>happiness_score=%{y}<extra></extra>\", \"legendgroup\": \"Romania\", \"marker\": {\"color\": \"#B6E880\", \"symbol\": \"circle\"}, \"mode\": \"markers\", \"name\": \"Romania\", \"orientation\": \"v\", \"showlegend\": false, \"type\": \"scatter\", \"x\": [0.726], \"xaxis\": \"x4\", \"y\": [5.945], \"yaxis\": \"y4\"}, {\"hovertemplate\": \"country_name=Romania<br>year=2019<br>lifespan=%{x}<br>happiness_score=%{y}<extra></extra>\", \"legendgroup\": \"Romania\", \"marker\": {\"color\": \"#B6E880\", \"symbol\": \"circle\"}, \"mode\": \"markers\", \"name\": \"Romania\", \"orientation\": \"v\", \"showlegend\": false, \"type\": \"scatter\", \"x\": [0.825], \"xaxis\": \"x5\", \"y\": [6.07], \"yaxis\": \"y5\"}, {\"hovertemplate\": \"country_name=Serbia<br>year=2015<br>lifespan=%{x}<br>happiness_score=%{y}<extra></extra>\", \"legendgroup\": \"Serbia\", \"marker\": {\"color\": \"#FF97FF\", \"symbol\": \"circle\"}, \"mode\": \"markers\", \"name\": \"Serbia\", \"orientation\": \"v\", \"showlegend\": true, \"type\": \"scatter\", \"x\": [0.74836], \"xaxis\": \"x\", \"y\": [5.122999999999998], \"yaxis\": \"y\"}, {\"hovertemplate\": \"country_name=Serbia<br>year=2016<br>lifespan=%{x}<br>happiness_score=%{y}<extra></extra>\", \"legendgroup\": \"Serbia\", \"marker\": {\"color\": \"#FF97FF\", \"symbol\": \"circle\"}, \"mode\": \"markers\", \"name\": \"Serbia\", \"orientation\": \"v\", \"showlegend\": false, \"type\": \"scatter\", \"x\": [0.6458], \"xaxis\": \"x2\", \"y\": [5.1770000000000005], \"yaxis\": \"y2\"}, {\"hovertemplate\": \"country_name=Serbia<br>year=2017<br>lifespan=%{x}<br>happiness_score=%{y}<extra></extra>\", \"legendgroup\": \"Serbia\", \"marker\": {\"color\": \"#FF97FF\", \"symbol\": \"circle\"}, \"mode\": \"markers\", \"name\": \"Serbia\", \"orientation\": \"v\", \"showlegend\": false, \"type\": \"scatter\", \"x\": [0.65078467130661], \"xaxis\": \"x3\", \"y\": [5.39499998092651], \"yaxis\": \"y3\"}, {\"hovertemplate\": \"country_name=Serbia<br>year=2018<br>lifespan=%{x}<br>happiness_score=%{y}<extra></extra>\", \"legendgroup\": \"Serbia\", \"marker\": {\"color\": \"#FF97FF\", \"symbol\": \"circle\"}, \"mode\": \"markers\", \"name\": \"Serbia\", \"orientation\": \"v\", \"showlegend\": false, \"type\": \"scatter\", \"x\": [0.685], \"xaxis\": \"x4\", \"y\": [5.398], \"yaxis\": \"y4\"}, {\"hovertemplate\": \"country_name=Serbia<br>year=2019<br>lifespan=%{x}<br>happiness_score=%{y}<extra></extra>\", \"legendgroup\": \"Serbia\", \"marker\": {\"color\": \"#FF97FF\", \"symbol\": \"circle\"}, \"mode\": \"markers\", \"name\": \"Serbia\", \"orientation\": \"v\", \"showlegend\": false, \"type\": \"scatter\", \"x\": [0.8540000000000001], \"xaxis\": \"x5\", \"y\": [5.603], \"yaxis\": \"y5\"}, {\"hovertemplate\": \"country_name=Latvia<br>year=2015<br>lifespan=%{x}<br>happiness_score=%{y}<extra></extra>\", \"legendgroup\": \"Latvia\", \"marker\": {\"color\": \"#FECB52\", \"symbol\": \"circle\"}, \"mode\": \"markers\", \"name\": \"Latvia\", \"orientation\": \"v\", \"showlegend\": true, \"type\": \"scatter\", \"x\": [0.72437], \"xaxis\": \"x\", \"y\": [5.098], \"yaxis\": \"y\"}, {\"hovertemplate\": \"country_name=Latvia<br>year=2016<br>lifespan=%{x}<br>happiness_score=%{y}<extra></extra>\", \"legendgroup\": \"Latvia\", \"marker\": {\"color\": \"#FECB52\", \"symbol\": \"circle\"}, \"mode\": \"markers\", \"name\": \"Latvia\", \"orientation\": \"v\", \"showlegend\": false, \"type\": \"scatter\", \"x\": [0.63952], \"xaxis\": \"x2\", \"y\": [5.56], \"yaxis\": \"y2\"}, {\"hovertemplate\": \"country_name=Latvia<br>year=2017<br>lifespan=%{x}<br>happiness_score=%{y}<extra></extra>\", \"legendgroup\": \"Latvia\", \"marker\": {\"color\": \"#FECB52\", \"symbol\": \"circle\"}, \"mode\": \"markers\", \"name\": \"Latvia\", \"orientation\": \"v\", \"showlegend\": false, \"type\": \"scatter\", \"x\": [0.638566970825195], \"xaxis\": \"x3\", \"y\": [5.849999904632571], \"yaxis\": \"y3\"}, {\"hovertemplate\": \"country_name=Latvia<br>year=2018<br>lifespan=%{x}<br>happiness_score=%{y}<extra></extra>\", \"legendgroup\": \"Latvia\", \"marker\": {\"color\": \"#FECB52\", \"symbol\": \"circle\"}, \"mode\": \"markers\", \"name\": \"Latvia\", \"orientation\": \"v\", \"showlegend\": false, \"type\": \"scatter\", \"x\": [0.6709999999999999], \"xaxis\": \"x4\", \"y\": [5.933], \"yaxis\": \"y4\"}, {\"hovertemplate\": \"country_name=Latvia<br>year=2019<br>lifespan=%{x}<br>happiness_score=%{y}<extra></extra>\", \"legendgroup\": \"Latvia\", \"marker\": {\"color\": \"#FECB52\", \"symbol\": \"circle\"}, \"mode\": \"markers\", \"name\": \"Latvia\", \"orientation\": \"v\", \"showlegend\": false, \"type\": \"scatter\", \"x\": [0.812], \"xaxis\": \"x5\", \"y\": [5.94], \"yaxis\": \"y5\"}, {\"hovertemplate\": \"country_name=Macedonia<br>year=2015<br>lifespan=%{x}<br>happiness_score=%{y}<extra></extra>\", \"legendgroup\": \"Macedonia\", \"marker\": {\"color\": \"#636efa\", \"symbol\": \"circle\"}, \"mode\": \"markers\", \"name\": \"Macedonia\", \"orientation\": \"v\", \"showlegend\": true, \"type\": \"scatter\", \"x\": [0.73545], \"xaxis\": \"x\", \"y\": [5.007], \"yaxis\": \"y\"}, {\"hovertemplate\": \"country_name=Macedonia<br>year=2016<br>lifespan=%{x}<br>happiness_score=%{y}<extra></extra>\", \"legendgroup\": \"Macedonia\", \"marker\": {\"color\": \"#636efa\", \"symbol\": \"circle\"}, \"mode\": \"markers\", \"name\": \"Macedonia\", \"orientation\": \"v\", \"showlegend\": false, \"type\": \"scatter\", \"x\": [0.6473800000000001], \"xaxis\": \"x2\", \"y\": [5.121], \"yaxis\": \"y2\"}, {\"hovertemplate\": \"country_name=Macedonia<br>year=2017<br>lifespan=%{x}<br>happiness_score=%{y}<extra></extra>\", \"legendgroup\": \"Macedonia\", \"marker\": {\"color\": \"#636efa\", \"symbol\": \"circle\"}, \"mode\": \"markers\", \"name\": \"Macedonia\", \"orientation\": \"v\", \"showlegend\": false, \"type\": \"scatter\", \"x\": [0.644948184490204], \"xaxis\": \"x3\", \"y\": [5.1750001907348615], \"yaxis\": \"y3\"}, {\"hovertemplate\": \"country_name=Macedonia<br>year=2018<br>lifespan=%{x}<br>happiness_score=%{y}<extra></extra>\", \"legendgroup\": \"Macedonia\", \"marker\": {\"color\": \"#636efa\", \"symbol\": \"circle\"}, \"mode\": \"markers\", \"name\": \"Macedonia\", \"orientation\": \"v\", \"showlegend\": false, \"type\": \"scatter\", \"x\": [0.691], \"xaxis\": \"x4\", \"y\": [5.185], \"yaxis\": \"y4\"}, {\"hovertemplate\": \"country_name=Albania<br>year=2015<br>lifespan=%{x}<br>happiness_score=%{y}<extra></extra>\", \"legendgroup\": \"Albania\", \"marker\": {\"color\": \"#EF553B\", \"symbol\": \"circle\"}, \"mode\": \"markers\", \"name\": \"Albania\", \"orientation\": \"v\", \"showlegend\": true, \"type\": \"scatter\", \"x\": [0.81325], \"xaxis\": \"x\", \"y\": [4.959], \"yaxis\": \"y\"}, {\"hovertemplate\": \"country_name=Albania<br>year=2016<br>lifespan=%{x}<br>happiness_score=%{y}<extra></extra>\", \"legendgroup\": \"Albania\", \"marker\": {\"color\": \"#EF553B\", \"symbol\": \"circle\"}, \"mode\": \"markers\", \"name\": \"Albania\", \"orientation\": \"v\", \"showlegend\": false, \"type\": \"scatter\", \"x\": [0.73007], \"xaxis\": \"x2\", \"y\": [4.655], \"yaxis\": \"y2\"}, {\"hovertemplate\": \"country_name=Albania<br>year=2017<br>lifespan=%{x}<br>happiness_score=%{y}<extra></extra>\", \"legendgroup\": \"Albania\", \"marker\": {\"color\": \"#EF553B\", \"symbol\": \"circle\"}, \"mode\": \"markers\", \"name\": \"Albania\", \"orientation\": \"v\", \"showlegend\": false, \"type\": \"scatter\", \"x\": [0.731159746646881], \"xaxis\": \"x3\", \"y\": [4.64400005340576], \"yaxis\": \"y3\"}, {\"hovertemplate\": \"country_name=Albania<br>year=2018<br>lifespan=%{x}<br>happiness_score=%{y}<extra></extra>\", \"legendgroup\": \"Albania\", \"marker\": {\"color\": \"#EF553B\", \"symbol\": \"circle\"}, \"mode\": \"markers\", \"name\": \"Albania\", \"orientation\": \"v\", \"showlegend\": false, \"type\": \"scatter\", \"x\": [0.79], \"xaxis\": \"x4\", \"y\": [4.586], \"yaxis\": \"y4\"}, {\"hovertemplate\": \"country_name=Albania<br>year=2019<br>lifespan=%{x}<br>happiness_score=%{y}<extra></extra>\", \"legendgroup\": \"Albania\", \"marker\": {\"color\": \"#EF553B\", \"symbol\": \"circle\"}, \"mode\": \"markers\", \"name\": \"Albania\", \"orientation\": \"v\", \"showlegend\": false, \"type\": \"scatter\", \"x\": [0.8740000000000001], \"xaxis\": \"x5\", \"y\": [4.7189999999999985], \"yaxis\": \"y5\"}, {\"hovertemplate\": \"country_name=Bosnia and Herzegovina<br>year=2015<br>lifespan=%{x}<br>happiness_score=%{y}<extra></extra>\", \"legendgroup\": \"Bosnia and Herzegovina\", \"marker\": {\"color\": \"#00cc96\", \"symbol\": \"circle\"}, \"mode\": \"markers\", \"name\": \"Bosnia and Herzegovina\", \"orientation\": \"v\", \"showlegend\": true, \"type\": \"scatter\", \"x\": [0.79081], \"xaxis\": \"x\", \"y\": [4.949], \"yaxis\": \"y\"}, {\"hovertemplate\": \"country_name=Bosnia and Herzegovina<br>year=2016<br>lifespan=%{x}<br>happiness_score=%{y}<extra></extra>\", \"legendgroup\": \"Bosnia and Herzegovina\", \"marker\": {\"color\": \"#00cc96\", \"symbol\": \"circle\"}, \"mode\": \"markers\", \"name\": \"Bosnia and Herzegovina\", \"orientation\": \"v\", \"showlegend\": false, \"type\": \"scatter\", \"x\": [0.7076600000000001], \"xaxis\": \"x2\", \"y\": [5.1629999999999985], \"yaxis\": \"y2\"}, {\"hovertemplate\": \"country_name=Bosnia and Herzegovina<br>year=2017<br>lifespan=%{x}<br>happiness_score=%{y}<extra></extra>\", \"legendgroup\": \"Bosnia and Herzegovina\", \"marker\": {\"color\": \"#00cc96\", \"symbol\": \"circle\"}, \"mode\": \"markers\", \"name\": \"Bosnia and Herzegovina\", \"orientation\": \"v\", \"showlegend\": false, \"type\": \"scatter\", \"x\": [0.705186307430267], \"xaxis\": \"x3\", \"y\": [5.18200016021729], \"yaxis\": \"y3\"}, {\"hovertemplate\": \"country_name=Bosnia and Herzegovina<br>year=2018<br>lifespan=%{x}<br>happiness_score=%{y}<extra></extra>\", \"legendgroup\": \"Bosnia and Herzegovina\", \"marker\": {\"color\": \"#00cc96\", \"symbol\": \"circle\"}, \"mode\": \"markers\", \"name\": \"Bosnia and Herzegovina\", \"orientation\": \"v\", \"showlegend\": false, \"type\": \"scatter\", \"x\": [0.758], \"xaxis\": \"x4\", \"y\": [5.129], \"yaxis\": \"y4\"}, {\"hovertemplate\": \"country_name=Bosnia and Herzegovina<br>year=2019<br>lifespan=%{x}<br>happiness_score=%{y}<extra></extra>\", \"legendgroup\": \"Bosnia and Herzegovina\", \"marker\": {\"color\": \"#00cc96\", \"symbol\": \"circle\"}, \"mode\": \"markers\", \"name\": \"Bosnia and Herzegovina\", \"orientation\": \"v\", \"showlegend\": false, \"type\": \"scatter\", \"x\": [0.845], \"xaxis\": \"x5\", \"y\": [5.386], \"yaxis\": \"y5\"}, {\"hovertemplate\": \"country_name=Hungary<br>year=2015<br>lifespan=%{x}<br>happiness_score=%{y}<extra></extra>\", \"legendgroup\": \"Hungary\", \"marker\": {\"color\": \"#ab63fa\", \"symbol\": \"circle\"}, \"mode\": \"markers\", \"name\": \"Hungary\", \"orientation\": \"v\", \"showlegend\": true, \"type\": \"scatter\", \"x\": [0.75905], \"xaxis\": \"x\", \"y\": [4.8], \"yaxis\": \"y\"}, {\"hovertemplate\": \"country_name=Hungary<br>year=2016<br>lifespan=%{x}<br>happiness_score=%{y}<extra></extra>\", \"legendgroup\": \"Hungary\", \"marker\": {\"color\": \"#ab63fa\", \"symbol\": \"circle\"}, \"mode\": \"markers\", \"name\": \"Hungary\", \"orientation\": \"v\", \"showlegend\": false, \"type\": \"scatter\", \"x\": [0.67608], \"xaxis\": \"x2\", \"y\": [5.145], \"yaxis\": \"y2\"}, {\"hovertemplate\": \"country_name=Hungary<br>year=2017<br>lifespan=%{x}<br>happiness_score=%{y}<extra></extra>\", \"legendgroup\": \"Hungary\", \"marker\": {\"color\": \"#ab63fa\", \"symbol\": \"circle\"}, \"mode\": \"markers\", \"name\": \"Hungary\", \"orientation\": \"v\", \"showlegend\": false, \"type\": \"scatter\", \"x\": [0.6877634525299069], \"xaxis\": \"x3\", \"y\": [5.32399988174438], \"yaxis\": \"y3\"}, {\"hovertemplate\": \"country_name=Hungary<br>year=2018<br>lifespan=%{x}<br>happiness_score=%{y}<extra></extra>\", \"legendgroup\": \"Hungary\", \"marker\": {\"color\": \"#ab63fa\", \"symbol\": \"circle\"}, \"mode\": \"markers\", \"name\": \"Hungary\", \"orientation\": \"v\", \"showlegend\": false, \"type\": \"scatter\", \"x\": [0.732], \"xaxis\": \"x4\", \"y\": [5.62], \"yaxis\": \"y4\"}, {\"hovertemplate\": \"country_name=Hungary<br>year=2019<br>lifespan=%{x}<br>happiness_score=%{y}<extra></extra>\", \"legendgroup\": \"Hungary\", \"marker\": {\"color\": \"#ab63fa\", \"symbol\": \"circle\"}, \"mode\": \"markers\", \"name\": \"Hungary\", \"orientation\": \"v\", \"showlegend\": false, \"type\": \"scatter\", \"x\": [0.828], \"xaxis\": \"x5\", \"y\": [5.757999999999999], \"yaxis\": \"y5\"}, {\"hovertemplate\": \"country_name=Tajikistan<br>year=2015<br>lifespan=%{x}<br>happiness_score=%{y}<extra></extra>\", \"legendgroup\": \"Tajikistan\", \"marker\": {\"color\": \"#FFA15A\", \"symbol\": \"circle\"}, \"mode\": \"markers\", \"name\": \"Tajikistan\", \"orientation\": \"v\", \"showlegend\": true, \"type\": \"scatter\", \"x\": [0.5737899999999999], \"xaxis\": \"x\", \"y\": [4.7860000000000005], \"yaxis\": \"y\"}, {\"hovertemplate\": \"country_name=Tajikistan<br>year=2016<br>lifespan=%{x}<br>happiness_score=%{y}<extra></extra>\", \"legendgroup\": \"Tajikistan\", \"marker\": {\"color\": \"#FFA15A\", \"symbol\": \"circle\"}, \"mode\": \"markers\", \"name\": \"Tajikistan\", \"orientation\": \"v\", \"showlegend\": false, \"type\": \"scatter\", \"x\": [0.5311899999999999], \"xaxis\": \"x2\", \"y\": [4.996], \"yaxis\": \"y2\"}, {\"hovertemplate\": \"country_name=Tajikistan<br>year=2017<br>lifespan=%{x}<br>happiness_score=%{y}<extra></extra>\", \"legendgroup\": \"Tajikistan\", \"marker\": {\"color\": \"#FFA15A\", \"symbol\": \"circle\"}, \"mode\": \"markers\", \"name\": \"Tajikistan\", \"orientation\": \"v\", \"showlegend\": false, \"type\": \"scatter\", \"x\": [0.5292351245880129], \"xaxis\": \"x3\", \"y\": [5.04099988937378], \"yaxis\": \"y3\"}, {\"hovertemplate\": \"country_name=Tajikistan<br>year=2018<br>lifespan=%{x}<br>happiness_score=%{y}<extra></extra>\", \"legendgroup\": \"Tajikistan\", \"marker\": {\"color\": \"#FFA15A\", \"symbol\": \"circle\"}, \"mode\": \"markers\", \"name\": \"Tajikistan\", \"orientation\": \"v\", \"showlegend\": false, \"type\": \"scatter\", \"x\": [0.598], \"xaxis\": \"x4\", \"y\": [5.199], \"yaxis\": \"y4\"}, {\"hovertemplate\": \"country_name=Tajikistan<br>year=2019<br>lifespan=%{x}<br>happiness_score=%{y}<extra></extra>\", \"legendgroup\": \"Tajikistan\", \"marker\": {\"color\": \"#FFA15A\", \"symbol\": \"circle\"}, \"mode\": \"markers\", \"name\": \"Tajikistan\", \"orientation\": \"v\", \"showlegend\": false, \"type\": \"scatter\", \"x\": [0.718], \"xaxis\": \"x5\", \"y\": [5.4670000000000005], \"yaxis\": \"y5\"}, {\"hovertemplate\": \"country_name=Ukraine<br>year=2015<br>lifespan=%{x}<br>happiness_score=%{y}<extra></extra>\", \"legendgroup\": \"Ukraine\", \"marker\": {\"color\": \"#19d3f3\", \"symbol\": \"circle\"}, \"mode\": \"markers\", \"name\": \"Ukraine\", \"orientation\": \"v\", \"showlegend\": true, \"type\": \"scatter\", \"x\": [0.6739], \"xaxis\": \"x\", \"y\": [4.681], \"yaxis\": \"y\"}, {\"hovertemplate\": \"country_name=Ukraine<br>year=2016<br>lifespan=%{x}<br>happiness_score=%{y}<extra></extra>\", \"legendgroup\": \"Ukraine\", \"marker\": {\"color\": \"#19d3f3\", \"symbol\": \"circle\"}, \"mode\": \"markers\", \"name\": \"Ukraine\", \"orientation\": \"v\", \"showlegend\": false, \"type\": \"scatter\", \"x\": [0.58628], \"xaxis\": \"x2\", \"y\": [4.324], \"yaxis\": \"y2\"}, {\"hovertemplate\": \"country_name=Ukraine<br>year=2017<br>lifespan=%{x}<br>happiness_score=%{y}<extra></extra>\", \"legendgroup\": \"Ukraine\", \"marker\": {\"color\": \"#19d3f3\", \"symbol\": \"circle\"}, \"mode\": \"markers\", \"name\": \"Ukraine\", \"orientation\": \"v\", \"showlegend\": false, \"type\": \"scatter\", \"x\": [0.575903952121735], \"xaxis\": \"x3\", \"y\": [4.09600019454956], \"yaxis\": \"y3\"}, {\"hovertemplate\": \"country_name=Ukraine<br>year=2018<br>lifespan=%{x}<br>happiness_score=%{y}<extra></extra>\", \"legendgroup\": \"Ukraine\", \"marker\": {\"color\": \"#19d3f3\", \"symbol\": \"circle\"}, \"mode\": \"markers\", \"name\": \"Ukraine\", \"orientation\": \"v\", \"showlegend\": false, \"type\": \"scatter\", \"x\": [0.609], \"xaxis\": \"x4\", \"y\": [4.103], \"yaxis\": \"y4\"}, {\"hovertemplate\": \"country_name=Ukraine<br>year=2019<br>lifespan=%{x}<br>happiness_score=%{y}<extra></extra>\", \"legendgroup\": \"Ukraine\", \"marker\": {\"color\": \"#19d3f3\", \"symbol\": \"circle\"}, \"mode\": \"markers\", \"name\": \"Ukraine\", \"orientation\": \"v\", \"showlegend\": false, \"type\": \"scatter\", \"x\": [0.7390000000000001], \"xaxis\": \"x5\", \"y\": [4.332], \"yaxis\": \"y5\"}, {\"hovertemplate\": \"country_name=Armenia<br>year=2015<br>lifespan=%{x}<br>happiness_score=%{y}<extra></extra>\", \"legendgroup\": \"Armenia\", \"marker\": {\"color\": \"#FF6692\", \"symbol\": \"circle\"}, \"mode\": \"markers\", \"name\": \"Armenia\", \"orientation\": \"v\", \"showlegend\": true, \"type\": \"scatter\", \"x\": [0.7299], \"xaxis\": \"x\", \"y\": [4.35], \"yaxis\": \"y\"}, {\"hovertemplate\": \"country_name=Armenia<br>year=2016<br>lifespan=%{x}<br>happiness_score=%{y}<extra></extra>\", \"legendgroup\": \"Armenia\", \"marker\": {\"color\": \"#FF6692\", \"symbol\": \"circle\"}, \"mode\": \"markers\", \"name\": \"Armenia\", \"orientation\": \"v\", \"showlegend\": false, \"type\": \"scatter\", \"x\": [0.64083], \"xaxis\": \"x2\", \"y\": [4.36], \"yaxis\": \"y2\"}, {\"hovertemplate\": \"country_name=Armenia<br>year=2017<br>lifespan=%{x}<br>happiness_score=%{y}<extra></extra>\", \"legendgroup\": \"Armenia\", \"marker\": {\"color\": \"#FF6692\", \"symbol\": \"circle\"}, \"mode\": \"markers\", \"name\": \"Armenia\", \"orientation\": \"v\", \"showlegend\": false, \"type\": \"scatter\", \"x\": [0.637524425983429], \"xaxis\": \"x3\", \"y\": [4.37599992752075], \"yaxis\": \"y3\"}, {\"hovertemplate\": \"country_name=Armenia<br>year=2018<br>lifespan=%{x}<br>happiness_score=%{y}<extra></extra>\", \"legendgroup\": \"Armenia\", \"marker\": {\"color\": \"#FF6692\", \"symbol\": \"circle\"}, \"mode\": \"markers\", \"name\": \"Armenia\", \"orientation\": \"v\", \"showlegend\": false, \"type\": \"scatter\", \"x\": [0.6659999999999999], \"xaxis\": \"x4\", \"y\": [4.3210000000000015], \"yaxis\": \"y4\"}, {\"hovertemplate\": \"country_name=Armenia<br>year=2019<br>lifespan=%{x}<br>happiness_score=%{y}<extra></extra>\", \"legendgroup\": \"Armenia\", \"marker\": {\"color\": \"#FF6692\", \"symbol\": \"circle\"}, \"mode\": \"markers\", \"name\": \"Armenia\", \"orientation\": \"v\", \"showlegend\": false, \"type\": \"scatter\", \"x\": [0.815], \"xaxis\": \"x5\", \"y\": [4.559], \"yaxis\": \"y5\"}, {\"hovertemplate\": \"country_name=Georgia<br>year=2015<br>lifespan=%{x}<br>happiness_score=%{y}<extra></extra>\", \"legendgroup\": \"Georgia\", \"marker\": {\"color\": \"#B6E880\", \"symbol\": \"circle\"}, \"mode\": \"markers\", \"name\": \"Georgia\", \"orientation\": \"v\", \"showlegend\": true, \"type\": \"scatter\", \"x\": [0.72926], \"xaxis\": \"x\", \"y\": [4.297], \"yaxis\": \"y\"}, {\"hovertemplate\": \"country_name=Georgia<br>year=2016<br>lifespan=%{x}<br>happiness_score=%{y}<extra></extra>\", \"legendgroup\": \"Georgia\", \"marker\": {\"color\": \"#B6E880\", \"symbol\": \"circle\"}, \"mode\": \"markers\", \"name\": \"Georgia\", \"orientation\": \"v\", \"showlegend\": false, \"type\": \"scatter\", \"x\": [0.64035], \"xaxis\": \"x2\", \"y\": [4.252], \"yaxis\": \"y2\"}, {\"hovertemplate\": \"country_name=Georgia<br>year=2017<br>lifespan=%{x}<br>happiness_score=%{y}<extra></extra>\", \"legendgroup\": \"Georgia\", \"marker\": {\"color\": \"#B6E880\", \"symbol\": \"circle\"}, \"mode\": \"markers\", \"name\": \"Georgia\", \"orientation\": \"v\", \"showlegend\": false, \"type\": \"scatter\", \"x\": [0.649546980857849], \"xaxis\": \"x3\", \"y\": [4.28599977493286], \"yaxis\": \"y3\"}, {\"hovertemplate\": \"country_name=Georgia<br>year=2018<br>lifespan=%{x}<br>happiness_score=%{y}<extra></extra>\", \"legendgroup\": \"Georgia\", \"marker\": {\"color\": \"#B6E880\", \"symbol\": \"circle\"}, \"mode\": \"markers\", \"name\": \"Georgia\", \"orientation\": \"v\", \"showlegend\": false, \"type\": \"scatter\", \"x\": [0.643], \"xaxis\": \"x4\", \"y\": [4.34], \"yaxis\": \"y4\"}, {\"hovertemplate\": \"country_name=Georgia<br>year=2019<br>lifespan=%{x}<br>happiness_score=%{y}<extra></extra>\", \"legendgroup\": \"Georgia\", \"marker\": {\"color\": \"#B6E880\", \"symbol\": \"circle\"}, \"mode\": \"markers\", \"name\": \"Georgia\", \"orientation\": \"v\", \"showlegend\": false, \"type\": \"scatter\", \"x\": [0.752], \"xaxis\": \"x5\", \"y\": [4.519], \"yaxis\": \"y5\"}, {\"hovertemplate\": \"country_name=Bulgaria<br>year=2015<br>lifespan=%{x}<br>happiness_score=%{y}<extra></extra>\", \"legendgroup\": \"Bulgaria\", \"marker\": {\"color\": \"#FF97FF\", \"symbol\": \"circle\"}, \"mode\": \"markers\", \"name\": \"Bulgaria\", \"orientation\": \"v\", \"showlegend\": true, \"type\": \"scatter\", \"x\": [0.76649], \"xaxis\": \"x\", \"y\": [4.218], \"yaxis\": \"y\"}, {\"hovertemplate\": \"country_name=Bulgaria<br>year=2016<br>lifespan=%{x}<br>happiness_score=%{y}<extra></extra>\", \"legendgroup\": \"Bulgaria\", \"marker\": {\"color\": \"#FF97FF\", \"symbol\": \"circle\"}, \"mode\": \"markers\", \"name\": \"Bulgaria\", \"orientation\": \"v\", \"showlegend\": false, \"type\": \"scatter\", \"x\": [0.67806], \"xaxis\": \"x2\", \"y\": [4.217], \"yaxis\": \"y2\"}, {\"hovertemplate\": \"country_name=Bulgaria<br>year=2017<br>lifespan=%{x}<br>happiness_score=%{y}<extra></extra>\", \"legendgroup\": \"Bulgaria\", \"marker\": {\"color\": \"#FF97FF\", \"symbol\": \"circle\"}, \"mode\": \"markers\", \"name\": \"Bulgaria\", \"orientation\": \"v\", \"showlegend\": false, \"type\": \"scatter\", \"x\": [0.708217680454254], \"xaxis\": \"x3\", \"y\": [4.71400022506714], \"yaxis\": \"y3\"}, {\"hovertemplate\": \"country_name=Bulgaria<br>year=2018<br>lifespan=%{x}<br>happiness_score=%{y}<extra></extra>\", \"legendgroup\": \"Bulgaria\", \"marker\": {\"color\": \"#FF97FF\", \"symbol\": \"circle\"}, \"mode\": \"markers\", \"name\": \"Bulgaria\", \"orientation\": \"v\", \"showlegend\": false, \"type\": \"scatter\", \"x\": [0.7120000000000001], \"xaxis\": \"x4\", \"y\": [4.933], \"yaxis\": \"y4\"}, {\"hovertemplate\": \"country_name=Bulgaria<br>year=2019<br>lifespan=%{x}<br>happiness_score=%{y}<extra></extra>\", \"legendgroup\": \"Bulgaria\", \"marker\": {\"color\": \"#FF97FF\", \"symbol\": \"circle\"}, \"mode\": \"markers\", \"name\": \"Bulgaria\", \"orientation\": \"v\", \"showlegend\": false, \"type\": \"scatter\", \"x\": [0.815], \"xaxis\": \"x5\", \"y\": [5.011], \"yaxis\": \"y5\"}],                        {\"annotations\": [{\"font\": {}, \"showarrow\": false, \"text\": \"year=2015\", \"x\": 0.09200000000000001, \"xanchor\": \"center\", \"xref\": \"paper\", \"y\": 1.0, \"yanchor\": \"bottom\", \"yref\": \"paper\"}, {\"font\": {}, \"showarrow\": false, \"text\": \"year=2016\", \"x\": 0.29600000000000004, \"xanchor\": \"center\", \"xref\": \"paper\", \"y\": 1.0, \"yanchor\": \"bottom\", \"yref\": \"paper\"}, {\"font\": {}, \"showarrow\": false, \"text\": \"year=2017\", \"x\": 0.5, \"xanchor\": \"center\", \"xref\": \"paper\", \"y\": 1.0, \"yanchor\": \"bottom\", \"yref\": \"paper\"}, {\"font\": {}, \"showarrow\": false, \"text\": \"year=2018\", \"x\": 0.7040000000000002, \"xanchor\": \"center\", \"xref\": \"paper\", \"y\": 1.0, \"yanchor\": \"bottom\", \"yref\": \"paper\"}, {\"font\": {}, \"showarrow\": false, \"text\": \"year=2019\", \"x\": 0.908, \"xanchor\": \"center\", \"xref\": \"paper\", \"y\": 1.0, \"yanchor\": \"bottom\", \"yref\": \"paper\"}], \"legend\": {\"title\": {\"text\": \"country_name\"}, \"tracegroupgap\": 0}, \"template\": {\"data\": {\"bar\": [{\"error_x\": {\"color\": \"#f2f5fa\"}, \"error_y\": {\"color\": \"#f2f5fa\"}, \"marker\": {\"line\": {\"color\": \"rgb(17,17,17)\", \"width\": 0.5}}, \"type\": \"bar\"}], \"barpolar\": [{\"marker\": {\"line\": {\"color\": \"rgb(17,17,17)\", \"width\": 0.5}}, \"type\": \"barpolar\"}], \"carpet\": [{\"aaxis\": {\"endlinecolor\": \"#A2B1C6\", \"gridcolor\": \"#506784\", \"linecolor\": \"#506784\", \"minorgridcolor\": \"#506784\", \"startlinecolor\": \"#A2B1C6\"}, \"baxis\": {\"endlinecolor\": \"#A2B1C6\", \"gridcolor\": \"#506784\", \"linecolor\": \"#506784\", \"minorgridcolor\": \"#506784\", \"startlinecolor\": \"#A2B1C6\"}, \"type\": \"carpet\"}], \"choropleth\": [{\"colorbar\": {\"outlinewidth\": 0, \"ticks\": \"\"}, \"type\": \"choropleth\"}], \"contour\": [{\"colorbar\": {\"outlinewidth\": 0, \"ticks\": \"\"}, \"colorscale\": [[0.0, \"#0d0887\"], [0.1111111111111111, \"#46039f\"], [0.2222222222222222, \"#7201a8\"], [0.3333333333333333, \"#9c179e\"], [0.4444444444444444, \"#bd3786\"], [0.5555555555555556, \"#d8576b\"], [0.6666666666666666, \"#ed7953\"], [0.7777777777777778, \"#fb9f3a\"], [0.8888888888888888, \"#fdca26\"], [1.0, \"#f0f921\"]], \"type\": \"contour\"}], \"contourcarpet\": [{\"colorbar\": {\"outlinewidth\": 0, \"ticks\": \"\"}, \"type\": \"contourcarpet\"}], \"heatmap\": [{\"colorbar\": {\"outlinewidth\": 0, \"ticks\": \"\"}, \"colorscale\": [[0.0, \"#0d0887\"], [0.1111111111111111, \"#46039f\"], [0.2222222222222222, \"#7201a8\"], [0.3333333333333333, \"#9c179e\"], [0.4444444444444444, \"#bd3786\"], [0.5555555555555556, \"#d8576b\"], [0.6666666666666666, \"#ed7953\"], [0.7777777777777778, \"#fb9f3a\"], [0.8888888888888888, \"#fdca26\"], [1.0, \"#f0f921\"]], \"type\": \"heatmap\"}], \"heatmapgl\": [{\"colorbar\": {\"outlinewidth\": 0, \"ticks\": \"\"}, \"colorscale\": [[0.0, \"#0d0887\"], [0.1111111111111111, \"#46039f\"], [0.2222222222222222, \"#7201a8\"], [0.3333333333333333, \"#9c179e\"], [0.4444444444444444, \"#bd3786\"], [0.5555555555555556, \"#d8576b\"], [0.6666666666666666, \"#ed7953\"], [0.7777777777777778, \"#fb9f3a\"], [0.8888888888888888, \"#fdca26\"], [1.0, \"#f0f921\"]], \"type\": \"heatmapgl\"}], \"histogram\": [{\"marker\": {\"colorbar\": {\"outlinewidth\": 0, \"ticks\": \"\"}}, \"type\": \"histogram\"}], \"histogram2d\": [{\"colorbar\": {\"outlinewidth\": 0, \"ticks\": \"\"}, \"colorscale\": [[0.0, \"#0d0887\"], [0.1111111111111111, \"#46039f\"], [0.2222222222222222, \"#7201a8\"], [0.3333333333333333, \"#9c179e\"], [0.4444444444444444, \"#bd3786\"], [0.5555555555555556, \"#d8576b\"], [0.6666666666666666, \"#ed7953\"], [0.7777777777777778, \"#fb9f3a\"], [0.8888888888888888, \"#fdca26\"], [1.0, \"#f0f921\"]], \"type\": \"histogram2d\"}], \"histogram2dcontour\": [{\"colorbar\": {\"outlinewidth\": 0, \"ticks\": \"\"}, \"colorscale\": [[0.0, \"#0d0887\"], [0.1111111111111111, \"#46039f\"], [0.2222222222222222, \"#7201a8\"], [0.3333333333333333, \"#9c179e\"], [0.4444444444444444, \"#bd3786\"], [0.5555555555555556, \"#d8576b\"], [0.6666666666666666, \"#ed7953\"], [0.7777777777777778, \"#fb9f3a\"], [0.8888888888888888, \"#fdca26\"], [1.0, \"#f0f921\"]], \"type\": \"histogram2dcontour\"}], \"mesh3d\": [{\"colorbar\": {\"outlinewidth\": 0, \"ticks\": \"\"}, \"type\": \"mesh3d\"}], \"parcoords\": [{\"line\": {\"colorbar\": {\"outlinewidth\": 0, \"ticks\": \"\"}}, \"type\": \"parcoords\"}], \"pie\": [{\"automargin\": true, \"type\": \"pie\"}], \"scatter\": [{\"marker\": {\"line\": {\"color\": \"#283442\"}}, \"type\": \"scatter\"}], \"scatter3d\": [{\"line\": {\"colorbar\": {\"outlinewidth\": 0, \"ticks\": \"\"}}, \"marker\": {\"colorbar\": {\"outlinewidth\": 0, \"ticks\": \"\"}}, \"type\": \"scatter3d\"}], \"scattercarpet\": [{\"marker\": {\"colorbar\": {\"outlinewidth\": 0, \"ticks\": \"\"}}, \"type\": \"scattercarpet\"}], \"scattergeo\": [{\"marker\": {\"colorbar\": {\"outlinewidth\": 0, \"ticks\": \"\"}}, \"type\": \"scattergeo\"}], \"scattergl\": [{\"marker\": {\"line\": {\"color\": \"#283442\"}}, \"type\": \"scattergl\"}], \"scattermapbox\": [{\"marker\": {\"colorbar\": {\"outlinewidth\": 0, \"ticks\": \"\"}}, \"type\": \"scattermapbox\"}], \"scatterpolar\": [{\"marker\": {\"colorbar\": {\"outlinewidth\": 0, \"ticks\": \"\"}}, \"type\": \"scatterpolar\"}], \"scatterpolargl\": [{\"marker\": {\"colorbar\": {\"outlinewidth\": 0, \"ticks\": \"\"}}, \"type\": \"scatterpolargl\"}], \"scatterternary\": [{\"marker\": {\"colorbar\": {\"outlinewidth\": 0, \"ticks\": \"\"}}, \"type\": \"scatterternary\"}], \"surface\": [{\"colorbar\": {\"outlinewidth\": 0, \"ticks\": \"\"}, \"colorscale\": [[0.0, \"#0d0887\"], [0.1111111111111111, \"#46039f\"], [0.2222222222222222, \"#7201a8\"], [0.3333333333333333, \"#9c179e\"], [0.4444444444444444, \"#bd3786\"], [0.5555555555555556, \"#d8576b\"], [0.6666666666666666, \"#ed7953\"], [0.7777777777777778, \"#fb9f3a\"], [0.8888888888888888, \"#fdca26\"], [1.0, \"#f0f921\"]], \"type\": \"surface\"}], \"table\": [{\"cells\": {\"fill\": {\"color\": \"#506784\"}, \"line\": {\"color\": \"rgb(17,17,17)\"}}, \"header\": {\"fill\": {\"color\": \"#2a3f5f\"}, \"line\": {\"color\": \"rgb(17,17,17)\"}}, \"type\": \"table\"}]}, \"layout\": {\"annotationdefaults\": {\"arrowcolor\": \"#f2f5fa\", \"arrowhead\": 0, \"arrowwidth\": 1}, \"autotypenumbers\": \"strict\", \"coloraxis\": {\"colorbar\": {\"outlinewidth\": 0, \"ticks\": \"\"}}, \"colorscale\": {\"diverging\": [[0, \"#8e0152\"], [0.1, \"#c51b7d\"], [0.2, \"#de77ae\"], [0.3, \"#f1b6da\"], [0.4, \"#fde0ef\"], [0.5, \"#f7f7f7\"], [0.6, \"#e6f5d0\"], [0.7, \"#b8e186\"], [0.8, \"#7fbc41\"], [0.9, \"#4d9221\"], [1, \"#276419\"]], \"sequential\": [[0.0, \"#0d0887\"], [0.1111111111111111, \"#46039f\"], [0.2222222222222222, \"#7201a8\"], [0.3333333333333333, \"#9c179e\"], [0.4444444444444444, \"#bd3786\"], [0.5555555555555556, \"#d8576b\"], [0.6666666666666666, \"#ed7953\"], [0.7777777777777778, \"#fb9f3a\"], [0.8888888888888888, \"#fdca26\"], [1.0, \"#f0f921\"]], \"sequentialminus\": [[0.0, \"#0d0887\"], [0.1111111111111111, \"#46039f\"], [0.2222222222222222, \"#7201a8\"], [0.3333333333333333, \"#9c179e\"], [0.4444444444444444, \"#bd3786\"], [0.5555555555555556, \"#d8576b\"], [0.6666666666666666, \"#ed7953\"], [0.7777777777777778, \"#fb9f3a\"], [0.8888888888888888, \"#fdca26\"], [1.0, \"#f0f921\"]]}, \"colorway\": [\"#636efa\", \"#EF553B\", \"#00cc96\", \"#ab63fa\", \"#FFA15A\", \"#19d3f3\", \"#FF6692\", \"#B6E880\", \"#FF97FF\", \"#FECB52\"], \"font\": {\"color\": \"#f2f5fa\"}, \"geo\": {\"bgcolor\": \"rgb(17,17,17)\", \"lakecolor\": \"rgb(17,17,17)\", \"landcolor\": \"rgb(17,17,17)\", \"showlakes\": true, \"showland\": true, \"subunitcolor\": \"#506784\"}, \"hoverlabel\": {\"align\": \"left\"}, \"hovermode\": \"closest\", \"mapbox\": {\"style\": \"dark\"}, \"paper_bgcolor\": \"rgb(17,17,17)\", \"plot_bgcolor\": \"rgb(17,17,17)\", \"polar\": {\"angularaxis\": {\"gridcolor\": \"#506784\", \"linecolor\": \"#506784\", \"ticks\": \"\"}, \"bgcolor\": \"rgb(17,17,17)\", \"radialaxis\": {\"gridcolor\": \"#506784\", \"linecolor\": \"#506784\", \"ticks\": \"\"}}, \"scene\": {\"xaxis\": {\"backgroundcolor\": \"rgb(17,17,17)\", \"gridcolor\": \"#506784\", \"gridwidth\": 2, \"linecolor\": \"#506784\", \"showbackground\": true, \"ticks\": \"\", \"zerolinecolor\": \"#C8D4E3\"}, \"yaxis\": {\"backgroundcolor\": \"rgb(17,17,17)\", \"gridcolor\": \"#506784\", \"gridwidth\": 2, \"linecolor\": \"#506784\", \"showbackground\": true, \"ticks\": \"\", \"zerolinecolor\": \"#C8D4E3\"}, \"zaxis\": {\"backgroundcolor\": \"rgb(17,17,17)\", \"gridcolor\": \"#506784\", \"gridwidth\": 2, \"linecolor\": \"#506784\", \"showbackground\": true, \"ticks\": \"\", \"zerolinecolor\": \"#C8D4E3\"}}, \"shapedefaults\": {\"line\": {\"color\": \"#f2f5fa\"}}, \"sliderdefaults\": {\"bgcolor\": \"#C8D4E3\", \"bordercolor\": \"rgb(17,17,17)\", \"borderwidth\": 1, \"tickwidth\": 0}, \"ternary\": {\"aaxis\": {\"gridcolor\": \"#506784\", \"linecolor\": \"#506784\", \"ticks\": \"\"}, \"baxis\": {\"gridcolor\": \"#506784\", \"linecolor\": \"#506784\", \"ticks\": \"\"}, \"bgcolor\": \"rgb(17,17,17)\", \"caxis\": {\"gridcolor\": \"#506784\", \"linecolor\": \"#506784\", \"ticks\": \"\"}}, \"title\": {\"x\": 0.05}, \"updatemenudefaults\": {\"bgcolor\": \"#506784\", \"borderwidth\": 0}, \"xaxis\": {\"automargin\": true, \"gridcolor\": \"#283442\", \"linecolor\": \"#506784\", \"ticks\": \"\", \"title\": {\"standoff\": 15}, \"zerolinecolor\": \"#283442\", \"zerolinewidth\": 2}, \"yaxis\": {\"automargin\": true, \"gridcolor\": \"#283442\", \"linecolor\": \"#506784\", \"ticks\": \"\", \"title\": {\"standoff\": 15}, \"zerolinecolor\": \"#283442\", \"zerolinewidth\": 2}}}, \"title\": {\"text\": \"Lifespan vs Happiness Score for Central and Eastern Europe\"}, \"xaxis\": {\"anchor\": \"y\", \"domain\": [0.0, 0.18400000000000002], \"title\": {\"text\": \"lifespan\"}}, \"xaxis2\": {\"anchor\": \"y2\", \"domain\": [0.20400000000000001, 0.388], \"matches\": \"x\", \"title\": {\"text\": \"lifespan\"}}, \"xaxis3\": {\"anchor\": \"y3\", \"domain\": [0.40800000000000003, 0.5920000000000001], \"matches\": \"x\", \"title\": {\"text\": \"lifespan\"}}, \"xaxis4\": {\"anchor\": \"y4\", \"domain\": [0.6120000000000001, 0.7960000000000002], \"matches\": \"x\", \"title\": {\"text\": \"lifespan\"}}, \"xaxis5\": {\"anchor\": \"y5\", \"domain\": [0.8160000000000001, 1.0], \"matches\": \"x\", \"title\": {\"text\": \"lifespan\"}}, \"yaxis\": {\"anchor\": \"x\", \"domain\": [0.0, 1.0], \"title\": {\"text\": \"happiness_score\"}}, \"yaxis2\": {\"anchor\": \"x2\", \"domain\": [0.0, 1.0], \"matches\": \"y\", \"showticklabels\": false}, \"yaxis3\": {\"anchor\": \"x3\", \"domain\": [0.0, 1.0], \"matches\": \"y\", \"showticklabels\": false}, \"yaxis4\": {\"anchor\": \"x4\", \"domain\": [0.0, 1.0], \"matches\": \"y\", \"showticklabels\": false}, \"yaxis5\": {\"anchor\": \"x5\", \"domain\": [0.0, 1.0], \"matches\": \"y\", \"showticklabels\": false}},                        {\"responsive\": true}                    ).then(function(){\n",
       "                            \n",
       "var gd = document.getElementById('c4c9e84d-3394-4b70-bbcf-20be46c0e8c8');\n",
       "var x = new MutationObserver(function (mutations, observer) {{\n",
       "        var display = window.getComputedStyle(gd).display;\n",
       "        if (!display || display === 'none') {{\n",
       "            console.log([gd, 'removed!']);\n",
       "            Plotly.purge(gd);\n",
       "            observer.disconnect();\n",
       "        }}\n",
       "}});\n",
       "\n",
       "// Listen for the removal of the full notebook cells\n",
       "var notebookContainer = gd.closest('#notebook-container');\n",
       "if (notebookContainer) {{\n",
       "    x.observe(notebookContainer, {childList: true});\n",
       "}}\n",
       "\n",
       "// Listen for the clearing of the current output cell\n",
       "var outputEl = gd.closest('.output');\n",
       "if (outputEl) {{\n",
       "    x.observe(outputEl, {childList: true});\n",
       "}}\n",
       "\n",
       "                        })                };                });            </script>        </div>"
      ]
     },
     "metadata": {},
     "output_type": "display_data"
    }
   ],
   "source": [
    "fig = px.scatter(df_region,\n",
    "                x = 'lifespan',\n",
    "                y = 'happiness_score',\n",
    "                color = 'country_name', \n",
    "                template='plotly_dark',\n",
    "                facet_col = 'year',\n",
    "                title = 'Lifespan vs Happiness Score for Central and Eastern Europe',\n",
    "                )\n",
    "fig.show()"
   ]
  },
  {
   "cell_type": "code",
   "execution_count": 75,
   "metadata": {},
   "outputs": [
    {
     "data": {
      "application/vnd.plotly.v1+json": {
       "config": {
        "plotlyServerURL": "https://plot.ly"
       },
       "data": [
        {
         "hovertemplate": "country_name=Uzbekistan<br>generosity=%{x}<br>happiness_score=%{y}<br>GDP=%{marker.size}<br>year=%{text}<extra></extra>",
         "legendgroup": "Uzbekistan",
         "marker": {
          "color": "#636efa",
          "size": [
           0.63244,
           0.7359100000000001,
           0.786441087722778,
           0.7190000000000001,
           0.745
          ],
          "sizemode": "area",
          "sizeref": 0.0032113906741142247,
          "symbol": "circle"
         },
         "mode": "markers+text",
         "name": "Uzbekistan",
         "orientation": "v",
         "showlegend": true,
         "text": [
          2015,
          2016,
          2017,
          2018,
          2019
         ],
         "type": "scatter",
         "x": [
          0.22837,
          0.34326,
          0.415983647108078,
          0.328,
          0.322
         ],
         "xaxis": "x",
         "y": [
          6.002999999999999,
          5.987,
          5.97100019454956,
          6.096,
          6.174
         ],
         "yaxis": "y"
        },
        {
         "hovertemplate": "country_name=Moldova<br>generosity=%{x}<br>happiness_score=%{y}<br>GDP=%{marker.size}<br>year=%{text}<extra></extra>",
         "legendgroup": "Moldova",
         "marker": {
          "color": "#EF553B",
          "size": [
           0.59448,
           0.69177,
           0.7288706302642819,
           0.657,
           0.685
          ],
          "sizemode": "area",
          "sizeref": 0.0032113906741142247,
          "symbol": "circle"
         },
         "mode": "markers+text",
         "name": "Moldova",
         "orientation": "v",
         "showlegend": true,
         "text": [
          2015,
          2016,
          2017,
          2018,
          2019
         ],
         "type": "scatter",
         "x": [
          0.20951,
          0.19997,
          0.20877912640571605,
          0.171,
          0.181
         ],
         "xaxis": "x",
         "y": [
          5.8889999999999985,
          5.897,
          5.837999820709231,
          5.64,
          5.529
         ],
         "yaxis": "y"
        },
        {
         "hovertemplate": "country_name=Kazakhstan<br>generosity=%{x}<br>happiness_score=%{y}<br>GDP=%{marker.size}<br>year=%{text}<extra></extra>",
         "legendgroup": "Kazakhstan",
         "marker": {
          "color": "#00cc96",
          "size": [
           1.12254,
           1.22943,
           1.2845562696456898,
           1.143,
           1.173
          ],
          "sizemode": "area",
          "sizeref": 0.0032113906741142247,
          "symbol": "circle"
         },
         "mode": "markers+text",
         "name": "Kazakhstan",
         "orientation": "v",
         "showlegend": true,
         "text": [
          2015,
          2016,
          2017,
          2018,
          2019
         ],
         "type": "scatter",
         "x": [
          0.11827,
          0.15011,
          0.20196442306041695,
          0.14800000000000002,
          0.146
         ],
         "xaxis": "x",
         "y": [
          5.855,
          5.919,
          5.8189997673034695,
          5.79,
          5.809
         ],
         "yaxis": "y"
        },
        {
         "hovertemplate": "country_name=Belarus<br>generosity=%{x}<br>happiness_score=%{y}<br>GDP=%{marker.size}<br>year=%{text}<extra></extra>",
         "legendgroup": "Belarus",
         "marker": {
          "color": "#ab63fa",
          "size": [
           1.0319200000000002,
           1.1306200000000002,
           1.15655755996704,
           1.039,
           1.067
          ],
          "sizemode": "area",
          "sizeref": 0.0032113906741142247,
          "symbol": "circle"
         },
         "mode": "markers+text",
         "name": "Belarus",
         "orientation": "v",
         "showlegend": true,
         "text": [
          2015,
          2016,
          2017,
          2018,
          2019
         ],
         "type": "scatter",
         "x": [
          0.11046,
          0.13942000000000002,
          0.15513750910759,
          0.101,
          0.094
         ],
         "xaxis": "x",
         "y": [
          5.813,
          5.8020000000000005,
          5.5689997673034695,
          5.483,
          5.323
         ],
         "yaxis": "y"
        },
        {
         "hovertemplate": "country_name=Russia<br>generosity=%{x}<br>happiness_score=%{y}<br>GDP=%{marker.size}<br>year=%{text}<extra></extra>",
         "legendgroup": "Russia",
         "marker": {
          "color": "#FFA15A",
          "size": [
           1.13764,
           1.2322799999999998,
           1.28177809715271,
           1.151,
           1.183
          ],
          "sizemode": "area",
          "sizeref": 0.0032113906741142247,
          "symbol": "circle"
         },
         "mode": "markers+text",
         "name": "Russia",
         "orientation": "v",
         "showlegend": true,
         "text": [
          2015,
          2016,
          2017,
          2018,
          2019
         ],
         "type": "scatter",
         "x": [
          0.00199,
          0.02736,
          0.0522638224065304,
          0.065,
          0.08199999999999999
         ],
         "xaxis": "x",
         "y": [
          5.716,
          5.856,
          5.962999820709231,
          5.81,
          5.648
         ],
         "yaxis": "y"
        },
        {
         "hovertemplate": "country_name=Turkmenistan<br>generosity=%{x}<br>happiness_score=%{y}<br>GDP=%{marker.size}<br>year=%{text}<extra></extra>",
         "legendgroup": "Turkmenistan",
         "marker": {
          "color": "#19d3f3",
          "size": [
           0.95847,
           1.08017,
           1.1307767629623402,
           1.016,
           1.052
          ],
          "sizemode": "area",
          "sizeref": 0.0032113906741142247,
          "symbol": "circle"
         },
         "mode": "markers+text",
         "name": "Turkmenistan",
         "orientation": "v",
         "showlegend": true,
         "text": [
          2015,
          2016,
          2017,
          2018,
          2019
         ],
         "type": "scatter",
         "x": [
          0.16979,
          0.22567,
          0.24992498755455,
          0.199,
          0.244
         ],
         "xaxis": "x",
         "y": [
          5.547999999999999,
          5.658,
          5.82200002670288,
          5.636,
          5.247000000000001
         ],
         "yaxis": "y"
        },
        {
         "hovertemplate": "country_name=Kyrgyzstan<br>generosity=%{x}<br>happiness_score=%{y}<br>GDP=%{marker.size}<br>year=%{text}<extra></extra>",
         "legendgroup": "Kyrgyzstan",
         "marker": {
          "color": "#FF6692",
          "size": [
           0.47428,
           0.5604399999999999,
           0.5962200760841371,
           0.53,
           0.551
          ],
          "sizemode": "area",
          "sizeref": 0.0032113906741142247,
          "symbol": "circle"
         },
         "mode": "markers+text",
         "name": "Kyrgyzstan",
         "orientation": "v",
         "showlegend": true,
         "text": [
          2015,
          2016,
          2017,
          2018,
          2019
         ],
         "type": "scatter",
         "x": [
          0.3003,
          0.38432,
          0.42858037352562,
          0.281,
          0.3
         ],
         "xaxis": "x",
         "y": [
          5.2860000000000005,
          5.185,
          5.0040001869201705,
          5.131,
          5.261
         ],
         "yaxis": "y"
        }
       ],
       "layout": {
        "legend": {
         "itemsizing": "constant",
         "title": {
          "text": "country_name"
         },
         "tracegroupgap": 0
        },
        "template": {
         "data": {
          "bar": [
           {
            "error_x": {
             "color": "#f2f5fa"
            },
            "error_y": {
             "color": "#f2f5fa"
            },
            "marker": {
             "line": {
              "color": "rgb(17,17,17)",
              "width": 0.5
             }
            },
            "type": "bar"
           }
          ],
          "barpolar": [
           {
            "marker": {
             "line": {
              "color": "rgb(17,17,17)",
              "width": 0.5
             }
            },
            "type": "barpolar"
           }
          ],
          "carpet": [
           {
            "aaxis": {
             "endlinecolor": "#A2B1C6",
             "gridcolor": "#506784",
             "linecolor": "#506784",
             "minorgridcolor": "#506784",
             "startlinecolor": "#A2B1C6"
            },
            "baxis": {
             "endlinecolor": "#A2B1C6",
             "gridcolor": "#506784",
             "linecolor": "#506784",
             "minorgridcolor": "#506784",
             "startlinecolor": "#A2B1C6"
            },
            "type": "carpet"
           }
          ],
          "choropleth": [
           {
            "colorbar": {
             "outlinewidth": 0,
             "ticks": ""
            },
            "type": "choropleth"
           }
          ],
          "contour": [
           {
            "colorbar": {
             "outlinewidth": 0,
             "ticks": ""
            },
            "colorscale": [
             [
              0,
              "#0d0887"
             ],
             [
              0.1111111111111111,
              "#46039f"
             ],
             [
              0.2222222222222222,
              "#7201a8"
             ],
             [
              0.3333333333333333,
              "#9c179e"
             ],
             [
              0.4444444444444444,
              "#bd3786"
             ],
             [
              0.5555555555555556,
              "#d8576b"
             ],
             [
              0.6666666666666666,
              "#ed7953"
             ],
             [
              0.7777777777777778,
              "#fb9f3a"
             ],
             [
              0.8888888888888888,
              "#fdca26"
             ],
             [
              1,
              "#f0f921"
             ]
            ],
            "type": "contour"
           }
          ],
          "contourcarpet": [
           {
            "colorbar": {
             "outlinewidth": 0,
             "ticks": ""
            },
            "type": "contourcarpet"
           }
          ],
          "heatmap": [
           {
            "colorbar": {
             "outlinewidth": 0,
             "ticks": ""
            },
            "colorscale": [
             [
              0,
              "#0d0887"
             ],
             [
              0.1111111111111111,
              "#46039f"
             ],
             [
              0.2222222222222222,
              "#7201a8"
             ],
             [
              0.3333333333333333,
              "#9c179e"
             ],
             [
              0.4444444444444444,
              "#bd3786"
             ],
             [
              0.5555555555555556,
              "#d8576b"
             ],
             [
              0.6666666666666666,
              "#ed7953"
             ],
             [
              0.7777777777777778,
              "#fb9f3a"
             ],
             [
              0.8888888888888888,
              "#fdca26"
             ],
             [
              1,
              "#f0f921"
             ]
            ],
            "type": "heatmap"
           }
          ],
          "heatmapgl": [
           {
            "colorbar": {
             "outlinewidth": 0,
             "ticks": ""
            },
            "colorscale": [
             [
              0,
              "#0d0887"
             ],
             [
              0.1111111111111111,
              "#46039f"
             ],
             [
              0.2222222222222222,
              "#7201a8"
             ],
             [
              0.3333333333333333,
              "#9c179e"
             ],
             [
              0.4444444444444444,
              "#bd3786"
             ],
             [
              0.5555555555555556,
              "#d8576b"
             ],
             [
              0.6666666666666666,
              "#ed7953"
             ],
             [
              0.7777777777777778,
              "#fb9f3a"
             ],
             [
              0.8888888888888888,
              "#fdca26"
             ],
             [
              1,
              "#f0f921"
             ]
            ],
            "type": "heatmapgl"
           }
          ],
          "histogram": [
           {
            "marker": {
             "colorbar": {
              "outlinewidth": 0,
              "ticks": ""
             }
            },
            "type": "histogram"
           }
          ],
          "histogram2d": [
           {
            "colorbar": {
             "outlinewidth": 0,
             "ticks": ""
            },
            "colorscale": [
             [
              0,
              "#0d0887"
             ],
             [
              0.1111111111111111,
              "#46039f"
             ],
             [
              0.2222222222222222,
              "#7201a8"
             ],
             [
              0.3333333333333333,
              "#9c179e"
             ],
             [
              0.4444444444444444,
              "#bd3786"
             ],
             [
              0.5555555555555556,
              "#d8576b"
             ],
             [
              0.6666666666666666,
              "#ed7953"
             ],
             [
              0.7777777777777778,
              "#fb9f3a"
             ],
             [
              0.8888888888888888,
              "#fdca26"
             ],
             [
              1,
              "#f0f921"
             ]
            ],
            "type": "histogram2d"
           }
          ],
          "histogram2dcontour": [
           {
            "colorbar": {
             "outlinewidth": 0,
             "ticks": ""
            },
            "colorscale": [
             [
              0,
              "#0d0887"
             ],
             [
              0.1111111111111111,
              "#46039f"
             ],
             [
              0.2222222222222222,
              "#7201a8"
             ],
             [
              0.3333333333333333,
              "#9c179e"
             ],
             [
              0.4444444444444444,
              "#bd3786"
             ],
             [
              0.5555555555555556,
              "#d8576b"
             ],
             [
              0.6666666666666666,
              "#ed7953"
             ],
             [
              0.7777777777777778,
              "#fb9f3a"
             ],
             [
              0.8888888888888888,
              "#fdca26"
             ],
             [
              1,
              "#f0f921"
             ]
            ],
            "type": "histogram2dcontour"
           }
          ],
          "mesh3d": [
           {
            "colorbar": {
             "outlinewidth": 0,
             "ticks": ""
            },
            "type": "mesh3d"
           }
          ],
          "parcoords": [
           {
            "line": {
             "colorbar": {
              "outlinewidth": 0,
              "ticks": ""
             }
            },
            "type": "parcoords"
           }
          ],
          "pie": [
           {
            "automargin": true,
            "type": "pie"
           }
          ],
          "scatter": [
           {
            "marker": {
             "line": {
              "color": "#283442"
             }
            },
            "type": "scatter"
           }
          ],
          "scatter3d": [
           {
            "line": {
             "colorbar": {
              "outlinewidth": 0,
              "ticks": ""
             }
            },
            "marker": {
             "colorbar": {
              "outlinewidth": 0,
              "ticks": ""
             }
            },
            "type": "scatter3d"
           }
          ],
          "scattercarpet": [
           {
            "marker": {
             "colorbar": {
              "outlinewidth": 0,
              "ticks": ""
             }
            },
            "type": "scattercarpet"
           }
          ],
          "scattergeo": [
           {
            "marker": {
             "colorbar": {
              "outlinewidth": 0,
              "ticks": ""
             }
            },
            "type": "scattergeo"
           }
          ],
          "scattergl": [
           {
            "marker": {
             "line": {
              "color": "#283442"
             }
            },
            "type": "scattergl"
           }
          ],
          "scattermapbox": [
           {
            "marker": {
             "colorbar": {
              "outlinewidth": 0,
              "ticks": ""
             }
            },
            "type": "scattermapbox"
           }
          ],
          "scatterpolar": [
           {
            "marker": {
             "colorbar": {
              "outlinewidth": 0,
              "ticks": ""
             }
            },
            "type": "scatterpolar"
           }
          ],
          "scatterpolargl": [
           {
            "marker": {
             "colorbar": {
              "outlinewidth": 0,
              "ticks": ""
             }
            },
            "type": "scatterpolargl"
           }
          ],
          "scatterternary": [
           {
            "marker": {
             "colorbar": {
              "outlinewidth": 0,
              "ticks": ""
             }
            },
            "type": "scatterternary"
           }
          ],
          "surface": [
           {
            "colorbar": {
             "outlinewidth": 0,
             "ticks": ""
            },
            "colorscale": [
             [
              0,
              "#0d0887"
             ],
             [
              0.1111111111111111,
              "#46039f"
             ],
             [
              0.2222222222222222,
              "#7201a8"
             ],
             [
              0.3333333333333333,
              "#9c179e"
             ],
             [
              0.4444444444444444,
              "#bd3786"
             ],
             [
              0.5555555555555556,
              "#d8576b"
             ],
             [
              0.6666666666666666,
              "#ed7953"
             ],
             [
              0.7777777777777778,
              "#fb9f3a"
             ],
             [
              0.8888888888888888,
              "#fdca26"
             ],
             [
              1,
              "#f0f921"
             ]
            ],
            "type": "surface"
           }
          ],
          "table": [
           {
            "cells": {
             "fill": {
              "color": "#506784"
             },
             "line": {
              "color": "rgb(17,17,17)"
             }
            },
            "header": {
             "fill": {
              "color": "#2a3f5f"
             },
             "line": {
              "color": "rgb(17,17,17)"
             }
            },
            "type": "table"
           }
          ]
         },
         "layout": {
          "annotationdefaults": {
           "arrowcolor": "#f2f5fa",
           "arrowhead": 0,
           "arrowwidth": 1
          },
          "autotypenumbers": "strict",
          "coloraxis": {
           "colorbar": {
            "outlinewidth": 0,
            "ticks": ""
           }
          },
          "colorscale": {
           "diverging": [
            [
             0,
             "#8e0152"
            ],
            [
             0.1,
             "#c51b7d"
            ],
            [
             0.2,
             "#de77ae"
            ],
            [
             0.3,
             "#f1b6da"
            ],
            [
             0.4,
             "#fde0ef"
            ],
            [
             0.5,
             "#f7f7f7"
            ],
            [
             0.6,
             "#e6f5d0"
            ],
            [
             0.7,
             "#b8e186"
            ],
            [
             0.8,
             "#7fbc41"
            ],
            [
             0.9,
             "#4d9221"
            ],
            [
             1,
             "#276419"
            ]
           ],
           "sequential": [
            [
             0,
             "#0d0887"
            ],
            [
             0.1111111111111111,
             "#46039f"
            ],
            [
             0.2222222222222222,
             "#7201a8"
            ],
            [
             0.3333333333333333,
             "#9c179e"
            ],
            [
             0.4444444444444444,
             "#bd3786"
            ],
            [
             0.5555555555555556,
             "#d8576b"
            ],
            [
             0.6666666666666666,
             "#ed7953"
            ],
            [
             0.7777777777777778,
             "#fb9f3a"
            ],
            [
             0.8888888888888888,
             "#fdca26"
            ],
            [
             1,
             "#f0f921"
            ]
           ],
           "sequentialminus": [
            [
             0,
             "#0d0887"
            ],
            [
             0.1111111111111111,
             "#46039f"
            ],
            [
             0.2222222222222222,
             "#7201a8"
            ],
            [
             0.3333333333333333,
             "#9c179e"
            ],
            [
             0.4444444444444444,
             "#bd3786"
            ],
            [
             0.5555555555555556,
             "#d8576b"
            ],
            [
             0.6666666666666666,
             "#ed7953"
            ],
            [
             0.7777777777777778,
             "#fb9f3a"
            ],
            [
             0.8888888888888888,
             "#fdca26"
            ],
            [
             1,
             "#f0f921"
            ]
           ]
          },
          "colorway": [
           "#636efa",
           "#EF553B",
           "#00cc96",
           "#ab63fa",
           "#FFA15A",
           "#19d3f3",
           "#FF6692",
           "#B6E880",
           "#FF97FF",
           "#FECB52"
          ],
          "font": {
           "color": "#f2f5fa"
          },
          "geo": {
           "bgcolor": "rgb(17,17,17)",
           "lakecolor": "rgb(17,17,17)",
           "landcolor": "rgb(17,17,17)",
           "showlakes": true,
           "showland": true,
           "subunitcolor": "#506784"
          },
          "hoverlabel": {
           "align": "left"
          },
          "hovermode": "closest",
          "mapbox": {
           "style": "dark"
          },
          "paper_bgcolor": "rgb(17,17,17)",
          "plot_bgcolor": "rgb(17,17,17)",
          "polar": {
           "angularaxis": {
            "gridcolor": "#506784",
            "linecolor": "#506784",
            "ticks": ""
           },
           "bgcolor": "rgb(17,17,17)",
           "radialaxis": {
            "gridcolor": "#506784",
            "linecolor": "#506784",
            "ticks": ""
           }
          },
          "scene": {
           "xaxis": {
            "backgroundcolor": "rgb(17,17,17)",
            "gridcolor": "#506784",
            "gridwidth": 2,
            "linecolor": "#506784",
            "showbackground": true,
            "ticks": "",
            "zerolinecolor": "#C8D4E3"
           },
           "yaxis": {
            "backgroundcolor": "rgb(17,17,17)",
            "gridcolor": "#506784",
            "gridwidth": 2,
            "linecolor": "#506784",
            "showbackground": true,
            "ticks": "",
            "zerolinecolor": "#C8D4E3"
           },
           "zaxis": {
            "backgroundcolor": "rgb(17,17,17)",
            "gridcolor": "#506784",
            "gridwidth": 2,
            "linecolor": "#506784",
            "showbackground": true,
            "ticks": "",
            "zerolinecolor": "#C8D4E3"
           }
          },
          "shapedefaults": {
           "line": {
            "color": "#f2f5fa"
           }
          },
          "sliderdefaults": {
           "bgcolor": "#C8D4E3",
           "bordercolor": "rgb(17,17,17)",
           "borderwidth": 1,
           "tickwidth": 0
          },
          "ternary": {
           "aaxis": {
            "gridcolor": "#506784",
            "linecolor": "#506784",
            "ticks": ""
           },
           "baxis": {
            "gridcolor": "#506784",
            "linecolor": "#506784",
            "ticks": ""
           },
           "bgcolor": "rgb(17,17,17)",
           "caxis": {
            "gridcolor": "#506784",
            "linecolor": "#506784",
            "ticks": ""
           }
          },
          "title": {
           "x": 0.05
          },
          "updatemenudefaults": {
           "bgcolor": "#506784",
           "borderwidth": 0
          },
          "xaxis": {
           "automargin": true,
           "gridcolor": "#283442",
           "linecolor": "#506784",
           "ticks": "",
           "title": {
            "standoff": 15
           },
           "zerolinecolor": "#283442",
           "zerolinewidth": 2
          },
          "yaxis": {
           "automargin": true,
           "gridcolor": "#283442",
           "linecolor": "#506784",
           "ticks": "",
           "title": {
            "standoff": 15
           },
           "zerolinecolor": "#283442",
           "zerolinewidth": 2
          }
         }
        },
        "title": {
         "text": "Generosity vs Happiness Score for Central and Eastern Europe, with Bubble size indication of GDP"
        },
        "xaxis": {
         "anchor": "y",
         "domain": [
          0,
          1
         ],
         "title": {
          "text": "generosity"
         }
        },
        "yaxis": {
         "anchor": "x",
         "domain": [
          0,
          1
         ],
         "title": {
          "text": "happiness_score"
         }
        }
       }
      },
      "text/html": [
       "<div>                            <div id=\"a5ee1040-cf23-4de2-93f6-35c86ea6cf37\" class=\"plotly-graph-div\" style=\"height:525px; width:100%;\"></div>            <script type=\"text/javascript\">                require([\"plotly\"], function(Plotly) {                    window.PLOTLYENV=window.PLOTLYENV || {};                                    if (document.getElementById(\"a5ee1040-cf23-4de2-93f6-35c86ea6cf37\")) {                    Plotly.newPlot(                        \"a5ee1040-cf23-4de2-93f6-35c86ea6cf37\",                        [{\"hovertemplate\": \"country_name=Uzbekistan<br>generosity=%{x}<br>happiness_score=%{y}<br>GDP=%{marker.size}<br>year=%{text}<extra></extra>\", \"legendgroup\": \"Uzbekistan\", \"marker\": {\"color\": \"#636efa\", \"size\": [0.63244, 0.7359100000000001, 0.786441087722778, 0.7190000000000001, 0.745], \"sizemode\": \"area\", \"sizeref\": 0.0032113906741142247, \"symbol\": \"circle\"}, \"mode\": \"markers+text\", \"name\": \"Uzbekistan\", \"orientation\": \"v\", \"showlegend\": true, \"text\": [2015.0, 2016.0, 2017.0, 2018.0, 2019.0], \"type\": \"scatter\", \"x\": [0.22837, 0.34326, 0.415983647108078, 0.328, 0.322], \"xaxis\": \"x\", \"y\": [6.002999999999999, 5.987, 5.97100019454956, 6.096, 6.174], \"yaxis\": \"y\"}, {\"hovertemplate\": \"country_name=Moldova<br>generosity=%{x}<br>happiness_score=%{y}<br>GDP=%{marker.size}<br>year=%{text}<extra></extra>\", \"legendgroup\": \"Moldova\", \"marker\": {\"color\": \"#EF553B\", \"size\": [0.59448, 0.69177, 0.7288706302642819, 0.657, 0.685], \"sizemode\": \"area\", \"sizeref\": 0.0032113906741142247, \"symbol\": \"circle\"}, \"mode\": \"markers+text\", \"name\": \"Moldova\", \"orientation\": \"v\", \"showlegend\": true, \"text\": [2015.0, 2016.0, 2017.0, 2018.0, 2019.0], \"type\": \"scatter\", \"x\": [0.20951, 0.19997, 0.20877912640571605, 0.171, 0.181], \"xaxis\": \"x\", \"y\": [5.8889999999999985, 5.897, 5.837999820709231, 5.64, 5.529], \"yaxis\": \"y\"}, {\"hovertemplate\": \"country_name=Kazakhstan<br>generosity=%{x}<br>happiness_score=%{y}<br>GDP=%{marker.size}<br>year=%{text}<extra></extra>\", \"legendgroup\": \"Kazakhstan\", \"marker\": {\"color\": \"#00cc96\", \"size\": [1.12254, 1.22943, 1.2845562696456898, 1.143, 1.173], \"sizemode\": \"area\", \"sizeref\": 0.0032113906741142247, \"symbol\": \"circle\"}, \"mode\": \"markers+text\", \"name\": \"Kazakhstan\", \"orientation\": \"v\", \"showlegend\": true, \"text\": [2015.0, 2016.0, 2017.0, 2018.0, 2019.0], \"type\": \"scatter\", \"x\": [0.11827, 0.15011, 0.20196442306041695, 0.14800000000000002, 0.146], \"xaxis\": \"x\", \"y\": [5.855, 5.919, 5.8189997673034695, 5.79, 5.809], \"yaxis\": \"y\"}, {\"hovertemplate\": \"country_name=Belarus<br>generosity=%{x}<br>happiness_score=%{y}<br>GDP=%{marker.size}<br>year=%{text}<extra></extra>\", \"legendgroup\": \"Belarus\", \"marker\": {\"color\": \"#ab63fa\", \"size\": [1.0319200000000002, 1.1306200000000002, 1.15655755996704, 1.039, 1.067], \"sizemode\": \"area\", \"sizeref\": 0.0032113906741142247, \"symbol\": \"circle\"}, \"mode\": \"markers+text\", \"name\": \"Belarus\", \"orientation\": \"v\", \"showlegend\": true, \"text\": [2015.0, 2016.0, 2017.0, 2018.0, 2019.0], \"type\": \"scatter\", \"x\": [0.11046, 0.13942000000000002, 0.15513750910759, 0.101, 0.094], \"xaxis\": \"x\", \"y\": [5.813, 5.8020000000000005, 5.5689997673034695, 5.483, 5.323], \"yaxis\": \"y\"}, {\"hovertemplate\": \"country_name=Russia<br>generosity=%{x}<br>happiness_score=%{y}<br>GDP=%{marker.size}<br>year=%{text}<extra></extra>\", \"legendgroup\": \"Russia\", \"marker\": {\"color\": \"#FFA15A\", \"size\": [1.13764, 1.2322799999999998, 1.28177809715271, 1.151, 1.183], \"sizemode\": \"area\", \"sizeref\": 0.0032113906741142247, \"symbol\": \"circle\"}, \"mode\": \"markers+text\", \"name\": \"Russia\", \"orientation\": \"v\", \"showlegend\": true, \"text\": [2015.0, 2016.0, 2017.0, 2018.0, 2019.0], \"type\": \"scatter\", \"x\": [0.00199, 0.02736, 0.0522638224065304, 0.065, 0.08199999999999999], \"xaxis\": \"x\", \"y\": [5.716, 5.856, 5.962999820709231, 5.81, 5.648], \"yaxis\": \"y\"}, {\"hovertemplate\": \"country_name=Turkmenistan<br>generosity=%{x}<br>happiness_score=%{y}<br>GDP=%{marker.size}<br>year=%{text}<extra></extra>\", \"legendgroup\": \"Turkmenistan\", \"marker\": {\"color\": \"#19d3f3\", \"size\": [0.95847, 1.08017, 1.1307767629623402, 1.016, 1.052], \"sizemode\": \"area\", \"sizeref\": 0.0032113906741142247, \"symbol\": \"circle\"}, \"mode\": \"markers+text\", \"name\": \"Turkmenistan\", \"orientation\": \"v\", \"showlegend\": true, \"text\": [2015.0, 2016.0, 2017.0, 2018.0, 2019.0], \"type\": \"scatter\", \"x\": [0.16979, 0.22567, 0.24992498755455, 0.199, 0.244], \"xaxis\": \"x\", \"y\": [5.547999999999999, 5.658, 5.82200002670288, 5.636, 5.247000000000001], \"yaxis\": \"y\"}, {\"hovertemplate\": \"country_name=Kyrgyzstan<br>generosity=%{x}<br>happiness_score=%{y}<br>GDP=%{marker.size}<br>year=%{text}<extra></extra>\", \"legendgroup\": \"Kyrgyzstan\", \"marker\": {\"color\": \"#FF6692\", \"size\": [0.47428, 0.5604399999999999, 0.5962200760841371, 0.53, 0.551], \"sizemode\": \"area\", \"sizeref\": 0.0032113906741142247, \"symbol\": \"circle\"}, \"mode\": \"markers+text\", \"name\": \"Kyrgyzstan\", \"orientation\": \"v\", \"showlegend\": true, \"text\": [2015.0, 2016.0, 2017.0, 2018.0, 2019.0], \"type\": \"scatter\", \"x\": [0.3003, 0.38432, 0.42858037352562, 0.281, 0.3], \"xaxis\": \"x\", \"y\": [5.2860000000000005, 5.185, 5.0040001869201705, 5.131, 5.261], \"yaxis\": \"y\"}],                        {\"legend\": {\"itemsizing\": \"constant\", \"title\": {\"text\": \"country_name\"}, \"tracegroupgap\": 0}, \"template\": {\"data\": {\"bar\": [{\"error_x\": {\"color\": \"#f2f5fa\"}, \"error_y\": {\"color\": \"#f2f5fa\"}, \"marker\": {\"line\": {\"color\": \"rgb(17,17,17)\", \"width\": 0.5}}, \"type\": \"bar\"}], \"barpolar\": [{\"marker\": {\"line\": {\"color\": \"rgb(17,17,17)\", \"width\": 0.5}}, \"type\": \"barpolar\"}], \"carpet\": [{\"aaxis\": {\"endlinecolor\": \"#A2B1C6\", \"gridcolor\": \"#506784\", \"linecolor\": \"#506784\", \"minorgridcolor\": \"#506784\", \"startlinecolor\": \"#A2B1C6\"}, \"baxis\": {\"endlinecolor\": \"#A2B1C6\", \"gridcolor\": \"#506784\", \"linecolor\": \"#506784\", \"minorgridcolor\": \"#506784\", \"startlinecolor\": \"#A2B1C6\"}, \"type\": \"carpet\"}], \"choropleth\": [{\"colorbar\": {\"outlinewidth\": 0, \"ticks\": \"\"}, \"type\": \"choropleth\"}], \"contour\": [{\"colorbar\": {\"outlinewidth\": 0, \"ticks\": \"\"}, \"colorscale\": [[0.0, \"#0d0887\"], [0.1111111111111111, \"#46039f\"], [0.2222222222222222, \"#7201a8\"], [0.3333333333333333, \"#9c179e\"], [0.4444444444444444, \"#bd3786\"], [0.5555555555555556, \"#d8576b\"], [0.6666666666666666, \"#ed7953\"], [0.7777777777777778, \"#fb9f3a\"], [0.8888888888888888, \"#fdca26\"], [1.0, \"#f0f921\"]], \"type\": \"contour\"}], \"contourcarpet\": [{\"colorbar\": {\"outlinewidth\": 0, \"ticks\": \"\"}, \"type\": \"contourcarpet\"}], \"heatmap\": [{\"colorbar\": {\"outlinewidth\": 0, \"ticks\": \"\"}, \"colorscale\": [[0.0, \"#0d0887\"], [0.1111111111111111, \"#46039f\"], [0.2222222222222222, \"#7201a8\"], [0.3333333333333333, \"#9c179e\"], [0.4444444444444444, \"#bd3786\"], [0.5555555555555556, \"#d8576b\"], [0.6666666666666666, \"#ed7953\"], [0.7777777777777778, \"#fb9f3a\"], [0.8888888888888888, \"#fdca26\"], [1.0, \"#f0f921\"]], \"type\": \"heatmap\"}], \"heatmapgl\": [{\"colorbar\": {\"outlinewidth\": 0, \"ticks\": \"\"}, \"colorscale\": [[0.0, \"#0d0887\"], [0.1111111111111111, \"#46039f\"], [0.2222222222222222, \"#7201a8\"], [0.3333333333333333, \"#9c179e\"], [0.4444444444444444, \"#bd3786\"], [0.5555555555555556, \"#d8576b\"], [0.6666666666666666, \"#ed7953\"], [0.7777777777777778, \"#fb9f3a\"], [0.8888888888888888, \"#fdca26\"], [1.0, \"#f0f921\"]], \"type\": \"heatmapgl\"}], \"histogram\": [{\"marker\": {\"colorbar\": {\"outlinewidth\": 0, \"ticks\": \"\"}}, \"type\": \"histogram\"}], \"histogram2d\": [{\"colorbar\": {\"outlinewidth\": 0, \"ticks\": \"\"}, \"colorscale\": [[0.0, \"#0d0887\"], [0.1111111111111111, \"#46039f\"], [0.2222222222222222, \"#7201a8\"], [0.3333333333333333, \"#9c179e\"], [0.4444444444444444, \"#bd3786\"], [0.5555555555555556, \"#d8576b\"], [0.6666666666666666, \"#ed7953\"], [0.7777777777777778, \"#fb9f3a\"], [0.8888888888888888, \"#fdca26\"], [1.0, \"#f0f921\"]], \"type\": \"histogram2d\"}], \"histogram2dcontour\": [{\"colorbar\": {\"outlinewidth\": 0, \"ticks\": \"\"}, \"colorscale\": [[0.0, \"#0d0887\"], [0.1111111111111111, \"#46039f\"], [0.2222222222222222, \"#7201a8\"], [0.3333333333333333, \"#9c179e\"], [0.4444444444444444, \"#bd3786\"], [0.5555555555555556, \"#d8576b\"], [0.6666666666666666, \"#ed7953\"], [0.7777777777777778, \"#fb9f3a\"], [0.8888888888888888, \"#fdca26\"], [1.0, \"#f0f921\"]], \"type\": \"histogram2dcontour\"}], \"mesh3d\": [{\"colorbar\": {\"outlinewidth\": 0, \"ticks\": \"\"}, \"type\": \"mesh3d\"}], \"parcoords\": [{\"line\": {\"colorbar\": {\"outlinewidth\": 0, \"ticks\": \"\"}}, \"type\": \"parcoords\"}], \"pie\": [{\"automargin\": true, \"type\": \"pie\"}], \"scatter\": [{\"marker\": {\"line\": {\"color\": \"#283442\"}}, \"type\": \"scatter\"}], \"scatter3d\": [{\"line\": {\"colorbar\": {\"outlinewidth\": 0, \"ticks\": \"\"}}, \"marker\": {\"colorbar\": {\"outlinewidth\": 0, \"ticks\": \"\"}}, \"type\": \"scatter3d\"}], \"scattercarpet\": [{\"marker\": {\"colorbar\": {\"outlinewidth\": 0, \"ticks\": \"\"}}, \"type\": \"scattercarpet\"}], \"scattergeo\": [{\"marker\": {\"colorbar\": {\"outlinewidth\": 0, \"ticks\": \"\"}}, \"type\": \"scattergeo\"}], \"scattergl\": [{\"marker\": {\"line\": {\"color\": \"#283442\"}}, \"type\": \"scattergl\"}], \"scattermapbox\": [{\"marker\": {\"colorbar\": {\"outlinewidth\": 0, \"ticks\": \"\"}}, \"type\": \"scattermapbox\"}], \"scatterpolar\": [{\"marker\": {\"colorbar\": {\"outlinewidth\": 0, \"ticks\": \"\"}}, \"type\": \"scatterpolar\"}], \"scatterpolargl\": [{\"marker\": {\"colorbar\": {\"outlinewidth\": 0, \"ticks\": \"\"}}, \"type\": \"scatterpolargl\"}], \"scatterternary\": [{\"marker\": {\"colorbar\": {\"outlinewidth\": 0, \"ticks\": \"\"}}, \"type\": \"scatterternary\"}], \"surface\": [{\"colorbar\": {\"outlinewidth\": 0, \"ticks\": \"\"}, \"colorscale\": [[0.0, \"#0d0887\"], [0.1111111111111111, \"#46039f\"], [0.2222222222222222, \"#7201a8\"], [0.3333333333333333, \"#9c179e\"], [0.4444444444444444, \"#bd3786\"], [0.5555555555555556, \"#d8576b\"], [0.6666666666666666, \"#ed7953\"], [0.7777777777777778, \"#fb9f3a\"], [0.8888888888888888, \"#fdca26\"], [1.0, \"#f0f921\"]], \"type\": \"surface\"}], \"table\": [{\"cells\": {\"fill\": {\"color\": \"#506784\"}, \"line\": {\"color\": \"rgb(17,17,17)\"}}, \"header\": {\"fill\": {\"color\": \"#2a3f5f\"}, \"line\": {\"color\": \"rgb(17,17,17)\"}}, \"type\": \"table\"}]}, \"layout\": {\"annotationdefaults\": {\"arrowcolor\": \"#f2f5fa\", \"arrowhead\": 0, \"arrowwidth\": 1}, \"autotypenumbers\": \"strict\", \"coloraxis\": {\"colorbar\": {\"outlinewidth\": 0, \"ticks\": \"\"}}, \"colorscale\": {\"diverging\": [[0, \"#8e0152\"], [0.1, \"#c51b7d\"], [0.2, \"#de77ae\"], [0.3, \"#f1b6da\"], [0.4, \"#fde0ef\"], [0.5, \"#f7f7f7\"], [0.6, \"#e6f5d0\"], [0.7, \"#b8e186\"], [0.8, \"#7fbc41\"], [0.9, \"#4d9221\"], [1, \"#276419\"]], \"sequential\": [[0.0, \"#0d0887\"], [0.1111111111111111, \"#46039f\"], [0.2222222222222222, \"#7201a8\"], [0.3333333333333333, \"#9c179e\"], [0.4444444444444444, \"#bd3786\"], [0.5555555555555556, \"#d8576b\"], [0.6666666666666666, \"#ed7953\"], [0.7777777777777778, \"#fb9f3a\"], [0.8888888888888888, \"#fdca26\"], [1.0, \"#f0f921\"]], \"sequentialminus\": [[0.0, \"#0d0887\"], [0.1111111111111111, \"#46039f\"], [0.2222222222222222, \"#7201a8\"], [0.3333333333333333, \"#9c179e\"], [0.4444444444444444, \"#bd3786\"], [0.5555555555555556, \"#d8576b\"], [0.6666666666666666, \"#ed7953\"], [0.7777777777777778, \"#fb9f3a\"], [0.8888888888888888, \"#fdca26\"], [1.0, \"#f0f921\"]]}, \"colorway\": [\"#636efa\", \"#EF553B\", \"#00cc96\", \"#ab63fa\", \"#FFA15A\", \"#19d3f3\", \"#FF6692\", \"#B6E880\", \"#FF97FF\", \"#FECB52\"], \"font\": {\"color\": \"#f2f5fa\"}, \"geo\": {\"bgcolor\": \"rgb(17,17,17)\", \"lakecolor\": \"rgb(17,17,17)\", \"landcolor\": \"rgb(17,17,17)\", \"showlakes\": true, \"showland\": true, \"subunitcolor\": \"#506784\"}, \"hoverlabel\": {\"align\": \"left\"}, \"hovermode\": \"closest\", \"mapbox\": {\"style\": \"dark\"}, \"paper_bgcolor\": \"rgb(17,17,17)\", \"plot_bgcolor\": \"rgb(17,17,17)\", \"polar\": {\"angularaxis\": {\"gridcolor\": \"#506784\", \"linecolor\": \"#506784\", \"ticks\": \"\"}, \"bgcolor\": \"rgb(17,17,17)\", \"radialaxis\": {\"gridcolor\": \"#506784\", \"linecolor\": \"#506784\", \"ticks\": \"\"}}, \"scene\": {\"xaxis\": {\"backgroundcolor\": \"rgb(17,17,17)\", \"gridcolor\": \"#506784\", \"gridwidth\": 2, \"linecolor\": \"#506784\", \"showbackground\": true, \"ticks\": \"\", \"zerolinecolor\": \"#C8D4E3\"}, \"yaxis\": {\"backgroundcolor\": \"rgb(17,17,17)\", \"gridcolor\": \"#506784\", \"gridwidth\": 2, \"linecolor\": \"#506784\", \"showbackground\": true, \"ticks\": \"\", \"zerolinecolor\": \"#C8D4E3\"}, \"zaxis\": {\"backgroundcolor\": \"rgb(17,17,17)\", \"gridcolor\": \"#506784\", \"gridwidth\": 2, \"linecolor\": \"#506784\", \"showbackground\": true, \"ticks\": \"\", \"zerolinecolor\": \"#C8D4E3\"}}, \"shapedefaults\": {\"line\": {\"color\": \"#f2f5fa\"}}, \"sliderdefaults\": {\"bgcolor\": \"#C8D4E3\", \"bordercolor\": \"rgb(17,17,17)\", \"borderwidth\": 1, \"tickwidth\": 0}, \"ternary\": {\"aaxis\": {\"gridcolor\": \"#506784\", \"linecolor\": \"#506784\", \"ticks\": \"\"}, \"baxis\": {\"gridcolor\": \"#506784\", \"linecolor\": \"#506784\", \"ticks\": \"\"}, \"bgcolor\": \"rgb(17,17,17)\", \"caxis\": {\"gridcolor\": \"#506784\", \"linecolor\": \"#506784\", \"ticks\": \"\"}}, \"title\": {\"x\": 0.05}, \"updatemenudefaults\": {\"bgcolor\": \"#506784\", \"borderwidth\": 0}, \"xaxis\": {\"automargin\": true, \"gridcolor\": \"#283442\", \"linecolor\": \"#506784\", \"ticks\": \"\", \"title\": {\"standoff\": 15}, \"zerolinecolor\": \"#283442\", \"zerolinewidth\": 2}, \"yaxis\": {\"automargin\": true, \"gridcolor\": \"#283442\", \"linecolor\": \"#506784\", \"ticks\": \"\", \"title\": {\"standoff\": 15}, \"zerolinecolor\": \"#283442\", \"zerolinewidth\": 2}}}, \"title\": {\"text\": \"Generosity vs Happiness Score for Central and Eastern Europe, with Bubble size indication of GDP\"}, \"xaxis\": {\"anchor\": \"y\", \"domain\": [0.0, 1.0], \"title\": {\"text\": \"generosity\"}}, \"yaxis\": {\"anchor\": \"x\", \"domain\": [0.0, 1.0], \"title\": {\"text\": \"happiness_score\"}}},                        {\"responsive\": true}                    ).then(function(){\n",
       "                            \n",
       "var gd = document.getElementById('a5ee1040-cf23-4de2-93f6-35c86ea6cf37');\n",
       "var x = new MutationObserver(function (mutations, observer) {{\n",
       "        var display = window.getComputedStyle(gd).display;\n",
       "        if (!display || display === 'none') {{\n",
       "            console.log([gd, 'removed!']);\n",
       "            Plotly.purge(gd);\n",
       "            observer.disconnect();\n",
       "        }}\n",
       "}});\n",
       "\n",
       "// Listen for the removal of the full notebook cells\n",
       "var notebookContainer = gd.closest('#notebook-container');\n",
       "if (notebookContainer) {{\n",
       "    x.observe(notebookContainer, {childList: true});\n",
       "}}\n",
       "\n",
       "// Listen for the clearing of the current output cell\n",
       "var outputEl = gd.closest('.output');\n",
       "if (outputEl) {{\n",
       "    x.observe(outputEl, {childList: true});\n",
       "}}\n",
       "\n",
       "                        })                };                });            </script>        </div>"
      ]
     },
     "metadata": {},
     "output_type": "display_data"
    }
   ],
   "source": [
    "df_region_1 = df_region[df_region['country_name'].isin(['Uzbekistan', 'Moldova', 'Kazakhstan',\n",
    "                                                        'Belarus', 'Russia', 'Turkmenistan', 'Kyrgyzstan'])]\n",
    "fig = px.scatter(df_region_1,\n",
    "                x = 'generosity',\n",
    "                y = 'happiness_score',\n",
    "                color = 'country_name',\n",
    "                template='plotly_dark',\n",
    "                text = 'year',\n",
    "                size = 'GDP',\n",
    "                title = 'Generosity vs Happiness Score for Central and Eastern Europe, with Bubble size indication of GDP'\n",
    "                )\n",
    "fig.show()"
   ]
  },
  {
   "cell_type": "code",
   "execution_count": 76,
   "metadata": {},
   "outputs": [],
   "source": [
    "labelencoder = LabelEncoder()\n",
    "final['region'] = labelencoder.fit_transform(final['region'])"
   ]
  },
  {
   "cell_type": "code",
   "execution_count": 65,
   "metadata": {},
   "outputs": [],
   "source": [
    "X = final [['region', 'GDP', 'lifespan', 'freedom', 'generosity']]\n",
    "y = final.happiness_score"
   ]
  },
  {
   "cell_type": "code",
   "execution_count": 66,
   "metadata": {},
   "outputs": [],
   "source": [
    "X_train,X_test,y_train,y_test = train_test_split(X,y,test_size=0.3,random_state=10)"
   ]
  },
  {
   "cell_type": "code",
   "execution_count": 67,
   "metadata": {},
   "outputs": [],
   "source": [
    "model_lr = LinearRegression()"
   ]
  },
  {
   "cell_type": "code",
   "execution_count": 68,
   "metadata": {},
   "outputs": [
    {
     "data": {
      "text/plain": [
       "0.7332885749406022"
      ]
     },
     "execution_count": 68,
     "metadata": {},
     "output_type": "execute_result"
    }
   ],
   "source": [
    "model_lr.fit(X_train,y_train)\n",
    "model_lr.score(X_train,y_train)"
   ]
  },
  {
   "cell_type": "code",
   "execution_count": 69,
   "metadata": {},
   "outputs": [
    {
     "data": {
      "text/plain": [
       "array([-0.00314127,  1.3536179 ,  1.16148905,  2.03726542,  0.51171202])"
      ]
     },
     "execution_count": 69,
     "metadata": {},
     "output_type": "execute_result"
    }
   ],
   "source": [
    "model_lr.coef_"
   ]
  },
  {
   "cell_type": "code",
   "execution_count": 70,
   "metadata": {},
   "outputs": [
    {
     "data": {
      "text/plain": [
       "2.500510182646206"
      ]
     },
     "execution_count": 70,
     "metadata": {},
     "output_type": "execute_result"
    }
   ],
   "source": [
    "model_lr.intercept_ "
   ]
  },
  {
   "cell_type": "code",
   "execution_count": 71,
   "metadata": {},
   "outputs": [
    {
     "data": {
      "text/plain": [
       "array([3.98518288, 3.82649752, 5.42474621, 5.09468418, 6.72452972])"
      ]
     },
     "execution_count": 71,
     "metadata": {},
     "output_type": "execute_result"
    }
   ],
   "source": [
    "y_pred_test = model_lr.predict(X_test) \n",
    "y_pred_test[:5]"
   ]
  },
  {
   "cell_type": "code",
   "execution_count": 72,
   "metadata": {},
   "outputs": [
    {
     "name": "stdout",
     "output_type": "stream",
     "text": [
      "0.7528205298852751\n",
      "Test MSE:  0.32734278225422947\n",
      "Test R2:  0.7528700213589536\n"
     ]
    }
   ],
   "source": [
    "mse_test_lr = mean_squared_error(y_test, y_pred_test)  \n",
    "SSE = np.sum((y_pred_test-y_test)**2)  \n",
    "SST = np.sum((y_test-np.mean(y_train))**2)  \n",
    "r2_test_lr = 1 - SSE/SST  \n",
    "print(model_lr.score(X_test,y_test))\n",
    "print(\"Test MSE: \", mse_test_lr)\n",
    "print(\"Test R2: \", r2_test_lr)"
   ]
  },
  {
   "cell_type": "code",
   "execution_count": 73,
   "metadata": {},
   "outputs": [
    {
     "name": "stdout",
     "output_type": "stream",
     "text": [
      "0.6178164286230875\n",
      "[2.17661191]\n",
      "3.3801025344570745\n"
     ]
    }
   ],
   "source": [
    "model_lr1 = LinearRegression()\n",
    "model_lr1.fit(X_train[['GDP']],y_train)\n",
    "print(model_lr1.score(X_train[['GDP']],y_train))\n",
    "print(model_lr1.coef_)\n",
    "print(model_lr1.intercept_)"
   ]
  },
  {
   "cell_type": "code",
   "execution_count": 74,
   "metadata": {},
   "outputs": [
    {
     "data": {
      "text/plain": [
       "array([6.41976283, 6.21474775, 6.26515809, 6.55577931, 6.26692114])"
      ]
     },
     "execution_count": 74,
     "metadata": {},
     "output_type": "execute_result"
    }
   ],
   "source": [
    "y_pred = model_lr1.predict(final[['GDP']])\n",
    "y_pred[:5]"
   ]
  },
  {
   "cell_type": "code",
   "execution_count": 77,
   "metadata": {},
   "outputs": [
    {
     "data": {
      "text/plain": [
       "Text(0.5, 1.0, 'Линейная регрессия зависимости оценки счастья от показателя ВВП')"
      ]
     },
     "execution_count": 77,
     "metadata": {},
     "output_type": "execute_result"
    },
    {
     "data": {
      "image/png": "[encoded data removed]",
      "text/plain": [
       "<Figure size 432x288 with 1 Axes>"
      ]
     },
     "metadata": {},
     "output_type": "display_data"
    }
   ],
   "source": [
    "plt.scatter(final[['GDP']],final['happiness_score']) \n",
    "plt.plot(final[['GDP']],y_pred,'r')\n",
    "plt.xlabel('ВВП')\n",
    "plt.ylabel('Оценка счастья')\n",
    "plt.title('Линейная регрессия зависимости оценки счастья от показателя ВВП')"
   ]
  },
  {
   "cell_type": "code",
   "execution_count": 78,
   "metadata": {},
   "outputs": [
    {
     "data": {
      "image/png": "[encoded data removed]",
      "text/plain": [
       "<Figure size 432x288 with 1 Axes>"
      ]
     },
     "metadata": {},
     "output_type": "display_data"
    }
   ],
   "source": [
    "max_depths = np.linspace(1, 15, 15, endpoint=True) \n",
    "train_results = []\n",
    "test_results = [] \n",
    "for max_depth in max_depths:\n",
    "   dt = DecisionTreeRegressor(max_depth=max_depth) \n",
    "   dt.fit(X_train, y_train) \n",
    "   train_pred = dt.predict(X_train) \n",
    "   mse_train_dt = mean_squared_error(y_train, train_pred) \n",
    "   SSE = np.sum((train_pred-y_train)**2) \n",
    "   SST = np.sum((y_train-np.mean(y_train))**2) \n",
    "   r2_train_dt = 1 - SSE/SST \n",
    "   train_results.append(r2_train_dt)\n",
    "\n",
    "   test_pred = dt.predict(X_test)\n",
    "   mse_test_dt = mean_squared_error(y_test, test_pred)\n",
    "   SSE = np.sum((test_pred -y_test)**2)\n",
    "   SST = np.sum((y_test-np.mean(y_test))**2)\n",
    "   r2_test_dt = 1 - SSE/SST\n",
    "   test_results.append(r2_test_dt)\n",
    "   \n",
    "\n",
    "line1 = plt.plot(max_depths, train_results, 'b')\n",
    "line2 = plt.plot(max_depths, test_results, 'r')\n",
    "plt.ylabel('Абсолютная ошибка')\n",
    "plt.xlabel('Глубина дерева')\n",
    "plt.title('Зависимость абсолютной ошибки от глубины дерева')\n",
    "plt.show()"
   ]
  },
  {
   "cell_type": "code",
   "execution_count": 79,
   "metadata": {},
   "outputs": [],
   "source": [
    "model_dt = DecisionTreeRegressor(max_depth=4)"
   ]
  },
  {
   "cell_type": "code",
   "execution_count": 80,
   "metadata": {},
   "outputs": [
    {
     "data": {
      "text/plain": [
       "0.806415301909233"
      ]
     },
     "execution_count": 80,
     "metadata": {},
     "output_type": "execute_result"
    }
   ],
   "source": [
    "model_dt.fit(X_train,y_train) \n",
    "model_dt.score(X_train,y_train)"
   ]
  },
  {
   "cell_type": "code",
   "execution_count": 81,
   "metadata": {},
   "outputs": [],
   "source": [
    "y_pred_test_ds = model_dt.predict(X_test)"
   ]
  },
  {
   "cell_type": "code",
   "execution_count": 82,
   "metadata": {},
   "outputs": [
    {
     "name": "stdout",
     "output_type": "stream",
     "text": [
      "0.7735853379916278\n",
      "Test MSE:  0.29984369401945893\n",
      "Test R2:  0.7736306718346043\n"
     ]
    }
   ],
   "source": [
    "mse_test_dt = mean_squared_error(y_test, y_pred_test_ds)  \n",
    "SSE = np.sum((y_pred_test_ds-y_test)**2)\n",
    "SST = np.sum((y_test-np.mean(y_train))**2)\n",
    "r2_test_dt = 1 - SSE/SST\n",
    "print(model_dt.score(X_test,y_test)) \n",
    "print(\"Test MSE: \", mse_test_dt)\n",
    "print(\"Test R2: \", r2_test_dt)"
   ]
  },
  {
   "cell_type": "code",
   "execution_count": 83,
   "metadata": {},
   "outputs": [
    {
     "data": {
      "image/png": "[encoded data removed]",
      "text/plain": [
       "<IPython.core.display.Image object>"
      ]
     },
     "execution_count": 83,
     "metadata": {},
     "output_type": "execute_result"
    }
   ],
   "source": [
    "export_graphviz(model_dt,out_file='DecisionTree.dot',feature_names=X_train.columns)\n",
    "! dot -Tpng DecisionTree.dot -o DecisionTree.png\n",
    "Image(\"DecisionTree.png\")"
   ]
  },
  {
   "cell_type": "code",
   "execution_count": null,
   "metadata": {},
   "outputs": [],
   "source": []
  }
 ],
 "metadata": {
  "kernelspec": {
   "display_name": "Python 3",
   "language": "python",
   "name": "python3"
  },
  "language_info": {
   "codemirror_mode": {
    "name": "ipython",
    "version": 3
   },
   "file_extension": ".py",
   "mimetype": "text/x-python",
   "name": "python",
   "nbconvert_exporter": "python",
   "pygments_lexer": "ipython3",
   "version": "3.8.5"
  }
 },
 "nbformat": 4,
 "nbformat_minor": 4
}
